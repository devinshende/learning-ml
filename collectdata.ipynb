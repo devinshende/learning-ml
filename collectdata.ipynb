{
 "cells": [
  {
   "cell_type": "markdown",
   "id": "7b3bcde2-c5f6-4f7c-801e-570eaf4518a4",
   "metadata": {},
   "source": [
    "# Gather Data From Paths and Save\n",
    "Get all the data from the 27000 or so simulations and save to a CSV file that we can then do EDA on and think about preprocessing for models"
   ]
  },
  {
   "cell_type": "markdown",
   "id": "e374bbe1-c2ae-4a1f-9ff6-2d72ebe9d52b",
   "metadata": {
    "jp-MarkdownHeadingCollapsed": true
   },
   "source": [
    "## Setup"
   ]
  },
  {
   "cell_type": "code",
   "execution_count": 1,
   "id": "1231b1ae-ed91-4667-a928-e6f1df7b24e3",
   "metadata": {},
   "outputs": [
    {
     "data": {
      "text/plain": [
       "True"
      ]
     },
     "execution_count": 1,
     "metadata": {},
     "output_type": "execute_result"
    }
   ],
   "source": [
    "import s3fs\n",
    "import zarr\n",
    "import json\n",
    "from tqdm import tqdm\n",
    "import pandas as pd\n",
    "import pickle\n",
    "from pprint import pprint\n",
    "import os, time\n",
    "from datetime import datetime\n",
    "from dotenv import load_dotenv\n",
    "load_dotenv()"
   ]
  },
  {
   "cell_type": "code",
   "execution_count": 2,
   "id": "f9b5c741-473a-4c1d-a96e-bf610467443e",
   "metadata": {},
   "outputs": [
    {
     "name": "stdout",
     "output_type": "stream",
     "text": [
      "successfully authenticated\n"
     ]
    }
   ],
   "source": [
    "endpoint = 'https://wifire-data.sdsc.edu:9000'\n",
    "access_key = os.getenv(\"ACCESS_KEY\")\n",
    "secret_key = os.getenv(\"SECRET_KEY\")\n",
    "\n",
    "fs = s3fs.S3FileSystem(key=access_key,\n",
    "    secret=secret_key,\n",
    "    client_kwargs={\n",
    "        'endpoint_url': endpoint,\n",
    "        'verify': False\n",
    "    },\n",
    "    skip_instance_cache=False\n",
    ")                                                                                                                                                                                                                                                                                                                                                                                                                                                                                                                                                                                   \n",
    "\n",
    "name = 'quicfire.zarr'\n",
    "bucket = 'burnpro3d/d'\n",
    "\n",
    "root = list(fs.ls(bucket))\n",
    "\n",
    "simulation_paths = []\n",
    "print(\"successfully authenticated\")"
   ]
  },
  {
   "cell_type": "markdown",
   "id": "d2eec849-56d2-415d-aace-9f71270c6678",
   "metadata": {},
   "source": [
    "## Gather Data into DataFrame"
   ]
  },
  {
   "cell_type": "code",
   "execution_count": 49,
   "id": "954a23b8-5173-4b07-86c3-ac8f3f36ca35",
   "metadata": {},
   "outputs": [],
   "source": [
    "def read_paths():\n",
    "    paths = []\n",
    "    with open(\"paths.txt\",\"r\") as f:\n",
    "        paths = f.read().splitlines() \n",
    "    return paths"
   ]
  },
  {
   "cell_type": "code",
   "execution_count": 163,
   "id": "6a0b9079-1402-4e8d-abe0-b38fce42eb1a",
   "metadata": {},
   "outputs": [],
   "source": [
    "KEEP_ATTRIBUTES = {\n",
    "    'path': lambda d: None,\n",
    "    'time_scraped': lambda d: None,\n",
    "    'canopy_moisture': lambda d: d['canopy_moisture'],\n",
    "    'dz':lambda d: d['dz'],\n",
    "    'extent': lambda d: d['extent'],\n",
    "    'extent_fmt': lambda d: d['extent_fmt'],\n",
    "    'fire_grid': lambda d: d['fire_grid'],\n",
    "    'fuel': lambda d: d['fuel'],\n",
    "    'ignition': lambda d: d['ignition'],\n",
    "    'output': lambda d: d['output'],\n",
    "    'resolution': lambda d: d['resolution'],\n",
    "    'resolution_units': lambda d: d['resolution_units'],\n",
    "    'run_binary': lambda d: d['run_binary'],\n",
    "    'run_end': lambda d: d['run_end'],\n",
    "    'run_max_mem_rss_bytes': lambda d: d['run_max_mem_rss_bytes'],\n",
    "    'run_start': lambda d: d['run_start'],\n",
    "    'seed': lambda d: d['seed'],\n",
    "    'sim_time': lambda d: d['sim_time'],\n",
    "    'surface_moisture': lambda d: d['surface_moisture'],\n",
    "    'threads': lambda d: d['threads'],\n",
    "    'timestep': lambda d: d['timestep'],\n",
    "    'topo': lambda d: d['topo'],\n",
    "    'wind_direction': lambda d: d['wind_direction'],\n",
    "    'wind_speed': lambda d: d['wind_speed']\n",
    "}\n",
    "\n",
    "def get_df_chunk(stop):\n",
    "    with open(\"vars.txt\", \"r\") as file:\n",
    "        start = int(file.read())\n",
    "        print(\"start \" , start)\n",
    "    global simulation_paths, KEEP_ATTRIBUTES, incomplete, filenotfound\n",
    "\n",
    "    df = pd.DataFrame([], columns=KEEP_ATTRIBUTES.keys())\n",
    "    time = datetime.now().strftime(\"%Y-%m-%dT%H:%M:%S.%f\")\n",
    "    i = 0\n",
    "    for p in tqdm(simulation_paths[start:stop]):\n",
    "        try:\n",
    "            with fs.open(p + '/' + name + '/.zattrs') as f:\n",
    "                data=json.load(f)\n",
    "        except:\n",
    "            print(\"FileNotFound error on path {\",p,\"}\")\n",
    "            continue\n",
    "            \n",
    "        row = []\n",
    "        for k,expr in KEEP_ATTRIBUTES.items():\n",
    "            try:\n",
    "                value = KEEP_ATTRIBUTES[k](data)\n",
    "            except KeyError:\n",
    "                value = None\n",
    "            row.append(value)\n",
    "        row[0] = p\n",
    "        row[1] = time\n",
    "        df.loc[i] = row\n",
    "        i+=1\n",
    "    with open(\"vars.txt\", \"w\") as f:\n",
    "            f.write(str(stop))\n",
    "            print(\"\\nRead from \", start, \" to \", stop,\"\\n\")\n",
    "    return df\n",
    "\n",
    "pd.set_option('display.max_columns', None)"
   ]
  },
  {
   "cell_type": "code",
   "execution_count": 164,
   "id": "8e35a7f1-6547-4a7c-8ed0-a7e58ed8050b",
   "metadata": {},
   "outputs": [
    {
     "data": {
      "text/plain": [
       "26997"
      ]
     },
     "execution_count": 164,
     "metadata": {},
     "output_type": "execute_result"
    }
   ],
   "source": [
    "simulation_paths = read_paths()\n",
    "len(simulation_paths)"
   ]
  },
  {
   "cell_type": "code",
   "execution_count": 170,
   "id": "97db2dbc-e939-4908-a078-398734d3a0ac",
   "metadata": {},
   "outputs": [],
   "source": [
    "BATCH_SIZE = 100"
   ]
  },
  {
   "cell_type": "code",
   "execution_count": 175,
   "id": "141d3e2b-0b3c-4831-a1ad-c5d2ed8dfa0a",
   "metadata": {},
   "outputs": [
    {
     "name": "stdout",
     "output_type": "stream",
     "text": [
      "start  23100\n"
     ]
    },
    {
     "name": "stderr",
     "output_type": "stream",
     "text": [
      "  3%|█▎                                         | 3/100 [00:00<00:08, 11.39it/s]"
     ]
    },
    {
     "name": "stdout",
     "output_type": "stream",
     "text": [
      "FileNotFound error on path { burnpro3d/d/ee/39/run_ee3996fa-9c56-405e-aaa0-e8b6a1e6f424 }\n"
     ]
    },
    {
     "name": "stderr",
     "output_type": "stream",
     "text": [
      " 20%|████████▍                                 | 20/100 [00:03<00:12,  6.65it/s]"
     ]
    },
    {
     "name": "stdout",
     "output_type": "stream",
     "text": [
      "FileNotFound error on path { burnpro3d/d/ee/5f/run_ee5fc19e-fa5f-461a-bd1c-e9cd777acfe3 }\n"
     ]
    },
    {
     "name": "stderr",
     "output_type": "stream",
     "text": [
      " 30%|████████████▌                             | 30/100 [00:05<00:09,  7.29it/s]"
     ]
    },
    {
     "name": "stdout",
     "output_type": "stream",
     "text": [
      "FileNotFound error on path { burnpro3d/d/ee/91/run_ee91ff1b-8334-45b5-9097-293693ae6d9b }\n",
      "FileNotFound error on path { burnpro3d/d/ee/92/run_ee929174-d0e9-4a48-8a0a-aba046a470f2 }\n"
     ]
    },
    {
     "name": "stderr",
     "output_type": "stream",
     "text": [
      " 47%|███████████████████▋                      | 47/100 [00:07<00:06,  7.86it/s]"
     ]
    },
    {
     "name": "stdout",
     "output_type": "stream",
     "text": [
      "FileNotFound error on path { burnpro3d/d/ee/c6/run_eec6ee32-4570-4413-a5c3-b33abab18121 }\n"
     ]
    },
    {
     "name": "stderr",
     "output_type": "stream",
     "text": [
      " 80%|█████████████████████████████████▌        | 80/100 [00:15<00:02,  6.96it/s]"
     ]
    },
    {
     "name": "stdout",
     "output_type": "stream",
     "text": [
      "FileNotFound error on path { burnpro3d/d/ef/1b/run_ef1b1f4b-c0d0-414d-84df-ea4c23ac3719 }\n"
     ]
    },
    {
     "name": "stderr",
     "output_type": "stream",
     "text": [
      "100%|█████████████████████████████████████████| 100/100 [00:20<00:00,  4.94it/s]"
     ]
    },
    {
     "name": "stdout",
     "output_type": "stream",
     "text": [
      "\n",
      "Read from  23100  to  23200 \n",
      "\n",
      "Downloaded the dataframe chunk in 20.250 seconds\n"
     ]
    },
    {
     "name": "stderr",
     "output_type": "stream",
     "text": [
      "\n"
     ]
    }
   ],
   "source": [
    "\n",
    "with open(\"vars.txt\", \"r\") as file:\n",
    "    start = int(file.read())\n",
    "\n",
    "tic = time.perf_counter()\n",
    "path_count = start + BATCH_SIZE\n",
    "df = get_df_chunk(path_count)\n",
    "toc = time.perf_counter()\n",
    "\n",
    "df.head()\n",
    "time_elapsed = f\"{toc - tic:0.3f}\"\n",
    "print(f\"Downloaded the dataframe chunk in {time_elapsed} seconds\")\n"
   ]
  },
  {
   "cell_type": "code",
   "execution_count": 176,
   "id": "e6bd517a-c7e1-45ba-b119-449243a6949a",
   "metadata": {
    "scrolled": true
   },
   "outputs": [
    {
     "data": {
      "text/plain": [
       "94"
      ]
     },
     "execution_count": 176,
     "metadata": {},
     "output_type": "execute_result"
    }
   ],
   "source": [
    "len(df)"
   ]
  },
  {
   "cell_type": "code",
   "execution_count": 177,
   "id": "f60d1fc0-3455-4444-91e4-12e061e06d6a",
   "metadata": {},
   "outputs": [
    {
     "name": "stdout",
     "output_type": "stream",
     "text": [
      "raw length:  94\n",
      "length after dropna:  78\n",
      "length after filter version and single threading:  12\n"
     ]
    },
    {
     "data": {
      "text/html": [
       "<div>\n",
       "<style scoped>\n",
       "    .dataframe tbody tr th:only-of-type {\n",
       "        vertical-align: middle;\n",
       "    }\n",
       "\n",
       "    .dataframe tbody tr th {\n",
       "        vertical-align: top;\n",
       "    }\n",
       "\n",
       "    .dataframe thead th {\n",
       "        text-align: right;\n",
       "    }\n",
       "</style>\n",
       "<table border=\"1\" class=\"dataframe\">\n",
       "  <thead>\n",
       "    <tr style=\"text-align: right;\">\n",
       "      <th></th>\n",
       "      <th>path</th>\n",
       "      <th>time_scraped</th>\n",
       "      <th>canopy_moisture</th>\n",
       "      <th>dz</th>\n",
       "      <th>extent</th>\n",
       "      <th>extent_fmt</th>\n",
       "      <th>fire_grid</th>\n",
       "      <th>fuel</th>\n",
       "      <th>ignition</th>\n",
       "      <th>output</th>\n",
       "      <th>resolution</th>\n",
       "      <th>resolution_units</th>\n",
       "      <th>run_binary</th>\n",
       "      <th>run_end</th>\n",
       "      <th>run_max_mem_rss_bytes</th>\n",
       "      <th>run_start</th>\n",
       "      <th>seed</th>\n",
       "      <th>sim_time</th>\n",
       "      <th>surface_moisture</th>\n",
       "      <th>threads</th>\n",
       "      <th>timestep</th>\n",
       "      <th>topo</th>\n",
       "      <th>wind_direction</th>\n",
       "      <th>wind_speed</th>\n",
       "    </tr>\n",
       "  </thead>\n",
       "  <tbody>\n",
       "    <tr>\n",
       "      <th>5</th>\n",
       "      <td>burnpro3d/d/ee/45/run_ee455bc0-e900-4929-9954-...</td>\n",
       "      <td>2023-07-28T12:21:19.720857</td>\n",
       "      <td>0.9</td>\n",
       "      <td>None</td>\n",
       "      <td>[-1398056.0, 2815704.0, -1397036.0, 2814900.0]</td>\n",
       "      <td>[[x1, y1], [x2, y2]]</td>\n",
       "      <td>None</td>\n",
       "      <td>None</td>\n",
       "      <td>None</td>\n",
       "      <td>{'emissions': False, 'energy_atmos': False, 'f...</td>\n",
       "      <td>[2.0, 2.0, 1.0]</td>\n",
       "      <td>meters</td>\n",
       "      <td>/quicfire/quicfire-v5.2-ucsd-rel</td>\n",
       "      <td>2023-06-19T11:39:47.855802-07:00</td>\n",
       "      <td>2551860</td>\n",
       "      <td>2023-06-19T09:25:12.644220-07:00</td>\n",
       "      <td>-1</td>\n",
       "      <td>7313</td>\n",
       "      <td>0.15</td>\n",
       "      <td>1</td>\n",
       "      <td>600</td>\n",
       "      <td>{'topo_calcs': True, 'total_startup_iters': 500}</td>\n",
       "      <td>240.0</td>\n",
       "      <td>4.470</td>\n",
       "    </tr>\n",
       "    <tr>\n",
       "      <th>12</th>\n",
       "      <td>burnpro3d/d/ee/58/run_ee5889b7-1f62-4f41-8c57-...</td>\n",
       "      <td>2023-07-28T12:21:19.720857</td>\n",
       "      <td>0.9</td>\n",
       "      <td>None</td>\n",
       "      <td>[-1398056.0, 2815704.0, -1397036.0, 2814900.0]</td>\n",
       "      <td>[[x1, y1], [x2, y2]]</td>\n",
       "      <td>None</td>\n",
       "      <td>None</td>\n",
       "      <td>None</td>\n",
       "      <td>{'emissions': False, 'energy_atmos': False, 'f...</td>\n",
       "      <td>[2.0, 2.0, 1.0]</td>\n",
       "      <td>meters</td>\n",
       "      <td>/quicfire/quicfire-v5.2-ucsd-rel</td>\n",
       "      <td>2023-06-19T16:43:23.538184-07:00</td>\n",
       "      <td>2565312</td>\n",
       "      <td>2023-06-19T13:23:17.131454-07:00</td>\n",
       "      <td>-1</td>\n",
       "      <td>6906</td>\n",
       "      <td>0.15</td>\n",
       "      <td>1</td>\n",
       "      <td>600</td>\n",
       "      <td>{'topo_calcs': True, 'total_startup_iters': 500}</td>\n",
       "      <td>270.0</td>\n",
       "      <td>6.705</td>\n",
       "    </tr>\n",
       "    <tr>\n",
       "      <th>13</th>\n",
       "      <td>burnpro3d/d/ee/59/run_ee590e6f-ab53-40bf-94c0-...</td>\n",
       "      <td>2023-07-28T12:21:19.720857</td>\n",
       "      <td>1.0</td>\n",
       "      <td>None</td>\n",
       "      <td>[-2011072.0, 1581140.0, -2010524.0, 1580484.0]</td>\n",
       "      <td>[[x1, y1], [x2, y2]]</td>\n",
       "      <td>None</td>\n",
       "      <td>None</td>\n",
       "      <td>None</td>\n",
       "      <td>{'emissions': False, 'energy_atmos': False, 'f...</td>\n",
       "      <td>[2.0, 2.0, 1.0]</td>\n",
       "      <td>meters</td>\n",
       "      <td>/quicfire/quicfire-v5.2-ucsd-rel</td>\n",
       "      <td>2023-07-10T15:08:04.227069-07:00</td>\n",
       "      <td>516552</td>\n",
       "      <td>2023-07-10T14:58:48.516813-07:00</td>\n",
       "      <td>-1</td>\n",
       "      <td>4228</td>\n",
       "      <td>0.07</td>\n",
       "      <td>1</td>\n",
       "      <td>600</td>\n",
       "      <td>{'topo_calcs': False, 'total_startup_iters': 500}</td>\n",
       "      <td>300.0</td>\n",
       "      <td>2.235</td>\n",
       "    </tr>\n",
       "    <tr>\n",
       "      <th>17</th>\n",
       "      <td>burnpro3d/d/ee/5f/run_ee5fc972-f144-4edc-95a7-...</td>\n",
       "      <td>2023-07-28T12:21:19.720857</td>\n",
       "      <td>1.0</td>\n",
       "      <td>None</td>\n",
       "      <td>[-2097480.0, 2037504.0, -2096674.0, 2036700.0]</td>\n",
       "      <td>[[x1, y1], [x2, y2]]</td>\n",
       "      <td>None</td>\n",
       "      <td>None</td>\n",
       "      <td>None</td>\n",
       "      <td>{'emissions': False, 'energy_atmos': False, 'f...</td>\n",
       "      <td>[2.0, 2.0, 1.0]</td>\n",
       "      <td>meters</td>\n",
       "      <td>/quicfire/quicfire-v5.2-ucsd-rel</td>\n",
       "      <td>2023-06-20T11:39:49.338648-07:00</td>\n",
       "      <td>3919052</td>\n",
       "      <td>2023-06-20T09:51:35.910785-07:00</td>\n",
       "      <td>-1</td>\n",
       "      <td>14997</td>\n",
       "      <td>0.08</td>\n",
       "      <td>1</td>\n",
       "      <td>600</td>\n",
       "      <td>{'topo_calcs': False, 'total_startup_iters': 500}</td>\n",
       "      <td>360.0</td>\n",
       "      <td>4.470</td>\n",
       "    </tr>\n",
       "    <tr>\n",
       "      <th>22</th>\n",
       "      <td>burnpro3d/d/ee/71/run_ee719e17-f05e-4525-8dc4-...</td>\n",
       "      <td>2023-07-28T12:21:19.720857</td>\n",
       "      <td>1.0</td>\n",
       "      <td>None</td>\n",
       "      <td>[-939420.0, 1474018.0, -938616.0, 1473212.0]</td>\n",
       "      <td>[[x1, y1], [x2, y2]]</td>\n",
       "      <td>None</td>\n",
       "      <td>None</td>\n",
       "      <td>None</td>\n",
       "      <td>{'emissions': False, 'energy_atmos': False, 'f...</td>\n",
       "      <td>[2.0, 2.0, 1.0]</td>\n",
       "      <td>meters</td>\n",
       "      <td>/quicfire/quicfire-v5.2-ucsd-rel</td>\n",
       "      <td>2023-07-18T14:13:57.162196-07:00</td>\n",
       "      <td>2275444</td>\n",
       "      <td>2023-07-18T13:28:52.106387-07:00</td>\n",
       "      <td>-1</td>\n",
       "      <td>5983</td>\n",
       "      <td>0.25</td>\n",
       "      <td>1</td>\n",
       "      <td>600</td>\n",
       "      <td>{'topo_calcs': False, 'total_startup_iters': 500}</td>\n",
       "      <td>180.0</td>\n",
       "      <td>4.470</td>\n",
       "    </tr>\n",
       "  </tbody>\n",
       "</table>\n",
       "</div>"
      ],
      "text/plain": [
       "                                                 path  \\\n",
       "5   burnpro3d/d/ee/45/run_ee455bc0-e900-4929-9954-...   \n",
       "12  burnpro3d/d/ee/58/run_ee5889b7-1f62-4f41-8c57-...   \n",
       "13  burnpro3d/d/ee/59/run_ee590e6f-ab53-40bf-94c0-...   \n",
       "17  burnpro3d/d/ee/5f/run_ee5fc972-f144-4edc-95a7-...   \n",
       "22  burnpro3d/d/ee/71/run_ee719e17-f05e-4525-8dc4-...   \n",
       "\n",
       "                  time_scraped canopy_moisture    dz  \\\n",
       "5   2023-07-28T12:21:19.720857             0.9  None   \n",
       "12  2023-07-28T12:21:19.720857             0.9  None   \n",
       "13  2023-07-28T12:21:19.720857             1.0  None   \n",
       "17  2023-07-28T12:21:19.720857             1.0  None   \n",
       "22  2023-07-28T12:21:19.720857             1.0  None   \n",
       "\n",
       "                                            extent            extent_fmt  \\\n",
       "5   [-1398056.0, 2815704.0, -1397036.0, 2814900.0]  [[x1, y1], [x2, y2]]   \n",
       "12  [-1398056.0, 2815704.0, -1397036.0, 2814900.0]  [[x1, y1], [x2, y2]]   \n",
       "13  [-2011072.0, 1581140.0, -2010524.0, 1580484.0]  [[x1, y1], [x2, y2]]   \n",
       "17  [-2097480.0, 2037504.0, -2096674.0, 2036700.0]  [[x1, y1], [x2, y2]]   \n",
       "22    [-939420.0, 1474018.0, -938616.0, 1473212.0]  [[x1, y1], [x2, y2]]   \n",
       "\n",
       "   fire_grid  fuel ignition  \\\n",
       "5       None  None     None   \n",
       "12      None  None     None   \n",
       "13      None  None     None   \n",
       "17      None  None     None   \n",
       "22      None  None     None   \n",
       "\n",
       "                                               output       resolution  \\\n",
       "5   {'emissions': False, 'energy_atmos': False, 'f...  [2.0, 2.0, 1.0]   \n",
       "12  {'emissions': False, 'energy_atmos': False, 'f...  [2.0, 2.0, 1.0]   \n",
       "13  {'emissions': False, 'energy_atmos': False, 'f...  [2.0, 2.0, 1.0]   \n",
       "17  {'emissions': False, 'energy_atmos': False, 'f...  [2.0, 2.0, 1.0]   \n",
       "22  {'emissions': False, 'energy_atmos': False, 'f...  [2.0, 2.0, 1.0]   \n",
       "\n",
       "   resolution_units                        run_binary  \\\n",
       "5            meters  /quicfire/quicfire-v5.2-ucsd-rel   \n",
       "12           meters  /quicfire/quicfire-v5.2-ucsd-rel   \n",
       "13           meters  /quicfire/quicfire-v5.2-ucsd-rel   \n",
       "17           meters  /quicfire/quicfire-v5.2-ucsd-rel   \n",
       "22           meters  /quicfire/quicfire-v5.2-ucsd-rel   \n",
       "\n",
       "                             run_end run_max_mem_rss_bytes  \\\n",
       "5   2023-06-19T11:39:47.855802-07:00               2551860   \n",
       "12  2023-06-19T16:43:23.538184-07:00               2565312   \n",
       "13  2023-07-10T15:08:04.227069-07:00                516552   \n",
       "17  2023-06-20T11:39:49.338648-07:00               3919052   \n",
       "22  2023-07-18T14:13:57.162196-07:00               2275444   \n",
       "\n",
       "                           run_start seed sim_time  surface_moisture threads  \\\n",
       "5   2023-06-19T09:25:12.644220-07:00   -1     7313              0.15       1   \n",
       "12  2023-06-19T13:23:17.131454-07:00   -1     6906              0.15       1   \n",
       "13  2023-07-10T14:58:48.516813-07:00   -1     4228              0.07       1   \n",
       "17  2023-06-20T09:51:35.910785-07:00   -1    14997              0.08       1   \n",
       "22  2023-07-18T13:28:52.106387-07:00   -1     5983              0.25       1   \n",
       "\n",
       "   timestep                                               topo  \\\n",
       "5       600   {'topo_calcs': True, 'total_startup_iters': 500}   \n",
       "12      600   {'topo_calcs': True, 'total_startup_iters': 500}   \n",
       "13      600  {'topo_calcs': False, 'total_startup_iters': 500}   \n",
       "17      600  {'topo_calcs': False, 'total_startup_iters': 500}   \n",
       "22      600  {'topo_calcs': False, 'total_startup_iters': 500}   \n",
       "\n",
       "    wind_direction  wind_speed  \n",
       "5            240.0       4.470  \n",
       "12           270.0       6.705  \n",
       "13           300.0       2.235  \n",
       "17           360.0       4.470  \n",
       "22           180.0       4.470  "
      ]
     },
     "execution_count": 177,
     "metadata": {},
     "output_type": "execute_result"
    }
   ],
   "source": [
    "print(\"raw length: \",len(df))\n",
    "df = df.dropna(subset=[\"run_end\", \"run_start\", \"sim_time\"])\n",
    "print(\"length after dropna: \",len(df))\n",
    "df = df[ (df['run_binary'] == \"/quicfire/quicfire-v5.2-ucsd-rel\") & (df['threads'] == 1)]\n",
    "print(\"length after filter version and single threading: \",len(df)) \n",
    "df.head()"
   ]
  },
  {
   "cell_type": "code",
   "execution_count": 178,
   "id": "149b9260-22d4-4e2e-a5f7-17b4a96ceee9",
   "metadata": {},
   "outputs": [],
   "source": [
    "df.to_csv(\"simulation_runs.csv\", mode=\"a\",header=False)"
   ]
  },
  {
   "cell_type": "markdown",
   "id": "b9b85d75-76c5-42b2-931c-6b91ccab7e3a",
   "metadata": {},
   "source": [
    "# Now read the data and do some stuff!"
   ]
  },
  {
   "cell_type": "code",
   "execution_count": 34,
   "id": "6a088cc8-c7e3-457b-9b4f-325f39d3cb88",
   "metadata": {},
   "outputs": [
    {
     "name": "stdout",
     "output_type": "stream",
     "text": [
      "347\n"
     ]
    },
    {
     "data": {
      "text/html": [
       "<div>\n",
       "<style scoped>\n",
       "    .dataframe tbody tr th:only-of-type {\n",
       "        vertical-align: middle;\n",
       "    }\n",
       "\n",
       "    .dataframe tbody tr th {\n",
       "        vertical-align: top;\n",
       "    }\n",
       "\n",
       "    .dataframe thead th {\n",
       "        text-align: right;\n",
       "    }\n",
       "</style>\n",
       "<table border=\"1\" class=\"dataframe\">\n",
       "  <thead>\n",
       "    <tr style=\"text-align: right;\">\n",
       "      <th></th>\n",
       "      <th>Unnamed: 0</th>\n",
       "      <th>path</th>\n",
       "      <th>time_scraped</th>\n",
       "      <th>canopy_moisture</th>\n",
       "      <th>dz</th>\n",
       "      <th>extent</th>\n",
       "      <th>extent_fmt</th>\n",
       "      <th>fire_grid</th>\n",
       "      <th>fuel</th>\n",
       "      <th>ignition</th>\n",
       "      <th>output</th>\n",
       "      <th>resolution</th>\n",
       "      <th>resolution_units</th>\n",
       "      <th>run_binary</th>\n",
       "      <th>run_end</th>\n",
       "      <th>run_max_mem_rss_bytes</th>\n",
       "      <th>run_start</th>\n",
       "      <th>seed</th>\n",
       "      <th>sim_time</th>\n",
       "      <th>surface_moisture</th>\n",
       "      <th>threads</th>\n",
       "      <th>timestep</th>\n",
       "      <th>topo</th>\n",
       "      <th>wind_direction</th>\n",
       "      <th>wind_speed</th>\n",
       "    </tr>\n",
       "  </thead>\n",
       "  <tbody>\n",
       "    <tr>\n",
       "      <th>0</th>\n",
       "      <td>38</td>\n",
       "      <td>burnpro3d/d/00/60/run_00601423-00ba-4edc-85de-...</td>\n",
       "      <td>2023-07-27T17:04:03.155927</td>\n",
       "      <td>1.00</td>\n",
       "      <td>NaN</td>\n",
       "      <td>[-928246.0, 1477596.0, -927440.0, 1476900.0]</td>\n",
       "      <td>[[x1, y1], [x2, y2]]</td>\n",
       "      <td>NaN</td>\n",
       "      <td>NaN</td>\n",
       "      <td>NaN</td>\n",
       "      <td>{'emissions': False, 'energy_atmos': False, 'f...</td>\n",
       "      <td>[2.0, 2.0, 1.0]</td>\n",
       "      <td>meters</td>\n",
       "      <td>/quicfire/quicfire-v5.2-ucsd-rel</td>\n",
       "      <td>2023-06-20T16:44:36.032464-07:00</td>\n",
       "      <td>1934680</td>\n",
       "      <td>2023-06-20T15:13:20.118932-07:00</td>\n",
       "      <td>-1</td>\n",
       "      <td>4503</td>\n",
       "      <td>0.10</td>\n",
       "      <td>1</td>\n",
       "      <td>600</td>\n",
       "      <td>{'topo_calcs': True, 'total_startup_iters': 500}</td>\n",
       "      <td>65.0</td>\n",
       "      <td>2.235</td>\n",
       "    </tr>\n",
       "    <tr>\n",
       "      <th>1</th>\n",
       "      <td>41</td>\n",
       "      <td>burnpro3d/d/00/6d/run_006d5586-0a9c-448a-b307-...</td>\n",
       "      <td>2023-07-27T17:04:03.155927</td>\n",
       "      <td>0.90</td>\n",
       "      <td>NaN</td>\n",
       "      <td>[-2022346.0, 1581420.0, -2020914.0, 1580036.0]</td>\n",
       "      <td>[[x1, y1], [x2, y2]]</td>\n",
       "      <td>NaN</td>\n",
       "      <td>NaN</td>\n",
       "      <td>NaN</td>\n",
       "      <td>{'emissions': False, 'energy_atmos': False, 'f...</td>\n",
       "      <td>[2.0, 2.0, 1.0]</td>\n",
       "      <td>meters</td>\n",
       "      <td>/quicfire/quicfire-v5.2-ucsd-rel</td>\n",
       "      <td>2023-06-15T13:51:13.573728-07:00</td>\n",
       "      <td>2470180</td>\n",
       "      <td>2023-06-15T11:08:55.640920-07:00</td>\n",
       "      <td>-1</td>\n",
       "      <td>11382</td>\n",
       "      <td>0.05</td>\n",
       "      <td>1</td>\n",
       "      <td>600</td>\n",
       "      <td>{'topo_calcs': False, 'total_startup_iters': 500}</td>\n",
       "      <td>90.0</td>\n",
       "      <td>4.470</td>\n",
       "    </tr>\n",
       "    <tr>\n",
       "      <th>2</th>\n",
       "      <td>77</td>\n",
       "      <td>burnpro3d/d/00/d5/run_00d57d95-2227-40ea-b1a8-...</td>\n",
       "      <td>2023-07-27T17:04:03.155927</td>\n",
       "      <td>0.95</td>\n",
       "      <td>NaN</td>\n",
       "      <td>[-2011072.0, 1581140.0, -2010524.0, 1580484.0]</td>\n",
       "      <td>[[x1, y1], [x2, y2]]</td>\n",
       "      <td>NaN</td>\n",
       "      <td>NaN</td>\n",
       "      <td>NaN</td>\n",
       "      <td>{'emissions': False, 'energy_atmos': False, 'f...</td>\n",
       "      <td>[2.0, 2.0, 1.0]</td>\n",
       "      <td>meters</td>\n",
       "      <td>/quicfire/quicfire-v5.2-ucsd-rel</td>\n",
       "      <td>2023-06-27T16:12:51.127014-07:00</td>\n",
       "      <td>517424</td>\n",
       "      <td>2023-06-27T16:04:29.825894-07:00</td>\n",
       "      <td>-1</td>\n",
       "      <td>3937</td>\n",
       "      <td>0.12</td>\n",
       "      <td>1</td>\n",
       "      <td>600</td>\n",
       "      <td>{'topo_calcs': False, 'total_startup_iters': 500}</td>\n",
       "      <td>270.0</td>\n",
       "      <td>2.235</td>\n",
       "    </tr>\n",
       "    <tr>\n",
       "      <th>3</th>\n",
       "      <td>10</td>\n",
       "      <td>burnpro3d/d/01/37/run_0137bb44-361e-48ed-8feb-...</td>\n",
       "      <td>2023-07-27T17:05:28.453250</td>\n",
       "      <td>1.10</td>\n",
       "      <td>NaN</td>\n",
       "      <td>[885288.0, 870390.0, 886242.0, 869286.0]</td>\n",
       "      <td>[[x1, y1], [x2, y2]]</td>\n",
       "      <td>NaN</td>\n",
       "      <td>{'density': None, 'dx': 2, 'dy': 2, 'height': ...</td>\n",
       "      <td>{'dat': None, 'id': '121dc89e-b034-479a-b0da-c...</td>\n",
       "      <td>{'emissions': False, 'energy_atmos': False, 'f...</td>\n",
       "      <td>[2.0, 2.0, 1.0]</td>\n",
       "      <td>meters</td>\n",
       "      <td>/quicfire/quicfire-v5.2-ucsd-rel</td>\n",
       "      <td>2023-04-09T19:36:16.198481-07:00</td>\n",
       "      <td>2454040</td>\n",
       "      <td>2023-04-09T18:24:10.951246-07:00</td>\n",
       "      <td>-1</td>\n",
       "      <td>4921</td>\n",
       "      <td>0.10</td>\n",
       "      <td>1</td>\n",
       "      <td>600</td>\n",
       "      <td>NaN</td>\n",
       "      <td>137.0</td>\n",
       "      <td>3.000</td>\n",
       "    </tr>\n",
       "    <tr>\n",
       "      <th>4</th>\n",
       "      <td>14</td>\n",
       "      <td>burnpro3d/d/01/40/run_0140601b-6702-452f-8bc0-...</td>\n",
       "      <td>2023-07-27T17:05:28.453250</td>\n",
       "      <td>1.00</td>\n",
       "      <td>NaN</td>\n",
       "      <td>[-2097480.0, 2037504.0, -2096674.0, 2036700.0]</td>\n",
       "      <td>[[x1, y1], [x2, y2]]</td>\n",
       "      <td>NaN</td>\n",
       "      <td>NaN</td>\n",
       "      <td>NaN</td>\n",
       "      <td>{'emissions': False, 'energy_atmos': False, 'f...</td>\n",
       "      <td>[2.0, 2.0, 1.0]</td>\n",
       "      <td>meters</td>\n",
       "      <td>/quicfire/quicfire-v5.2-ucsd-rel</td>\n",
       "      <td>2023-06-20T12:23:45.540506-07:00</td>\n",
       "      <td>3919432</td>\n",
       "      <td>2023-06-20T09:53:36.922562-07:00</td>\n",
       "      <td>-1</td>\n",
       "      <td>14997</td>\n",
       "      <td>0.15</td>\n",
       "      <td>1</td>\n",
       "      <td>600</td>\n",
       "      <td>{'topo_calcs': False, 'total_startup_iters': 500}</td>\n",
       "      <td>360.0</td>\n",
       "      <td>4.470</td>\n",
       "    </tr>\n",
       "  </tbody>\n",
       "</table>\n",
       "</div>"
      ],
      "text/plain": [
       "   Unnamed: 0                                               path  \\\n",
       "0          38  burnpro3d/d/00/60/run_00601423-00ba-4edc-85de-...   \n",
       "1          41  burnpro3d/d/00/6d/run_006d5586-0a9c-448a-b307-...   \n",
       "2          77  burnpro3d/d/00/d5/run_00d57d95-2227-40ea-b1a8-...   \n",
       "3          10  burnpro3d/d/01/37/run_0137bb44-361e-48ed-8feb-...   \n",
       "4          14  burnpro3d/d/01/40/run_0140601b-6702-452f-8bc0-...   \n",
       "\n",
       "                 time_scraped  canopy_moisture  dz  \\\n",
       "0  2023-07-27T17:04:03.155927             1.00 NaN   \n",
       "1  2023-07-27T17:04:03.155927             0.90 NaN   \n",
       "2  2023-07-27T17:04:03.155927             0.95 NaN   \n",
       "3  2023-07-27T17:05:28.453250             1.10 NaN   \n",
       "4  2023-07-27T17:05:28.453250             1.00 NaN   \n",
       "\n",
       "                                           extent            extent_fmt  \\\n",
       "0    [-928246.0, 1477596.0, -927440.0, 1476900.0]  [[x1, y1], [x2, y2]]   \n",
       "1  [-2022346.0, 1581420.0, -2020914.0, 1580036.0]  [[x1, y1], [x2, y2]]   \n",
       "2  [-2011072.0, 1581140.0, -2010524.0, 1580484.0]  [[x1, y1], [x2, y2]]   \n",
       "3        [885288.0, 870390.0, 886242.0, 869286.0]  [[x1, y1], [x2, y2]]   \n",
       "4  [-2097480.0, 2037504.0, -2096674.0, 2036700.0]  [[x1, y1], [x2, y2]]   \n",
       "\n",
       "   fire_grid                                               fuel  \\\n",
       "0        NaN                                                NaN   \n",
       "1        NaN                                                NaN   \n",
       "2        NaN                                                NaN   \n",
       "3        NaN  {'density': None, 'dx': 2, 'dy': 2, 'height': ...   \n",
       "4        NaN                                                NaN   \n",
       "\n",
       "                                            ignition  \\\n",
       "0                                                NaN   \n",
       "1                                                NaN   \n",
       "2                                                NaN   \n",
       "3  {'dat': None, 'id': '121dc89e-b034-479a-b0da-c...   \n",
       "4                                                NaN   \n",
       "\n",
       "                                              output       resolution  \\\n",
       "0  {'emissions': False, 'energy_atmos': False, 'f...  [2.0, 2.0, 1.0]   \n",
       "1  {'emissions': False, 'energy_atmos': False, 'f...  [2.0, 2.0, 1.0]   \n",
       "2  {'emissions': False, 'energy_atmos': False, 'f...  [2.0, 2.0, 1.0]   \n",
       "3  {'emissions': False, 'energy_atmos': False, 'f...  [2.0, 2.0, 1.0]   \n",
       "4  {'emissions': False, 'energy_atmos': False, 'f...  [2.0, 2.0, 1.0]   \n",
       "\n",
       "  resolution_units                        run_binary  \\\n",
       "0           meters  /quicfire/quicfire-v5.2-ucsd-rel   \n",
       "1           meters  /quicfire/quicfire-v5.2-ucsd-rel   \n",
       "2           meters  /quicfire/quicfire-v5.2-ucsd-rel   \n",
       "3           meters  /quicfire/quicfire-v5.2-ucsd-rel   \n",
       "4           meters  /quicfire/quicfire-v5.2-ucsd-rel   \n",
       "\n",
       "                            run_end  run_max_mem_rss_bytes  \\\n",
       "0  2023-06-20T16:44:36.032464-07:00                1934680   \n",
       "1  2023-06-15T13:51:13.573728-07:00                2470180   \n",
       "2  2023-06-27T16:12:51.127014-07:00                 517424   \n",
       "3  2023-04-09T19:36:16.198481-07:00                2454040   \n",
       "4  2023-06-20T12:23:45.540506-07:00                3919432   \n",
       "\n",
       "                          run_start  seed  sim_time  surface_moisture  \\\n",
       "0  2023-06-20T15:13:20.118932-07:00    -1      4503              0.10   \n",
       "1  2023-06-15T11:08:55.640920-07:00    -1     11382              0.05   \n",
       "2  2023-06-27T16:04:29.825894-07:00    -1      3937              0.12   \n",
       "3  2023-04-09T18:24:10.951246-07:00    -1      4921              0.10   \n",
       "4  2023-06-20T09:53:36.922562-07:00    -1     14997              0.15   \n",
       "\n",
       "   threads  timestep                                               topo  \\\n",
       "0        1       600   {'topo_calcs': True, 'total_startup_iters': 500}   \n",
       "1        1       600  {'topo_calcs': False, 'total_startup_iters': 500}   \n",
       "2        1       600  {'topo_calcs': False, 'total_startup_iters': 500}   \n",
       "3        1       600                                                NaN   \n",
       "4        1       600  {'topo_calcs': False, 'total_startup_iters': 500}   \n",
       "\n",
       "   wind_direction  wind_speed  \n",
       "0            65.0       2.235  \n",
       "1            90.0       4.470  \n",
       "2           270.0       2.235  \n",
       "3           137.0       3.000  \n",
       "4           360.0       4.470  "
      ]
     },
     "execution_count": 34,
     "metadata": {},
     "output_type": "execute_result"
    }
   ],
   "source": [
    "data2 = pd.read_csv(\"simulation_runs.csv\")\n",
    "print(len(data2))\n",
    "data2.head()"
   ]
  },
  {
   "cell_type": "code",
   "execution_count": 34,
   "id": "428105c4-36c3-4860-80bd-d0b09357897d",
   "metadata": {},
   "outputs": [],
   "source": [
    "import ast\n",
    "\n",
    "def calculate_area(L):\n",
    "    #where p1 in the bottom left = (x1,y1) and p2 in the bottom left = (x2,y2)\n",
    " \n",
    "    # Converting string to list\n",
    "    res = ast.literal_eval(L)\n",
    "    L = res\n",
    "    x1, y1, x2, y2 = float(L[0]), float(L[1]), float(L[2]), float(L[3])\n",
    "    print(x1, type(x1))\n",
    "    x_length = abs(x2-x1)\n",
    "    y_length = abs(y2-y1)\n",
    "    area = x_length * y_length\n",
    "    return area"
   ]
  },
  {
   "cell_type": "code",
   "execution_count": 65,
   "id": "8a3ef2d2-5b63-447b-a8ea-2d6ffd598c8a",
   "metadata": {},
   "outputs": [],
   "source": [
    "# df = data2.get([\"sim_time\",\"run_end\",\"run_start\",\"extent\",\"surface_moisture\",\"timestep\",\"wind_direction\",\"wind_speed\",\"canopy_moisture\"])\n",
    "\n",
    "# df['area'] = df.apply(lambda row: calculate_area(row[\"extent\"]), axis=1)\n",
    "# print(df['area'])"
   ]
  },
  {
   "cell_type": "code",
   "execution_count": 36,
   "id": "683cfd3c-08c4-4e8f-b6a0-c454098fdcbf",
   "metadata": {},
   "outputs": [
    {
     "data": {
      "text/plain": [
       "<Axes: xlabel='area', ylabel='sim_time'>"
      ]
     },
     "execution_count": 36,
     "metadata": {},
     "output_type": "execute_result"
    },
    {
     "data": {
      "image/png": "[encoded data removed]",
      "text/plain": [
       "<Figure size 640x480 with 1 Axes>"
      ]
     },
     "metadata": {},
     "output_type": "display_data"
    }
   ],
   "source": [
    "import seaborn as sns\n",
    "sns.scatterplot(x=df['area'], y=df['sim_time'])"
   ]
  },
  {
   "cell_type": "code",
   "execution_count": null,
   "id": "4dfcfd48-9ae8-4463-9bf3-bf249288337e",
   "metadata": {},
   "outputs": [],
   "source": []
  }
 ],
 "metadata": {
  "kernelspec": {
   "display_name": "Python 3 (ipykernel)",
   "language": "python",
   "name": "python3"
  },
  "language_info": {
   "codemirror_mode": {
    "name": "ipython",
    "version": 3
   },
   "file_extension": ".py",
   "mimetype": "text/x-python",
   "name": "python",
   "nbconvert_exporter": "python",
   "pygments_lexer": "ipython3",
   "version": "3.11.4"
  }
 },
 "nbformat": 4,
 "nbformat_minor": 5
}
