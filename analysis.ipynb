{
 "cells": [
  {
   "cell_type": "markdown",
   "id": "7b3bcde2-c5f6-4f7c-801e-570eaf4518a4",
   "metadata": {},
   "source": [
    "# Gather Data From Paths and Save\n",
    "Get all the data from the 27000 or so simulations and save to a CSV file that we can then do EDA on and think about preprocessing for models"
   ]
  },
  {
   "cell_type": "markdown",
   "id": "e374bbe1-c2ae-4a1f-9ff6-2d72ebe9d52b",
   "metadata": {},
   "source": [
    "## Setup"
   ]
  },
  {
   "cell_type": "code",
   "execution_count": 101,
   "id": "1231b1ae-ed91-4667-a928-e6f1df7b24e3",
   "metadata": {},
   "outputs": [
    {
     "data": {
      "text/plain": [
       "True"
      ]
     },
     "execution_count": 101,
     "metadata": {},
     "output_type": "execute_result"
    }
   ],
   "source": [
    "import s3fs\n",
    "import zarr\n",
    "import json\n",
    "from tqdm import tqdm\n",
    "import pandas as pd\n",
    "import pickle\n",
    "from pprint import pprint\n",
    "import os, time\n",
    "from datetime import datetime\n",
    "from dotenv import load_dotenv\n",
    "load_dotenv()"
   ]
  },
  {
   "cell_type": "code",
   "execution_count": 102,
   "id": "f9b5c741-473a-4c1d-a96e-bf610467443e",
   "metadata": {},
   "outputs": [
    {
     "name": "stdout",
     "output_type": "stream",
     "text": [
      "successfully authenticated\n"
     ]
    }
   ],
   "source": [
    "endpoint = 'https://wifire-data.sdsc.edu:9000'\n",
    "access_key = os.getenv(\"ACCESS_KEY\")\n",
    "secret_key = os.getenv(\"SECRET_KEY\")\n",
    "\n",
    "fs = s3fs.S3FileSystem(key=access_key,\n",
    "    secret=secret_key,\n",
    "    client_kwargs={\n",
    "        'endpoint_url': endpoint,\n",
    "        'verify': False\n",
    "    },\n",
    "    skip_instance_cache=False\n",
    ")                                                                                                                                                                                                                                                                                                                                                                                                                                                                                                                                                                                   \n",
    "\n",
    "name = 'quicfire.zarr'\n",
    "bucket = 'burnpro3d/d'\n",
    "\n",
    "root = list(fs.ls(bucket))\n",
    "\n",
    "simulation_paths = []\n",
    "print(\"successfully authenticated\")"
   ]
  },
  {
   "cell_type": "markdown",
   "id": "d2eec849-56d2-415d-aace-9f71270c6678",
   "metadata": {},
   "source": [
    "## Gather Data into DataFrame"
   ]
  },
  {
   "cell_type": "code",
   "execution_count": 150,
   "id": "954a23b8-5173-4b07-86c3-ac8f3f36ca35",
   "metadata": {},
   "outputs": [],
   "source": [
    "def read_paths():\n",
    "    paths = []\n",
    "    with open(\"paths.txt\",\"r\") as f:\n",
    "        paths = f.read().splitlines() \n",
    "    return paths"
   ]
  },
  {
   "cell_type": "code",
   "execution_count": 226,
   "id": "6a0b9079-1402-4e8d-abe0-b38fce42eb1a",
   "metadata": {},
   "outputs": [],
   "source": [
    "KEEP_ATTRIBUTES = {\n",
    "    'path': lambda d: None,\n",
    "    'time_scraped': lambda d: None,\n",
    "    'canopy_moisture': lambda d: d['canopy_moisture'],\n",
    "    'dz':lambda d: d['dz'],\n",
    "    'extent': lambda d: d['extent'],\n",
    "    'extent_fmt': lambda d: d['extent_fmt'],\n",
    "    'fire_grid': lambda d: d['fire_grid'],\n",
    "    'fuel': lambda d: d['fuel'],\n",
    "    'ignition': lambda d: d['ignition'],\n",
    "    'output': lambda d: d['output'],\n",
    "    'resolution': lambda d: d['resolution'],\n",
    "    'resolution_units': lambda d: d['resolution_units'],\n",
    "    'run_binary': lambda d: d['run_binary'],\n",
    "    'run_end': lambda d: d['run_end'],\n",
    "    'run_max_mem_rss_bytes': lambda d: d['run_max_mem_rss_bytes'],\n",
    "    'run_start': lambda d: d['run_start'],\n",
    "    'seed': lambda d: d['seed'],\n",
    "    'sim_time': lambda d: d['sim_time'],\n",
    "    'surface_moisture': lambda d: d['surface_moisture'],\n",
    "    'threads': lambda d: d['threads'],\n",
    "    'timestep': lambda d: d['timestep'],\n",
    "    'topo': lambda d: d['topo'],\n",
    "    'wind_direction': lambda d: d['wind_direction'],\n",
    "    'wind_speed': lambda d: d['wind_speed']\n",
    "}\n",
    "\n",
    "def get_df_chunk(stop):\n",
    "    with open(\"vars.txt\", \"r\") as file:\n",
    "        start = int(file.read())\n",
    "        print(\"start \" , start)\n",
    "    global simulation_paths, KEEP_ATTRIBUTES, incomplete, filenotfound\n",
    "\n",
    "    df = pd.DataFrame([], columns=KEEP_ATTRIBUTES.keys())\n",
    "    time = datetime.now().strftime(\"%Y-%m-%dT%H:%M:%S.%f\")\n",
    "    i = 0\n",
    "    for p in tqdm(simulation_paths[start:stop]):\n",
    "        try:\n",
    "            with fs.open(p + '/' + name + '/.zattrs') as f:\n",
    "                data=json.load(f)\n",
    "        except:\n",
    "            print(\"FileNotFound error on path {\",p,\"}\")\n",
    "            continue\n",
    "            \n",
    "        row = []\n",
    "        for k,expr in KEEP_ATTRIBUTES.items():\n",
    "            try:\n",
    "                value = KEEP_ATTRIBUTES[k](data)\n",
    "            except KeyError:\n",
    "                value = None\n",
    "            row.append(value)\n",
    "        row[0] = p\n",
    "        row[1] = time\n",
    "        df.loc[i] = row\n",
    "        i+=1\n",
    "    with open(\"vars.txt\", \"w\") as f:\n",
    "            f.write(str(stop))\n",
    "            print(\"\\nRead from \", start, \" to \", stop,\"\\n\")\n",
    "    return df\n",
    "\n",
    "pd.set_option('display.max_columns', None)"
   ]
  },
  {
   "cell_type": "code",
   "execution_count": 227,
   "id": "8e35a7f1-6547-4a7c-8ed0-a7e58ed8050b",
   "metadata": {},
   "outputs": [
    {
     "data": {
      "text/plain": [
       "26997"
      ]
     },
     "execution_count": 227,
     "metadata": {},
     "output_type": "execute_result"
    }
   ],
   "source": [
    "simulation_paths = read_paths()\n",
    "len(simulation_paths)"
   ]
  },
  {
   "cell_type": "code",
   "execution_count": 228,
   "id": "97db2dbc-e939-4908-a078-398734d3a0ac",
   "metadata": {},
   "outputs": [],
   "source": [
    "BATCH_SIZE = 200"
   ]
  },
  {
   "cell_type": "code",
   "execution_count": 229,
   "id": "141d3e2b-0b3c-4831-a1ad-c5d2ed8dfa0a",
   "metadata": {},
   "outputs": [
    {
     "name": "stdout",
     "output_type": "stream",
     "text": [
      "start  300\n"
     ]
    },
    {
     "name": "stderr",
     "output_type": "stream",
     "text": [
      " 76%|████████████████████████████▉         | 152/200 [01:10<00:36,  1.32it/s]"
     ]
    },
    {
     "name": "stdout",
     "output_type": "stream",
     "text": [
      "FileNotFound error on path { burnpro3d/d/05/33/run_0533bc87-5a75-4cdb-87e8-f96f8296ca9a }\n"
     ]
    },
    {
     "name": "stderr",
     "output_type": "stream",
     "text": [
      "100%|██████████████████████████████████████| 200/200 [01:27<00:00,  2.28it/s]"
     ]
    },
    {
     "name": "stdout",
     "output_type": "stream",
     "text": [
      "\n",
      "Read from  300  to  500 \n",
      "\n",
      "Downloaded the dataframe chunk in 87.862 seconds\n"
     ]
    },
    {
     "name": "stderr",
     "output_type": "stream",
     "text": [
      "\n"
     ]
    }
   ],
   "source": [
    "\n",
    "with open(\"vars.txt\", \"r\") as file:\n",
    "    start = int(file.read())\n",
    "\n",
    "tic = time.perf_counter()\n",
    "path_count = start + BATCH_SIZE\n",
    "df = get_df_chunk(path_count)\n",
    "toc = time.perf_counter()\n",
    "\n",
    "df.head()\n",
    "time_elapsed = f\"{toc - tic:0.3f}\"\n",
    "print(f\"Downloaded the dataframe chunk in {time_elapsed} seconds\")\n"
   ]
  },
  {
   "cell_type": "code",
   "execution_count": 230,
   "id": "e6bd517a-c7e1-45ba-b119-449243a6949a",
   "metadata": {
    "scrolled": true
   },
   "outputs": [
    {
     "data": {
      "text/plain": [
       "199"
      ]
     },
     "execution_count": 230,
     "metadata": {},
     "output_type": "execute_result"
    }
   ],
   "source": [
    "len(df)"
   ]
  },
  {
   "cell_type": "code",
   "execution_count": 231,
   "id": "f60d1fc0-3455-4444-91e4-12e061e06d6a",
   "metadata": {},
   "outputs": [
    {
     "name": "stdout",
     "output_type": "stream",
     "text": [
      "raw length:  199\n",
      "length after dropna:  160\n",
      "length after filter version and single threading:  16\n"
     ]
    },
    {
     "data": {
      "text/html": [
       "<div>\n",
       "<style scoped>\n",
       "    .dataframe tbody tr th:only-of-type {\n",
       "        vertical-align: middle;\n",
       "    }\n",
       "\n",
       "    .dataframe tbody tr th {\n",
       "        vertical-align: top;\n",
       "    }\n",
       "\n",
       "    .dataframe thead th {\n",
       "        text-align: right;\n",
       "    }\n",
       "</style>\n",
       "<table border=\"1\" class=\"dataframe\">\n",
       "  <thead>\n",
       "    <tr style=\"text-align: right;\">\n",
       "      <th></th>\n",
       "      <th>path</th>\n",
       "      <th>time_scraped</th>\n",
       "      <th>canopy_moisture</th>\n",
       "      <th>dz</th>\n",
       "      <th>extent</th>\n",
       "      <th>extent_fmt</th>\n",
       "      <th>fire_grid</th>\n",
       "      <th>fuel</th>\n",
       "      <th>ignition</th>\n",
       "      <th>output</th>\n",
       "      <th>resolution</th>\n",
       "      <th>resolution_units</th>\n",
       "      <th>run_binary</th>\n",
       "      <th>run_end</th>\n",
       "      <th>run_max_mem_rss_bytes</th>\n",
       "      <th>run_start</th>\n",
       "      <th>seed</th>\n",
       "      <th>sim_time</th>\n",
       "      <th>surface_moisture</th>\n",
       "      <th>threads</th>\n",
       "      <th>timestep</th>\n",
       "      <th>topo</th>\n",
       "      <th>wind_direction</th>\n",
       "      <th>wind_speed</th>\n",
       "    </tr>\n",
       "  </thead>\n",
       "  <tbody>\n",
       "    <tr>\n",
       "      <th>6</th>\n",
       "      <td>burnpro3d/d/03/61/run_0361425b-d728-4092-a153-...</td>\n",
       "      <td>2023-07-27T17:10:48.294526</td>\n",
       "      <td>0.4</td>\n",
       "      <td>None</td>\n",
       "      <td>[-2126863, 2649938, -2126015, 2648970]</td>\n",
       "      <td>[[x1, y1], [x2, y2]]</td>\n",
       "      <td>None</td>\n",
       "      <td>None</td>\n",
       "      <td>None</td>\n",
       "      <td>{'emissions': False, 'energy_atmos': False, 'f...</td>\n",
       "      <td>[2, 2, 1]</td>\n",
       "      <td>meters</td>\n",
       "      <td>/quicfire/quicfire-v5.2-ucsd-rel</td>\n",
       "      <td>2023-06-06T11:34:45.390760-07:00</td>\n",
       "      <td>2659060</td>\n",
       "      <td>2023-06-06T10:24:59.120364-07:00</td>\n",
       "      <td>-1</td>\n",
       "      <td>4225</td>\n",
       "      <td>0.10</td>\n",
       "      <td>1</td>\n",
       "      <td>600</td>\n",
       "      <td>None</td>\n",
       "      <td>90.0</td>\n",
       "      <td>15.000</td>\n",
       "    </tr>\n",
       "    <tr>\n",
       "      <th>8</th>\n",
       "      <td>burnpro3d/d/03/6a/run_036ade61-cbfa-46bc-b0ba-...</td>\n",
       "      <td>2023-07-27T17:10:48.294526</td>\n",
       "      <td>0.8</td>\n",
       "      <td>None</td>\n",
       "      <td>[-2022346.0, 1581420.0, -2020914.0, 1580036.0]</td>\n",
       "      <td>[[x1, y1], [x2, y2]]</td>\n",
       "      <td>None</td>\n",
       "      <td>None</td>\n",
       "      <td>None</td>\n",
       "      <td>{'emissions': False, 'energy_atmos': False, 'f...</td>\n",
       "      <td>[2.0, 2.0, 1.0]</td>\n",
       "      <td>meters</td>\n",
       "      <td>/quicfire/quicfire-v5.2-ucsd-rel</td>\n",
       "      <td>2023-06-14T15:18:48.475738-07:00</td>\n",
       "      <td>2470240</td>\n",
       "      <td>2023-06-14T12:24:11.387122-07:00</td>\n",
       "      <td>-1</td>\n",
       "      <td>11359</td>\n",
       "      <td>0.10</td>\n",
       "      <td>1</td>\n",
       "      <td>600</td>\n",
       "      <td>{'topo_calcs': False, 'total_startup_iters': 500}</td>\n",
       "      <td>150.0</td>\n",
       "      <td>3.129</td>\n",
       "    </tr>\n",
       "    <tr>\n",
       "      <th>18</th>\n",
       "      <td>burnpro3d/d/03/83/run_03832093-083a-4e32-bd50-...</td>\n",
       "      <td>2023-07-27T17:10:48.294526</td>\n",
       "      <td>0.9</td>\n",
       "      <td>None</td>\n",
       "      <td>[-1959092.0, 1310426.0, -1958552.0, 1309880.0]</td>\n",
       "      <td>[[x1, y1], [x2, y2]]</td>\n",
       "      <td>None</td>\n",
       "      <td>None</td>\n",
       "      <td>None</td>\n",
       "      <td>{'emissions': False, 'energy_atmos': False, 'f...</td>\n",
       "      <td>[2.0, 2.0, 1.0]</td>\n",
       "      <td>meters</td>\n",
       "      <td>/quicfire/quicfire-v5.2-ucsd-rel</td>\n",
       "      <td>2023-06-23T14:36:17.260056-07:00</td>\n",
       "      <td>452140</td>\n",
       "      <td>2023-06-23T14:23:46.833300-07:00</td>\n",
       "      <td>-1</td>\n",
       "      <td>5223</td>\n",
       "      <td>0.15</td>\n",
       "      <td>1</td>\n",
       "      <td>600</td>\n",
       "      <td>{'topo_calcs': False, 'total_startup_iters': 500}</td>\n",
       "      <td>90.0</td>\n",
       "      <td>4.470</td>\n",
       "    </tr>\n",
       "    <tr>\n",
       "      <th>31</th>\n",
       "      <td>burnpro3d/d/03/a6/run_03a6d907-755a-4fcf-94e2-...</td>\n",
       "      <td>2023-07-27T17:10:48.294526</td>\n",
       "      <td>0.9</td>\n",
       "      <td>None</td>\n",
       "      <td>[-2097480.0, 2037504.0, -2096674.0, 2036700.0]</td>\n",
       "      <td>[[x1, y1], [x2, y2]]</td>\n",
       "      <td>None</td>\n",
       "      <td>None</td>\n",
       "      <td>None</td>\n",
       "      <td>{'emissions': False, 'energy_atmos': False, 'f...</td>\n",
       "      <td>[2.0, 2.0, 1.0]</td>\n",
       "      <td>meters</td>\n",
       "      <td>/quicfire/quicfire-v5.2-ucsd-rel</td>\n",
       "      <td>2023-06-19T20:56:54.097372-07:00</td>\n",
       "      <td>4231776</td>\n",
       "      <td>2023-06-19T16:06:07.456839-07:00</td>\n",
       "      <td>-1</td>\n",
       "      <td>8543</td>\n",
       "      <td>0.11</td>\n",
       "      <td>1</td>\n",
       "      <td>600</td>\n",
       "      <td>{'topo_calcs': True, 'total_startup_iters': 500}</td>\n",
       "      <td>225.0</td>\n",
       "      <td>3.129</td>\n",
       "    </tr>\n",
       "    <tr>\n",
       "      <th>41</th>\n",
       "      <td>burnpro3d/d/03/c9/run_03c9e618-341e-447b-be36-...</td>\n",
       "      <td>2023-07-27T17:10:48.294526</td>\n",
       "      <td>0.9</td>\n",
       "      <td>None</td>\n",
       "      <td>[-2022346.0, 1581420.0, -2020914.0, 1580036.0]</td>\n",
       "      <td>[[x1, y1], [x2, y2]]</td>\n",
       "      <td>None</td>\n",
       "      <td>None</td>\n",
       "      <td>None</td>\n",
       "      <td>{'emissions': False, 'energy_atmos': False, 'f...</td>\n",
       "      <td>[2.0, 2.0, 1.0]</td>\n",
       "      <td>meters</td>\n",
       "      <td>/quicfire/quicfire-v5.2-ucsd-rel</td>\n",
       "      <td>2023-06-23T17:19:10.728883-07:00</td>\n",
       "      <td>2428228</td>\n",
       "      <td>2023-06-23T14:18:23.649738-07:00</td>\n",
       "      <td>-1</td>\n",
       "      <td>13493</td>\n",
       "      <td>0.10</td>\n",
       "      <td>1</td>\n",
       "      <td>600</td>\n",
       "      <td>{'topo_calcs': False, 'total_startup_iters': 500}</td>\n",
       "      <td>60.0</td>\n",
       "      <td>4.470</td>\n",
       "    </tr>\n",
       "  </tbody>\n",
       "</table>\n",
       "</div>"
      ],
      "text/plain": [
       "                                                 path  \\\n",
       "6   burnpro3d/d/03/61/run_0361425b-d728-4092-a153-...   \n",
       "8   burnpro3d/d/03/6a/run_036ade61-cbfa-46bc-b0ba-...   \n",
       "18  burnpro3d/d/03/83/run_03832093-083a-4e32-bd50-...   \n",
       "31  burnpro3d/d/03/a6/run_03a6d907-755a-4fcf-94e2-...   \n",
       "41  burnpro3d/d/03/c9/run_03c9e618-341e-447b-be36-...   \n",
       "\n",
       "                  time_scraped  canopy_moisture    dz  \\\n",
       "6   2023-07-27T17:10:48.294526              0.4  None   \n",
       "8   2023-07-27T17:10:48.294526              0.8  None   \n",
       "18  2023-07-27T17:10:48.294526              0.9  None   \n",
       "31  2023-07-27T17:10:48.294526              0.9  None   \n",
       "41  2023-07-27T17:10:48.294526              0.9  None   \n",
       "\n",
       "                                            extent            extent_fmt  \\\n",
       "6           [-2126863, 2649938, -2126015, 2648970]  [[x1, y1], [x2, y2]]   \n",
       "8   [-2022346.0, 1581420.0, -2020914.0, 1580036.0]  [[x1, y1], [x2, y2]]   \n",
       "18  [-1959092.0, 1310426.0, -1958552.0, 1309880.0]  [[x1, y1], [x2, y2]]   \n",
       "31  [-2097480.0, 2037504.0, -2096674.0, 2036700.0]  [[x1, y1], [x2, y2]]   \n",
       "41  [-2022346.0, 1581420.0, -2020914.0, 1580036.0]  [[x1, y1], [x2, y2]]   \n",
       "\n",
       "   fire_grid  fuel ignition  \\\n",
       "6       None  None     None   \n",
       "8       None  None     None   \n",
       "18      None  None     None   \n",
       "31      None  None     None   \n",
       "41      None  None     None   \n",
       "\n",
       "                                               output       resolution  \\\n",
       "6   {'emissions': False, 'energy_atmos': False, 'f...        [2, 2, 1]   \n",
       "8   {'emissions': False, 'energy_atmos': False, 'f...  [2.0, 2.0, 1.0]   \n",
       "18  {'emissions': False, 'energy_atmos': False, 'f...  [2.0, 2.0, 1.0]   \n",
       "31  {'emissions': False, 'energy_atmos': False, 'f...  [2.0, 2.0, 1.0]   \n",
       "41  {'emissions': False, 'energy_atmos': False, 'f...  [2.0, 2.0, 1.0]   \n",
       "\n",
       "   resolution_units                        run_binary  \\\n",
       "6            meters  /quicfire/quicfire-v5.2-ucsd-rel   \n",
       "8            meters  /quicfire/quicfire-v5.2-ucsd-rel   \n",
       "18           meters  /quicfire/quicfire-v5.2-ucsd-rel   \n",
       "31           meters  /quicfire/quicfire-v5.2-ucsd-rel   \n",
       "41           meters  /quicfire/quicfire-v5.2-ucsd-rel   \n",
       "\n",
       "                             run_end run_max_mem_rss_bytes  \\\n",
       "6   2023-06-06T11:34:45.390760-07:00               2659060   \n",
       "8   2023-06-14T15:18:48.475738-07:00               2470240   \n",
       "18  2023-06-23T14:36:17.260056-07:00                452140   \n",
       "31  2023-06-19T20:56:54.097372-07:00               4231776   \n",
       "41  2023-06-23T17:19:10.728883-07:00               2428228   \n",
       "\n",
       "                           run_start seed  sim_time  surface_moisture threads  \\\n",
       "6   2023-06-06T10:24:59.120364-07:00   -1      4225              0.10       1   \n",
       "8   2023-06-14T12:24:11.387122-07:00   -1     11359              0.10       1   \n",
       "18  2023-06-23T14:23:46.833300-07:00   -1      5223              0.15       1   \n",
       "31  2023-06-19T16:06:07.456839-07:00   -1      8543              0.11       1   \n",
       "41  2023-06-23T14:18:23.649738-07:00   -1     13493              0.10       1   \n",
       "\n",
       "   timestep                                               topo  \\\n",
       "6       600                                               None   \n",
       "8       600  {'topo_calcs': False, 'total_startup_iters': 500}   \n",
       "18      600  {'topo_calcs': False, 'total_startup_iters': 500}   \n",
       "31      600   {'topo_calcs': True, 'total_startup_iters': 500}   \n",
       "41      600  {'topo_calcs': False, 'total_startup_iters': 500}   \n",
       "\n",
       "    wind_direction  wind_speed  \n",
       "6             90.0      15.000  \n",
       "8            150.0       3.129  \n",
       "18            90.0       4.470  \n",
       "31           225.0       3.129  \n",
       "41            60.0       4.470  "
      ]
     },
     "execution_count": 231,
     "metadata": {},
     "output_type": "execute_result"
    }
   ],
   "source": [
    "print(\"raw length: \",len(df))\n",
    "df = df.dropna(subset=[\"run_end\", \"run_start\", \"sim_time\"])\n",
    "print(\"length after dropna: \",len(df))\n",
    "df = df[ (df['run_binary'] == \"/quicfire/quicfire-v5.2-ucsd-rel\") & (df['threads'] == 1)]\n",
    "print(\"length after filter version and single threading: \",len(df)) \n",
    "df.head()"
   ]
  },
  {
   "cell_type": "code",
   "execution_count": null,
   "id": "54189b88-fc5d-4cf6-8460-4fe0855b04e7",
   "metadata": {},
   "outputs": [],
   "source": []
  },
  {
   "cell_type": "code",
   "execution_count": 232,
   "id": "149b9260-22d4-4e2e-a5f7-17b4a96ceee9",
   "metadata": {},
   "outputs": [],
   "source": [
    "df.to_csv(\"simulation_runs.csv\", mode=\"a\",header=False)"
   ]
  },
  {
   "cell_type": "code",
   "execution_count": null,
   "id": "0e7a100e-ca6a-47be-a517-2ab5889e29eb",
   "metadata": {},
   "outputs": [],
   "source": []
  },
  {
   "cell_type": "markdown",
   "id": "b9b85d75-76c5-42b2-931c-6b91ccab7e3a",
   "metadata": {},
   "source": [
    "# Now read the data and do some stuff!"
   ]
  },
  {
   "cell_type": "code",
   "execution_count": null,
   "id": "6a088cc8-c7e3-457b-9b4f-325f39d3cb88",
   "metadata": {},
   "outputs": [],
   "source": []
  }
 ],
 "metadata": {
  "kernelspec": {
   "display_name": "Python 3 (ipykernel)",
   "language": "python",
   "name": "python3"
  },
  "language_info": {
   "codemirror_mode": {
    "name": "ipython",
    "version": 3
   },
   "file_extension": ".py",
   "mimetype": "text/x-python",
   "name": "python",
   "nbconvert_exporter": "python",
   "pygments_lexer": "ipython3",
   "version": "3.11.4"
  }
 },
 "nbformat": 4,
 "nbformat_minor": 5
}
