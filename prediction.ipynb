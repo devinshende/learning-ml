{
 "cells": [
  {
   "cell_type": "markdown",
   "id": "c3ec80d4-02ff-45f1-8234-773b2525fbae",
   "metadata": {},
   "source": [
    "# Machine Learning Models"
   ]
  },
  {
   "cell_type": "markdown",
   "id": "07600225-977e-43a1-aad4-3ac598cd2365",
   "metadata": {},
   "source": [
    "## Setup"
   ]
  },
  {
   "cell_type": "code",
   "execution_count": 14,
   "id": "d072ac39-53ed-4883-a380-3fea763e85f1",
   "metadata": {},
   "outputs": [],
   "source": [
    "from tqdm import tqdm\n",
    "import pandas as pd\n",
    "import humanize\n",
    "from datetime import datetime, timedelta\n",
    "import time\n",
    "import seaborn as sns\n",
    "import ast\n",
    "from sklearn.preprocessing import MinMaxScaler\n",
    "from sklearn.model_selection import train_test_split"
   ]
  },
  {
   "cell_type": "code",
   "execution_count": 18,
   "id": "da8d1ae1-4b03-4612-b224-2d4f459b41cc",
   "metadata": {},
   "outputs": [
    {
     "data": {
      "text/html": [
       "<div>\n",
       "<style scoped>\n",
       "    .dataframe tbody tr th:only-of-type {\n",
       "        vertical-align: middle;\n",
       "    }\n",
       "\n",
       "    .dataframe tbody tr th {\n",
       "        vertical-align: top;\n",
       "    }\n",
       "\n",
       "    .dataframe thead th {\n",
       "        text-align: right;\n",
       "    }\n",
       "</style>\n",
       "<table border=\"1\" class=\"dataframe\">\n",
       "  <thead>\n",
       "    <tr style=\"text-align: right;\">\n",
       "      <th></th>\n",
       "      <th>runtime</th>\n",
       "      <th>sim_time</th>\n",
       "      <th>surface_moisture</th>\n",
       "      <th>timestep</th>\n",
       "      <th>wind_direction</th>\n",
       "      <th>wind_speed</th>\n",
       "      <th>canopy_moisture</th>\n",
       "      <th>run_max_mem_rss_bytes</th>\n",
       "      <th>area</th>\n",
       "      <th>steps_fire</th>\n",
       "    </tr>\n",
       "  </thead>\n",
       "  <tbody>\n",
       "    <tr>\n",
       "      <th>0</th>\n",
       "      <td>5475</td>\n",
       "      <td>0.050966</td>\n",
       "      <td>0.303030</td>\n",
       "      <td>1.0</td>\n",
       "      <td>0.241645</td>\n",
       "      <td>0.051458</td>\n",
       "      <td>0.833333</td>\n",
       "      <td>0.074582</td>\n",
       "      <td>0.046235</td>\n",
       "      <td>1.0</td>\n",
       "    </tr>\n",
       "    <tr>\n",
       "      <th>1</th>\n",
       "      <td>9737</td>\n",
       "      <td>0.128999</td>\n",
       "      <td>0.151515</td>\n",
       "      <td>1.0</td>\n",
       "      <td>0.305913</td>\n",
       "      <td>0.144583</td>\n",
       "      <td>0.750000</td>\n",
       "      <td>0.100625</td>\n",
       "      <td>0.293084</td>\n",
       "      <td>1.0</td>\n",
       "    </tr>\n",
       "    <tr>\n",
       "      <th>2</th>\n",
       "      <td>501</td>\n",
       "      <td>0.044546</td>\n",
       "      <td>0.363636</td>\n",
       "      <td>1.0</td>\n",
       "      <td>0.768638</td>\n",
       "      <td>0.051458</td>\n",
       "      <td>0.791667</td>\n",
       "      <td>0.005656</td>\n",
       "      <td>0.011231</td>\n",
       "      <td>1.0</td>\n",
       "    </tr>\n",
       "    <tr>\n",
       "      <th>3</th>\n",
       "      <td>4325</td>\n",
       "      <td>0.055708</td>\n",
       "      <td>0.303030</td>\n",
       "      <td>1.0</td>\n",
       "      <td>0.426735</td>\n",
       "      <td>0.083333</td>\n",
       "      <td>0.916667</td>\n",
       "      <td>0.099840</td>\n",
       "      <td>0.131749</td>\n",
       "      <td>1.0</td>\n",
       "    </tr>\n",
       "    <tr>\n",
       "      <th>4</th>\n",
       "      <td>9008</td>\n",
       "      <td>0.170005</td>\n",
       "      <td>0.454545</td>\n",
       "      <td>1.0</td>\n",
       "      <td>1.000000</td>\n",
       "      <td>0.144583</td>\n",
       "      <td>0.833333</td>\n",
       "      <td>0.171107</td>\n",
       "      <td>0.061357</td>\n",
       "      <td>1.0</td>\n",
       "    </tr>\n",
       "  </tbody>\n",
       "</table>\n",
       "</div>"
      ],
      "text/plain": [
       "   runtime  sim_time  surface_moisture  timestep  wind_direction  wind_speed  \\\n",
       "0     5475  0.050966          0.303030       1.0        0.241645    0.051458   \n",
       "1     9737  0.128999          0.151515       1.0        0.305913    0.144583   \n",
       "2      501  0.044546          0.363636       1.0        0.768638    0.051458   \n",
       "3     4325  0.055708          0.303030       1.0        0.426735    0.083333   \n",
       "4     9008  0.170005          0.454545       1.0        1.000000    0.144583   \n",
       "\n",
       "   canopy_moisture  run_max_mem_rss_bytes      area  steps_fire  \n",
       "0         0.833333               0.074582  0.046235         1.0  \n",
       "1         0.750000               0.100625  0.293084         1.0  \n",
       "2         0.791667               0.005656  0.011231         1.0  \n",
       "3         0.916667               0.099840  0.131749         1.0  \n",
       "4         0.833333               0.171107  0.061357         1.0  "
      ]
     },
     "execution_count": 18,
     "metadata": {},
     "output_type": "execute_result"
    }
   ],
   "source": [
    "df = pd.read_csv(\"training_data.csv\")\n",
    "df = df.drop(columns=df.columns[0])\n",
    "df.head()"
   ]
  },
  {
   "cell_type": "markdown",
   "id": "f09d8b2d-1e66-47ac-bd85-b6b6baee5511",
   "metadata": {},
   "source": [
    "Now let's try to make some models and see what we can do!"
   ]
  },
  {
   "cell_type": "markdown",
   "id": "9cc0fa31-6658-48bf-80e6-3ad82d4f6e33",
   "metadata": {},
   "source": [
    "# K Means Clustering"
   ]
  },
  {
   "cell_type": "code",
   "execution_count": null,
   "id": "cd31be65-42eb-4806-8a48-af782eeb7f22",
   "metadata": {},
   "outputs": [],
   "source": []
  },
  {
   "cell_type": "markdown",
   "id": "5a76f5a7-5331-43ee-b8dc-c85a2baf3b47",
   "metadata": {},
   "source": [
    "# Multi Linear Regression"
   ]
  },
  {
   "cell_type": "code",
   "execution_count": null,
   "id": "4a8e69e8-3c8b-4feb-aea4-70c3f64a0e6c",
   "metadata": {},
   "outputs": [],
   "source": []
  }
 ],
 "metadata": {
  "kernelspec": {
   "display_name": "Python 3 (ipykernel)",
   "language": "python",
   "name": "python3"
  },
  "language_info": {
   "codemirror_mode": {
    "name": "ipython",
    "version": 3
   },
   "file_extension": ".py",
   "mimetype": "text/x-python",
   "name": "python",
   "nbconvert_exporter": "python",
   "pygments_lexer": "ipython3",
   "version": "3.11.4"
  }
 },
 "nbformat": 4,
 "nbformat_minor": 5
}
