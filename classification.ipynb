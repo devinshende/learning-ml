{
 "cells": [
  {
   "cell_type": "markdown",
   "id": "4c4f9e88-3552-4e0b-852f-2f2a5ac61f3d",
   "metadata": {},
   "source": [
    "# Classification Prediction"
   ]
  },
  {
   "cell_type": "code",
   "execution_count": 2060,
   "id": "98d47b09-6f42-412c-aa3f-112d7d28fdab",
   "metadata": {},
   "outputs": [],
   "source": [
    "from sklearn.preprocessing import MinMaxScaler\n",
    "from sklearn.model_selection import train_test_split\n",
    "from sklearn.metrics import mean_squared_error, mean_absolute_error, accuracy_score\n",
    "from sklearn.model_selection import train_test_split\n",
    "from sklearn.datasets import make_regression\n",
    "from sklearn.preprocessing import MinMaxScaler\n",
    "from sklearn.preprocessing import StandardScaler\n",
    "\n",
    "from tqdm import tqdm\n",
    "import pandas as pd\n",
    "import humanize\n",
    "from datetime import datetime, timedelta\n",
    "import time\n",
    "import numpy as np\n",
    "import seaborn as sns\n",
    "import ast\n",
    "import matplotlib.pyplot as plt\n",
    "import matplotlib.patches as mpatches"
   ]
  },
  {
   "cell_type": "code",
   "execution_count": 2061,
   "id": "09a99f0b-be05-4d86-a34f-fc93946948ab",
   "metadata": {},
   "outputs": [],
   "source": [
    "# CATEGORIES = [1935, 3307, 11000, 260000]\n",
    "N_BUCKETS = 4"
   ]
  },
  {
   "cell_type": "code",
   "execution_count": 2062,
   "id": "e52cfaf4-6e3d-4619-b984-e7d833ea3925",
   "metadata": {},
   "outputs": [
    {
     "name": "stdout",
     "output_type": "stream",
     "text": [
      "1567\n"
     ]
    }
   ],
   "source": [
    "df = pd.read_csv(\"training_data.csv\")\n",
    "df = df.drop(columns=df.columns[0])\n",
    "df.head()\n",
    "print(len(df))"
   ]
  },
  {
   "cell_type": "markdown",
   "id": "a192058a-6170-4225-b025-e30b4e009bf7",
   "metadata": {},
   "source": [
    "### Create n buckets sp[lit with even amounts of runs"
   ]
  },
  {
   "cell_type": "code",
   "execution_count": 2063,
   "id": "5347790e-50a1-4230-a65e-593a08691e51",
   "metadata": {},
   "outputs": [
    {
     "data": {
      "text/plain": [
       "<Axes: ylabel='Count'>"
      ]
     },
     "execution_count": 2063,
     "metadata": {},
     "output_type": "execute_result"
    },
    {
     "data": {
      "image/png": "[encoded data removed]",
      "text/plain": [
       "<Figure size 640x480 with 1 Axes>"
      ]
     },
     "metadata": {},
     "output_type": "display_data"
    }
   ],
   "source": [
    "sns.histplot(list(sim_times))"
   ]
  },
  {
   "cell_type": "code",
   "execution_count": 2064,
   "id": "90df94f4-33f4-41e7-be6e-4fcdee2f8042",
   "metadata": {},
   "outputs": [],
   "source": [
    "def print_score(pred, true):\n",
    "    print(\"Mean Squared Error:\".ljust(22,\" \"),round(mean_squared_error(true, pred),5))\n",
    "    print(\"Mean Absolute Error:\".ljust(22,\" \"), round(mean_absolute_error(true, pred),5))\n",
    "    \n",
    "def convert(seconds):\n",
    "    return humanize.naturaldelta(timedelta(seconds=seconds))\n",
    "\n",
    "def show_diff(predictions,y_test,n=25):\n",
    "    print(\"PREDICTION\\t RESULT\\t\\t DIFFERENCE\")\n",
    "    print(\"-\"*45)\n",
    "    for i in range(0,n):\n",
    "        print(predictions[i], \"\\t\",y_test[i], \"\\t\", y_test[i] - predictions[i])\n",
    "\n",
    "def show_plots(predictions, y_test, s=4):\n",
    "    plt.subplot(211)\n",
    "    plt.title(\"Test Results and Predictions\")\n",
    "    plt.scatter(range(len(y_test)),y_test,s=s)\n",
    "    plt.xlabel(\"X_test[i]\")\n",
    "    plt.ylabel(\"correct answer\")\n",
    "    plt.subplot(212)\n",
    "    plt.scatter(range(len(predictions)),predictions,s=s)\n",
    "    plt.ylabel(\"predictions\")\n",
    "    plt.show()\n",
    "\n",
    "pred = {}\n",
    "models = {}"
   ]
  },
  {
   "cell_type": "markdown",
   "id": "637f4d7c-6ed9-421b-84cc-5904022e4868",
   "metadata": {},
   "source": [
    "## Remove Outliers from DataFrame\n",
    "any simulations over 26000 seconds is what this just about works out to be"
   ]
  },
  {
   "cell_type": "code",
   "execution_count": 2065,
   "id": "0b895cde-3c1f-4332-8948-c81844c3b97f",
   "metadata": {},
   "outputs": [],
   "source": [
    "import pandas as pd\n",
    "import numpy as np\n",
    "from scipy import stats\n",
    "\n",
    "df = df[(np.abs(stats.zscore(df)) < 3).all(axis=1)]"
   ]
  },
  {
   "cell_type": "code",
   "execution_count": 2066,
   "id": "e263fbd1-0cef-4374-8ad7-7f1683221564",
   "metadata": {},
   "outputs": [
    {
     "data": {
      "text/html": [
       "<div>\n",
       "<style scoped>\n",
       "    .dataframe tbody tr th:only-of-type {\n",
       "        vertical-align: middle;\n",
       "    }\n",
       "\n",
       "    .dataframe tbody tr th {\n",
       "        vertical-align: top;\n",
       "    }\n",
       "\n",
       "    .dataframe thead th {\n",
       "        text-align: right;\n",
       "    }\n",
       "</style>\n",
       "<table border=\"1\" class=\"dataframe\">\n",
       "  <thead>\n",
       "    <tr style=\"text-align: right;\">\n",
       "      <th></th>\n",
       "      <th>runtime</th>\n",
       "      <th>sim_time</th>\n",
       "      <th>surface_moisture</th>\n",
       "      <th>timestep</th>\n",
       "      <th>wind_direction</th>\n",
       "      <th>wind_speed</th>\n",
       "      <th>canopy_moisture</th>\n",
       "      <th>run_max_mem_rss_bytes</th>\n",
       "      <th>area</th>\n",
       "      <th>steps_fire</th>\n",
       "    </tr>\n",
       "  </thead>\n",
       "  <tbody>\n",
       "    <tr>\n",
       "      <th>count</th>\n",
       "      <td>1442.000000</td>\n",
       "      <td>1442.000000</td>\n",
       "      <td>1442.000000</td>\n",
       "      <td>1442.0</td>\n",
       "      <td>1442.000000</td>\n",
       "      <td>1442.000000</td>\n",
       "      <td>1442.000000</td>\n",
       "      <td>1442.000000</td>\n",
       "      <td>1442.000000</td>\n",
       "      <td>1442.0</td>\n",
       "    </tr>\n",
       "    <tr>\n",
       "      <th>mean</th>\n",
       "      <td>6396.604022</td>\n",
       "      <td>0.103108</td>\n",
       "      <td>0.400160</td>\n",
       "      <td>1.0</td>\n",
       "      <td>0.459015</td>\n",
       "      <td>0.154201</td>\n",
       "      <td>0.741823</td>\n",
       "      <td>0.087422</td>\n",
       "      <td>0.098965</td>\n",
       "      <td>1.0</td>\n",
       "    </tr>\n",
       "    <tr>\n",
       "      <th>std</th>\n",
       "      <td>5750.241251</td>\n",
       "      <td>0.067780</td>\n",
       "      <td>0.201488</td>\n",
       "      <td>0.0</td>\n",
       "      <td>0.222123</td>\n",
       "      <td>0.121748</td>\n",
       "      <td>0.167932</td>\n",
       "      <td>0.055161</td>\n",
       "      <td>0.095449</td>\n",
       "      <td>0.0</td>\n",
       "    </tr>\n",
       "    <tr>\n",
       "      <th>min</th>\n",
       "      <td>10.000000</td>\n",
       "      <td>0.041846</td>\n",
       "      <td>0.000000</td>\n",
       "      <td>1.0</td>\n",
       "      <td>0.000000</td>\n",
       "      <td>0.000000</td>\n",
       "      <td>0.250000</td>\n",
       "      <td>0.000000</td>\n",
       "      <td>0.000000</td>\n",
       "      <td>1.0</td>\n",
       "    </tr>\n",
       "    <tr>\n",
       "      <th>25%</th>\n",
       "      <td>1935.000000</td>\n",
       "      <td>0.050966</td>\n",
       "      <td>0.272727</td>\n",
       "      <td>1.0</td>\n",
       "      <td>0.305913</td>\n",
       "      <td>0.051458</td>\n",
       "      <td>0.750000</td>\n",
       "      <td>0.045511</td>\n",
       "      <td>0.061078</td>\n",
       "      <td>1.0</td>\n",
       "    </tr>\n",
       "    <tr>\n",
       "      <th>50%</th>\n",
       "      <td>3307.000000</td>\n",
       "      <td>0.076433</td>\n",
       "      <td>0.303030</td>\n",
       "      <td>1.0</td>\n",
       "      <td>0.383033</td>\n",
       "      <td>0.144583</td>\n",
       "      <td>0.750000</td>\n",
       "      <td>0.100226</td>\n",
       "      <td>0.061357</td>\n",
       "      <td>1.0</td>\n",
       "    </tr>\n",
       "    <tr>\n",
       "      <th>75%</th>\n",
       "      <td>10958.250000</td>\n",
       "      <td>0.128999</td>\n",
       "      <td>0.606061</td>\n",
       "      <td>1.0</td>\n",
       "      <td>0.652956</td>\n",
       "      <td>0.237708</td>\n",
       "      <td>0.833333</td>\n",
       "      <td>0.109813</td>\n",
       "      <td>0.091384</td>\n",
       "      <td>1.0</td>\n",
       "    </tr>\n",
       "    <tr>\n",
       "      <th>max</th>\n",
       "      <td>25866.000000</td>\n",
       "      <td>0.309009</td>\n",
       "      <td>0.909091</td>\n",
       "      <td>1.0</td>\n",
       "      <td>1.000000</td>\n",
       "      <td>0.583333</td>\n",
       "      <td>1.000000</td>\n",
       "      <td>0.248807</td>\n",
       "      <td>0.354496</td>\n",
       "      <td>1.0</td>\n",
       "    </tr>\n",
       "  </tbody>\n",
       "</table>\n",
       "</div>"
      ],
      "text/plain": [
       "            runtime     sim_time  surface_moisture  timestep  wind_direction  \\\n",
       "count   1442.000000  1442.000000       1442.000000    1442.0     1442.000000   \n",
       "mean    6396.604022     0.103108          0.400160       1.0        0.459015   \n",
       "std     5750.241251     0.067780          0.201488       0.0        0.222123   \n",
       "min       10.000000     0.041846          0.000000       1.0        0.000000   \n",
       "25%     1935.000000     0.050966          0.272727       1.0        0.305913   \n",
       "50%     3307.000000     0.076433          0.303030       1.0        0.383033   \n",
       "75%    10958.250000     0.128999          0.606061       1.0        0.652956   \n",
       "max    25866.000000     0.309009          0.909091       1.0        1.000000   \n",
       "\n",
       "        wind_speed  canopy_moisture  run_max_mem_rss_bytes         area  \\\n",
       "count  1442.000000      1442.000000            1442.000000  1442.000000   \n",
       "mean      0.154201         0.741823               0.087422     0.098965   \n",
       "std       0.121748         0.167932               0.055161     0.095449   \n",
       "min       0.000000         0.250000               0.000000     0.000000   \n",
       "25%       0.051458         0.750000               0.045511     0.061078   \n",
       "50%       0.144583         0.750000               0.100226     0.061357   \n",
       "75%       0.237708         0.833333               0.109813     0.091384   \n",
       "max       0.583333         1.000000               0.248807     0.354496   \n",
       "\n",
       "       steps_fire  \n",
       "count      1442.0  \n",
       "mean          1.0  \n",
       "std           0.0  \n",
       "min           1.0  \n",
       "25%           1.0  \n",
       "50%           1.0  \n",
       "75%           1.0  \n",
       "max           1.0  "
      ]
     },
     "execution_count": 2066,
     "metadata": {},
     "output_type": "execute_result"
    }
   ],
   "source": [
    "df.describe()"
   ]
  },
  {
   "cell_type": "code",
   "execution_count": 2067,
   "id": "3a850ecf-0753-4eb1-9c10-ca096ab22472",
   "metadata": {},
   "outputs": [
    {
     "data": {
      "image/png": "[encoded data removed]",
      "text/plain": [
       "<Figure size 640x480 with 1 Axes>"
      ]
     },
     "metadata": {},
     "output_type": "display_data"
    }
   ],
   "source": [
    "plt.title(\"Runtime Distribution After Outliers are Removed\")\n",
    "plt.scatter(range(len(df[\"runtime\"])),df[\"runtime\"],s=4)\n",
    "plt.ylabel(\"Runtime in seconds\")\n",
    "plt.xlabel(\"Data point [i]\")\n",
    "plt.show()"
   ]
  },
  {
   "cell_type": "code",
   "execution_count": 2068,
   "id": "39b3beb2-b6a7-41cd-9176-a8e08e99a87a",
   "metadata": {},
   "outputs": [
    {
     "data": {
      "text/plain": [
       "<Axes: xlabel='runtime', ylabel='Count'>"
      ]
     },
     "execution_count": 2068,
     "metadata": {},
     "output_type": "execute_result"
    },
    {
     "data": {
      "image/png": "[encoded data removed]",
      "text/plain": [
       "<Figure size 640x480 with 1 Axes>"
      ]
     },
     "metadata": {},
     "output_type": "display_data"
    }
   ],
   "source": [
    "sns.histplot(df[\"runtime\"])"
   ]
  },
  {
   "cell_type": "code",
   "execution_count": 2069,
   "id": "33d65458-dd3e-42e0-b2e2-e376b4bb58f2",
   "metadata": {},
   "outputs": [
    {
     "name": "stdout",
     "output_type": "stream",
     "text": [
      "4\n",
      "1442\n",
      "________ 360\n",
      "360\n",
      "720\n",
      "1080\n"
     ]
    },
    {
     "data": {
      "text/plain": [
       "[1934, 3305, 10956, 25866]"
      ]
     },
     "execution_count": 2069,
     "metadata": {},
     "output_type": "execute_result"
    }
   ],
   "source": [
    "sim_times = list(df[\"runtime\"].sort_values())\n",
    "bin_length = len(sim_times) // N_BUCKETS\n",
    "print(N_BUCKETS)\n",
    "print(len(sim_times))\n",
    "print(\"________\",bin_length)\n",
    "CATEGORIES = []\n",
    "current=0\n",
    "for i in range(1,N_BUCKETS):\n",
    "    # CATEGORIES.append(sim_times[bin_length*i])\n",
    "    CATEGORIES.append(sim_times[bin_length+current])\n",
    "    current += bin_length\n",
    "    print(current)\n",
    "CATEGORIES.append(list(sim_times)[-1])\n",
    "CATEGORIES\n",
    "# [1982, 2366, 3038, 789, 25866]"
   ]
  },
  {
   "cell_type": "code",
   "execution_count": 2070,
   "id": "6a858a63-3b74-4b3b-9967-f5073abbdb98",
   "metadata": {},
   "outputs": [],
   "source": [
    "def categorize(seconds):\n",
    "    global CATEGORIES\n",
    "    for i in range(len(CATEGORIES)):\n",
    "        if (seconds <= CATEGORIES[i]):\n",
    "            return i\n",
    "\n",
    "def print_categories():\n",
    "    global CATEGORIES\n",
    "    for i in range(len(CATEGORIES)):\n",
    "        print(f\"{convert(CATEGORIES[i])}   \\t{i}\")"
   ]
  },
  {
   "cell_type": "code",
   "execution_count": 2071,
   "id": "09b9ea3d-5e76-4b6a-9812-71d90df49679",
   "metadata": {},
   "outputs": [
    {
     "data": {
      "text/html": [
       "<div>\n",
       "<style scoped>\n",
       "    .dataframe tbody tr th:only-of-type {\n",
       "        vertical-align: middle;\n",
       "    }\n",
       "\n",
       "    .dataframe tbody tr th {\n",
       "        vertical-align: top;\n",
       "    }\n",
       "\n",
       "    .dataframe thead th {\n",
       "        text-align: right;\n",
       "    }\n",
       "</style>\n",
       "<table border=\"1\" class=\"dataframe\">\n",
       "  <thead>\n",
       "    <tr style=\"text-align: right;\">\n",
       "      <th></th>\n",
       "      <th>runtime</th>\n",
       "      <th>sim_time</th>\n",
       "      <th>surface_moisture</th>\n",
       "      <th>timestep</th>\n",
       "      <th>wind_direction</th>\n",
       "      <th>wind_speed</th>\n",
       "      <th>canopy_moisture</th>\n",
       "      <th>run_max_mem_rss_bytes</th>\n",
       "      <th>area</th>\n",
       "      <th>steps_fire</th>\n",
       "      <th>runtime_ca</th>\n",
       "    </tr>\n",
       "  </thead>\n",
       "  <tbody>\n",
       "    <tr>\n",
       "      <th>0</th>\n",
       "      <td>5475</td>\n",
       "      <td>0.050966</td>\n",
       "      <td>0.303030</td>\n",
       "      <td>1.0</td>\n",
       "      <td>0.241645</td>\n",
       "      <td>0.051458</td>\n",
       "      <td>0.833333</td>\n",
       "      <td>0.074582</td>\n",
       "      <td>0.046235</td>\n",
       "      <td>1.0</td>\n",
       "      <td>2</td>\n",
       "    </tr>\n",
       "    <tr>\n",
       "      <th>1</th>\n",
       "      <td>9737</td>\n",
       "      <td>0.128999</td>\n",
       "      <td>0.151515</td>\n",
       "      <td>1.0</td>\n",
       "      <td>0.305913</td>\n",
       "      <td>0.144583</td>\n",
       "      <td>0.750000</td>\n",
       "      <td>0.100625</td>\n",
       "      <td>0.293084</td>\n",
       "      <td>1.0</td>\n",
       "      <td>2</td>\n",
       "    </tr>\n",
       "    <tr>\n",
       "      <th>2</th>\n",
       "      <td>501</td>\n",
       "      <td>0.044546</td>\n",
       "      <td>0.363636</td>\n",
       "      <td>1.0</td>\n",
       "      <td>0.768638</td>\n",
       "      <td>0.051458</td>\n",
       "      <td>0.791667</td>\n",
       "      <td>0.005656</td>\n",
       "      <td>0.011231</td>\n",
       "      <td>1.0</td>\n",
       "      <td>0</td>\n",
       "    </tr>\n",
       "    <tr>\n",
       "      <th>3</th>\n",
       "      <td>4325</td>\n",
       "      <td>0.055708</td>\n",
       "      <td>0.303030</td>\n",
       "      <td>1.0</td>\n",
       "      <td>0.426735</td>\n",
       "      <td>0.083333</td>\n",
       "      <td>0.916667</td>\n",
       "      <td>0.099840</td>\n",
       "      <td>0.131749</td>\n",
       "      <td>1.0</td>\n",
       "      <td>2</td>\n",
       "    </tr>\n",
       "    <tr>\n",
       "      <th>4</th>\n",
       "      <td>9008</td>\n",
       "      <td>0.170005</td>\n",
       "      <td>0.454545</td>\n",
       "      <td>1.0</td>\n",
       "      <td>1.000000</td>\n",
       "      <td>0.144583</td>\n",
       "      <td>0.833333</td>\n",
       "      <td>0.171107</td>\n",
       "      <td>0.061357</td>\n",
       "      <td>1.0</td>\n",
       "      <td>2</td>\n",
       "    </tr>\n",
       "  </tbody>\n",
       "</table>\n",
       "</div>"
      ],
      "text/plain": [
       "   runtime  sim_time  surface_moisture  timestep  wind_direction  wind_speed  \\\n",
       "0     5475  0.050966          0.303030       1.0        0.241645    0.051458   \n",
       "1     9737  0.128999          0.151515       1.0        0.305913    0.144583   \n",
       "2      501  0.044546          0.363636       1.0        0.768638    0.051458   \n",
       "3     4325  0.055708          0.303030       1.0        0.426735    0.083333   \n",
       "4     9008  0.170005          0.454545       1.0        1.000000    0.144583   \n",
       "\n",
       "   canopy_moisture  run_max_mem_rss_bytes      area  steps_fire  runtime_ca  \n",
       "0         0.833333               0.074582  0.046235         1.0           2  \n",
       "1         0.750000               0.100625  0.293084         1.0           2  \n",
       "2         0.791667               0.005656  0.011231         1.0           0  \n",
       "3         0.916667               0.099840  0.131749         1.0           2  \n",
       "4         0.833333               0.171107  0.061357         1.0           2  "
      ]
     },
     "execution_count": 2071,
     "metadata": {},
     "output_type": "execute_result"
    }
   ],
   "source": [
    "runtime_categories = df.apply(lambda row: categorize(row[\"runtime\"]), axis=1)\n",
    "# df.insert(0, \"runtime_ca\", runtime_categories)\n",
    "df[\"runtime_ca\"] = runtime_categories\n",
    "df.head()"
   ]
  },
  {
   "cell_type": "code",
   "execution_count": 2072,
   "id": "f91018d6-1f34-44c2-ac65-d63fef27153d",
   "metadata": {},
   "outputs": [
    {
     "name": "stdout",
     "output_type": "stream",
     "text": [
      "32 minutes   \t 0\n",
      "55 minutes   \t 1\n",
      "3 hours   \t 2\n",
      "7 hours   \t 3\n",
      "[1934, 3305, 10956, 25866]\n"
     ]
    },
    {
     "data": {
      "text/plain": [
       "runtime_ca\n",
       "0    361\n",
       "3    361\n",
       "2    360\n",
       "1    360\n",
       "Name: count, dtype: int64"
      ]
     },
     "execution_count": 2072,
     "metadata": {},
     "output_type": "execute_result"
    },
    {
     "data": {
      "image/png": "[encoded data removed]",
      "text/plain": [
       "<Figure size 640x480 with 1 Axes>"
      ]
     },
     "metadata": {},
     "output_type": "display_data"
    }
   ],
   "source": [
    "for i in range(len(CATEGORIES)):\n",
    "    print(convert(CATEGORIES[i]),\"  \\t\",i)\n",
    "print(CATEGORIES)\n",
    "df[\"runtime_ca\"].value_counts().plot(kind=\"bar\")\n",
    "df[\"runtime_ca\"].value_counts()"
   ]
  },
  {
   "cell_type": "code",
   "execution_count": 2073,
   "id": "520e08ac-d72f-43e8-a0dc-d1149570c315",
   "metadata": {},
   "outputs": [
    {
     "data": {
      "text/html": [
       "<div>\n",
       "<style scoped>\n",
       "    .dataframe tbody tr th:only-of-type {\n",
       "        vertical-align: middle;\n",
       "    }\n",
       "\n",
       "    .dataframe tbody tr th {\n",
       "        vertical-align: top;\n",
       "    }\n",
       "\n",
       "    .dataframe thead th {\n",
       "        text-align: right;\n",
       "    }\n",
       "</style>\n",
       "<table border=\"1\" class=\"dataframe\">\n",
       "  <thead>\n",
       "    <tr style=\"text-align: right;\">\n",
       "      <th></th>\n",
       "      <th>sim_time</th>\n",
       "      <th>surface_moisture</th>\n",
       "      <th>timestep</th>\n",
       "      <th>wind_direction</th>\n",
       "      <th>wind_speed</th>\n",
       "      <th>canopy_moisture</th>\n",
       "      <th>run_max_mem_rss_bytes</th>\n",
       "      <th>area</th>\n",
       "      <th>steps_fire</th>\n",
       "    </tr>\n",
       "  </thead>\n",
       "  <tbody>\n",
       "    <tr>\n",
       "      <th>1562</th>\n",
       "      <td>0.045317</td>\n",
       "      <td>0.303030</td>\n",
       "      <td>1.0</td>\n",
       "      <td>0.228792</td>\n",
       "      <td>0.051458</td>\n",
       "      <td>0.750000</td>\n",
       "      <td>0.000000</td>\n",
       "      <td>0.000000</td>\n",
       "      <td>1.0</td>\n",
       "    </tr>\n",
       "    <tr>\n",
       "      <th>1563</th>\n",
       "      <td>0.128738</td>\n",
       "      <td>0.151515</td>\n",
       "      <td>1.0</td>\n",
       "      <td>0.460154</td>\n",
       "      <td>0.125958</td>\n",
       "      <td>0.833333</td>\n",
       "      <td>0.100649</td>\n",
       "      <td>0.293084</td>\n",
       "      <td>1.0</td>\n",
       "    </tr>\n",
       "    <tr>\n",
       "      <th>1564</th>\n",
       "      <td>0.044546</td>\n",
       "      <td>0.212121</td>\n",
       "      <td>1.0</td>\n",
       "      <td>0.691517</td>\n",
       "      <td>0.051458</td>\n",
       "      <td>0.791667</td>\n",
       "      <td>0.005659</td>\n",
       "      <td>0.011231</td>\n",
       "      <td>1.0</td>\n",
       "    </tr>\n",
       "    <tr>\n",
       "      <th>1565</th>\n",
       "      <td>0.309009</td>\n",
       "      <td>0.454545</td>\n",
       "      <td>1.0</td>\n",
       "      <td>0.228792</td>\n",
       "      <td>0.144583</td>\n",
       "      <td>0.750000</td>\n",
       "      <td>0.171151</td>\n",
       "      <td>0.061357</td>\n",
       "      <td>1.0</td>\n",
       "    </tr>\n",
       "    <tr>\n",
       "      <th>1566</th>\n",
       "      <td>0.045317</td>\n",
       "      <td>0.303030</td>\n",
       "      <td>1.0</td>\n",
       "      <td>0.305913</td>\n",
       "      <td>0.051458</td>\n",
       "      <td>0.750000</td>\n",
       "      <td>0.000155</td>\n",
       "      <td>0.000000</td>\n",
       "      <td>1.0</td>\n",
       "    </tr>\n",
       "  </tbody>\n",
       "</table>\n",
       "</div>"
      ],
      "text/plain": [
       "      sim_time  surface_moisture  timestep  wind_direction  wind_speed  \\\n",
       "1562  0.045317          0.303030       1.0        0.228792    0.051458   \n",
       "1563  0.128738          0.151515       1.0        0.460154    0.125958   \n",
       "1564  0.044546          0.212121       1.0        0.691517    0.051458   \n",
       "1565  0.309009          0.454545       1.0        0.228792    0.144583   \n",
       "1566  0.045317          0.303030       1.0        0.305913    0.051458   \n",
       "\n",
       "      canopy_moisture  run_max_mem_rss_bytes      area  steps_fire  \n",
       "1562         0.750000               0.000000  0.000000         1.0  \n",
       "1563         0.833333               0.100649  0.293084         1.0  \n",
       "1564         0.791667               0.005659  0.011231         1.0  \n",
       "1565         0.750000               0.171151  0.061357         1.0  \n",
       "1566         0.750000               0.000155  0.000000         1.0  "
      ]
     },
     "execution_count": 2073,
     "metadata": {},
     "output_type": "execute_result"
    }
   ],
   "source": [
    "y = df[\"runtime_ca\"]\n",
    "X = df.drop(columns=[\"runtime\",\"runtime_ca\"])\n",
    "X.tail()"
   ]
  },
  {
   "cell_type": "code",
   "execution_count": 2074,
   "id": "3b76a85d-1cfa-4d6d-bbc0-86635328faf8",
   "metadata": {},
   "outputs": [
    {
     "name": "stdout",
     "output_type": "stream",
     "text": [
      "1153 289 1153 289\n"
     ]
    }
   ],
   "source": [
    "TEST_RATIO = 0.2\n",
    "\n",
    "X_train, X_test, y_train, y_test = train_test_split(X, y, test_size=TEST_RATIO,random_state=42)\n",
    "\n",
    "X_train = np.array(X_train)\n",
    "X_test = np.array(X_test)\n",
    "y_train = np.array(y_train)\n",
    "y_test = np.array(y_test)\n",
    "\n",
    "print(len(X_train), len(X_test), len(y_train), len(y_test))"
   ]
  },
  {
   "cell_type": "markdown",
   "id": "216b8be2-5fa2-4724-9d90-63760caa8a60",
   "metadata": {
    "jp-MarkdownHeadingCollapsed": true
   },
   "source": [
    "# Classification Approaches\n",
    "- K Means clustering\n",
    "- Support Vector Machines\n",
    "- Decision Trees\n",
    "- Logistic Regression\n",
    "- Stochastic Gradient Descent\n",
    "- k Nearest Neighbors\n",
    "- Random Forest\n",
    "- Gradient Boosting\n",
    "- LGBM\n",
    "- XGB\n",
    "- GRBT\n",
    "\n",
    "Ensemble Methods\n",
    "- Voting Classifier\n"
   ]
  },
  {
   "cell_type": "markdown",
   "id": "0c4f8223-d89f-4cc9-b5e9-f9e0af761217",
   "metadata": {},
   "source": [
    "# K Means Clustering"
   ]
  },
  {
   "cell_type": "code",
   "execution_count": 2075,
   "id": "8b2da5be-8b35-4b57-826c-98b51d2f9a55",
   "metadata": {},
   "outputs": [],
   "source": [
    "from sklearn.cluster import KMeans\n",
    "\n",
    "# ------ experiment with cluster amount ---------- #\n",
    "n_clusters = len(CATEGORIES)\n",
    "# ------ experiment with cluster amount ---------- #\n",
    "\n",
    "model = KMeans(n_clusters=n_clusters, n_init=10)\n",
    "model = model.fit(X_train,y_train)"
   ]
  },
  {
   "cell_type": "code",
   "execution_count": 2076,
   "id": "92f968df-9f7a-42ce-ae2b-5fc74137b850",
   "metadata": {},
   "outputs": [],
   "source": [
    "pred[\"Kmeans\"] = model.predict(X_test)\n",
    "models[\"Kmeans\"] = model"
   ]
  },
  {
   "cell_type": "code",
   "execution_count": 2077,
   "id": "ae605f39-6133-4a0e-a117-31a595b0e69f",
   "metadata": {},
   "outputs": [
    {
     "name": "stdout",
     "output_type": "stream",
     "text": [
      "Mean Squared Error:    2.97924\n",
      "Mean Absolute Error:   1.42907\n"
     ]
    }
   ],
   "source": [
    "print_score(pred[\"Kmeans\"], y_test)"
   ]
  },
  {
   "cell_type": "code",
   "execution_count": 2078,
   "id": "42b07ffe-97ae-4aae-aad9-0c00ed4b1add",
   "metadata": {},
   "outputs": [
    {
     "data": {
      "text/plain": [
       "0.20761245674740483"
      ]
     },
     "execution_count": 2078,
     "metadata": {},
     "output_type": "execute_result"
    }
   ],
   "source": [
    "accuracy_score(y_true=y_test,y_pred=pred[\"Kmeans\"])"
   ]
  },
  {
   "cell_type": "markdown",
   "id": "0c5b0eea-7668-4faa-91d7-0c6b5e7d5261",
   "metadata": {},
   "source": [
    "15% is very bad accuracy, something must be wrong with my approach to using K means here but I am not sure so I will try another model. Could be an input data problem but I am skeptical of that"
   ]
  },
  {
   "cell_type": "markdown",
   "id": "46f3eba8-8ab2-4b73-a0d9-ab034552c097",
   "metadata": {},
   "source": [
    "# SVM"
   ]
  },
  {
   "cell_type": "code",
   "execution_count": 2079,
   "id": "13dbbf2c-feb2-4ee8-9e08-4fa9ab8d62ff",
   "metadata": {},
   "outputs": [],
   "source": [
    "from sklearn.svm import SVC\n",
    "model = SVC(kernel='rbf')\n",
    "model = model.fit(X_train,y_train)"
   ]
  },
  {
   "cell_type": "code",
   "execution_count": 2080,
   "id": "42b3f036-a210-4cd7-a01d-ff36476864fb",
   "metadata": {},
   "outputs": [
    {
     "name": "stderr",
     "output_type": "stream",
     "text": [
      "/root/.local/lib/python3.8/site-packages/IPython/core/displayhook.py:281: UserWarning: Output cache limit (currently 1000 entries) hit.\n",
      "Flushing oldest 200 entries.\n",
      "  warn('Output cache limit (currently {sz} entries) hit.\\n'\n"
     ]
    },
    {
     "data": {
      "text/plain": [
       "0.6539792387543253"
      ]
     },
     "execution_count": 2080,
     "metadata": {},
     "output_type": "execute_result"
    }
   ],
   "source": [
    "pred[\"SVM\"] = model.predict(X_test)\n",
    "models[\"SVM\"] = model\n",
    "accuracy_score(y_true=y_test,y_pred=pred[\"SVM\"])"
   ]
  },
  {
   "cell_type": "markdown",
   "id": "9198b0bd-b863-46b0-a25b-aa1ba5fe40ef",
   "metadata": {},
   "source": [
    "# Decision Tree Classifier"
   ]
  },
  {
   "cell_type": "code",
   "execution_count": 2081,
   "id": "02d97bc1-da2d-423f-9600-1ce350fe0ff3",
   "metadata": {},
   "outputs": [],
   "source": [
    "from sklearn.tree import DecisionTreeClassifier\n",
    "model = DecisionTreeClassifier()\n",
    "model = model.fit(X_train, y_train)"
   ]
  },
  {
   "cell_type": "code",
   "execution_count": 2082,
   "id": "efd8826f-7e0c-45e2-b85a-42fa44708d3b",
   "metadata": {},
   "outputs": [
    {
     "data": {
      "text/plain": [
       "0.6505190311418685"
      ]
     },
     "execution_count": 2082,
     "metadata": {},
     "output_type": "execute_result"
    }
   ],
   "source": [
    "pred[\"DecisionTree\"] = model.predict(X_test)\n",
    "models[\"DecisionTree\"] = model\n",
    "accuracy_score(y_true=y_test,y_pred=pred[\"DecisionTree\"])"
   ]
  },
  {
   "cell_type": "markdown",
   "id": "00e76bda-09ef-4265-b4bd-45dc2cd08758",
   "metadata": {},
   "source": [
    "# Logistic Regression"
   ]
  },
  {
   "cell_type": "code",
   "execution_count": 2083,
   "id": "23cf2d57-1e07-4117-ad91-9f7a15f59f23",
   "metadata": {},
   "outputs": [],
   "source": [
    "from sklearn.linear_model import LogisticRegression\n",
    "model = LogisticRegression(max_iter=400)\n",
    "model = model.fit(X_train, y_train)"
   ]
  },
  {
   "cell_type": "code",
   "execution_count": 2084,
   "id": "ce24f917-342c-4024-86ca-1d3ba7dcec15",
   "metadata": {},
   "outputs": [
    {
     "data": {
      "text/plain": [
       "0.5778546712802768"
      ]
     },
     "execution_count": 2084,
     "metadata": {},
     "output_type": "execute_result"
    }
   ],
   "source": [
    "pred[\"LogisticRegression\"] = model.predict(X_test)\n",
    "models[\"LogisticRegression\"] = model\n",
    "accuracy_score(y_true=y_test,y_pred=pred[\"LogisticRegression\"])"
   ]
  },
  {
   "cell_type": "markdown",
   "id": "cabd7aa9-48aa-4108-a717-a37d133a2f84",
   "metadata": {},
   "source": [
    "# Stochastic Gradient Descent"
   ]
  },
  {
   "cell_type": "code",
   "execution_count": 2085,
   "id": "70e22a9c-7f50-4cb0-9731-f17eb3ecbe82",
   "metadata": {},
   "outputs": [],
   "source": [
    "from sklearn.linear_model import SGDClassifier\n",
    "model = SGDClassifier()\n",
    "model = model.fit(X_train, y_train)"
   ]
  },
  {
   "cell_type": "code",
   "execution_count": 2086,
   "id": "6b479ed1-770b-475f-bd6a-fbdbdb8f067b",
   "metadata": {},
   "outputs": [
    {
     "data": {
      "text/plain": [
       "0.6193771626297578"
      ]
     },
     "execution_count": 2086,
     "metadata": {},
     "output_type": "execute_result"
    }
   ],
   "source": [
    "pred[\"SGD\"] = model.predict(X_test)\n",
    "models[\"SGD\"] = model\n",
    "accuracy_score(y_true=y_test,y_pred=pred[\"SGD\"])"
   ]
  },
  {
   "cell_type": "markdown",
   "id": "e0cf1d89-0213-4da1-a5d1-7033c06a9458",
   "metadata": {},
   "source": [
    "# K Nearest Neighbor"
   ]
  },
  {
   "cell_type": "code",
   "execution_count": 2087,
   "id": "792d1c8f-c9c4-4dd3-96f3-52c6a762b957",
   "metadata": {},
   "outputs": [],
   "source": [
    "from sklearn.neighbors import KNeighborsClassifier\n",
    "model = KNeighborsClassifier(n_neighbors=len(CATEGORIES))\n",
    "model = model.fit(X_train, y_train)"
   ]
  },
  {
   "cell_type": "code",
   "execution_count": 2088,
   "id": "97ca0a7f-85bc-47ec-b554-95f838c9f64c",
   "metadata": {},
   "outputs": [
    {
     "data": {
      "text/plain": [
       "0.6539792387543253"
      ]
     },
     "execution_count": 2088,
     "metadata": {},
     "output_type": "execute_result"
    }
   ],
   "source": [
    "pred[\"kNN\"] = model.predict(X_test)\n",
    "models[\"kNN\"] = model\n",
    "accuracy_score(y_true=y_test,y_pred=pred[\"kNN\"])"
   ]
  },
  {
   "cell_type": "markdown",
   "id": "78696473-c554-42c2-a042-0c8acf59da3f",
   "metadata": {},
   "source": [
    "# Random Forest\n"
   ]
  },
  {
   "cell_type": "code",
   "execution_count": 2089,
   "id": "c6035dd4-5629-473e-9865-957b27f7f6b8",
   "metadata": {},
   "outputs": [],
   "source": [
    "from sklearn.ensemble import RandomForestClassifier\n",
    "\n",
    "model = RandomForestClassifier(n_estimators=110, max_features='sqrt',max_depth=7)\n",
    "model = model.fit(X_train, y_train)"
   ]
  },
  {
   "cell_type": "code",
   "execution_count": 2090,
   "id": "d0c1c583-34bd-452c-9485-7ad1eadb54bd",
   "metadata": {},
   "outputs": [
    {
     "data": {
      "text/plain": [
       "0.7335640138408305"
      ]
     },
     "execution_count": 2090,
     "metadata": {},
     "output_type": "execute_result"
    }
   ],
   "source": [
    "pred[\"RandomForest\"] = model.predict(X_test)\n",
    "models[\"RandomForest\"] = model\n",
    "accuracy_score(y_true=y_test,y_pred=pred[\"RandomForest\"])"
   ]
  },
  {
   "cell_type": "markdown",
   "id": "7ee5d5e8-5286-44fb-bdd7-cd2a33c2ac0d",
   "metadata": {},
   "source": [
    "# Gradient Boosting"
   ]
  },
  {
   "cell_type": "code",
   "execution_count": 2091,
   "id": "5952d386-d1e5-478f-9376-0102a7936147",
   "metadata": {},
   "outputs": [],
   "source": [
    "from sklearn.ensemble import GradientBoostingClassifier\n",
    "\n",
    "model = GradientBoostingClassifier(max_depth=3, learning_rate=0.1, n_estimators = 35)\n",
    "model = model.fit(X_train, y_train)"
   ]
  },
  {
   "cell_type": "code",
   "execution_count": 2092,
   "id": "55a62339-41c6-458a-a5b6-e7fac2321ffa",
   "metadata": {},
   "outputs": [
    {
     "data": {
      "text/plain": [
       "1"
      ]
     },
     "execution_count": 2092,
     "metadata": {},
     "output_type": "execute_result"
    }
   ],
   "source": [
    "y_test[60]"
   ]
  },
  {
   "cell_type": "code",
   "execution_count": 2093,
   "id": "5eb1f421-0b4e-4fa6-b3b7-d2e7bf21f1bd",
   "metadata": {},
   "outputs": [
    {
     "data": {
      "text/plain": [
       "array([1])"
      ]
     },
     "execution_count": 2093,
     "metadata": {},
     "output_type": "execute_result"
    }
   ],
   "source": [
    "model.predict([X_test[60]])"
   ]
  },
  {
   "cell_type": "code",
   "execution_count": 2094,
   "id": "13c28f04-e05a-405f-a246-a0b18bad051a",
   "metadata": {},
   "outputs": [
    {
     "data": {
      "text/plain": [
       "0.726643598615917"
      ]
     },
     "execution_count": 2094,
     "metadata": {},
     "output_type": "execute_result"
    }
   ],
   "source": [
    "pred[\"GradientBoosting\"] = model.predict(X_test)\n",
    "models[\"GradientBoosting\"] = model\n",
    "\n",
    "accuracy_score(y_true=y_test,y_pred=pred[\"GradientBoosting\"])"
   ]
  },
  {
   "cell_type": "markdown",
   "id": "1f6d3c97-955a-4707-b71b-163592b12fd6",
   "metadata": {},
   "source": [
    "# LGBM"
   ]
  },
  {
   "cell_type": "code",
   "execution_count": 2095,
   "id": "49dae77e-d256-4412-962c-493e4097a083",
   "metadata": {},
   "outputs": [],
   "source": [
    "# !pip3 install --user lightgbm"
   ]
  },
  {
   "cell_type": "code",
   "execution_count": 2096,
   "id": "70a5889e-5c29-4aa9-a53d-7f2b62fb8c56",
   "metadata": {},
   "outputs": [
    {
     "name": "stdout",
     "output_type": "stream",
     "text": [
      "[LightGBM] [Warning] Auto-choosing col-wise multi-threading, the overhead of testing was 0.000194 seconds.\n",
      "You can set `force_col_wise=true` to remove the overhead.\n",
      "[LightGBM] [Info] Total Bins 406\n",
      "[LightGBM] [Info] Number of data points in the train set: 1153, number of used features: 7\n",
      "[LightGBM] [Info] Start training from score -1.359763\n",
      "[LightGBM] [Info] Start training from score -1.418911\n",
      "[LightGBM] [Info] Start training from score -1.390640\n",
      "[LightGBM] [Info] Start training from score -1.376799\n",
      "[LightGBM] [Warning] No further splits with positive gain, best gain: -inf\n",
      "[LightGBM] [Warning] No further splits with positive gain, best gain: -inf\n",
      "[LightGBM] [Warning] No further splits with positive gain, best gain: -inf\n"
     ]
    }
   ],
   "source": [
    "from lightgbm import LGBMClassifier\n",
    "# ----------------- #\n",
    "n = 100\n",
    "# ----------------- #\n",
    "model = LGBMClassifier(n_estimators = n)\n",
    "model = model.fit(X_train, y_train)"
   ]
  },
  {
   "cell_type": "code",
   "execution_count": 2097,
   "id": "9482d098-74e1-4eb5-a9bb-c15e3c9a6a75",
   "metadata": {},
   "outputs": [
    {
     "data": {
      "text/plain": [
       "0.6816608996539792"
      ]
     },
     "execution_count": 2097,
     "metadata": {},
     "output_type": "execute_result"
    }
   ],
   "source": [
    "pred[\"LGBM\"] = model.predict(X_test)\n",
    "models[\"LGBM\"] = model\n",
    "\n",
    "accuracy_score(y_true=y_test,y_pred=pred[\"LGBM\"])"
   ]
  },
  {
   "cell_type": "markdown",
   "id": "b0be35c7-f82e-4889-958e-2aaa861e77d1",
   "metadata": {},
   "source": [
    "# XGB"
   ]
  },
  {
   "cell_type": "code",
   "execution_count": 2098,
   "id": "aabec3ad-5f88-4393-8842-495bdfaf7463",
   "metadata": {},
   "outputs": [],
   "source": [
    "# !pip3 install --user xgboost"
   ]
  },
  {
   "cell_type": "code",
   "execution_count": 2099,
   "id": "6ad3b9f1-a0f0-4e4d-bd59-b16218c824ff",
   "metadata": {},
   "outputs": [],
   "source": [
    "from xgboost.sklearn import XGBClassifier\n",
    "# ----------------- #\n",
    "n = 100\n",
    "# ----------------- #\n",
    "model = XGBClassifier(n_estimators = n)\n",
    "model = model.fit(X_train, y_train)"
   ]
  },
  {
   "cell_type": "code",
   "execution_count": 2100,
   "id": "1540f928-6852-4352-88be-27914b427cef",
   "metadata": {},
   "outputs": [
    {
     "data": {
      "text/plain": [
       "0.6851211072664359"
      ]
     },
     "execution_count": 2100,
     "metadata": {},
     "output_type": "execute_result"
    }
   ],
   "source": [
    "pred[\"XGB\"] = model.predict(X_test)\n",
    "models[\"XGB\"] = model\n",
    "\n",
    "accuracy_score(y_true=y_test,y_pred=pred[\"XGB\"])"
   ]
  },
  {
   "cell_type": "markdown",
   "id": "85983e32-8d06-4314-a67a-47dafcd3a0f3",
   "metadata": {},
   "source": [
    "# Naive Bayes"
   ]
  },
  {
   "cell_type": "markdown",
   "id": "3399669c-b493-4a0a-aec4-70f5f2060a60",
   "metadata": {},
   "source": [
    "Naive Bayes model might help"
   ]
  },
  {
   "cell_type": "code",
   "execution_count": 2101,
   "id": "844a4cf1-47d3-46b0-8811-23134ce14dbf",
   "metadata": {},
   "outputs": [],
   "source": [
    "from sklearn.naive_bayes import GaussianNB\n",
    "\n",
    "model = GaussianNB()\n",
    "model = model.fit(X_train, y_train)"
   ]
  },
  {
   "cell_type": "code",
   "execution_count": 2102,
   "id": "80591ede-78e0-4bc4-9865-3dfbfeef4a2d",
   "metadata": {},
   "outputs": [
    {
     "data": {
      "text/plain": [
       "0.615916955017301"
      ]
     },
     "execution_count": 2102,
     "metadata": {},
     "output_type": "execute_result"
    }
   ],
   "source": [
    "pred[\"GaussianNB\"] = model.predict(X_test)\n",
    "models[\"GaussinNB\"] = model\n",
    "\n",
    "accuracy_score(y_true=y_test,y_pred=pred[\"GaussianNB\"])"
   ]
  },
  {
   "cell_type": "markdown",
   "id": "21ea8885-e6c6-4c58-9bb2-fae3fe0f5469",
   "metadata": {},
   "source": [
    "# Extra Tree Classifier"
   ]
  },
  {
   "cell_type": "code",
   "execution_count": 2103,
   "id": "103ba866-670b-4df3-8b31-8686cdb65d00",
   "metadata": {},
   "outputs": [],
   "source": [
    "from sklearn.tree import ExtraTreeClassifier\n",
    "\n",
    "model = ExtraTreeClassifier(random_state=0)\n",
    "model = model.fit(X_train, y_train)"
   ]
  },
  {
   "cell_type": "code",
   "execution_count": 2104,
   "id": "334b8c8d-5c30-4d9e-916d-f9a0a8dc1a9a",
   "metadata": {},
   "outputs": [
    {
     "data": {
      "text/plain": [
       "0.657439446366782"
      ]
     },
     "execution_count": 2104,
     "metadata": {},
     "output_type": "execute_result"
    }
   ],
   "source": [
    "pred[\"Extra tree\"] = model.predict(X_test)\n",
    "models[\"Extra tree\"] = model\n",
    "\n",
    "accuracy_score(y_true=y_test,y_pred=pred[\"Extra tree\"])"
   ]
  },
  {
   "cell_type": "markdown",
   "id": "f1a4493d-5057-4afd-9591-001959afc99c",
   "metadata": {},
   "source": [
    "# Scikit-learn's neural nets"
   ]
  },
  {
   "cell_type": "markdown",
   "id": "e54c4726-cddf-4200-8933-cd041eb6c0cd",
   "metadata": {},
   "source": [
    "## Multi Layer Perceptron"
   ]
  },
  {
   "cell_type": "code",
   "execution_count": 2105,
   "id": "275f1a56-bb31-4312-8554-2fa262821461",
   "metadata": {},
   "outputs": [
    {
     "name": "stderr",
     "output_type": "stream",
     "text": [
      "/root/.local/lib/python3.8/site-packages/sklearn/neural_network/_multilayer_perceptron.py:546: ConvergenceWarning: lbfgs failed to converge (status=1):\n",
      "STOP: TOTAL NO. of ITERATIONS REACHED LIMIT.\n",
      "\n",
      "Increase the number of iterations (max_iter) or scale the data as shown in:\n",
      "    https://scikit-learn.org/stable/modules/preprocessing.html\n",
      "  self.n_iter_ = _check_optimize_result(\"lbfgs\", opt_res, self.max_iter)\n"
     ]
    },
    {
     "data": {
      "text/html": [
       "<style>#sk-container-id-154 {color: black;}#sk-container-id-154 pre{padding: 0;}#sk-container-id-154 div.sk-toggleable {background-color: white;}#sk-container-id-154 label.sk-toggleable__label {cursor: pointer;display: block;width: 100%;margin-bottom: 0;padding: 0.3em;box-sizing: border-box;text-align: center;}#sk-container-id-154 label.sk-toggleable__label-arrow:before {content: \"▸\";float: left;margin-right: 0.25em;color: #696969;}#sk-container-id-154 label.sk-toggleable__label-arrow:hover:before {color: black;}#sk-container-id-154 div.sk-estimator:hover label.sk-toggleable__label-arrow:before {color: black;}#sk-container-id-154 div.sk-toggleable__content {max-height: 0;max-width: 0;overflow: hidden;text-align: left;background-color: #f0f8ff;}#sk-container-id-154 div.sk-toggleable__content pre {margin: 0.2em;color: black;border-radius: 0.25em;background-color: #f0f8ff;}#sk-container-id-154 input.sk-toggleable__control:checked~div.sk-toggleable__content {max-height: 200px;max-width: 100%;overflow: auto;}#sk-container-id-154 input.sk-toggleable__control:checked~label.sk-toggleable__label-arrow:before {content: \"▾\";}#sk-container-id-154 div.sk-estimator input.sk-toggleable__control:checked~label.sk-toggleable__label {background-color: #d4ebff;}#sk-container-id-154 div.sk-label input.sk-toggleable__control:checked~label.sk-toggleable__label {background-color: #d4ebff;}#sk-container-id-154 input.sk-hidden--visually {border: 0;clip: rect(1px 1px 1px 1px);clip: rect(1px, 1px, 1px, 1px);height: 1px;margin: -1px;overflow: hidden;padding: 0;position: absolute;width: 1px;}#sk-container-id-154 div.sk-estimator {font-family: monospace;background-color: #f0f8ff;border: 1px dotted black;border-radius: 0.25em;box-sizing: border-box;margin-bottom: 0.5em;}#sk-container-id-154 div.sk-estimator:hover {background-color: #d4ebff;}#sk-container-id-154 div.sk-parallel-item::after {content: \"\";width: 100%;border-bottom: 1px solid gray;flex-grow: 1;}#sk-container-id-154 div.sk-label:hover label.sk-toggleable__label {background-color: #d4ebff;}#sk-container-id-154 div.sk-serial::before {content: \"\";position: absolute;border-left: 1px solid gray;box-sizing: border-box;top: 0;bottom: 0;left: 50%;z-index: 0;}#sk-container-id-154 div.sk-serial {display: flex;flex-direction: column;align-items: center;background-color: white;padding-right: 0.2em;padding-left: 0.2em;position: relative;}#sk-container-id-154 div.sk-item {position: relative;z-index: 1;}#sk-container-id-154 div.sk-parallel {display: flex;align-items: stretch;justify-content: center;background-color: white;position: relative;}#sk-container-id-154 div.sk-item::before, #sk-container-id-154 div.sk-parallel-item::before {content: \"\";position: absolute;border-left: 1px solid gray;box-sizing: border-box;top: 0;bottom: 0;left: 50%;z-index: -1;}#sk-container-id-154 div.sk-parallel-item {display: flex;flex-direction: column;z-index: 1;position: relative;background-color: white;}#sk-container-id-154 div.sk-parallel-item:first-child::after {align-self: flex-end;width: 50%;}#sk-container-id-154 div.sk-parallel-item:last-child::after {align-self: flex-start;width: 50%;}#sk-container-id-154 div.sk-parallel-item:only-child::after {width: 0;}#sk-container-id-154 div.sk-dashed-wrapped {border: 1px dashed gray;margin: 0 0.4em 0.5em 0.4em;box-sizing: border-box;padding-bottom: 0.4em;background-color: white;}#sk-container-id-154 div.sk-label label {font-family: monospace;font-weight: bold;display: inline-block;line-height: 1.2em;}#sk-container-id-154 div.sk-label-container {text-align: center;}#sk-container-id-154 div.sk-container {/* jupyter's `normalize.less` sets `[hidden] { display: none; }` but bootstrap.min.css set `[hidden] { display: none !important; }` so we also need the `!important` here to be able to override the default hidden behavior on the sphinx rendered scikit-learn.org. See: https://github.com/scikit-learn/scikit-learn/issues/21755 */display: inline-block !important;position: relative;}#sk-container-id-154 div.sk-text-repr-fallback {display: none;}</style><div id=\"sk-container-id-154\" class=\"sk-top-container\"><div class=\"sk-text-repr-fallback\"><pre>MLPClassifier(alpha=1e-05, solver=&#x27;lbfgs&#x27;)</pre><b>In a Jupyter environment, please rerun this cell to show the HTML representation or trust the notebook. <br />On GitHub, the HTML representation is unable to render, please try loading this page with nbviewer.org.</b></div><div class=\"sk-container\" hidden><div class=\"sk-item\"><div class=\"sk-estimator sk-toggleable\"><input class=\"sk-toggleable__control sk-hidden--visually\" id=\"sk-estimator-id-541\" type=\"checkbox\" checked><label for=\"sk-estimator-id-541\" class=\"sk-toggleable__label sk-toggleable__label-arrow\">MLPClassifier</label><div class=\"sk-toggleable__content\"><pre>MLPClassifier(alpha=1e-05, solver=&#x27;lbfgs&#x27;)</pre></div></div></div></div></div>"
      ],
      "text/plain": [
       "MLPClassifier(alpha=1e-05, solver='lbfgs')"
      ]
     },
     "execution_count": 2105,
     "metadata": {},
     "output_type": "execute_result"
    }
   ],
   "source": [
    "from sklearn.neural_network import MLPClassifier\n",
    "\n",
    "model = MLPClassifier(solver='lbfgs', alpha=1e-5)\n",
    "\n",
    "model.fit(X_train, y_train)"
   ]
  },
  {
   "cell_type": "code",
   "execution_count": 2106,
   "id": "ff75306f-5a08-48af-9a52-0573bd1bd29b",
   "metadata": {},
   "outputs": [
    {
     "data": {
      "text/plain": [
       "0.6505190311418685"
      ]
     },
     "execution_count": 2106,
     "metadata": {},
     "output_type": "execute_result"
    }
   ],
   "source": [
    "pred[\"MLP\"] = model.predict(X_test)\n",
    "models[\"MLP\"] = model\n",
    "\n",
    "accuracy_score(y_true=y_test,y_pred=pred[\"MLP\"])"
   ]
  },
  {
   "cell_type": "markdown",
   "id": "7fdfb3f4-0fdb-4f24-98d4-1e65d688d18a",
   "metadata": {},
   "source": [
    "# Gaussian Process"
   ]
  },
  {
   "cell_type": "code",
   "execution_count": 2109,
   "id": "d7a8d4fe-0137-4f2a-8241-604362802f72",
   "metadata": {},
   "outputs": [
    {
     "data": {
      "text/html": [
       "<style>#sk-container-id-155 {color: black;}#sk-container-id-155 pre{padding: 0;}#sk-container-id-155 div.sk-toggleable {background-color: white;}#sk-container-id-155 label.sk-toggleable__label {cursor: pointer;display: block;width: 100%;margin-bottom: 0;padding: 0.3em;box-sizing: border-box;text-align: center;}#sk-container-id-155 label.sk-toggleable__label-arrow:before {content: \"▸\";float: left;margin-right: 0.25em;color: #696969;}#sk-container-id-155 label.sk-toggleable__label-arrow:hover:before {color: black;}#sk-container-id-155 div.sk-estimator:hover label.sk-toggleable__label-arrow:before {color: black;}#sk-container-id-155 div.sk-toggleable__content {max-height: 0;max-width: 0;overflow: hidden;text-align: left;background-color: #f0f8ff;}#sk-container-id-155 div.sk-toggleable__content pre {margin: 0.2em;color: black;border-radius: 0.25em;background-color: #f0f8ff;}#sk-container-id-155 input.sk-toggleable__control:checked~div.sk-toggleable__content {max-height: 200px;max-width: 100%;overflow: auto;}#sk-container-id-155 input.sk-toggleable__control:checked~label.sk-toggleable__label-arrow:before {content: \"▾\";}#sk-container-id-155 div.sk-estimator input.sk-toggleable__control:checked~label.sk-toggleable__label {background-color: #d4ebff;}#sk-container-id-155 div.sk-label input.sk-toggleable__control:checked~label.sk-toggleable__label {background-color: #d4ebff;}#sk-container-id-155 input.sk-hidden--visually {border: 0;clip: rect(1px 1px 1px 1px);clip: rect(1px, 1px, 1px, 1px);height: 1px;margin: -1px;overflow: hidden;padding: 0;position: absolute;width: 1px;}#sk-container-id-155 div.sk-estimator {font-family: monospace;background-color: #f0f8ff;border: 1px dotted black;border-radius: 0.25em;box-sizing: border-box;margin-bottom: 0.5em;}#sk-container-id-155 div.sk-estimator:hover {background-color: #d4ebff;}#sk-container-id-155 div.sk-parallel-item::after {content: \"\";width: 100%;border-bottom: 1px solid gray;flex-grow: 1;}#sk-container-id-155 div.sk-label:hover label.sk-toggleable__label {background-color: #d4ebff;}#sk-container-id-155 div.sk-serial::before {content: \"\";position: absolute;border-left: 1px solid gray;box-sizing: border-box;top: 0;bottom: 0;left: 50%;z-index: 0;}#sk-container-id-155 div.sk-serial {display: flex;flex-direction: column;align-items: center;background-color: white;padding-right: 0.2em;padding-left: 0.2em;position: relative;}#sk-container-id-155 div.sk-item {position: relative;z-index: 1;}#sk-container-id-155 div.sk-parallel {display: flex;align-items: stretch;justify-content: center;background-color: white;position: relative;}#sk-container-id-155 div.sk-item::before, #sk-container-id-155 div.sk-parallel-item::before {content: \"\";position: absolute;border-left: 1px solid gray;box-sizing: border-box;top: 0;bottom: 0;left: 50%;z-index: -1;}#sk-container-id-155 div.sk-parallel-item {display: flex;flex-direction: column;z-index: 1;position: relative;background-color: white;}#sk-container-id-155 div.sk-parallel-item:first-child::after {align-self: flex-end;width: 50%;}#sk-container-id-155 div.sk-parallel-item:last-child::after {align-self: flex-start;width: 50%;}#sk-container-id-155 div.sk-parallel-item:only-child::after {width: 0;}#sk-container-id-155 div.sk-dashed-wrapped {border: 1px dashed gray;margin: 0 0.4em 0.5em 0.4em;box-sizing: border-box;padding-bottom: 0.4em;background-color: white;}#sk-container-id-155 div.sk-label label {font-family: monospace;font-weight: bold;display: inline-block;line-height: 1.2em;}#sk-container-id-155 div.sk-label-container {text-align: center;}#sk-container-id-155 div.sk-container {/* jupyter's `normalize.less` sets `[hidden] { display: none; }` but bootstrap.min.css set `[hidden] { display: none !important; }` so we also need the `!important` here to be able to override the default hidden behavior on the sphinx rendered scikit-learn.org. See: https://github.com/scikit-learn/scikit-learn/issues/21755 */display: inline-block !important;position: relative;}#sk-container-id-155 div.sk-text-repr-fallback {display: none;}</style><div id=\"sk-container-id-155\" class=\"sk-top-container\"><div class=\"sk-text-repr-fallback\"><pre>GaussianProcessClassifier(kernel=1**2 * RBF(length_scale=1))</pre><b>In a Jupyter environment, please rerun this cell to show the HTML representation or trust the notebook. <br />On GitHub, the HTML representation is unable to render, please try loading this page with nbviewer.org.</b></div><div class=\"sk-container\" hidden><div class=\"sk-item\"><div class=\"sk-estimator sk-toggleable\"><input class=\"sk-toggleable__control sk-hidden--visually\" id=\"sk-estimator-id-542\" type=\"checkbox\" checked><label for=\"sk-estimator-id-542\" class=\"sk-toggleable__label sk-toggleable__label-arrow\">GaussianProcessClassifier</label><div class=\"sk-toggleable__content\"><pre>GaussianProcessClassifier(kernel=1**2 * RBF(length_scale=1))</pre></div></div></div></div></div>"
      ],
      "text/plain": [
       "GaussianProcessClassifier(kernel=1**2 * RBF(length_scale=1))"
      ]
     },
     "execution_count": 2109,
     "metadata": {},
     "output_type": "execute_result"
    }
   ],
   "source": [
    "from sklearn.gaussian_process import GaussianProcessClassifier\n",
    "from sklearn.gaussian_process.kernels import RBF\n",
    "\n",
    "kernel = 1.0 * RBF(1.0)\n",
    "model = GaussianProcessClassifier(kernel=kernel)\n",
    "                          \n",
    "# This takes a while to run\n",
    "model.fit(X_train, y_train)"
   ]
  },
  {
   "cell_type": "code",
   "execution_count": 2110,
   "id": "fa2c8836-a5e2-4822-8145-ea1ddf86aaee",
   "metadata": {},
   "outputs": [
    {
     "data": {
      "text/plain": [
       "0.7058823529411765"
      ]
     },
     "execution_count": 2110,
     "metadata": {},
     "output_type": "execute_result"
    }
   ],
   "source": [
    "pred[\"GPC\"] = model.predict(X_test)\n",
    "models[\"GPC\"] = model\n",
    "\n",
    "accuracy_score(y_true=y_test,y_pred=pred[\"GPC\"])"
   ]
  },
  {
   "cell_type": "markdown",
   "id": "5791c9e2-92ee-4714-b884-82bf6c07c639",
   "metadata": {},
   "source": [
    "# Ensemble Learning\n",
    "voting classifier to predict based on votes from multiple previous classifiers"
   ]
  },
  {
   "cell_type": "markdown",
   "id": "08b1ae36-252a-4012-8a91-0d278960a878",
   "metadata": {},
   "source": [
    "## Voting Classifier With Hard Voting"
   ]
  },
  {
   "cell_type": "code",
   "execution_count": 2112,
   "id": "8f8f4300-36fa-4ee2-9dac-b41130fe98ba",
   "metadata": {},
   "outputs": [],
   "source": [
    "from sklearn.ensemble import VotingClassifier\n",
    "\n",
    "voting_clf = VotingClassifier(\n",
    "    estimators = [\n",
    "        ('svc',models['SVM']),\n",
    "        ('lr',models['LogisticRegression']),\n",
    "        ('rf',models['RandomForest']),\n",
    "        ('kNN',models['kNN']),\n",
    "        ('dt',models['DecisionTree']),\n",
    "        ('sgd',models['SGD']),\n",
    "        ('XGB',models['XGB']),\n",
    "        ('gradient',models['GradientBoosting'])\n",
    "    ],\n",
    "    voting='hard',\n",
    ")"
   ]
  },
  {
   "cell_type": "code",
   "execution_count": 2113,
   "id": "79037940-b10b-49cb-88f1-50382725f875",
   "metadata": {},
   "outputs": [
    {
     "data": {
      "text/html": [
       "<style>#sk-container-id-156 {color: black;}#sk-container-id-156 pre{padding: 0;}#sk-container-id-156 div.sk-toggleable {background-color: white;}#sk-container-id-156 label.sk-toggleable__label {cursor: pointer;display: block;width: 100%;margin-bottom: 0;padding: 0.3em;box-sizing: border-box;text-align: center;}#sk-container-id-156 label.sk-toggleable__label-arrow:before {content: \"▸\";float: left;margin-right: 0.25em;color: #696969;}#sk-container-id-156 label.sk-toggleable__label-arrow:hover:before {color: black;}#sk-container-id-156 div.sk-estimator:hover label.sk-toggleable__label-arrow:before {color: black;}#sk-container-id-156 div.sk-toggleable__content {max-height: 0;max-width: 0;overflow: hidden;text-align: left;background-color: #f0f8ff;}#sk-container-id-156 div.sk-toggleable__content pre {margin: 0.2em;color: black;border-radius: 0.25em;background-color: #f0f8ff;}#sk-container-id-156 input.sk-toggleable__control:checked~div.sk-toggleable__content {max-height: 200px;max-width: 100%;overflow: auto;}#sk-container-id-156 input.sk-toggleable__control:checked~label.sk-toggleable__label-arrow:before {content: \"▾\";}#sk-container-id-156 div.sk-estimator input.sk-toggleable__control:checked~label.sk-toggleable__label {background-color: #d4ebff;}#sk-container-id-156 div.sk-label input.sk-toggleable__control:checked~label.sk-toggleable__label {background-color: #d4ebff;}#sk-container-id-156 input.sk-hidden--visually {border: 0;clip: rect(1px 1px 1px 1px);clip: rect(1px, 1px, 1px, 1px);height: 1px;margin: -1px;overflow: hidden;padding: 0;position: absolute;width: 1px;}#sk-container-id-156 div.sk-estimator {font-family: monospace;background-color: #f0f8ff;border: 1px dotted black;border-radius: 0.25em;box-sizing: border-box;margin-bottom: 0.5em;}#sk-container-id-156 div.sk-estimator:hover {background-color: #d4ebff;}#sk-container-id-156 div.sk-parallel-item::after {content: \"\";width: 100%;border-bottom: 1px solid gray;flex-grow: 1;}#sk-container-id-156 div.sk-label:hover label.sk-toggleable__label {background-color: #d4ebff;}#sk-container-id-156 div.sk-serial::before {content: \"\";position: absolute;border-left: 1px solid gray;box-sizing: border-box;top: 0;bottom: 0;left: 50%;z-index: 0;}#sk-container-id-156 div.sk-serial {display: flex;flex-direction: column;align-items: center;background-color: white;padding-right: 0.2em;padding-left: 0.2em;position: relative;}#sk-container-id-156 div.sk-item {position: relative;z-index: 1;}#sk-container-id-156 div.sk-parallel {display: flex;align-items: stretch;justify-content: center;background-color: white;position: relative;}#sk-container-id-156 div.sk-item::before, #sk-container-id-156 div.sk-parallel-item::before {content: \"\";position: absolute;border-left: 1px solid gray;box-sizing: border-box;top: 0;bottom: 0;left: 50%;z-index: -1;}#sk-container-id-156 div.sk-parallel-item {display: flex;flex-direction: column;z-index: 1;position: relative;background-color: white;}#sk-container-id-156 div.sk-parallel-item:first-child::after {align-self: flex-end;width: 50%;}#sk-container-id-156 div.sk-parallel-item:last-child::after {align-self: flex-start;width: 50%;}#sk-container-id-156 div.sk-parallel-item:only-child::after {width: 0;}#sk-container-id-156 div.sk-dashed-wrapped {border: 1px dashed gray;margin: 0 0.4em 0.5em 0.4em;box-sizing: border-box;padding-bottom: 0.4em;background-color: white;}#sk-container-id-156 div.sk-label label {font-family: monospace;font-weight: bold;display: inline-block;line-height: 1.2em;}#sk-container-id-156 div.sk-label-container {text-align: center;}#sk-container-id-156 div.sk-container {/* jupyter's `normalize.less` sets `[hidden] { display: none; }` but bootstrap.min.css set `[hidden] { display: none !important; }` so we also need the `!important` here to be able to override the default hidden behavior on the sphinx rendered scikit-learn.org. See: https://github.com/scikit-learn/scikit-learn/issues/21755 */display: inline-block !important;position: relative;}#sk-container-id-156 div.sk-text-repr-fallback {display: none;}</style><div id=\"sk-container-id-156\" class=\"sk-top-container\"><div class=\"sk-text-repr-fallback\"><pre>VotingClassifier(estimators=[(&#x27;svc&#x27;, SVC()),\n",
       "                             (&#x27;lr&#x27;, LogisticRegression(max_iter=400)),\n",
       "                             (&#x27;rf&#x27;,\n",
       "                              RandomForestClassifier(max_depth=7,\n",
       "                                                     n_estimators=110)),\n",
       "                             (&#x27;kNN&#x27;, KNeighborsClassifier(n_neighbors=4)),\n",
       "                             (&#x27;dt&#x27;, DecisionTreeClassifier()),\n",
       "                             (&#x27;sgd&#x27;, SGDClassifier()),\n",
       "                             (&#x27;XGB&#x27;,\n",
       "                              XGBClassifier(base_score=None, booster=None,\n",
       "                                            callbacks=None,\n",
       "                                            colsample_bylevel=None,\n",
       "                                            colsample_bynode=No...\n",
       "                                            interaction_constraints=None,\n",
       "                                            learning_rate=None, max_bin=None,\n",
       "                                            max_cat_threshold=None,\n",
       "                                            max_cat_to_onehot=None,\n",
       "                                            max_delta_step=None, max_depth=None,\n",
       "                                            max_leaves=None,\n",
       "                                            min_child_weight=None, missing=nan,\n",
       "                                            monotone_constraints=None,\n",
       "                                            n_estimators=100, n_jobs=None,\n",
       "                                            num_parallel_tree=None,\n",
       "                                            objective=&#x27;multi:softprob&#x27;,\n",
       "                                            predictor=None, ...)),\n",
       "                             (&#x27;gradient&#x27;,\n",
       "                              GradientBoostingClassifier(n_estimators=35))])</pre><b>In a Jupyter environment, please rerun this cell to show the HTML representation or trust the notebook. <br />On GitHub, the HTML representation is unable to render, please try loading this page with nbviewer.org.</b></div><div class=\"sk-container\" hidden><div class=\"sk-item sk-dashed-wrapped\"><div class=\"sk-label-container\"><div class=\"sk-label sk-toggleable\"><input class=\"sk-toggleable__control sk-hidden--visually\" id=\"sk-estimator-id-543\" type=\"checkbox\" ><label for=\"sk-estimator-id-543\" class=\"sk-toggleable__label sk-toggleable__label-arrow\">VotingClassifier</label><div class=\"sk-toggleable__content\"><pre>VotingClassifier(estimators=[(&#x27;svc&#x27;, SVC()),\n",
       "                             (&#x27;lr&#x27;, LogisticRegression(max_iter=400)),\n",
       "                             (&#x27;rf&#x27;,\n",
       "                              RandomForestClassifier(max_depth=7,\n",
       "                                                     n_estimators=110)),\n",
       "                             (&#x27;kNN&#x27;, KNeighborsClassifier(n_neighbors=4)),\n",
       "                             (&#x27;dt&#x27;, DecisionTreeClassifier()),\n",
       "                             (&#x27;sgd&#x27;, SGDClassifier()),\n",
       "                             (&#x27;XGB&#x27;,\n",
       "                              XGBClassifier(base_score=None, booster=None,\n",
       "                                            callbacks=None,\n",
       "                                            colsample_bylevel=None,\n",
       "                                            colsample_bynode=No...\n",
       "                                            interaction_constraints=None,\n",
       "                                            learning_rate=None, max_bin=None,\n",
       "                                            max_cat_threshold=None,\n",
       "                                            max_cat_to_onehot=None,\n",
       "                                            max_delta_step=None, max_depth=None,\n",
       "                                            max_leaves=None,\n",
       "                                            min_child_weight=None, missing=nan,\n",
       "                                            monotone_constraints=None,\n",
       "                                            n_estimators=100, n_jobs=None,\n",
       "                                            num_parallel_tree=None,\n",
       "                                            objective=&#x27;multi:softprob&#x27;,\n",
       "                                            predictor=None, ...)),\n",
       "                             (&#x27;gradient&#x27;,\n",
       "                              GradientBoostingClassifier(n_estimators=35))])</pre></div></div></div><div class=\"sk-parallel\"><div class=\"sk-parallel-item\"><div class=\"sk-item\"><div class=\"sk-label-container\"><div class=\"sk-label sk-toggleable\"><label>svc</label></div></div><div class=\"sk-serial\"><div class=\"sk-item\"><div class=\"sk-estimator sk-toggleable\"><input class=\"sk-toggleable__control sk-hidden--visually\" id=\"sk-estimator-id-544\" type=\"checkbox\" ><label for=\"sk-estimator-id-544\" class=\"sk-toggleable__label sk-toggleable__label-arrow\">SVC</label><div class=\"sk-toggleable__content\"><pre>SVC()</pre></div></div></div></div></div></div><div class=\"sk-parallel-item\"><div class=\"sk-item\"><div class=\"sk-label-container\"><div class=\"sk-label sk-toggleable\"><label>lr</label></div></div><div class=\"sk-serial\"><div class=\"sk-item\"><div class=\"sk-estimator sk-toggleable\"><input class=\"sk-toggleable__control sk-hidden--visually\" id=\"sk-estimator-id-545\" type=\"checkbox\" ><label for=\"sk-estimator-id-545\" class=\"sk-toggleable__label sk-toggleable__label-arrow\">LogisticRegression</label><div class=\"sk-toggleable__content\"><pre>LogisticRegression(max_iter=400)</pre></div></div></div></div></div></div><div class=\"sk-parallel-item\"><div class=\"sk-item\"><div class=\"sk-label-container\"><div class=\"sk-label sk-toggleable\"><label>rf</label></div></div><div class=\"sk-serial\"><div class=\"sk-item\"><div class=\"sk-estimator sk-toggleable\"><input class=\"sk-toggleable__control sk-hidden--visually\" id=\"sk-estimator-id-546\" type=\"checkbox\" ><label for=\"sk-estimator-id-546\" class=\"sk-toggleable__label sk-toggleable__label-arrow\">RandomForestClassifier</label><div class=\"sk-toggleable__content\"><pre>RandomForestClassifier(max_depth=7, n_estimators=110)</pre></div></div></div></div></div></div><div class=\"sk-parallel-item\"><div class=\"sk-item\"><div class=\"sk-label-container\"><div class=\"sk-label sk-toggleable\"><label>kNN</label></div></div><div class=\"sk-serial\"><div class=\"sk-item\"><div class=\"sk-estimator sk-toggleable\"><input class=\"sk-toggleable__control sk-hidden--visually\" id=\"sk-estimator-id-547\" type=\"checkbox\" ><label for=\"sk-estimator-id-547\" class=\"sk-toggleable__label sk-toggleable__label-arrow\">KNeighborsClassifier</label><div class=\"sk-toggleable__content\"><pre>KNeighborsClassifier(n_neighbors=4)</pre></div></div></div></div></div></div><div class=\"sk-parallel-item\"><div class=\"sk-item\"><div class=\"sk-label-container\"><div class=\"sk-label sk-toggleable\"><label>dt</label></div></div><div class=\"sk-serial\"><div class=\"sk-item\"><div class=\"sk-estimator sk-toggleable\"><input class=\"sk-toggleable__control sk-hidden--visually\" id=\"sk-estimator-id-548\" type=\"checkbox\" ><label for=\"sk-estimator-id-548\" class=\"sk-toggleable__label sk-toggleable__label-arrow\">DecisionTreeClassifier</label><div class=\"sk-toggleable__content\"><pre>DecisionTreeClassifier()</pre></div></div></div></div></div></div><div class=\"sk-parallel-item\"><div class=\"sk-item\"><div class=\"sk-label-container\"><div class=\"sk-label sk-toggleable\"><label>sgd</label></div></div><div class=\"sk-serial\"><div class=\"sk-item\"><div class=\"sk-estimator sk-toggleable\"><input class=\"sk-toggleable__control sk-hidden--visually\" id=\"sk-estimator-id-549\" type=\"checkbox\" ><label for=\"sk-estimator-id-549\" class=\"sk-toggleable__label sk-toggleable__label-arrow\">SGDClassifier</label><div class=\"sk-toggleable__content\"><pre>SGDClassifier()</pre></div></div></div></div></div></div><div class=\"sk-parallel-item\"><div class=\"sk-item\"><div class=\"sk-label-container\"><div class=\"sk-label sk-toggleable\"><label>XGB</label></div></div><div class=\"sk-serial\"><div class=\"sk-item\"><div class=\"sk-estimator sk-toggleable\"><input class=\"sk-toggleable__control sk-hidden--visually\" id=\"sk-estimator-id-550\" type=\"checkbox\" ><label for=\"sk-estimator-id-550\" class=\"sk-toggleable__label sk-toggleable__label-arrow\">XGBClassifier</label><div class=\"sk-toggleable__content\"><pre>XGBClassifier(base_score=None, booster=None, callbacks=None,\n",
       "              colsample_bylevel=None, colsample_bynode=None,\n",
       "              colsample_bytree=None, early_stopping_rounds=None,\n",
       "              enable_categorical=False, eval_metric=None, feature_types=None,\n",
       "              gamma=None, gpu_id=None, grow_policy=None, importance_type=None,\n",
       "              interaction_constraints=None, learning_rate=None, max_bin=None,\n",
       "              max_cat_threshold=None, max_cat_to_onehot=None,\n",
       "              max_delta_step=None, max_depth=None, max_leaves=None,\n",
       "              min_child_weight=None, missing=nan, monotone_constraints=None,\n",
       "              n_estimators=100, n_jobs=None, num_parallel_tree=None,\n",
       "              objective=&#x27;multi:softprob&#x27;, predictor=None, ...)</pre></div></div></div></div></div></div><div class=\"sk-parallel-item\"><div class=\"sk-item\"><div class=\"sk-label-container\"><div class=\"sk-label sk-toggleable\"><label>gradient</label></div></div><div class=\"sk-serial\"><div class=\"sk-item\"><div class=\"sk-estimator sk-toggleable\"><input class=\"sk-toggleable__control sk-hidden--visually\" id=\"sk-estimator-id-551\" type=\"checkbox\" ><label for=\"sk-estimator-id-551\" class=\"sk-toggleable__label sk-toggleable__label-arrow\">GradientBoostingClassifier</label><div class=\"sk-toggleable__content\"><pre>GradientBoostingClassifier(n_estimators=35)</pre></div></div></div></div></div></div></div></div></div></div>"
      ],
      "text/plain": [
       "VotingClassifier(estimators=[('svc', SVC()),\n",
       "                             ('lr', LogisticRegression(max_iter=400)),\n",
       "                             ('rf',\n",
       "                              RandomForestClassifier(max_depth=7,\n",
       "                                                     n_estimators=110)),\n",
       "                             ('kNN', KNeighborsClassifier(n_neighbors=4)),\n",
       "                             ('dt', DecisionTreeClassifier()),\n",
       "                             ('sgd', SGDClassifier()),\n",
       "                             ('XGB',\n",
       "                              XGBClassifier(base_score=None, booster=None,\n",
       "                                            callbacks=None,\n",
       "                                            colsample_bylevel=None,\n",
       "                                            colsample_bynode=No...\n",
       "                                            interaction_constraints=None,\n",
       "                                            learning_rate=None, max_bin=None,\n",
       "                                            max_cat_threshold=None,\n",
       "                                            max_cat_to_onehot=None,\n",
       "                                            max_delta_step=None, max_depth=None,\n",
       "                                            max_leaves=None,\n",
       "                                            min_child_weight=None, missing=nan,\n",
       "                                            monotone_constraints=None,\n",
       "                                            n_estimators=100, n_jobs=None,\n",
       "                                            num_parallel_tree=None,\n",
       "                                            objective='multi:softprob',\n",
       "                                            predictor=None, ...)),\n",
       "                             ('gradient',\n",
       "                              GradientBoostingClassifier(n_estimators=35))])"
      ]
     },
     "execution_count": 2113,
     "metadata": {},
     "output_type": "execute_result"
    }
   ],
   "source": [
    "voting_clf.fit(X_train,y_train)"
   ]
  },
  {
   "cell_type": "code",
   "execution_count": 2114,
   "id": "0ac6cb7e-8c9d-4576-b429-a3c3c7e5a77e",
   "metadata": {},
   "outputs": [
    {
     "data": {
      "text/plain": [
       "0.7058823529411765"
      ]
     },
     "execution_count": 2114,
     "metadata": {},
     "output_type": "execute_result"
    }
   ],
   "source": [
    "pred[\"Voting\"] = model.predict(X_test)\n",
    "models[\"Voting\"] = model\n",
    "\n",
    "accuracy_score(y_true=y_test,y_pred=pred[\"Voting\"])"
   ]
  },
  {
   "cell_type": "markdown",
   "id": "24be1988-cc02-4170-8a72-d196f2ea6ba3",
   "metadata": {},
   "source": [
    "## Voting Classifier with Probability Predictions"
   ]
  },
  {
   "cell_type": "code",
   "execution_count": 2115,
   "id": "b5f20837-8768-43e8-82f0-b519f5ba9252",
   "metadata": {},
   "outputs": [
    {
     "data": {
      "text/html": [
       "<style>#sk-container-id-157 {color: black;}#sk-container-id-157 pre{padding: 0;}#sk-container-id-157 div.sk-toggleable {background-color: white;}#sk-container-id-157 label.sk-toggleable__label {cursor: pointer;display: block;width: 100%;margin-bottom: 0;padding: 0.3em;box-sizing: border-box;text-align: center;}#sk-container-id-157 label.sk-toggleable__label-arrow:before {content: \"▸\";float: left;margin-right: 0.25em;color: #696969;}#sk-container-id-157 label.sk-toggleable__label-arrow:hover:before {color: black;}#sk-container-id-157 div.sk-estimator:hover label.sk-toggleable__label-arrow:before {color: black;}#sk-container-id-157 div.sk-toggleable__content {max-height: 0;max-width: 0;overflow: hidden;text-align: left;background-color: #f0f8ff;}#sk-container-id-157 div.sk-toggleable__content pre {margin: 0.2em;color: black;border-radius: 0.25em;background-color: #f0f8ff;}#sk-container-id-157 input.sk-toggleable__control:checked~div.sk-toggleable__content {max-height: 200px;max-width: 100%;overflow: auto;}#sk-container-id-157 input.sk-toggleable__control:checked~label.sk-toggleable__label-arrow:before {content: \"▾\";}#sk-container-id-157 div.sk-estimator input.sk-toggleable__control:checked~label.sk-toggleable__label {background-color: #d4ebff;}#sk-container-id-157 div.sk-label input.sk-toggleable__control:checked~label.sk-toggleable__label {background-color: #d4ebff;}#sk-container-id-157 input.sk-hidden--visually {border: 0;clip: rect(1px 1px 1px 1px);clip: rect(1px, 1px, 1px, 1px);height: 1px;margin: -1px;overflow: hidden;padding: 0;position: absolute;width: 1px;}#sk-container-id-157 div.sk-estimator {font-family: monospace;background-color: #f0f8ff;border: 1px dotted black;border-radius: 0.25em;box-sizing: border-box;margin-bottom: 0.5em;}#sk-container-id-157 div.sk-estimator:hover {background-color: #d4ebff;}#sk-container-id-157 div.sk-parallel-item::after {content: \"\";width: 100%;border-bottom: 1px solid gray;flex-grow: 1;}#sk-container-id-157 div.sk-label:hover label.sk-toggleable__label {background-color: #d4ebff;}#sk-container-id-157 div.sk-serial::before {content: \"\";position: absolute;border-left: 1px solid gray;box-sizing: border-box;top: 0;bottom: 0;left: 50%;z-index: 0;}#sk-container-id-157 div.sk-serial {display: flex;flex-direction: column;align-items: center;background-color: white;padding-right: 0.2em;padding-left: 0.2em;position: relative;}#sk-container-id-157 div.sk-item {position: relative;z-index: 1;}#sk-container-id-157 div.sk-parallel {display: flex;align-items: stretch;justify-content: center;background-color: white;position: relative;}#sk-container-id-157 div.sk-item::before, #sk-container-id-157 div.sk-parallel-item::before {content: \"\";position: absolute;border-left: 1px solid gray;box-sizing: border-box;top: 0;bottom: 0;left: 50%;z-index: -1;}#sk-container-id-157 div.sk-parallel-item {display: flex;flex-direction: column;z-index: 1;position: relative;background-color: white;}#sk-container-id-157 div.sk-parallel-item:first-child::after {align-self: flex-end;width: 50%;}#sk-container-id-157 div.sk-parallel-item:last-child::after {align-self: flex-start;width: 50%;}#sk-container-id-157 div.sk-parallel-item:only-child::after {width: 0;}#sk-container-id-157 div.sk-dashed-wrapped {border: 1px dashed gray;margin: 0 0.4em 0.5em 0.4em;box-sizing: border-box;padding-bottom: 0.4em;background-color: white;}#sk-container-id-157 div.sk-label label {font-family: monospace;font-weight: bold;display: inline-block;line-height: 1.2em;}#sk-container-id-157 div.sk-label-container {text-align: center;}#sk-container-id-157 div.sk-container {/* jupyter's `normalize.less` sets `[hidden] { display: none; }` but bootstrap.min.css set `[hidden] { display: none !important; }` so we also need the `!important` here to be able to override the default hidden behavior on the sphinx rendered scikit-learn.org. See: https://github.com/scikit-learn/scikit-learn/issues/21755 */display: inline-block !important;position: relative;}#sk-container-id-157 div.sk-text-repr-fallback {display: none;}</style><div id=\"sk-container-id-157\" class=\"sk-top-container\"><div class=\"sk-text-repr-fallback\"><pre>VotingClassifier(estimators=[(&#x27;svc&#x27;, SVC()),\n",
       "                             (&#x27;lr&#x27;, LogisticRegression(max_iter=400)),\n",
       "                             (&#x27;rf&#x27;,\n",
       "                              RandomForestClassifier(max_depth=7,\n",
       "                                                     n_estimators=110)),\n",
       "                             (&#x27;kNN&#x27;, KNeighborsClassifier(n_neighbors=4)),\n",
       "                             (&#x27;dt&#x27;, DecisionTreeClassifier()),\n",
       "                             (&#x27;sgd&#x27;, SGDClassifier()),\n",
       "                             (&#x27;XGB&#x27;,\n",
       "                              XGBClassifier(base_score=None, booster=None,\n",
       "                                            callbacks=None,\n",
       "                                            colsample_bylevel=None,\n",
       "                                            colsample_bynode=No...\n",
       "                                            learning_rate=None, max_bin=None,\n",
       "                                            max_cat_threshold=None,\n",
       "                                            max_cat_to_onehot=None,\n",
       "                                            max_delta_step=None, max_depth=None,\n",
       "                                            max_leaves=None,\n",
       "                                            min_child_weight=None, missing=nan,\n",
       "                                            monotone_constraints=None,\n",
       "                                            n_estimators=100, n_jobs=None,\n",
       "                                            num_parallel_tree=None,\n",
       "                                            objective=&#x27;multi:softprob&#x27;,\n",
       "                                            predictor=None, ...)),\n",
       "                             (&#x27;gradient&#x27;,\n",
       "                              GradientBoostingClassifier(n_estimators=35))],\n",
       "                 voting=&#x27;soft&#x27;)</pre><b>In a Jupyter environment, please rerun this cell to show the HTML representation or trust the notebook. <br />On GitHub, the HTML representation is unable to render, please try loading this page with nbviewer.org.</b></div><div class=\"sk-container\" hidden><div class=\"sk-item sk-dashed-wrapped\"><div class=\"sk-label-container\"><div class=\"sk-label sk-toggleable\"><input class=\"sk-toggleable__control sk-hidden--visually\" id=\"sk-estimator-id-552\" type=\"checkbox\" ><label for=\"sk-estimator-id-552\" class=\"sk-toggleable__label sk-toggleable__label-arrow\">VotingClassifier</label><div class=\"sk-toggleable__content\"><pre>VotingClassifier(estimators=[(&#x27;svc&#x27;, SVC()),\n",
       "                             (&#x27;lr&#x27;, LogisticRegression(max_iter=400)),\n",
       "                             (&#x27;rf&#x27;,\n",
       "                              RandomForestClassifier(max_depth=7,\n",
       "                                                     n_estimators=110)),\n",
       "                             (&#x27;kNN&#x27;, KNeighborsClassifier(n_neighbors=4)),\n",
       "                             (&#x27;dt&#x27;, DecisionTreeClassifier()),\n",
       "                             (&#x27;sgd&#x27;, SGDClassifier()),\n",
       "                             (&#x27;XGB&#x27;,\n",
       "                              XGBClassifier(base_score=None, booster=None,\n",
       "                                            callbacks=None,\n",
       "                                            colsample_bylevel=None,\n",
       "                                            colsample_bynode=No...\n",
       "                                            learning_rate=None, max_bin=None,\n",
       "                                            max_cat_threshold=None,\n",
       "                                            max_cat_to_onehot=None,\n",
       "                                            max_delta_step=None, max_depth=None,\n",
       "                                            max_leaves=None,\n",
       "                                            min_child_weight=None, missing=nan,\n",
       "                                            monotone_constraints=None,\n",
       "                                            n_estimators=100, n_jobs=None,\n",
       "                                            num_parallel_tree=None,\n",
       "                                            objective=&#x27;multi:softprob&#x27;,\n",
       "                                            predictor=None, ...)),\n",
       "                             (&#x27;gradient&#x27;,\n",
       "                              GradientBoostingClassifier(n_estimators=35))],\n",
       "                 voting=&#x27;soft&#x27;)</pre></div></div></div><div class=\"sk-parallel\"><div class=\"sk-parallel-item\"><div class=\"sk-item\"><div class=\"sk-label-container\"><div class=\"sk-label sk-toggleable\"><label>svc</label></div></div><div class=\"sk-serial\"><div class=\"sk-item\"><div class=\"sk-estimator sk-toggleable\"><input class=\"sk-toggleable__control sk-hidden--visually\" id=\"sk-estimator-id-553\" type=\"checkbox\" ><label for=\"sk-estimator-id-553\" class=\"sk-toggleable__label sk-toggleable__label-arrow\">SVC</label><div class=\"sk-toggleable__content\"><pre>SVC()</pre></div></div></div></div></div></div><div class=\"sk-parallel-item\"><div class=\"sk-item\"><div class=\"sk-label-container\"><div class=\"sk-label sk-toggleable\"><label>lr</label></div></div><div class=\"sk-serial\"><div class=\"sk-item\"><div class=\"sk-estimator sk-toggleable\"><input class=\"sk-toggleable__control sk-hidden--visually\" id=\"sk-estimator-id-554\" type=\"checkbox\" ><label for=\"sk-estimator-id-554\" class=\"sk-toggleable__label sk-toggleable__label-arrow\">LogisticRegression</label><div class=\"sk-toggleable__content\"><pre>LogisticRegression(max_iter=400)</pre></div></div></div></div></div></div><div class=\"sk-parallel-item\"><div class=\"sk-item\"><div class=\"sk-label-container\"><div class=\"sk-label sk-toggleable\"><label>rf</label></div></div><div class=\"sk-serial\"><div class=\"sk-item\"><div class=\"sk-estimator sk-toggleable\"><input class=\"sk-toggleable__control sk-hidden--visually\" id=\"sk-estimator-id-555\" type=\"checkbox\" ><label for=\"sk-estimator-id-555\" class=\"sk-toggleable__label sk-toggleable__label-arrow\">RandomForestClassifier</label><div class=\"sk-toggleable__content\"><pre>RandomForestClassifier(max_depth=7, n_estimators=110)</pre></div></div></div></div></div></div><div class=\"sk-parallel-item\"><div class=\"sk-item\"><div class=\"sk-label-container\"><div class=\"sk-label sk-toggleable\"><label>kNN</label></div></div><div class=\"sk-serial\"><div class=\"sk-item\"><div class=\"sk-estimator sk-toggleable\"><input class=\"sk-toggleable__control sk-hidden--visually\" id=\"sk-estimator-id-556\" type=\"checkbox\" ><label for=\"sk-estimator-id-556\" class=\"sk-toggleable__label sk-toggleable__label-arrow\">KNeighborsClassifier</label><div class=\"sk-toggleable__content\"><pre>KNeighborsClassifier(n_neighbors=4)</pre></div></div></div></div></div></div><div class=\"sk-parallel-item\"><div class=\"sk-item\"><div class=\"sk-label-container\"><div class=\"sk-label sk-toggleable\"><label>dt</label></div></div><div class=\"sk-serial\"><div class=\"sk-item\"><div class=\"sk-estimator sk-toggleable\"><input class=\"sk-toggleable__control sk-hidden--visually\" id=\"sk-estimator-id-557\" type=\"checkbox\" ><label for=\"sk-estimator-id-557\" class=\"sk-toggleable__label sk-toggleable__label-arrow\">DecisionTreeClassifier</label><div class=\"sk-toggleable__content\"><pre>DecisionTreeClassifier()</pre></div></div></div></div></div></div><div class=\"sk-parallel-item\"><div class=\"sk-item\"><div class=\"sk-label-container\"><div class=\"sk-label sk-toggleable\"><label>sgd</label></div></div><div class=\"sk-serial\"><div class=\"sk-item\"><div class=\"sk-estimator sk-toggleable\"><input class=\"sk-toggleable__control sk-hidden--visually\" id=\"sk-estimator-id-558\" type=\"checkbox\" ><label for=\"sk-estimator-id-558\" class=\"sk-toggleable__label sk-toggleable__label-arrow\">SGDClassifier</label><div class=\"sk-toggleable__content\"><pre>SGDClassifier()</pre></div></div></div></div></div></div><div class=\"sk-parallel-item\"><div class=\"sk-item\"><div class=\"sk-label-container\"><div class=\"sk-label sk-toggleable\"><label>XGB</label></div></div><div class=\"sk-serial\"><div class=\"sk-item\"><div class=\"sk-estimator sk-toggleable\"><input class=\"sk-toggleable__control sk-hidden--visually\" id=\"sk-estimator-id-559\" type=\"checkbox\" ><label for=\"sk-estimator-id-559\" class=\"sk-toggleable__label sk-toggleable__label-arrow\">XGBClassifier</label><div class=\"sk-toggleable__content\"><pre>XGBClassifier(base_score=None, booster=None, callbacks=None,\n",
       "              colsample_bylevel=None, colsample_bynode=None,\n",
       "              colsample_bytree=None, early_stopping_rounds=None,\n",
       "              enable_categorical=False, eval_metric=None, feature_types=None,\n",
       "              gamma=None, gpu_id=None, grow_policy=None, importance_type=None,\n",
       "              interaction_constraints=None, learning_rate=None, max_bin=None,\n",
       "              max_cat_threshold=None, max_cat_to_onehot=None,\n",
       "              max_delta_step=None, max_depth=None, max_leaves=None,\n",
       "              min_child_weight=None, missing=nan, monotone_constraints=None,\n",
       "              n_estimators=100, n_jobs=None, num_parallel_tree=None,\n",
       "              objective=&#x27;multi:softprob&#x27;, predictor=None, ...)</pre></div></div></div></div></div></div><div class=\"sk-parallel-item\"><div class=\"sk-item\"><div class=\"sk-label-container\"><div class=\"sk-label sk-toggleable\"><label>gradient</label></div></div><div class=\"sk-serial\"><div class=\"sk-item\"><div class=\"sk-estimator sk-toggleable\"><input class=\"sk-toggleable__control sk-hidden--visually\" id=\"sk-estimator-id-560\" type=\"checkbox\" ><label for=\"sk-estimator-id-560\" class=\"sk-toggleable__label sk-toggleable__label-arrow\">GradientBoostingClassifier</label><div class=\"sk-toggleable__content\"><pre>GradientBoostingClassifier(n_estimators=35)</pre></div></div></div></div></div></div></div></div></div></div>"
      ],
      "text/plain": [
       "VotingClassifier(estimators=[('svc', SVC()),\n",
       "                             ('lr', LogisticRegression(max_iter=400)),\n",
       "                             ('rf',\n",
       "                              RandomForestClassifier(max_depth=7,\n",
       "                                                     n_estimators=110)),\n",
       "                             ('kNN', KNeighborsClassifier(n_neighbors=4)),\n",
       "                             ('dt', DecisionTreeClassifier()),\n",
       "                             ('sgd', SGDClassifier()),\n",
       "                             ('XGB',\n",
       "                              XGBClassifier(base_score=None, booster=None,\n",
       "                                            callbacks=None,\n",
       "                                            colsample_bylevel=None,\n",
       "                                            colsample_bynode=No...\n",
       "                                            learning_rate=None, max_bin=None,\n",
       "                                            max_cat_threshold=None,\n",
       "                                            max_cat_to_onehot=None,\n",
       "                                            max_delta_step=None, max_depth=None,\n",
       "                                            max_leaves=None,\n",
       "                                            min_child_weight=None, missing=nan,\n",
       "                                            monotone_constraints=None,\n",
       "                                            n_estimators=100, n_jobs=None,\n",
       "                                            num_parallel_tree=None,\n",
       "                                            objective='multi:softprob',\n",
       "                                            predictor=None, ...)),\n",
       "                             ('gradient',\n",
       "                              GradientBoostingClassifier(n_estimators=35))],\n",
       "                 voting='soft')"
      ]
     },
     "execution_count": 2115,
     "metadata": {},
     "output_type": "execute_result"
    }
   ],
   "source": [
    "from sklearn.ensemble import VotingClassifier\n",
    "\n",
    "voting_clf = VotingClassifier(\n",
    "    estimators = [\n",
    "        ('svc',models['SVM']),\n",
    "        ('lr',models['LogisticRegression']),\n",
    "        ('rf',models['RandomForest']),\n",
    "        ('kNN',models['kNN']),\n",
    "        ('dt',models['DecisionTree']),\n",
    "        ('sgd',models['SGD']),\n",
    "        ('XGB',models['XGB']),\n",
    "        ('gradient',models['GradientBoosting'])\n",
    "    ],\n",
    "    voting='soft'\n",
    ")\n",
    "voting_clf"
   ]
  },
  {
   "cell_type": "markdown",
   "id": "712fadef-8c68-4ccf-9df3-472d88b8d84a",
   "metadata": {},
   "source": [
    "not working yet, need to change the models to support probability"
   ]
  },
  {
   "cell_type": "markdown",
   "id": "4cce0de4-8d3b-4df7-b483-587a6c3cd455",
   "metadata": {},
   "source": [
    "# Hyperparameter tuning for best models above"
   ]
  },
  {
   "cell_type": "markdown",
   "id": "7c229c38-b5de-47a0-b023-b5adf27022b0",
   "metadata": {},
   "source": [
    "## Random Forests"
   ]
  },
  {
   "cell_type": "code",
   "execution_count": 2116,
   "id": "416f10a2-0096-408c-977c-df8d79289ca5",
   "metadata": {},
   "outputs": [],
   "source": [
    "L = list(np.linspace(4,10,5,dtype=np.int32))\n",
    "L.append(None)\n",
    "L\n",
    "param_grid = [{\n",
    "    'n_estimators': np.linspace(102,110,4,dtype=np.int32),\n",
    "    'max_features': [\"sqrt\", \"log2\", None, 9],\n",
    "    'max_depth': L,\n",
    "}]\n",
    "# {'max_features': 'sqrt', 'n_estimators': 104}\n",
    "# {'max_features': 9, 'n_estimators': 108}\n",
    "# {'max_depth': 7, 'max_features': 'sqrt', 'n_estimators': 110}"
   ]
  },
  {
   "cell_type": "code",
   "execution_count": 2117,
   "id": "33acce9c-3cd3-41bc-9292-16cd5240dd71",
   "metadata": {},
   "outputs": [],
   "source": [
    "from sklearn.ensemble import RandomForestClassifier\n",
    "from sklearn.model_selection import GridSearchCV\n",
    "\n",
    "model = RandomForestClassifier()\n",
    "grid_search = GridSearchCV(model, param_grid, cv=3,verbose=1)\n",
    "# grid_search.fit(X_train, y_train)"
   ]
  },
  {
   "cell_type": "code",
   "execution_count": 2118,
   "id": "ccc210cc-0165-4f00-82b4-ca13822fd149",
   "metadata": {},
   "outputs": [],
   "source": [
    "# grid_search.best_params_"
   ]
  },
  {
   "cell_type": "code",
   "execution_count": 2119,
   "id": "68a0f3a7-9099-4518-9856-9e1005811da3",
   "metadata": {},
   "outputs": [],
   "source": [
    "from sklearn.ensemble import RandomForestClassifier\n",
    "# ----------------- #\n",
    "n = 35\n",
    "# ----------------- #\n",
    "model = RandomForestClassifier(n_estimators=110, max_features='sqrt',max_depth=7)\n",
    "model = model.fit(X_train, y_train)"
   ]
  },
  {
   "cell_type": "code",
   "execution_count": 2120,
   "id": "918b2bee-8120-45ed-9856-27e5741c99c1",
   "metadata": {},
   "outputs": [
    {
     "data": {
      "text/plain": [
       "0.726643598615917"
      ]
     },
     "execution_count": 2120,
     "metadata": {},
     "output_type": "execute_result"
    }
   ],
   "source": [
    "pred[\"RandomForest\"] = model.predict(X_test)\n",
    "models[\"RandomForest\"] = model\n",
    "accuracy_score(y_true=y_test,y_pred=pred[\"RandomForest\"])"
   ]
  },
  {
   "cell_type": "code",
   "execution_count": 2121,
   "id": "203a44d5-8ba0-45d3-9cbc-8fb79fae1879",
   "metadata": {},
   "outputs": [
    {
     "data": {
      "text/plain": [
       "{'bootstrap': True,\n",
       " 'ccp_alpha': 0.0,\n",
       " 'class_weight': None,\n",
       " 'criterion': 'gini',\n",
       " 'max_depth': 7,\n",
       " 'max_features': 'sqrt',\n",
       " 'max_leaf_nodes': None,\n",
       " 'max_samples': None,\n",
       " 'min_impurity_decrease': 0.0,\n",
       " 'min_samples_leaf': 1,\n",
       " 'min_samples_split': 2,\n",
       " 'min_weight_fraction_leaf': 0.0,\n",
       " 'n_estimators': 110,\n",
       " 'n_jobs': None,\n",
       " 'oob_score': False,\n",
       " 'random_state': None,\n",
       " 'verbose': 0,\n",
       " 'warm_start': False}"
      ]
     },
     "execution_count": 2121,
     "metadata": {},
     "output_type": "execute_result"
    }
   ],
   "source": [
    "model.get_params()"
   ]
  },
  {
   "cell_type": "markdown",
   "id": "d34427d9-ce33-4df8-acec-2d8809ea1db6",
   "metadata": {},
   "source": [
    "From this grid search testing, I found the best parameters to give to the random forest classifier, getting a new best of 74% accuracy!"
   ]
  },
  {
   "cell_type": "markdown",
   "id": "09696389-5dd7-425a-bcfa-3843f7fdfa96",
   "metadata": {},
   "source": [
    "## GradientBoosting"
   ]
  },
  {
   "cell_type": "code",
   "execution_count": 2122,
   "id": "34363828-aed5-4c76-86d3-f92af9674114",
   "metadata": {},
   "outputs": [],
   "source": [
    "param_grid = [{\n",
    "    'n_estimators': [34,35],\n",
    "    # 'max_features': [\"sqrt\", \"log2\", None, 9],\n",
    "    'max_depth': [3,4,5,6,7,8,9,10],\n",
    "    'learning_rate': [0.1],  \n",
    "}]"
   ]
  },
  {
   "cell_type": "code",
   "execution_count": 2123,
   "id": "ca9e9f44-652f-4d13-84fd-7663497a8a9f",
   "metadata": {},
   "outputs": [],
   "source": [
    "from sklearn.ensemble import RandomForestClassifier\n",
    "from sklearn.model_selection import GridSearchCV\n",
    "\n",
    "model = GradientBoostingClassifier()\n",
    "grid_search = GridSearchCV(model, param_grid, cv=3,verbose=1)\n",
    "# grid_search.fit(X_train, y_train)"
   ]
  },
  {
   "cell_type": "code",
   "execution_count": 2124,
   "id": "d381a122-99a9-49ab-a068-d4cdadacd8a5",
   "metadata": {},
   "outputs": [],
   "source": [
    "# grid_search.best_params_"
   ]
  },
  {
   "cell_type": "code",
   "execution_count": 2125,
   "id": "34bdc351-9ebb-428c-a77a-0c32602e6e57",
   "metadata": {},
   "outputs": [],
   "source": [
    "# pred[\"GradientBoosting\"] = m.predict(X_test)\n",
    "# models[\"GradientBoosting\"] = model\n",
    "\n",
    "# accuracy_score(y_true=y_test,y_pred=pred[\"GradientBoosting\"])"
   ]
  },
  {
   "cell_type": "markdown",
   "id": "6bc055f0-71e6-4946-a6a3-f9204213bcee",
   "metadata": {},
   "source": [
    "# Compare Models"
   ]
  },
  {
   "cell_type": "code",
   "execution_count": 2126,
   "id": "a19fe9be-d637-4ea3-bb33-8cb1c93fb51b",
   "metadata": {},
   "outputs": [],
   "source": [
    "# compare = pd.DataFrame(pred)\n",
    "compare = pd.DataFrame({\n",
    "    \"name\":pred.keys(), \n",
    "    \"accuracy\":np.nan,\n",
    "    \"mse\":np.nan,\n",
    "})\n",
    "compare = compare.set_index(\"name\")"
   ]
  },
  {
   "cell_type": "code",
   "execution_count": 2127,
   "id": "96016399-4fb4-4690-9b2f-6bf7e5e3a03e",
   "metadata": {},
   "outputs": [],
   "source": [
    "compare[\"accuracy\"] = compare.apply(lambda row: accuracy_score(y_pred=pred[row.name],y_true=y_test)*100,axis=1)\n",
    "compare[\"mse\"] = compare.apply(lambda row: mean_squared_error(y_pred=pred[row.name],y_true=y_test),axis=1)\n",
    "compare[\"mean absolute\"] = compare.apply(lambda row: mean_absolute_error(y_pred=pred[row.name],y_true=y_test),axis=1)"
   ]
  },
  {
   "cell_type": "markdown",
   "id": "ac547b06-2e0e-430f-b283-e960f23576ea",
   "metadata": {},
   "source": [
    "### So how do the models stack up to each other?"
   ]
  },
  {
   "cell_type": "code",
   "execution_count": 2128,
   "id": "6a052bb7-634c-4cb9-9e99-aefc5832024b",
   "metadata": {},
   "outputs": [
    {
     "data": {
      "text/html": [
       "<div>\n",
       "<style scoped>\n",
       "    .dataframe tbody tr th:only-of-type {\n",
       "        vertical-align: middle;\n",
       "    }\n",
       "\n",
       "    .dataframe tbody tr th {\n",
       "        vertical-align: top;\n",
       "    }\n",
       "\n",
       "    .dataframe thead th {\n",
       "        text-align: right;\n",
       "    }\n",
       "</style>\n",
       "<table border=\"1\" class=\"dataframe\">\n",
       "  <thead>\n",
       "    <tr style=\"text-align: right;\">\n",
       "      <th></th>\n",
       "      <th>accuracy</th>\n",
       "      <th>mse</th>\n",
       "      <th>mean absolute</th>\n",
       "    </tr>\n",
       "    <tr>\n",
       "      <th>name</th>\n",
       "      <th></th>\n",
       "      <th></th>\n",
       "      <th></th>\n",
       "    </tr>\n",
       "  </thead>\n",
       "  <tbody>\n",
       "    <tr>\n",
       "      <th>RandomForest</th>\n",
       "      <td>72.664360</td>\n",
       "      <td>0.283737</td>\n",
       "      <td>0.276817</td>\n",
       "    </tr>\n",
       "    <tr>\n",
       "      <th>GradientBoosting</th>\n",
       "      <td>72.664360</td>\n",
       "      <td>0.301038</td>\n",
       "      <td>0.280277</td>\n",
       "    </tr>\n",
       "    <tr>\n",
       "      <th>GPC</th>\n",
       "      <td>70.588235</td>\n",
       "      <td>0.342561</td>\n",
       "      <td>0.307958</td>\n",
       "    </tr>\n",
       "    <tr>\n",
       "      <th>Voting</th>\n",
       "      <td>70.588235</td>\n",
       "      <td>0.342561</td>\n",
       "      <td>0.307958</td>\n",
       "    </tr>\n",
       "    <tr>\n",
       "      <th>XGB</th>\n",
       "      <td>68.512111</td>\n",
       "      <td>0.377163</td>\n",
       "      <td>0.335640</td>\n",
       "    </tr>\n",
       "    <tr>\n",
       "      <th>LGBM</th>\n",
       "      <td>68.166090</td>\n",
       "      <td>0.387543</td>\n",
       "      <td>0.339100</td>\n",
       "    </tr>\n",
       "    <tr>\n",
       "      <th>Extra tree</th>\n",
       "      <td>65.743945</td>\n",
       "      <td>0.432526</td>\n",
       "      <td>0.370242</td>\n",
       "    </tr>\n",
       "    <tr>\n",
       "      <th>SVM</th>\n",
       "      <td>65.397924</td>\n",
       "      <td>0.377163</td>\n",
       "      <td>0.356401</td>\n",
       "    </tr>\n",
       "    <tr>\n",
       "      <th>kNN</th>\n",
       "      <td>65.397924</td>\n",
       "      <td>0.432526</td>\n",
       "      <td>0.370242</td>\n",
       "    </tr>\n",
       "    <tr>\n",
       "      <th>DecisionTree</th>\n",
       "      <td>65.051903</td>\n",
       "      <td>0.449827</td>\n",
       "      <td>0.380623</td>\n",
       "    </tr>\n",
       "    <tr>\n",
       "      <th>MLP</th>\n",
       "      <td>65.051903</td>\n",
       "      <td>0.429066</td>\n",
       "      <td>0.373702</td>\n",
       "    </tr>\n",
       "    <tr>\n",
       "      <th>SGD</th>\n",
       "      <td>61.937716</td>\n",
       "      <td>0.553633</td>\n",
       "      <td>0.435986</td>\n",
       "    </tr>\n",
       "    <tr>\n",
       "      <th>GaussianNB</th>\n",
       "      <td>61.591696</td>\n",
       "      <td>0.570934</td>\n",
       "      <td>0.439446</td>\n",
       "    </tr>\n",
       "    <tr>\n",
       "      <th>LogisticRegression</th>\n",
       "      <td>57.785467</td>\n",
       "      <td>0.505190</td>\n",
       "      <td>0.449827</td>\n",
       "    </tr>\n",
       "    <tr>\n",
       "      <th>Kmeans</th>\n",
       "      <td>20.761246</td>\n",
       "      <td>2.979239</td>\n",
       "      <td>1.429066</td>\n",
       "    </tr>\n",
       "  </tbody>\n",
       "</table>\n",
       "</div>"
      ],
      "text/plain": [
       "                     accuracy       mse  mean absolute\n",
       "name                                                  \n",
       "RandomForest        72.664360  0.283737       0.276817\n",
       "GradientBoosting    72.664360  0.301038       0.280277\n",
       "GPC                 70.588235  0.342561       0.307958\n",
       "Voting              70.588235  0.342561       0.307958\n",
       "XGB                 68.512111  0.377163       0.335640\n",
       "LGBM                68.166090  0.387543       0.339100\n",
       "Extra tree          65.743945  0.432526       0.370242\n",
       "SVM                 65.397924  0.377163       0.356401\n",
       "kNN                 65.397924  0.432526       0.370242\n",
       "DecisionTree        65.051903  0.449827       0.380623\n",
       "MLP                 65.051903  0.429066       0.373702\n",
       "SGD                 61.937716  0.553633       0.435986\n",
       "GaussianNB          61.591696  0.570934       0.439446\n",
       "LogisticRegression  57.785467  0.505190       0.449827\n",
       "Kmeans              20.761246  2.979239       1.429066"
      ]
     },
     "execution_count": 2128,
     "metadata": {},
     "output_type": "execute_result"
    }
   ],
   "source": [
    "compare.sort_values(by='accuracy',ascending=False)"
   ]
  },
  {
   "cell_type": "markdown",
   "id": "72f48efe-47dd-4f87-96a3-9277a00febc6",
   "metadata": {},
   "source": [
    "so Kmeans is pretty bad, Random Forest, Gradient Boosting and GRBT appear to be the best\n",
    "\n",
    "the voting ensemble also does well, just about matching the performance of any one other model. I hoped it would exceed the individuals but it has not yet"
   ]
  },
  {
   "cell_type": "markdown",
   "id": "398ac591-6a2d-434e-8102-f59cf2c40db2",
   "metadata": {},
   "source": [
    "### Next Step\n",
    "Try out the voting ensemble with soft voting, utilizing probabilities. This will require changing the models it uses to do probability voting and have the `predict_proba()` method"
   ]
  },
  {
   "cell_type": "code",
   "execution_count": 2059,
   "id": "5af7e541-8d11-4dc3-a90e-2652af184a0e",
   "metadata": {},
   "outputs": [
    {
     "name": "stdout",
     "output_type": "stream",
     "text": [
      "32 minutes   \t0\n",
      "55 minutes   \t1\n",
      "3 hours   \t2\n",
      "7 hours   \t3\n"
     ]
    }
   ],
   "source": [
    "print_categories()"
   ]
  },
  {
   "cell_type": "markdown",
   "id": "5bcc4d0b-5d8a-47a0-ac78-9e0d3bb61085",
   "metadata": {},
   "source": [
    "note: look into principal component analysis"
   ]
  },
  {
   "cell_type": "markdown",
   "id": "aa0704b1-5eed-41ec-9020-dcb8f66a477f",
   "metadata": {},
   "source": [
    "# Charts in progress"
   ]
  },
  {
   "cell_type": "code",
   "execution_count": 1850,
   "id": "eab091a7-d8ac-47f7-b0bf-3d39b5f4edcb",
   "metadata": {},
   "outputs": [],
   "source": [
    "a = pd.Series(pred[\"LGBM\"]).value_counts()\n",
    "b = pd.Series(y_test).value_counts()"
   ]
  },
  {
   "cell_type": "code",
   "execution_count": 1851,
   "id": "69c22ecd-1a76-4907-9dc5-21878595fec6",
   "metadata": {},
   "outputs": [
    {
     "data": {
      "text/html": [
       "<div>\n",
       "<style scoped>\n",
       "    .dataframe tbody tr th:only-of-type {\n",
       "        vertical-align: middle;\n",
       "    }\n",
       "\n",
       "    .dataframe tbody tr th {\n",
       "        vertical-align: top;\n",
       "    }\n",
       "\n",
       "    .dataframe thead th {\n",
       "        text-align: right;\n",
       "    }\n",
       "</style>\n",
       "<table border=\"1\" class=\"dataframe\">\n",
       "  <thead>\n",
       "    <tr style=\"text-align: right;\">\n",
       "      <th></th>\n",
       "      <th>species</th>\n",
       "      <th>island</th>\n",
       "      <th>bill_length_mm</th>\n",
       "      <th>bill_depth_mm</th>\n",
       "      <th>flipper_length_mm</th>\n",
       "      <th>body_mass_g</th>\n",
       "      <th>sex</th>\n",
       "    </tr>\n",
       "  </thead>\n",
       "  <tbody>\n",
       "    <tr>\n",
       "      <th>339</th>\n",
       "      <td>Gentoo</td>\n",
       "      <td>Biscoe</td>\n",
       "      <td>NaN</td>\n",
       "      <td>NaN</td>\n",
       "      <td>NaN</td>\n",
       "      <td>NaN</td>\n",
       "      <td>NaN</td>\n",
       "    </tr>\n",
       "    <tr>\n",
       "      <th>340</th>\n",
       "      <td>Gentoo</td>\n",
       "      <td>Biscoe</td>\n",
       "      <td>46.8</td>\n",
       "      <td>14.3</td>\n",
       "      <td>215.0</td>\n",
       "      <td>4850.0</td>\n",
       "      <td>Female</td>\n",
       "    </tr>\n",
       "    <tr>\n",
       "      <th>341</th>\n",
       "      <td>Gentoo</td>\n",
       "      <td>Biscoe</td>\n",
       "      <td>50.4</td>\n",
       "      <td>15.7</td>\n",
       "      <td>222.0</td>\n",
       "      <td>5750.0</td>\n",
       "      <td>Male</td>\n",
       "    </tr>\n",
       "    <tr>\n",
       "      <th>342</th>\n",
       "      <td>Gentoo</td>\n",
       "      <td>Biscoe</td>\n",
       "      <td>45.2</td>\n",
       "      <td>14.8</td>\n",
       "      <td>212.0</td>\n",
       "      <td>5200.0</td>\n",
       "      <td>Female</td>\n",
       "    </tr>\n",
       "    <tr>\n",
       "      <th>343</th>\n",
       "      <td>Gentoo</td>\n",
       "      <td>Biscoe</td>\n",
       "      <td>49.9</td>\n",
       "      <td>16.1</td>\n",
       "      <td>213.0</td>\n",
       "      <td>5400.0</td>\n",
       "      <td>Male</td>\n",
       "    </tr>\n",
       "  </tbody>\n",
       "</table>\n",
       "</div>"
      ],
      "text/plain": [
       "    species  island  bill_length_mm  bill_depth_mm  flipper_length_mm  \\\n",
       "339  Gentoo  Biscoe             NaN            NaN                NaN   \n",
       "340  Gentoo  Biscoe            46.8           14.3              215.0   \n",
       "341  Gentoo  Biscoe            50.4           15.7              222.0   \n",
       "342  Gentoo  Biscoe            45.2           14.8              212.0   \n",
       "343  Gentoo  Biscoe            49.9           16.1              213.0   \n",
       "\n",
       "     body_mass_g     sex  \n",
       "339          NaN     NaN  \n",
       "340       4850.0  Female  \n",
       "341       5750.0    Male  \n",
       "342       5200.0  Female  \n",
       "343       5400.0    Male  "
      ]
     },
     "execution_count": 1851,
     "metadata": {},
     "output_type": "execute_result"
    },
    {
     "data": {
      "image/png": "[encoded data removed]",
      "text/plain": [
       "<Figure size 710.375x600 with 1 Axes>"
      ]
     },
     "metadata": {},
     "output_type": "display_data"
    }
   ],
   "source": [
    "sns.set_theme(style=\"whitegrid\")\n",
    "\n",
    "penguins = sns.load_dataset(\"penguins\")\n",
    "# Draw a nested barplot by species and sex\n",
    "g = sns.catplot(\n",
    "    data=penguins, kind=\"bar\",\n",
    "    x=\"species\", y=\"body_mass_g\", hue=\"sex\",\n",
    "    errorbar=\"sd\", palette=\"dark\", alpha=.6, height=6\n",
    ")\n",
    "g.despine(left=True)\n",
    "g.set_axis_labels(\"\", \"Body mass (g)\")\n",
    "g.legend.set_title(\"\")\n",
    "penguins.tail(5)"
   ]
  },
  {
   "cell_type": "code",
   "execution_count": 1852,
   "id": "d39a9b40-3054-4ea6-965e-f0509265146e",
   "metadata": {},
   "outputs": [],
   "source": [
    "model_val_counts = pd.Series(pred[\"XGB\"]).value_counts()\n",
    "y_test_val_counts = pd.Series(y_test).value_counts()\n",
    "c = dict(model_val_counts)\n",
    "d = dict(y_test_val_counts)\n",
    "\n",
    "merged_dict = {}\n",
    "for i in range(0,len(c)):\n",
    "    merged_dict[i] = [c[i], d[i]]\n",
    "\n",
    "data = pd.DataFrame(merged_dict)\n",
    "# data[\"hue\"] = [0,1]\n",
    "data = data.T"
   ]
  },
  {
   "cell_type": "code",
   "execution_count": 1853,
   "id": "7d1fc01b-500e-41e2-a0b8-1552e05d2055",
   "metadata": {},
   "outputs": [
    {
     "data": {
      "text/html": [
       "<div>\n",
       "<style scoped>\n",
       "    .dataframe tbody tr th:only-of-type {\n",
       "        vertical-align: middle;\n",
       "    }\n",
       "\n",
       "    .dataframe tbody tr th {\n",
       "        vertical-align: top;\n",
       "    }\n",
       "\n",
       "    .dataframe thead th {\n",
       "        text-align: right;\n",
       "    }\n",
       "</style>\n",
       "<table border=\"1\" class=\"dataframe\">\n",
       "  <thead>\n",
       "    <tr style=\"text-align: right;\">\n",
       "      <th></th>\n",
       "      <th>species</th>\n",
       "      <th>island</th>\n",
       "      <th>bill_length_mm</th>\n",
       "      <th>bill_depth_mm</th>\n",
       "      <th>flipper_length_mm</th>\n",
       "      <th>body_mass_g</th>\n",
       "      <th>sex</th>\n",
       "    </tr>\n",
       "  </thead>\n",
       "  <tbody>\n",
       "    <tr>\n",
       "      <th>339</th>\n",
       "      <td>Gentoo</td>\n",
       "      <td>Biscoe</td>\n",
       "      <td>NaN</td>\n",
       "      <td>NaN</td>\n",
       "      <td>NaN</td>\n",
       "      <td>NaN</td>\n",
       "      <td>NaN</td>\n",
       "    </tr>\n",
       "    <tr>\n",
       "      <th>340</th>\n",
       "      <td>Gentoo</td>\n",
       "      <td>Biscoe</td>\n",
       "      <td>46.8</td>\n",
       "      <td>14.3</td>\n",
       "      <td>215.0</td>\n",
       "      <td>4850.0</td>\n",
       "      <td>Female</td>\n",
       "    </tr>\n",
       "    <tr>\n",
       "      <th>341</th>\n",
       "      <td>Gentoo</td>\n",
       "      <td>Biscoe</td>\n",
       "      <td>50.4</td>\n",
       "      <td>15.7</td>\n",
       "      <td>222.0</td>\n",
       "      <td>5750.0</td>\n",
       "      <td>Male</td>\n",
       "    </tr>\n",
       "    <tr>\n",
       "      <th>342</th>\n",
       "      <td>Gentoo</td>\n",
       "      <td>Biscoe</td>\n",
       "      <td>45.2</td>\n",
       "      <td>14.8</td>\n",
       "      <td>212.0</td>\n",
       "      <td>5200.0</td>\n",
       "      <td>Female</td>\n",
       "    </tr>\n",
       "    <tr>\n",
       "      <th>343</th>\n",
       "      <td>Gentoo</td>\n",
       "      <td>Biscoe</td>\n",
       "      <td>49.9</td>\n",
       "      <td>16.1</td>\n",
       "      <td>213.0</td>\n",
       "      <td>5400.0</td>\n",
       "      <td>Male</td>\n",
       "    </tr>\n",
       "  </tbody>\n",
       "</table>\n",
       "</div>"
      ],
      "text/plain": [
       "    species  island  bill_length_mm  bill_depth_mm  flipper_length_mm  \\\n",
       "339  Gentoo  Biscoe             NaN            NaN                NaN   \n",
       "340  Gentoo  Biscoe            46.8           14.3              215.0   \n",
       "341  Gentoo  Biscoe            50.4           15.7              222.0   \n",
       "342  Gentoo  Biscoe            45.2           14.8              212.0   \n",
       "343  Gentoo  Biscoe            49.9           16.1              213.0   \n",
       "\n",
       "     body_mass_g     sex  \n",
       "339          NaN     NaN  \n",
       "340       4850.0  Female  \n",
       "341       5750.0    Male  \n",
       "342       5200.0  Female  \n",
       "343       5400.0    Male  "
      ]
     },
     "execution_count": 1853,
     "metadata": {},
     "output_type": "execute_result"
    },
    {
     "data": {
      "image/png": "[encoded data removed]",
      "text/plain": [
       "<Figure size 500x500 with 1 Axes>"
      ]
     },
     "metadata": {},
     "output_type": "display_data"
    }
   ],
   "source": [
    "sns.set_theme(style=\"whitegrid\")\n",
    "\n",
    "penguins = sns.load_dataset(\"penguins\")\n",
    "# Draw a nested barplot by species and sex\n",
    "g = sns.catplot(\n",
    "    data=data, kind=\"bar\"\n",
    "    # x=\"species\", y=\"body_mass_g\", hue=\"sex\",\n",
    "    # errorbar=\"sd\", palette=\"dark\", alpha=.6, height=6\n",
    ")\n",
    "g.despine(left=True)\n",
    "g.set_axis_labels(\"\", \"Body mass (g)\")\n",
    "# g.legend.set_title(\"\")\n",
    "penguins.tail(5)\n"
   ]
  },
  {
   "cell_type": "code",
   "execution_count": 1854,
   "id": "8cd569c9-1c1e-48a3-9959-75b33e343fbe",
   "metadata": {},
   "outputs": [
    {
     "data": {
      "text/html": [
       "<div>\n",
       "<style scoped>\n",
       "    .dataframe tbody tr th:only-of-type {\n",
       "        vertical-align: middle;\n",
       "    }\n",
       "\n",
       "    .dataframe tbody tr th {\n",
       "        vertical-align: top;\n",
       "    }\n",
       "\n",
       "    .dataframe thead th {\n",
       "        text-align: right;\n",
       "    }\n",
       "</style>\n",
       "<table border=\"1\" class=\"dataframe\">\n",
       "  <thead>\n",
       "    <tr style=\"text-align: right;\">\n",
       "      <th></th>\n",
       "      <th>0</th>\n",
       "      <th>1</th>\n",
       "    </tr>\n",
       "  </thead>\n",
       "  <tbody>\n",
       "    <tr>\n",
       "      <th>0</th>\n",
       "      <td>64</td>\n",
       "      <td>65</td>\n",
       "    </tr>\n",
       "    <tr>\n",
       "      <th>1</th>\n",
       "      <td>93</td>\n",
       "      <td>81</td>\n",
       "    </tr>\n",
       "    <tr>\n",
       "      <th>2</th>\n",
       "      <td>57</td>\n",
       "      <td>73</td>\n",
       "    </tr>\n",
       "    <tr>\n",
       "      <th>3</th>\n",
       "      <td>75</td>\n",
       "      <td>70</td>\n",
       "    </tr>\n",
       "  </tbody>\n",
       "</table>\n",
       "</div>"
      ],
      "text/plain": [
       "    0   1\n",
       "0  64  65\n",
       "1  93  81\n",
       "2  57  73\n",
       "3  75  70"
      ]
     },
     "execution_count": 1854,
     "metadata": {},
     "output_type": "execute_result"
    }
   ],
   "source": [
    "data"
   ]
  },
  {
   "cell_type": "code",
   "execution_count": null,
   "id": "01c1fef6-524d-4614-8b1a-36fc3567c9ad",
   "metadata": {},
   "outputs": [],
   "source": []
  },
  {
   "cell_type": "code",
   "execution_count": null,
   "id": "3a80545e-f4d4-4b77-bb5b-63593956640b",
   "metadata": {},
   "outputs": [],
   "source": []
  },
  {
   "cell_type": "code",
   "execution_count": null,
   "id": "f175b5b6-8bd5-4aed-bdcb-d81d48274606",
   "metadata": {},
   "outputs": [],
   "source": []
  },
  {
   "cell_type": "code",
   "execution_count": null,
   "id": "142ae9ea-6f09-4941-a5bb-f8970d36b93f",
   "metadata": {},
   "outputs": [],
   "source": []
  },
  {
   "cell_type": "code",
   "execution_count": null,
   "id": "e46a95e0-57bd-4d5c-99dd-f62143e81344",
   "metadata": {},
   "outputs": [],
   "source": []
  },
  {
   "cell_type": "code",
   "execution_count": null,
   "id": "9494ee7e-d655-4958-9bad-56d84c9d622e",
   "metadata": {},
   "outputs": [],
   "source": []
  },
  {
   "cell_type": "code",
   "execution_count": null,
   "id": "90681ea7-714d-4aaf-8dae-6fa304e00e1e",
   "metadata": {},
   "outputs": [],
   "source": []
  },
  {
   "cell_type": "code",
   "execution_count": null,
   "id": "80cbc7a0-8752-40df-b575-57f0ee60475f",
   "metadata": {},
   "outputs": [],
   "source": []
  },
  {
   "cell_type": "code",
   "execution_count": null,
   "id": "a3d8c816-aab8-4adb-87a3-4f1808984f50",
   "metadata": {},
   "outputs": [],
   "source": []
  }
 ],
 "metadata": {
  "kernelspec": {
   "display_name": "Python 3 (ipykernel)",
   "language": "python",
   "name": "python3"
  },
  "language_info": {
   "codemirror_mode": {
    "name": "ipython",
    "version": 3
   },
   "file_extension": ".py",
   "mimetype": "text/x-python",
   "name": "python",
   "nbconvert_exporter": "python",
   "pygments_lexer": "ipython3",
   "version": "3.8.10"
  }
 },
 "nbformat": 4,
 "nbformat_minor": 5
}
