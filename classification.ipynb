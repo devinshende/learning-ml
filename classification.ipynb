{
 "cells": [
  {
   "cell_type": "markdown",
   "id": "4c4f9e88-3552-4e0b-852f-2f2a5ac61f3d",
   "metadata": {},
   "source": [
    "# Classification Prediction"
   ]
  },
  {
   "cell_type": "code",
   "execution_count": 1308,
   "id": "98d47b09-6f42-412c-aa3f-112d7d28fdab",
   "metadata": {},
   "outputs": [],
   "source": [
    "from sklearn.preprocessing import MinMaxScaler\n",
    "from sklearn.model_selection import train_test_split\n",
    "from sklearn.metrics import mean_squared_error, mean_absolute_error, accuracy_score\n",
    "from sklearn.model_selection import train_test_split\n",
    "from sklearn.datasets import make_regression\n",
    "from sklearn.preprocessing import MinMaxScaler\n",
    "from sklearn.preprocessing import StandardScaler\n",
    "\n",
    "from tqdm import tqdm\n",
    "import pandas as pd\n",
    "import humanize\n",
    "from datetime import datetime, timedelta\n",
    "import time\n",
    "import numpy as np\n",
    "import seaborn as sns\n",
    "import ast\n",
    "import matplotlib.pyplot as plt\n",
    "import matplotlib.patches as mpatches"
   ]
  },
  {
   "cell_type": "code",
   "execution_count": 1309,
   "id": "09a99f0b-be05-4d86-a34f-fc93946948ab",
   "metadata": {},
   "outputs": [],
   "source": [
    "CATEGORIES = [1935, 3307, 11000, 260000]"
   ]
  },
  {
   "cell_type": "code",
   "execution_count": 1310,
   "id": "e52cfaf4-6e3d-4619-b984-e7d833ea3925",
   "metadata": {},
   "outputs": [
    {
     "name": "stdout",
     "output_type": "stream",
     "text": [
      "1567\n"
     ]
    }
   ],
   "source": [
    "df = pd.read_csv(\"training_data.csv\")\n",
    "df = df.drop(columns=df.columns[0])\n",
    "df.head()\n",
    "print(len(df))"
   ]
  },
  {
   "cell_type": "code",
   "execution_count": 1311,
   "id": "90df94f4-33f4-41e7-be6e-4fcdee2f8042",
   "metadata": {},
   "outputs": [],
   "source": [
    "def print_score(pred, true):\n",
    "    print(\"Mean Squared Error:\".ljust(22,\" \"),round(mean_squared_error(true, pred),5))\n",
    "    print(\"Mean Absolute Error:\".ljust(22,\" \"), round(mean_absolute_error(true, pred),5))\n",
    "    \n",
    "def convert(seconds):\n",
    "    return humanize.naturaldelta(timedelta(seconds=seconds))\n",
    "\n",
    "def show_diff(predictions,y_test,n=25):\n",
    "    print(\"PREDICTION\\t RESULT\\t\\t DIFFERENCE\")\n",
    "    print(\"-\"*45)\n",
    "    for i in range(0,n):\n",
    "        print(predictions[i], \"\\t\",y_test[i], \"\\t\", y_test[i] - predictions[i])\n",
    "\n",
    "def show_plots(predictions, y_test, s=4):\n",
    "    plt.subplot(211)\n",
    "    plt.title(\"Test Results and Predictions\")\n",
    "    plt.scatter(range(len(y_test)),y_test,s=s)\n",
    "    plt.xlabel(\"X_test[i]\")\n",
    "    plt.ylabel(\"correct answer\")\n",
    "    plt.subplot(212)\n",
    "    plt.scatter(range(len(predictions)),predictions,s=s)\n",
    "    plt.ylabel(\"predictions\")\n",
    "    plt.show()\n",
    "\n",
    "pred = {}\n",
    "models = {}"
   ]
  },
  {
   "cell_type": "markdown",
   "id": "637f4d7c-6ed9-421b-84cc-5904022e4868",
   "metadata": {},
   "source": [
    "## Remove Outliers from DataFrame\n",
    "any simulations over 26000 seconds is what this just about works out to be"
   ]
  },
  {
   "cell_type": "code",
   "execution_count": 1312,
   "id": "0b895cde-3c1f-4332-8948-c81844c3b97f",
   "metadata": {},
   "outputs": [],
   "source": [
    "import pandas as pd\n",
    "import numpy as np\n",
    "from scipy import stats\n",
    "\n",
    "df = df[(np.abs(stats.zscore(df)) < 3).all(axis=1)]"
   ]
  },
  {
   "cell_type": "code",
   "execution_count": 1313,
   "id": "e263fbd1-0cef-4374-8ad7-7f1683221564",
   "metadata": {},
   "outputs": [
    {
     "data": {
      "text/html": [
       "<div>\n",
       "<style scoped>\n",
       "    .dataframe tbody tr th:only-of-type {\n",
       "        vertical-align: middle;\n",
       "    }\n",
       "\n",
       "    .dataframe tbody tr th {\n",
       "        vertical-align: top;\n",
       "    }\n",
       "\n",
       "    .dataframe thead th {\n",
       "        text-align: right;\n",
       "    }\n",
       "</style>\n",
       "<table border=\"1\" class=\"dataframe\">\n",
       "  <thead>\n",
       "    <tr style=\"text-align: right;\">\n",
       "      <th></th>\n",
       "      <th>runtime</th>\n",
       "      <th>sim_time</th>\n",
       "      <th>surface_moisture</th>\n",
       "      <th>timestep</th>\n",
       "      <th>wind_direction</th>\n",
       "      <th>wind_speed</th>\n",
       "      <th>canopy_moisture</th>\n",
       "      <th>run_max_mem_rss_bytes</th>\n",
       "      <th>area</th>\n",
       "      <th>steps_fire</th>\n",
       "    </tr>\n",
       "  </thead>\n",
       "  <tbody>\n",
       "    <tr>\n",
       "      <th>count</th>\n",
       "      <td>1442.000000</td>\n",
       "      <td>1442.000000</td>\n",
       "      <td>1442.000000</td>\n",
       "      <td>1442.0</td>\n",
       "      <td>1442.000000</td>\n",
       "      <td>1442.000000</td>\n",
       "      <td>1442.000000</td>\n",
       "      <td>1442.000000</td>\n",
       "      <td>1442.000000</td>\n",
       "      <td>1442.0</td>\n",
       "    </tr>\n",
       "    <tr>\n",
       "      <th>mean</th>\n",
       "      <td>6396.604022</td>\n",
       "      <td>0.103108</td>\n",
       "      <td>0.400160</td>\n",
       "      <td>1.0</td>\n",
       "      <td>0.459015</td>\n",
       "      <td>0.154201</td>\n",
       "      <td>0.741823</td>\n",
       "      <td>0.087422</td>\n",
       "      <td>0.098965</td>\n",
       "      <td>1.0</td>\n",
       "    </tr>\n",
       "    <tr>\n",
       "      <th>std</th>\n",
       "      <td>5750.241251</td>\n",
       "      <td>0.067780</td>\n",
       "      <td>0.201488</td>\n",
       "      <td>0.0</td>\n",
       "      <td>0.222123</td>\n",
       "      <td>0.121748</td>\n",
       "      <td>0.167932</td>\n",
       "      <td>0.055161</td>\n",
       "      <td>0.095449</td>\n",
       "      <td>0.0</td>\n",
       "    </tr>\n",
       "    <tr>\n",
       "      <th>min</th>\n",
       "      <td>10.000000</td>\n",
       "      <td>0.041846</td>\n",
       "      <td>0.000000</td>\n",
       "      <td>1.0</td>\n",
       "      <td>0.000000</td>\n",
       "      <td>0.000000</td>\n",
       "      <td>0.250000</td>\n",
       "      <td>0.000000</td>\n",
       "      <td>0.000000</td>\n",
       "      <td>1.0</td>\n",
       "    </tr>\n",
       "    <tr>\n",
       "      <th>25%</th>\n",
       "      <td>1935.000000</td>\n",
       "      <td>0.050966</td>\n",
       "      <td>0.272727</td>\n",
       "      <td>1.0</td>\n",
       "      <td>0.305913</td>\n",
       "      <td>0.051458</td>\n",
       "      <td>0.750000</td>\n",
       "      <td>0.045511</td>\n",
       "      <td>0.061078</td>\n",
       "      <td>1.0</td>\n",
       "    </tr>\n",
       "    <tr>\n",
       "      <th>50%</th>\n",
       "      <td>3307.000000</td>\n",
       "      <td>0.076433</td>\n",
       "      <td>0.303030</td>\n",
       "      <td>1.0</td>\n",
       "      <td>0.383033</td>\n",
       "      <td>0.144583</td>\n",
       "      <td>0.750000</td>\n",
       "      <td>0.100226</td>\n",
       "      <td>0.061357</td>\n",
       "      <td>1.0</td>\n",
       "    </tr>\n",
       "    <tr>\n",
       "      <th>75%</th>\n",
       "      <td>10958.250000</td>\n",
       "      <td>0.128999</td>\n",
       "      <td>0.606061</td>\n",
       "      <td>1.0</td>\n",
       "      <td>0.652956</td>\n",
       "      <td>0.237708</td>\n",
       "      <td>0.833333</td>\n",
       "      <td>0.109813</td>\n",
       "      <td>0.091384</td>\n",
       "      <td>1.0</td>\n",
       "    </tr>\n",
       "    <tr>\n",
       "      <th>max</th>\n",
       "      <td>25866.000000</td>\n",
       "      <td>0.309009</td>\n",
       "      <td>0.909091</td>\n",
       "      <td>1.0</td>\n",
       "      <td>1.000000</td>\n",
       "      <td>0.583333</td>\n",
       "      <td>1.000000</td>\n",
       "      <td>0.248807</td>\n",
       "      <td>0.354496</td>\n",
       "      <td>1.0</td>\n",
       "    </tr>\n",
       "  </tbody>\n",
       "</table>\n",
       "</div>"
      ],
      "text/plain": [
       "            runtime     sim_time  surface_moisture  timestep  wind_direction  \\\n",
       "count   1442.000000  1442.000000       1442.000000    1442.0     1442.000000   \n",
       "mean    6396.604022     0.103108          0.400160       1.0        0.459015   \n",
       "std     5750.241251     0.067780          0.201488       0.0        0.222123   \n",
       "min       10.000000     0.041846          0.000000       1.0        0.000000   \n",
       "25%     1935.000000     0.050966          0.272727       1.0        0.305913   \n",
       "50%     3307.000000     0.076433          0.303030       1.0        0.383033   \n",
       "75%    10958.250000     0.128999          0.606061       1.0        0.652956   \n",
       "max    25866.000000     0.309009          0.909091       1.0        1.000000   \n",
       "\n",
       "        wind_speed  canopy_moisture  run_max_mem_rss_bytes         area  \\\n",
       "count  1442.000000      1442.000000            1442.000000  1442.000000   \n",
       "mean      0.154201         0.741823               0.087422     0.098965   \n",
       "std       0.121748         0.167932               0.055161     0.095449   \n",
       "min       0.000000         0.250000               0.000000     0.000000   \n",
       "25%       0.051458         0.750000               0.045511     0.061078   \n",
       "50%       0.144583         0.750000               0.100226     0.061357   \n",
       "75%       0.237708         0.833333               0.109813     0.091384   \n",
       "max       0.583333         1.000000               0.248807     0.354496   \n",
       "\n",
       "       steps_fire  \n",
       "count      1442.0  \n",
       "mean          1.0  \n",
       "std           0.0  \n",
       "min           1.0  \n",
       "25%           1.0  \n",
       "50%           1.0  \n",
       "75%           1.0  \n",
       "max           1.0  "
      ]
     },
     "execution_count": 1313,
     "metadata": {},
     "output_type": "execute_result"
    }
   ],
   "source": [
    "df.describe()"
   ]
  },
  {
   "cell_type": "code",
   "execution_count": 1314,
   "id": "3a850ecf-0753-4eb1-9c10-ca096ab22472",
   "metadata": {},
   "outputs": [
    {
     "data": {
      "image/png": "[encoded data removed]",
      "text/plain": [
       "<Figure size 640x480 with 1 Axes>"
      ]
     },
     "metadata": {},
     "output_type": "display_data"
    }
   ],
   "source": [
    "plt.title(\"Runtime Distribution After Outliers are Removed\")\n",
    "plt.scatter(range(len(df[\"runtime\"])),df[\"runtime\"],s=4)\n",
    "plt.ylabel(\"Runtime in seconds\")\n",
    "plt.xlabel(\"Data point [i]\")\n",
    "plt.show()"
   ]
  },
  {
   "cell_type": "code",
   "execution_count": 1315,
   "id": "39b3beb2-b6a7-41cd-9176-a8e08e99a87a",
   "metadata": {},
   "outputs": [
    {
     "data": {
      "text/plain": [
       "<Axes: xlabel='runtime', ylabel='Count'>"
      ]
     },
     "execution_count": 1315,
     "metadata": {},
     "output_type": "execute_result"
    },
    {
     "data": {
      "image/png": "[encoded data removed]",
      "text/plain": [
       "<Figure size 640x480 with 1 Axes>"
      ]
     },
     "metadata": {},
     "output_type": "display_data"
    }
   ],
   "source": [
    "sns.histplot(df[\"runtime\"])"
   ]
  },
  {
   "cell_type": "code",
   "execution_count": 1316,
   "id": "caefa034-758f-49a8-be98-c6076c3a9fdb",
   "metadata": {},
   "outputs": [
    {
     "name": "stdout",
     "output_type": "stream",
     "text": [
      "a minute\n",
      "33 minutes\n",
      "55 minutes\n",
      "3 hours\n",
      "7 hours\n"
     ]
    }
   ],
   "source": [
    "for i in [100, 2000, 3300, 11000, 26000]:\n",
    "    print(f\"{convert(i)}\")"
   ]
  },
  {
   "cell_type": "code",
   "execution_count": 1317,
   "id": "6a858a63-3b74-4b3b-9967-f5073abbdb98",
   "metadata": {},
   "outputs": [],
   "source": [
    "def categorize(seconds):\n",
    "    global CATEGORIES\n",
    "    for i in range(len(CATEGORIES)):\n",
    "        if (seconds <= CATEGORIES[i]):\n",
    "            return i\n",
    "\n",
    "def print_categories():\n",
    "    global CATEGORIES\n",
    "    for i in range(len(CATEGORIES)):\n",
    "        print(f\"{convert(CATEGORIES[i])}   \\t{i}\")"
   ]
  },
  {
   "cell_type": "code",
   "execution_count": 1318,
   "id": "09b9ea3d-5e76-4b6a-9812-71d90df49679",
   "metadata": {},
   "outputs": [
    {
     "data": {
      "text/html": [
       "<div>\n",
       "<style scoped>\n",
       "    .dataframe tbody tr th:only-of-type {\n",
       "        vertical-align: middle;\n",
       "    }\n",
       "\n",
       "    .dataframe tbody tr th {\n",
       "        vertical-align: top;\n",
       "    }\n",
       "\n",
       "    .dataframe thead th {\n",
       "        text-align: right;\n",
       "    }\n",
       "</style>\n",
       "<table border=\"1\" class=\"dataframe\">\n",
       "  <thead>\n",
       "    <tr style=\"text-align: right;\">\n",
       "      <th></th>\n",
       "      <th>runtime</th>\n",
       "      <th>sim_time</th>\n",
       "      <th>surface_moisture</th>\n",
       "      <th>timestep</th>\n",
       "      <th>wind_direction</th>\n",
       "      <th>wind_speed</th>\n",
       "      <th>canopy_moisture</th>\n",
       "      <th>run_max_mem_rss_bytes</th>\n",
       "      <th>area</th>\n",
       "      <th>steps_fire</th>\n",
       "      <th>runtime_ca</th>\n",
       "    </tr>\n",
       "  </thead>\n",
       "  <tbody>\n",
       "    <tr>\n",
       "      <th>0</th>\n",
       "      <td>5475</td>\n",
       "      <td>0.050966</td>\n",
       "      <td>0.303030</td>\n",
       "      <td>1.0</td>\n",
       "      <td>0.241645</td>\n",
       "      <td>0.051458</td>\n",
       "      <td>0.833333</td>\n",
       "      <td>0.074582</td>\n",
       "      <td>0.046235</td>\n",
       "      <td>1.0</td>\n",
       "      <td>2</td>\n",
       "    </tr>\n",
       "    <tr>\n",
       "      <th>1</th>\n",
       "      <td>9737</td>\n",
       "      <td>0.128999</td>\n",
       "      <td>0.151515</td>\n",
       "      <td>1.0</td>\n",
       "      <td>0.305913</td>\n",
       "      <td>0.144583</td>\n",
       "      <td>0.750000</td>\n",
       "      <td>0.100625</td>\n",
       "      <td>0.293084</td>\n",
       "      <td>1.0</td>\n",
       "      <td>2</td>\n",
       "    </tr>\n",
       "    <tr>\n",
       "      <th>2</th>\n",
       "      <td>501</td>\n",
       "      <td>0.044546</td>\n",
       "      <td>0.363636</td>\n",
       "      <td>1.0</td>\n",
       "      <td>0.768638</td>\n",
       "      <td>0.051458</td>\n",
       "      <td>0.791667</td>\n",
       "      <td>0.005656</td>\n",
       "      <td>0.011231</td>\n",
       "      <td>1.0</td>\n",
       "      <td>0</td>\n",
       "    </tr>\n",
       "    <tr>\n",
       "      <th>3</th>\n",
       "      <td>4325</td>\n",
       "      <td>0.055708</td>\n",
       "      <td>0.303030</td>\n",
       "      <td>1.0</td>\n",
       "      <td>0.426735</td>\n",
       "      <td>0.083333</td>\n",
       "      <td>0.916667</td>\n",
       "      <td>0.099840</td>\n",
       "      <td>0.131749</td>\n",
       "      <td>1.0</td>\n",
       "      <td>2</td>\n",
       "    </tr>\n",
       "    <tr>\n",
       "      <th>4</th>\n",
       "      <td>9008</td>\n",
       "      <td>0.170005</td>\n",
       "      <td>0.454545</td>\n",
       "      <td>1.0</td>\n",
       "      <td>1.000000</td>\n",
       "      <td>0.144583</td>\n",
       "      <td>0.833333</td>\n",
       "      <td>0.171107</td>\n",
       "      <td>0.061357</td>\n",
       "      <td>1.0</td>\n",
       "      <td>2</td>\n",
       "    </tr>\n",
       "  </tbody>\n",
       "</table>\n",
       "</div>"
      ],
      "text/plain": [
       "   runtime  sim_time  surface_moisture  timestep  wind_direction  wind_speed  \\\n",
       "0     5475  0.050966          0.303030       1.0        0.241645    0.051458   \n",
       "1     9737  0.128999          0.151515       1.0        0.305913    0.144583   \n",
       "2      501  0.044546          0.363636       1.0        0.768638    0.051458   \n",
       "3     4325  0.055708          0.303030       1.0        0.426735    0.083333   \n",
       "4     9008  0.170005          0.454545       1.0        1.000000    0.144583   \n",
       "\n",
       "   canopy_moisture  run_max_mem_rss_bytes      area  steps_fire  runtime_ca  \n",
       "0         0.833333               0.074582  0.046235         1.0           2  \n",
       "1         0.750000               0.100625  0.293084         1.0           2  \n",
       "2         0.791667               0.005656  0.011231         1.0           0  \n",
       "3         0.916667               0.099840  0.131749         1.0           2  \n",
       "4         0.833333               0.171107  0.061357         1.0           2  "
      ]
     },
     "execution_count": 1318,
     "metadata": {},
     "output_type": "execute_result"
    }
   ],
   "source": [
    "runtime_categories = df.apply(lambda row: categorize(row[\"runtime\"]), axis=1)\n",
    "# df.insert(0, \"runtime_ca\", runtime_categories)\n",
    "df[\"runtime_ca\"] = runtime_categories\n",
    "df.head()"
   ]
  },
  {
   "cell_type": "code",
   "execution_count": 1319,
   "id": "f91018d6-1f34-44c2-ac65-d63fef27153d",
   "metadata": {},
   "outputs": [
    {
     "name": "stdout",
     "output_type": "stream",
     "text": [
      "32 minutes \t 0\n",
      "55 minutes \t 1\n",
      "3 hours \t 2\n",
      "3 days \t 3\n"
     ]
    },
    {
     "data": {
      "text/plain": [
       "runtime_ca\n",
       "2    364\n",
       "0    361\n",
       "1    360\n",
       "3    357\n",
       "Name: count, dtype: int64"
      ]
     },
     "execution_count": 1319,
     "metadata": {},
     "output_type": "execute_result"
    },
    {
     "data": {
      "image/png": "[encoded data removed]",
      "text/plain": [
       "<Figure size 640x480 with 1 Axes>"
      ]
     },
     "metadata": {},
     "output_type": "display_data"
    }
   ],
   "source": [
    "for i in range(len(CATEGORIES)):\n",
    "    print(convert(CATEGORIES[i]),\"\\t\",i)\n",
    "df[\"runtime_ca\"].value_counts().plot(kind=\"bar\")\n",
    "df[\"runtime_ca\"].value_counts()\n"
   ]
  },
  {
   "cell_type": "code",
   "execution_count": 1320,
   "id": "520e08ac-d72f-43e8-a0dc-d1149570c315",
   "metadata": {},
   "outputs": [
    {
     "data": {
      "text/html": [
       "<div>\n",
       "<style scoped>\n",
       "    .dataframe tbody tr th:only-of-type {\n",
       "        vertical-align: middle;\n",
       "    }\n",
       "\n",
       "    .dataframe tbody tr th {\n",
       "        vertical-align: top;\n",
       "    }\n",
       "\n",
       "    .dataframe thead th {\n",
       "        text-align: right;\n",
       "    }\n",
       "</style>\n",
       "<table border=\"1\" class=\"dataframe\">\n",
       "  <thead>\n",
       "    <tr style=\"text-align: right;\">\n",
       "      <th></th>\n",
       "      <th>sim_time</th>\n",
       "      <th>surface_moisture</th>\n",
       "      <th>timestep</th>\n",
       "      <th>wind_direction</th>\n",
       "      <th>wind_speed</th>\n",
       "      <th>canopy_moisture</th>\n",
       "      <th>run_max_mem_rss_bytes</th>\n",
       "      <th>area</th>\n",
       "      <th>steps_fire</th>\n",
       "    </tr>\n",
       "  </thead>\n",
       "  <tbody>\n",
       "    <tr>\n",
       "      <th>1562</th>\n",
       "      <td>0.045317</td>\n",
       "      <td>0.303030</td>\n",
       "      <td>1.0</td>\n",
       "      <td>0.228792</td>\n",
       "      <td>0.051458</td>\n",
       "      <td>0.750000</td>\n",
       "      <td>0.000000</td>\n",
       "      <td>0.000000</td>\n",
       "      <td>1.0</td>\n",
       "    </tr>\n",
       "    <tr>\n",
       "      <th>1563</th>\n",
       "      <td>0.128738</td>\n",
       "      <td>0.151515</td>\n",
       "      <td>1.0</td>\n",
       "      <td>0.460154</td>\n",
       "      <td>0.125958</td>\n",
       "      <td>0.833333</td>\n",
       "      <td>0.100649</td>\n",
       "      <td>0.293084</td>\n",
       "      <td>1.0</td>\n",
       "    </tr>\n",
       "    <tr>\n",
       "      <th>1564</th>\n",
       "      <td>0.044546</td>\n",
       "      <td>0.212121</td>\n",
       "      <td>1.0</td>\n",
       "      <td>0.691517</td>\n",
       "      <td>0.051458</td>\n",
       "      <td>0.791667</td>\n",
       "      <td>0.005659</td>\n",
       "      <td>0.011231</td>\n",
       "      <td>1.0</td>\n",
       "    </tr>\n",
       "    <tr>\n",
       "      <th>1565</th>\n",
       "      <td>0.309009</td>\n",
       "      <td>0.454545</td>\n",
       "      <td>1.0</td>\n",
       "      <td>0.228792</td>\n",
       "      <td>0.144583</td>\n",
       "      <td>0.750000</td>\n",
       "      <td>0.171151</td>\n",
       "      <td>0.061357</td>\n",
       "      <td>1.0</td>\n",
       "    </tr>\n",
       "    <tr>\n",
       "      <th>1566</th>\n",
       "      <td>0.045317</td>\n",
       "      <td>0.303030</td>\n",
       "      <td>1.0</td>\n",
       "      <td>0.305913</td>\n",
       "      <td>0.051458</td>\n",
       "      <td>0.750000</td>\n",
       "      <td>0.000155</td>\n",
       "      <td>0.000000</td>\n",
       "      <td>1.0</td>\n",
       "    </tr>\n",
       "  </tbody>\n",
       "</table>\n",
       "</div>"
      ],
      "text/plain": [
       "      sim_time  surface_moisture  timestep  wind_direction  wind_speed  \\\n",
       "1562  0.045317          0.303030       1.0        0.228792    0.051458   \n",
       "1563  0.128738          0.151515       1.0        0.460154    0.125958   \n",
       "1564  0.044546          0.212121       1.0        0.691517    0.051458   \n",
       "1565  0.309009          0.454545       1.0        0.228792    0.144583   \n",
       "1566  0.045317          0.303030       1.0        0.305913    0.051458   \n",
       "\n",
       "      canopy_moisture  run_max_mem_rss_bytes      area  steps_fire  \n",
       "1562         0.750000               0.000000  0.000000         1.0  \n",
       "1563         0.833333               0.100649  0.293084         1.0  \n",
       "1564         0.791667               0.005659  0.011231         1.0  \n",
       "1565         0.750000               0.171151  0.061357         1.0  \n",
       "1566         0.750000               0.000155  0.000000         1.0  "
      ]
     },
     "execution_count": 1320,
     "metadata": {},
     "output_type": "execute_result"
    }
   ],
   "source": [
    "y = df[\"runtime_ca\"]\n",
    "X = df.drop(columns=[\"runtime\",\"runtime_ca\"])\n",
    "X.tail()"
   ]
  },
  {
   "cell_type": "code",
   "execution_count": 1321,
   "id": "3b76a85d-1cfa-4d6d-bbc0-86635328faf8",
   "metadata": {},
   "outputs": [
    {
     "name": "stdout",
     "output_type": "stream",
     "text": [
      "1153 289 1153 289\n"
     ]
    }
   ],
   "source": [
    "TEST_RATIO = 0.2\n",
    "\n",
    "X_train, X_test, y_train, y_test = train_test_split(X, y, test_size=TEST_RATIO,random_state=42)\n",
    "\n",
    "X_train = np.array(X_train)\n",
    "X_test = np.array(X_test)\n",
    "y_train = np.array(y_train)\n",
    "y_test = np.array(y_test)\n",
    "\n",
    "print(len(X_train), len(X_test), len(y_train), len(y_test))"
   ]
  },
  {
   "cell_type": "markdown",
   "id": "216b8be2-5fa2-4724-9d90-63760caa8a60",
   "metadata": {},
   "source": [
    "# Classification Approaches\n",
    "- K Means clustering\n",
    "- SVM\n",
    "- decision tree\n",
    "  "
   ]
  },
  {
   "cell_type": "markdown",
   "id": "0c4f8223-d89f-4cc9-b5e9-f9e0af761217",
   "metadata": {},
   "source": [
    "# K Means Clustering"
   ]
  },
  {
   "cell_type": "code",
   "execution_count": 1322,
   "id": "8b2da5be-8b35-4b57-826c-98b51d2f9a55",
   "metadata": {},
   "outputs": [],
   "source": [
    "from sklearn.cluster import KMeans\n",
    "\n",
    "# ------ experiment with cluster amount ---------- #\n",
    "n_clusters = len(CATEGORIES)\n",
    "# ------ experiment with cluster amount ---------- #\n",
    "\n",
    "model = KMeans(n_clusters=n_clusters, n_init=10)\n",
    "model = model.fit(X_train,y_train)"
   ]
  },
  {
   "cell_type": "code",
   "execution_count": 1323,
   "id": "92f968df-9f7a-42ce-ae2b-5fc74137b850",
   "metadata": {},
   "outputs": [],
   "source": [
    "pred[\"Kmeans\"] = model.predict(X_test)\n",
    "models[\"Kmeans\"] = model"
   ]
  },
  {
   "cell_type": "code",
   "execution_count": 1324,
   "id": "ae605f39-6133-4a0e-a117-31a595b0e69f",
   "metadata": {},
   "outputs": [
    {
     "name": "stdout",
     "output_type": "stream",
     "text": [
      "Mean Squared Error:    2.34256\n",
      "Mean Absolute Error:   1.29066\n"
     ]
    }
   ],
   "source": [
    "print_score(pred[\"Kmeans\"], y_test)"
   ]
  },
  {
   "cell_type": "code",
   "execution_count": 1325,
   "id": "42b07ffe-97ae-4aae-aad9-0c00ed4b1add",
   "metadata": {},
   "outputs": [
    {
     "data": {
      "text/plain": [
       "0.1522491349480969"
      ]
     },
     "execution_count": 1325,
     "metadata": {},
     "output_type": "execute_result"
    }
   ],
   "source": [
    "accuracy_score(y_true=y_test,y_pred=pred[\"Kmeans\"])"
   ]
  },
  {
   "cell_type": "markdown",
   "id": "0c5b0eea-7668-4faa-91d7-0c6b5e7d5261",
   "metadata": {},
   "source": [
    "15% is very bad accuracy, something must be wrong with my approach to using K means here but I am not sure so I will try another model. Could be an input data problem but I am skeptical of that"
   ]
  },
  {
   "cell_type": "markdown",
   "id": "46f3eba8-8ab2-4b73-a0d9-ab034552c097",
   "metadata": {},
   "source": [
    "# SVM"
   ]
  },
  {
   "cell_type": "code",
   "execution_count": 1326,
   "id": "13dbbf2c-feb2-4ee8-9e08-4fa9ab8d62ff",
   "metadata": {},
   "outputs": [],
   "source": [
    "from sklearn.svm import SVC\n",
    "model = SVC(kernel='rbf')\n",
    "model = model.fit(X_train,y_train)"
   ]
  },
  {
   "cell_type": "code",
   "execution_count": 1327,
   "id": "42b3f036-a210-4cd7-a01d-ff36476864fb",
   "metadata": {},
   "outputs": [
    {
     "data": {
      "text/plain": [
       "0.6539792387543253"
      ]
     },
     "execution_count": 1327,
     "metadata": {},
     "output_type": "execute_result"
    }
   ],
   "source": [
    "pred[\"SVM\"] = model.predict(X_test)\n",
    "models[\"SVM\"] = model\n",
    "accuracy_score(y_true=y_test,y_pred=pred[\"SVM\"])"
   ]
  },
  {
   "cell_type": "markdown",
   "id": "9198b0bd-b863-46b0-a25b-aa1ba5fe40ef",
   "metadata": {},
   "source": [
    "# Decision Tree Classifier"
   ]
  },
  {
   "cell_type": "code",
   "execution_count": 1328,
   "id": "02d97bc1-da2d-423f-9600-1ce350fe0ff3",
   "metadata": {},
   "outputs": [],
   "source": [
    "from sklearn.tree import DecisionTreeClassifier\n",
    "model = DecisionTreeClassifier()\n",
    "model = model.fit(X_train, y_train)"
   ]
  },
  {
   "cell_type": "code",
   "execution_count": 1329,
   "id": "efd8826f-7e0c-45e2-b85a-42fa44708d3b",
   "metadata": {},
   "outputs": [
    {
     "data": {
      "text/plain": [
       "0.657439446366782"
      ]
     },
     "execution_count": 1329,
     "metadata": {},
     "output_type": "execute_result"
    }
   ],
   "source": [
    "pred[\"DecisionTree\"] = model.predict(X_test)\n",
    "models[\"DecisionTree\"] = model\n",
    "accuracy_score(y_true=y_test,y_pred=pred[\"DecisionTree\"])"
   ]
  },
  {
   "cell_type": "code",
   "execution_count": null,
   "id": "c10a03f5-97e8-4814-9de6-32bf8a914f7f",
   "metadata": {},
   "outputs": [],
   "source": []
  },
  {
   "cell_type": "markdown",
   "id": "00e76bda-09ef-4265-b4bd-45dc2cd08758",
   "metadata": {},
   "source": [
    "# Logistic Regression"
   ]
  },
  {
   "cell_type": "markdown",
   "id": "a2f5d38c-d872-4bfc-b4e1-6e48c259c20d",
   "metadata": {},
   "source": [
    "currently not working"
   ]
  },
  {
   "cell_type": "code",
   "execution_count": 1330,
   "id": "23cf2d57-1e07-4117-ad91-9f7a15f59f23",
   "metadata": {},
   "outputs": [],
   "source": [
    "from sklearn.linear_model import LogisticRegression\n",
    "model = LogisticRegression(max_iter=400)\n",
    "model = model.fit(X_train, y_train)"
   ]
  },
  {
   "cell_type": "code",
   "execution_count": 1331,
   "id": "ce24f917-342c-4024-86ca-1d3ba7dcec15",
   "metadata": {},
   "outputs": [
    {
     "data": {
      "text/plain": [
       "0.5813148788927336"
      ]
     },
     "execution_count": 1331,
     "metadata": {},
     "output_type": "execute_result"
    }
   ],
   "source": [
    "pred[\"LogisticRegression\"] = model.predict(X_test)\n",
    "models[\"LogisticRegression\"] = model\n",
    "accuracy_score(y_true=y_test,y_pred=pred[\"LogisticRegression\"])"
   ]
  },
  {
   "cell_type": "markdown",
   "id": "cabd7aa9-48aa-4108-a717-a37d133a2f84",
   "metadata": {},
   "source": [
    "# Stochastic Gradient Descent"
   ]
  },
  {
   "cell_type": "code",
   "execution_count": 1332,
   "id": "70e22a9c-7f50-4cb0-9731-f17eb3ecbe82",
   "metadata": {},
   "outputs": [],
   "source": [
    "from sklearn.linear_model import SGDClassifier\n",
    "model = SGDClassifier()\n",
    "model = model.fit(X_train, y_train)"
   ]
  },
  {
   "cell_type": "code",
   "execution_count": 1333,
   "id": "6b479ed1-770b-475f-bd6a-fbdbdb8f067b",
   "metadata": {},
   "outputs": [
    {
     "data": {
      "text/plain": [
       "0.657439446366782"
      ]
     },
     "execution_count": 1333,
     "metadata": {},
     "output_type": "execute_result"
    }
   ],
   "source": [
    "pred[\"SGD\"] = model.predict(X_test)\n",
    "models[\"SGD\"] = model\n",
    "accuracy_score(y_true=y_test,y_pred=pred[\"SGD\"])"
   ]
  },
  {
   "cell_type": "markdown",
   "id": "e0cf1d89-0213-4da1-a5d1-7033c06a9458",
   "metadata": {},
   "source": [
    "# K Nearest Neighbor"
   ]
  },
  {
   "cell_type": "code",
   "execution_count": 1334,
   "id": "792d1c8f-c9c4-4dd3-96f3-52c6a762b957",
   "metadata": {},
   "outputs": [],
   "source": [
    "from sklearn.neighbors import KNeighborsClassifier\n",
    "model = KNeighborsClassifier(n_neighbors=len(CATEGORIES))\n",
    "model = model.fit(X_train, y_train)"
   ]
  },
  {
   "cell_type": "code",
   "execution_count": 1335,
   "id": "97ca0a7f-85bc-47ec-b554-95f838c9f64c",
   "metadata": {},
   "outputs": [
    {
     "data": {
      "text/plain": [
       "0.6505190311418685"
      ]
     },
     "execution_count": 1335,
     "metadata": {},
     "output_type": "execute_result"
    }
   ],
   "source": [
    "pred[\"kNN\"] = model.predict(X_test)\n",
    "models[\"kNN\"] = model\n",
    "accuracy_score(y_true=y_test,y_pred=pred[\"kNN\"])"
   ]
  },
  {
   "cell_type": "markdown",
   "id": "78696473-c554-42c2-a042-0c8acf59da3f",
   "metadata": {},
   "source": [
    "# Random Forest\n"
   ]
  },
  {
   "cell_type": "code",
   "execution_count": 1336,
   "id": "c6035dd4-5629-473e-9865-957b27f7f6b8",
   "metadata": {},
   "outputs": [],
   "source": [
    "from sklearn.ensemble import RandomForestClassifier\n",
    "# ----------------- #\n",
    "n = 35\n",
    "# ----------------- #\n",
    "model = RandomForestClassifier(n_estimators=n)\n",
    "model = model.fit(X_train, y_train)"
   ]
  },
  {
   "cell_type": "code",
   "execution_count": 1337,
   "id": "d0c1c583-34bd-452c-9485-7ad1eadb54bd",
   "metadata": {},
   "outputs": [
    {
     "data": {
      "text/plain": [
       "0.7093425605536332"
      ]
     },
     "execution_count": 1337,
     "metadata": {},
     "output_type": "execute_result"
    }
   ],
   "source": [
    "pred[\"RandomForest\"] = model.predict(X_test)\n",
    "models[\"RandomForest\"] = model\n",
    "accuracy_score(y_true=y_test,y_pred=pred[\"RandomForest\"])"
   ]
  },
  {
   "cell_type": "markdown",
   "id": "7ee5d5e8-5286-44fb-bdd7-cd2a33c2ac0d",
   "metadata": {},
   "source": [
    "# Gradient Boosting"
   ]
  },
  {
   "cell_type": "code",
   "execution_count": 1338,
   "id": "5952d386-d1e5-478f-9376-0102a7936147",
   "metadata": {},
   "outputs": [],
   "source": [
    "from sklearn.ensemble import GradientBoostingClassifier\n",
    "# ----------------- #\n",
    "n = 35\n",
    "# ----------------- #\n",
    "\n",
    "model = GradientBoostingClassifier(max_depth=3, learning_rate=0.1, n_estimators = n)\n",
    "model = model.fit(X_train, y_train)"
   ]
  },
  {
   "cell_type": "code",
   "execution_count": 1339,
   "id": "13c28f04-e05a-405f-a246-a0b18bad051a",
   "metadata": {},
   "outputs": [
    {
     "data": {
      "text/plain": [
       "0.726643598615917"
      ]
     },
     "execution_count": 1339,
     "metadata": {},
     "output_type": "execute_result"
    }
   ],
   "source": [
    "pred[\"GradientBoosting\"] = model.predict(X_test)\n",
    "models[\"GradientBoosting\"] = model\n",
    "\n",
    "accuracy_score(y_true=y_test,y_pred=pred[\"GradientBoosting\"])"
   ]
  },
  {
   "cell_type": "markdown",
   "id": "1f6d3c97-955a-4707-b71b-163592b12fd6",
   "metadata": {},
   "source": [
    "# LGBM"
   ]
  },
  {
   "cell_type": "code",
   "execution_count": 1340,
   "id": "49dae77e-d256-4412-962c-493e4097a083",
   "metadata": {},
   "outputs": [],
   "source": [
    "# !pip3 install --user lightgbm"
   ]
  },
  {
   "cell_type": "code",
   "execution_count": 1341,
   "id": "70a5889e-5c29-4aa9-a53d-7f2b62fb8c56",
   "metadata": {},
   "outputs": [
    {
     "name": "stdout",
     "output_type": "stream",
     "text": [
      "[LightGBM] [Warning] Auto-choosing col-wise multi-threading, the overhead of testing was 0.004636 seconds.\n",
      "You can set `force_col_wise=true` to remove the overhead.\n",
      "[LightGBM] [Info] Total Bins 406\n",
      "[LightGBM] [Info] Number of data points in the train set: 1153, number of used features: 7\n",
      "[LightGBM] [Info] Start training from score -1.359763\n",
      "[LightGBM] [Info] Start training from score -1.418911\n",
      "[LightGBM] [Info] Start training from score -1.376799\n",
      "[LightGBM] [Info] Start training from score -1.390640\n",
      "[LightGBM] [Warning] No further splits with positive gain, best gain: -inf\n",
      "[LightGBM] [Warning] No further splits with positive gain, best gain: -inf\n",
      "[LightGBM] [Warning] No further splits with positive gain, best gain: -inf\n"
     ]
    }
   ],
   "source": [
    "from lightgbm import LGBMClassifier\n",
    "# ----------------- #\n",
    "n = 100\n",
    "# ----------------- #\n",
    "model = LGBMClassifier(n_estimators = n)\n",
    "model = model.fit(X_train, y_train)"
   ]
  },
  {
   "cell_type": "code",
   "execution_count": 1342,
   "id": "9482d098-74e1-4eb5-a9bb-c15e3c9a6a75",
   "metadata": {},
   "outputs": [
    {
     "data": {
      "text/plain": [
       "0.6851211072664359"
      ]
     },
     "execution_count": 1342,
     "metadata": {},
     "output_type": "execute_result"
    }
   ],
   "source": [
    "pred[\"LGBM\"] = model.predict(X_test)\n",
    "models[\"LGBM\"] = model\n",
    "\n",
    "accuracy_score(y_true=y_test,y_pred=pred[\"LGBM\"])"
   ]
  },
  {
   "cell_type": "markdown",
   "id": "b0be35c7-f82e-4889-958e-2aaa861e77d1",
   "metadata": {},
   "source": [
    "# XGB"
   ]
  },
  {
   "cell_type": "code",
   "execution_count": 1343,
   "id": "aabec3ad-5f88-4393-8842-495bdfaf7463",
   "metadata": {},
   "outputs": [],
   "source": [
    "# !pip3 install --user xgboost"
   ]
  },
  {
   "cell_type": "code",
   "execution_count": 1344,
   "id": "6ad3b9f1-a0f0-4e4d-bd59-b16218c824ff",
   "metadata": {},
   "outputs": [],
   "source": [
    "from xgboost.sklearn import XGBClassifier\n",
    "# ----------------- #\n",
    "n = 100\n",
    "# ----------------- #\n",
    "model = XGBClassifier(n_estimators = n)\n",
    "model = model.fit(X_train, y_train)"
   ]
  },
  {
   "cell_type": "code",
   "execution_count": 1345,
   "id": "1540f928-6852-4352-88be-27914b427cef",
   "metadata": {},
   "outputs": [
    {
     "data": {
      "text/plain": [
       "0.6851211072664359"
      ]
     },
     "execution_count": 1345,
     "metadata": {},
     "output_type": "execute_result"
    }
   ],
   "source": [
    "pred[\"XGB\"] = model.predict(X_test)\n",
    "models[\"XGB\"] = model\n",
    "\n",
    "accuracy_score(y_true=y_test,y_pred=pred[\"XGB\"])"
   ]
  },
  {
   "cell_type": "markdown",
   "id": "3066d546-dba6-450b-b9f5-83376a9784c0",
   "metadata": {},
   "source": [
    "# GBRT ensemble\n",
    "from page 200 of Hands on Machine learning with sklearn and tensorflow"
   ]
  },
  {
   "cell_type": "code",
   "execution_count": 1346,
   "id": "226edeb9-b69f-4654-9cf0-2a215d8128b0",
   "metadata": {},
   "outputs": [
    {
     "data": {
      "text/html": [
       "<style>#sk-container-id-44 {color: black;}#sk-container-id-44 pre{padding: 0;}#sk-container-id-44 div.sk-toggleable {background-color: white;}#sk-container-id-44 label.sk-toggleable__label {cursor: pointer;display: block;width: 100%;margin-bottom: 0;padding: 0.3em;box-sizing: border-box;text-align: center;}#sk-container-id-44 label.sk-toggleable__label-arrow:before {content: \"▸\";float: left;margin-right: 0.25em;color: #696969;}#sk-container-id-44 label.sk-toggleable__label-arrow:hover:before {color: black;}#sk-container-id-44 div.sk-estimator:hover label.sk-toggleable__label-arrow:before {color: black;}#sk-container-id-44 div.sk-toggleable__content {max-height: 0;max-width: 0;overflow: hidden;text-align: left;background-color: #f0f8ff;}#sk-container-id-44 div.sk-toggleable__content pre {margin: 0.2em;color: black;border-radius: 0.25em;background-color: #f0f8ff;}#sk-container-id-44 input.sk-toggleable__control:checked~div.sk-toggleable__content {max-height: 200px;max-width: 100%;overflow: auto;}#sk-container-id-44 input.sk-toggleable__control:checked~label.sk-toggleable__label-arrow:before {content: \"▾\";}#sk-container-id-44 div.sk-estimator input.sk-toggleable__control:checked~label.sk-toggleable__label {background-color: #d4ebff;}#sk-container-id-44 div.sk-label input.sk-toggleable__control:checked~label.sk-toggleable__label {background-color: #d4ebff;}#sk-container-id-44 input.sk-hidden--visually {border: 0;clip: rect(1px 1px 1px 1px);clip: rect(1px, 1px, 1px, 1px);height: 1px;margin: -1px;overflow: hidden;padding: 0;position: absolute;width: 1px;}#sk-container-id-44 div.sk-estimator {font-family: monospace;background-color: #f0f8ff;border: 1px dotted black;border-radius: 0.25em;box-sizing: border-box;margin-bottom: 0.5em;}#sk-container-id-44 div.sk-estimator:hover {background-color: #d4ebff;}#sk-container-id-44 div.sk-parallel-item::after {content: \"\";width: 100%;border-bottom: 1px solid gray;flex-grow: 1;}#sk-container-id-44 div.sk-label:hover label.sk-toggleable__label {background-color: #d4ebff;}#sk-container-id-44 div.sk-serial::before {content: \"\";position: absolute;border-left: 1px solid gray;box-sizing: border-box;top: 0;bottom: 0;left: 50%;z-index: 0;}#sk-container-id-44 div.sk-serial {display: flex;flex-direction: column;align-items: center;background-color: white;padding-right: 0.2em;padding-left: 0.2em;position: relative;}#sk-container-id-44 div.sk-item {position: relative;z-index: 1;}#sk-container-id-44 div.sk-parallel {display: flex;align-items: stretch;justify-content: center;background-color: white;position: relative;}#sk-container-id-44 div.sk-item::before, #sk-container-id-44 div.sk-parallel-item::before {content: \"\";position: absolute;border-left: 1px solid gray;box-sizing: border-box;top: 0;bottom: 0;left: 50%;z-index: -1;}#sk-container-id-44 div.sk-parallel-item {display: flex;flex-direction: column;z-index: 1;position: relative;background-color: white;}#sk-container-id-44 div.sk-parallel-item:first-child::after {align-self: flex-end;width: 50%;}#sk-container-id-44 div.sk-parallel-item:last-child::after {align-self: flex-start;width: 50%;}#sk-container-id-44 div.sk-parallel-item:only-child::after {width: 0;}#sk-container-id-44 div.sk-dashed-wrapped {border: 1px dashed gray;margin: 0 0.4em 0.5em 0.4em;box-sizing: border-box;padding-bottom: 0.4em;background-color: white;}#sk-container-id-44 div.sk-label label {font-family: monospace;font-weight: bold;display: inline-block;line-height: 1.2em;}#sk-container-id-44 div.sk-label-container {text-align: center;}#sk-container-id-44 div.sk-container {/* jupyter's `normalize.less` sets `[hidden] { display: none; }` but bootstrap.min.css set `[hidden] { display: none !important; }` so we also need the `!important` here to be able to override the default hidden behavior on the sphinx rendered scikit-learn.org. See: https://github.com/scikit-learn/scikit-learn/issues/21755 */display: inline-block !important;position: relative;}#sk-container-id-44 div.sk-text-repr-fallback {display: none;}</style><div id=\"sk-container-id-44\" class=\"sk-top-container\"><div class=\"sk-text-repr-fallback\"><pre>GradientBoostingClassifier(max_depth=2, n_estimators=37)</pre><b>In a Jupyter environment, please rerun this cell to show the HTML representation or trust the notebook. <br />On GitHub, the HTML representation is unable to render, please try loading this page with nbviewer.org.</b></div><div class=\"sk-container\" hidden><div class=\"sk-item\"><div class=\"sk-estimator sk-toggleable\"><input class=\"sk-toggleable__control sk-hidden--visually\" id=\"sk-estimator-id-198\" type=\"checkbox\" checked><label for=\"sk-estimator-id-198\" class=\"sk-toggleable__label sk-toggleable__label-arrow\">GradientBoostingClassifier</label><div class=\"sk-toggleable__content\"><pre>GradientBoostingClassifier(max_depth=2, n_estimators=37)</pre></div></div></div></div></div>"
      ],
      "text/plain": [
       "GradientBoostingClassifier(max_depth=2, n_estimators=37)"
      ]
     },
     "execution_count": 1346,
     "metadata": {},
     "output_type": "execute_result"
    }
   ],
   "source": [
    "model = GradientBoostingClassifier(max_depth=2, n_estimators=120)\n",
    "model.fit(X_train,y_train)\n",
    "\n",
    "errors = [accuracy_score(y_true=y_test, y_pred=y_pred) for y_pred in model.staged_predict(X_test)]\n",
    "bst_n_estimators = np.argmax(errors)\n",
    "\n",
    "grbt_best = GradientBoostingClassifier(max_depth=2, n_estimators=bst_n_estimators)\n",
    "grbt_best.fit(X_train, y_train)"
   ]
  },
  {
   "cell_type": "code",
   "execution_count": 1347,
   "id": "a587f745-81ad-44e9-84b7-82fe076352df",
   "metadata": {},
   "outputs": [
    {
     "data": {
      "text/plain": [
       "0.71280276816609"
      ]
     },
     "execution_count": 1347,
     "metadata": {},
     "output_type": "execute_result"
    }
   ],
   "source": [
    "pred[\"GRBT\"] = model.predict(X_test)\n",
    "models[\"GRBT\"] = model\n",
    "\n",
    "accuracy_score(y_true=y_test,y_pred=pred[\"GRBT\"])"
   ]
  },
  {
   "cell_type": "markdown",
   "id": "5791c9e2-92ee-4714-b884-82bf6c07c639",
   "metadata": {},
   "source": [
    "# Ensemble Learning\n",
    "voting classifier to predict based on votes from multiple previous classifiers"
   ]
  },
  {
   "cell_type": "code",
   "execution_count": 1348,
   "id": "8f8f4300-36fa-4ee2-9dac-b41130fe98ba",
   "metadata": {},
   "outputs": [
    {
     "data": {
      "text/html": [
       "<style>#sk-container-id-45 {color: black;}#sk-container-id-45 pre{padding: 0;}#sk-container-id-45 div.sk-toggleable {background-color: white;}#sk-container-id-45 label.sk-toggleable__label {cursor: pointer;display: block;width: 100%;margin-bottom: 0;padding: 0.3em;box-sizing: border-box;text-align: center;}#sk-container-id-45 label.sk-toggleable__label-arrow:before {content: \"▸\";float: left;margin-right: 0.25em;color: #696969;}#sk-container-id-45 label.sk-toggleable__label-arrow:hover:before {color: black;}#sk-container-id-45 div.sk-estimator:hover label.sk-toggleable__label-arrow:before {color: black;}#sk-container-id-45 div.sk-toggleable__content {max-height: 0;max-width: 0;overflow: hidden;text-align: left;background-color: #f0f8ff;}#sk-container-id-45 div.sk-toggleable__content pre {margin: 0.2em;color: black;border-radius: 0.25em;background-color: #f0f8ff;}#sk-container-id-45 input.sk-toggleable__control:checked~div.sk-toggleable__content {max-height: 200px;max-width: 100%;overflow: auto;}#sk-container-id-45 input.sk-toggleable__control:checked~label.sk-toggleable__label-arrow:before {content: \"▾\";}#sk-container-id-45 div.sk-estimator input.sk-toggleable__control:checked~label.sk-toggleable__label {background-color: #d4ebff;}#sk-container-id-45 div.sk-label input.sk-toggleable__control:checked~label.sk-toggleable__label {background-color: #d4ebff;}#sk-container-id-45 input.sk-hidden--visually {border: 0;clip: rect(1px 1px 1px 1px);clip: rect(1px, 1px, 1px, 1px);height: 1px;margin: -1px;overflow: hidden;padding: 0;position: absolute;width: 1px;}#sk-container-id-45 div.sk-estimator {font-family: monospace;background-color: #f0f8ff;border: 1px dotted black;border-radius: 0.25em;box-sizing: border-box;margin-bottom: 0.5em;}#sk-container-id-45 div.sk-estimator:hover {background-color: #d4ebff;}#sk-container-id-45 div.sk-parallel-item::after {content: \"\";width: 100%;border-bottom: 1px solid gray;flex-grow: 1;}#sk-container-id-45 div.sk-label:hover label.sk-toggleable__label {background-color: #d4ebff;}#sk-container-id-45 div.sk-serial::before {content: \"\";position: absolute;border-left: 1px solid gray;box-sizing: border-box;top: 0;bottom: 0;left: 50%;z-index: 0;}#sk-container-id-45 div.sk-serial {display: flex;flex-direction: column;align-items: center;background-color: white;padding-right: 0.2em;padding-left: 0.2em;position: relative;}#sk-container-id-45 div.sk-item {position: relative;z-index: 1;}#sk-container-id-45 div.sk-parallel {display: flex;align-items: stretch;justify-content: center;background-color: white;position: relative;}#sk-container-id-45 div.sk-item::before, #sk-container-id-45 div.sk-parallel-item::before {content: \"\";position: absolute;border-left: 1px solid gray;box-sizing: border-box;top: 0;bottom: 0;left: 50%;z-index: -1;}#sk-container-id-45 div.sk-parallel-item {display: flex;flex-direction: column;z-index: 1;position: relative;background-color: white;}#sk-container-id-45 div.sk-parallel-item:first-child::after {align-self: flex-end;width: 50%;}#sk-container-id-45 div.sk-parallel-item:last-child::after {align-self: flex-start;width: 50%;}#sk-container-id-45 div.sk-parallel-item:only-child::after {width: 0;}#sk-container-id-45 div.sk-dashed-wrapped {border: 1px dashed gray;margin: 0 0.4em 0.5em 0.4em;box-sizing: border-box;padding-bottom: 0.4em;background-color: white;}#sk-container-id-45 div.sk-label label {font-family: monospace;font-weight: bold;display: inline-block;line-height: 1.2em;}#sk-container-id-45 div.sk-label-container {text-align: center;}#sk-container-id-45 div.sk-container {/* jupyter's `normalize.less` sets `[hidden] { display: none; }` but bootstrap.min.css set `[hidden] { display: none !important; }` so we also need the `!important` here to be able to override the default hidden behavior on the sphinx rendered scikit-learn.org. See: https://github.com/scikit-learn/scikit-learn/issues/21755 */display: inline-block !important;position: relative;}#sk-container-id-45 div.sk-text-repr-fallback {display: none;}</style><div id=\"sk-container-id-45\" class=\"sk-top-container\"><div class=\"sk-text-repr-fallback\"><pre>VotingClassifier(estimators=[(&#x27;svc&#x27;, SVC()),\n",
       "                             (&#x27;lr&#x27;, LogisticRegression(max_iter=400)),\n",
       "                             (&#x27;rf&#x27;, RandomForestClassifier(n_estimators=35)),\n",
       "                             (&#x27;kNN&#x27;, KNeighborsClassifier(n_neighbors=4)),\n",
       "                             (&#x27;dt&#x27;, DecisionTreeClassifier()),\n",
       "                             (&#x27;sgd&#x27;, SGDClassifier()),\n",
       "                             (&#x27;XGB&#x27;,\n",
       "                              XGBClassifier(base_score=None, booster=None,\n",
       "                                            callbacks=None,\n",
       "                                            colsample_bylevel=None,\n",
       "                                            colsample_bynode=None,\n",
       "                                            colsample_...\n",
       "                                            interaction_constraints=None,\n",
       "                                            learning_rate=None, max_bin=None,\n",
       "                                            max_cat_threshold=None,\n",
       "                                            max_cat_to_onehot=None,\n",
       "                                            max_delta_step=None, max_depth=None,\n",
       "                                            max_leaves=None,\n",
       "                                            min_child_weight=None, missing=nan,\n",
       "                                            monotone_constraints=None,\n",
       "                                            n_estimators=100, n_jobs=None,\n",
       "                                            num_parallel_tree=None,\n",
       "                                            objective=&#x27;multi:softprob&#x27;,\n",
       "                                            predictor=None, ...)),\n",
       "                             (&#x27;gradient&#x27;,\n",
       "                              GradientBoostingClassifier(n_estimators=35))])</pre><b>In a Jupyter environment, please rerun this cell to show the HTML representation or trust the notebook. <br />On GitHub, the HTML representation is unable to render, please try loading this page with nbviewer.org.</b></div><div class=\"sk-container\" hidden><div class=\"sk-item sk-dashed-wrapped\"><div class=\"sk-label-container\"><div class=\"sk-label sk-toggleable\"><input class=\"sk-toggleable__control sk-hidden--visually\" id=\"sk-estimator-id-199\" type=\"checkbox\" ><label for=\"sk-estimator-id-199\" class=\"sk-toggleable__label sk-toggleable__label-arrow\">VotingClassifier</label><div class=\"sk-toggleable__content\"><pre>VotingClassifier(estimators=[(&#x27;svc&#x27;, SVC()),\n",
       "                             (&#x27;lr&#x27;, LogisticRegression(max_iter=400)),\n",
       "                             (&#x27;rf&#x27;, RandomForestClassifier(n_estimators=35)),\n",
       "                             (&#x27;kNN&#x27;, KNeighborsClassifier(n_neighbors=4)),\n",
       "                             (&#x27;dt&#x27;, DecisionTreeClassifier()),\n",
       "                             (&#x27;sgd&#x27;, SGDClassifier()),\n",
       "                             (&#x27;XGB&#x27;,\n",
       "                              XGBClassifier(base_score=None, booster=None,\n",
       "                                            callbacks=None,\n",
       "                                            colsample_bylevel=None,\n",
       "                                            colsample_bynode=None,\n",
       "                                            colsample_...\n",
       "                                            interaction_constraints=None,\n",
       "                                            learning_rate=None, max_bin=None,\n",
       "                                            max_cat_threshold=None,\n",
       "                                            max_cat_to_onehot=None,\n",
       "                                            max_delta_step=None, max_depth=None,\n",
       "                                            max_leaves=None,\n",
       "                                            min_child_weight=None, missing=nan,\n",
       "                                            monotone_constraints=None,\n",
       "                                            n_estimators=100, n_jobs=None,\n",
       "                                            num_parallel_tree=None,\n",
       "                                            objective=&#x27;multi:softprob&#x27;,\n",
       "                                            predictor=None, ...)),\n",
       "                             (&#x27;gradient&#x27;,\n",
       "                              GradientBoostingClassifier(n_estimators=35))])</pre></div></div></div><div class=\"sk-parallel\"><div class=\"sk-parallel-item\"><div class=\"sk-item\"><div class=\"sk-label-container\"><div class=\"sk-label sk-toggleable\"><label>svc</label></div></div><div class=\"sk-serial\"><div class=\"sk-item\"><div class=\"sk-estimator sk-toggleable\"><input class=\"sk-toggleable__control sk-hidden--visually\" id=\"sk-estimator-id-200\" type=\"checkbox\" ><label for=\"sk-estimator-id-200\" class=\"sk-toggleable__label sk-toggleable__label-arrow\">SVC</label><div class=\"sk-toggleable__content\"><pre>SVC()</pre></div></div></div></div></div></div><div class=\"sk-parallel-item\"><div class=\"sk-item\"><div class=\"sk-label-container\"><div class=\"sk-label sk-toggleable\"><label>lr</label></div></div><div class=\"sk-serial\"><div class=\"sk-item\"><div class=\"sk-estimator sk-toggleable\"><input class=\"sk-toggleable__control sk-hidden--visually\" id=\"sk-estimator-id-201\" type=\"checkbox\" ><label for=\"sk-estimator-id-201\" class=\"sk-toggleable__label sk-toggleable__label-arrow\">LogisticRegression</label><div class=\"sk-toggleable__content\"><pre>LogisticRegression(max_iter=400)</pre></div></div></div></div></div></div><div class=\"sk-parallel-item\"><div class=\"sk-item\"><div class=\"sk-label-container\"><div class=\"sk-label sk-toggleable\"><label>rf</label></div></div><div class=\"sk-serial\"><div class=\"sk-item\"><div class=\"sk-estimator sk-toggleable\"><input class=\"sk-toggleable__control sk-hidden--visually\" id=\"sk-estimator-id-202\" type=\"checkbox\" ><label for=\"sk-estimator-id-202\" class=\"sk-toggleable__label sk-toggleable__label-arrow\">RandomForestClassifier</label><div class=\"sk-toggleable__content\"><pre>RandomForestClassifier(n_estimators=35)</pre></div></div></div></div></div></div><div class=\"sk-parallel-item\"><div class=\"sk-item\"><div class=\"sk-label-container\"><div class=\"sk-label sk-toggleable\"><label>kNN</label></div></div><div class=\"sk-serial\"><div class=\"sk-item\"><div class=\"sk-estimator sk-toggleable\"><input class=\"sk-toggleable__control sk-hidden--visually\" id=\"sk-estimator-id-203\" type=\"checkbox\" ><label for=\"sk-estimator-id-203\" class=\"sk-toggleable__label sk-toggleable__label-arrow\">KNeighborsClassifier</label><div class=\"sk-toggleable__content\"><pre>KNeighborsClassifier(n_neighbors=4)</pre></div></div></div></div></div></div><div class=\"sk-parallel-item\"><div class=\"sk-item\"><div class=\"sk-label-container\"><div class=\"sk-label sk-toggleable\"><label>dt</label></div></div><div class=\"sk-serial\"><div class=\"sk-item\"><div class=\"sk-estimator sk-toggleable\"><input class=\"sk-toggleable__control sk-hidden--visually\" id=\"sk-estimator-id-204\" type=\"checkbox\" ><label for=\"sk-estimator-id-204\" class=\"sk-toggleable__label sk-toggleable__label-arrow\">DecisionTreeClassifier</label><div class=\"sk-toggleable__content\"><pre>DecisionTreeClassifier()</pre></div></div></div></div></div></div><div class=\"sk-parallel-item\"><div class=\"sk-item\"><div class=\"sk-label-container\"><div class=\"sk-label sk-toggleable\"><label>sgd</label></div></div><div class=\"sk-serial\"><div class=\"sk-item\"><div class=\"sk-estimator sk-toggleable\"><input class=\"sk-toggleable__control sk-hidden--visually\" id=\"sk-estimator-id-205\" type=\"checkbox\" ><label for=\"sk-estimator-id-205\" class=\"sk-toggleable__label sk-toggleable__label-arrow\">SGDClassifier</label><div class=\"sk-toggleable__content\"><pre>SGDClassifier()</pre></div></div></div></div></div></div><div class=\"sk-parallel-item\"><div class=\"sk-item\"><div class=\"sk-label-container\"><div class=\"sk-label sk-toggleable\"><label>XGB</label></div></div><div class=\"sk-serial\"><div class=\"sk-item\"><div class=\"sk-estimator sk-toggleable\"><input class=\"sk-toggleable__control sk-hidden--visually\" id=\"sk-estimator-id-206\" type=\"checkbox\" ><label for=\"sk-estimator-id-206\" class=\"sk-toggleable__label sk-toggleable__label-arrow\">XGBClassifier</label><div class=\"sk-toggleable__content\"><pre>XGBClassifier(base_score=None, booster=None, callbacks=None,\n",
       "              colsample_bylevel=None, colsample_bynode=None,\n",
       "              colsample_bytree=None, early_stopping_rounds=None,\n",
       "              enable_categorical=False, eval_metric=None, feature_types=None,\n",
       "              gamma=None, gpu_id=None, grow_policy=None, importance_type=None,\n",
       "              interaction_constraints=None, learning_rate=None, max_bin=None,\n",
       "              max_cat_threshold=None, max_cat_to_onehot=None,\n",
       "              max_delta_step=None, max_depth=None, max_leaves=None,\n",
       "              min_child_weight=None, missing=nan, monotone_constraints=None,\n",
       "              n_estimators=100, n_jobs=None, num_parallel_tree=None,\n",
       "              objective=&#x27;multi:softprob&#x27;, predictor=None, ...)</pre></div></div></div></div></div></div><div class=\"sk-parallel-item\"><div class=\"sk-item\"><div class=\"sk-label-container\"><div class=\"sk-label sk-toggleable\"><label>gradient</label></div></div><div class=\"sk-serial\"><div class=\"sk-item\"><div class=\"sk-estimator sk-toggleable\"><input class=\"sk-toggleable__control sk-hidden--visually\" id=\"sk-estimator-id-207\" type=\"checkbox\" ><label for=\"sk-estimator-id-207\" class=\"sk-toggleable__label sk-toggleable__label-arrow\">GradientBoostingClassifier</label><div class=\"sk-toggleable__content\"><pre>GradientBoostingClassifier(n_estimators=35)</pre></div></div></div></div></div></div></div></div></div></div>"
      ],
      "text/plain": [
       "VotingClassifier(estimators=[('svc', SVC()),\n",
       "                             ('lr', LogisticRegression(max_iter=400)),\n",
       "                             ('rf', RandomForestClassifier(n_estimators=35)),\n",
       "                             ('kNN', KNeighborsClassifier(n_neighbors=4)),\n",
       "                             ('dt', DecisionTreeClassifier()),\n",
       "                             ('sgd', SGDClassifier()),\n",
       "                             ('XGB',\n",
       "                              XGBClassifier(base_score=None, booster=None,\n",
       "                                            callbacks=None,\n",
       "                                            colsample_bylevel=None,\n",
       "                                            colsample_bynode=None,\n",
       "                                            colsample_...\n",
       "                                            interaction_constraints=None,\n",
       "                                            learning_rate=None, max_bin=None,\n",
       "                                            max_cat_threshold=None,\n",
       "                                            max_cat_to_onehot=None,\n",
       "                                            max_delta_step=None, max_depth=None,\n",
       "                                            max_leaves=None,\n",
       "                                            min_child_weight=None, missing=nan,\n",
       "                                            monotone_constraints=None,\n",
       "                                            n_estimators=100, n_jobs=None,\n",
       "                                            num_parallel_tree=None,\n",
       "                                            objective='multi:softprob',\n",
       "                                            predictor=None, ...)),\n",
       "                             ('gradient',\n",
       "                              GradientBoostingClassifier(n_estimators=35))])"
      ]
     },
     "execution_count": 1348,
     "metadata": {},
     "output_type": "execute_result"
    }
   ],
   "source": [
    "from sklearn.ensemble import VotingClassifier\n",
    "\n",
    "voting_clf = VotingClassifier(\n",
    "    estimators = [\n",
    "        ('svc',models['SVM']),\n",
    "        ('lr',models['LogisticRegression']),\n",
    "        ('rf',models['RandomForest']),\n",
    "        ('kNN',models['kNN']),\n",
    "        ('dt',models['DecisionTree']),\n",
    "        ('sgd',models['SGD']),\n",
    "        ('XGB',models['XGB']),\n",
    "        ('gradient',models['GradientBoosting'])\n",
    "    ],\n",
    "    voting='hard'\n",
    ")\n",
    "voting_clf"
   ]
  },
  {
   "cell_type": "code",
   "execution_count": 1349,
   "id": "79037940-b10b-49cb-88f1-50382725f875",
   "metadata": {},
   "outputs": [
    {
     "data": {
      "text/html": [
       "<style>#sk-container-id-46 {color: black;}#sk-container-id-46 pre{padding: 0;}#sk-container-id-46 div.sk-toggleable {background-color: white;}#sk-container-id-46 label.sk-toggleable__label {cursor: pointer;display: block;width: 100%;margin-bottom: 0;padding: 0.3em;box-sizing: border-box;text-align: center;}#sk-container-id-46 label.sk-toggleable__label-arrow:before {content: \"▸\";float: left;margin-right: 0.25em;color: #696969;}#sk-container-id-46 label.sk-toggleable__label-arrow:hover:before {color: black;}#sk-container-id-46 div.sk-estimator:hover label.sk-toggleable__label-arrow:before {color: black;}#sk-container-id-46 div.sk-toggleable__content {max-height: 0;max-width: 0;overflow: hidden;text-align: left;background-color: #f0f8ff;}#sk-container-id-46 div.sk-toggleable__content pre {margin: 0.2em;color: black;border-radius: 0.25em;background-color: #f0f8ff;}#sk-container-id-46 input.sk-toggleable__control:checked~div.sk-toggleable__content {max-height: 200px;max-width: 100%;overflow: auto;}#sk-container-id-46 input.sk-toggleable__control:checked~label.sk-toggleable__label-arrow:before {content: \"▾\";}#sk-container-id-46 div.sk-estimator input.sk-toggleable__control:checked~label.sk-toggleable__label {background-color: #d4ebff;}#sk-container-id-46 div.sk-label input.sk-toggleable__control:checked~label.sk-toggleable__label {background-color: #d4ebff;}#sk-container-id-46 input.sk-hidden--visually {border: 0;clip: rect(1px 1px 1px 1px);clip: rect(1px, 1px, 1px, 1px);height: 1px;margin: -1px;overflow: hidden;padding: 0;position: absolute;width: 1px;}#sk-container-id-46 div.sk-estimator {font-family: monospace;background-color: #f0f8ff;border: 1px dotted black;border-radius: 0.25em;box-sizing: border-box;margin-bottom: 0.5em;}#sk-container-id-46 div.sk-estimator:hover {background-color: #d4ebff;}#sk-container-id-46 div.sk-parallel-item::after {content: \"\";width: 100%;border-bottom: 1px solid gray;flex-grow: 1;}#sk-container-id-46 div.sk-label:hover label.sk-toggleable__label {background-color: #d4ebff;}#sk-container-id-46 div.sk-serial::before {content: \"\";position: absolute;border-left: 1px solid gray;box-sizing: border-box;top: 0;bottom: 0;left: 50%;z-index: 0;}#sk-container-id-46 div.sk-serial {display: flex;flex-direction: column;align-items: center;background-color: white;padding-right: 0.2em;padding-left: 0.2em;position: relative;}#sk-container-id-46 div.sk-item {position: relative;z-index: 1;}#sk-container-id-46 div.sk-parallel {display: flex;align-items: stretch;justify-content: center;background-color: white;position: relative;}#sk-container-id-46 div.sk-item::before, #sk-container-id-46 div.sk-parallel-item::before {content: \"\";position: absolute;border-left: 1px solid gray;box-sizing: border-box;top: 0;bottom: 0;left: 50%;z-index: -1;}#sk-container-id-46 div.sk-parallel-item {display: flex;flex-direction: column;z-index: 1;position: relative;background-color: white;}#sk-container-id-46 div.sk-parallel-item:first-child::after {align-self: flex-end;width: 50%;}#sk-container-id-46 div.sk-parallel-item:last-child::after {align-self: flex-start;width: 50%;}#sk-container-id-46 div.sk-parallel-item:only-child::after {width: 0;}#sk-container-id-46 div.sk-dashed-wrapped {border: 1px dashed gray;margin: 0 0.4em 0.5em 0.4em;box-sizing: border-box;padding-bottom: 0.4em;background-color: white;}#sk-container-id-46 div.sk-label label {font-family: monospace;font-weight: bold;display: inline-block;line-height: 1.2em;}#sk-container-id-46 div.sk-label-container {text-align: center;}#sk-container-id-46 div.sk-container {/* jupyter's `normalize.less` sets `[hidden] { display: none; }` but bootstrap.min.css set `[hidden] { display: none !important; }` so we also need the `!important` here to be able to override the default hidden behavior on the sphinx rendered scikit-learn.org. See: https://github.com/scikit-learn/scikit-learn/issues/21755 */display: inline-block !important;position: relative;}#sk-container-id-46 div.sk-text-repr-fallback {display: none;}</style><div id=\"sk-container-id-46\" class=\"sk-top-container\"><div class=\"sk-text-repr-fallback\"><pre>VotingClassifier(estimators=[(&#x27;svc&#x27;, SVC()),\n",
       "                             (&#x27;lr&#x27;, LogisticRegression(max_iter=400)),\n",
       "                             (&#x27;rf&#x27;, RandomForestClassifier(n_estimators=35)),\n",
       "                             (&#x27;kNN&#x27;, KNeighborsClassifier(n_neighbors=4)),\n",
       "                             (&#x27;dt&#x27;, DecisionTreeClassifier()),\n",
       "                             (&#x27;sgd&#x27;, SGDClassifier()),\n",
       "                             (&#x27;XGB&#x27;,\n",
       "                              XGBClassifier(base_score=None, booster=None,\n",
       "                                            callbacks=None,\n",
       "                                            colsample_bylevel=None,\n",
       "                                            colsample_bynode=None,\n",
       "                                            colsample_...\n",
       "                                            interaction_constraints=None,\n",
       "                                            learning_rate=None, max_bin=None,\n",
       "                                            max_cat_threshold=None,\n",
       "                                            max_cat_to_onehot=None,\n",
       "                                            max_delta_step=None, max_depth=None,\n",
       "                                            max_leaves=None,\n",
       "                                            min_child_weight=None, missing=nan,\n",
       "                                            monotone_constraints=None,\n",
       "                                            n_estimators=100, n_jobs=None,\n",
       "                                            num_parallel_tree=None,\n",
       "                                            objective=&#x27;multi:softprob&#x27;,\n",
       "                                            predictor=None, ...)),\n",
       "                             (&#x27;gradient&#x27;,\n",
       "                              GradientBoostingClassifier(n_estimators=35))])</pre><b>In a Jupyter environment, please rerun this cell to show the HTML representation or trust the notebook. <br />On GitHub, the HTML representation is unable to render, please try loading this page with nbviewer.org.</b></div><div class=\"sk-container\" hidden><div class=\"sk-item sk-dashed-wrapped\"><div class=\"sk-label-container\"><div class=\"sk-label sk-toggleable\"><input class=\"sk-toggleable__control sk-hidden--visually\" id=\"sk-estimator-id-208\" type=\"checkbox\" ><label for=\"sk-estimator-id-208\" class=\"sk-toggleable__label sk-toggleable__label-arrow\">VotingClassifier</label><div class=\"sk-toggleable__content\"><pre>VotingClassifier(estimators=[(&#x27;svc&#x27;, SVC()),\n",
       "                             (&#x27;lr&#x27;, LogisticRegression(max_iter=400)),\n",
       "                             (&#x27;rf&#x27;, RandomForestClassifier(n_estimators=35)),\n",
       "                             (&#x27;kNN&#x27;, KNeighborsClassifier(n_neighbors=4)),\n",
       "                             (&#x27;dt&#x27;, DecisionTreeClassifier()),\n",
       "                             (&#x27;sgd&#x27;, SGDClassifier()),\n",
       "                             (&#x27;XGB&#x27;,\n",
       "                              XGBClassifier(base_score=None, booster=None,\n",
       "                                            callbacks=None,\n",
       "                                            colsample_bylevel=None,\n",
       "                                            colsample_bynode=None,\n",
       "                                            colsample_...\n",
       "                                            interaction_constraints=None,\n",
       "                                            learning_rate=None, max_bin=None,\n",
       "                                            max_cat_threshold=None,\n",
       "                                            max_cat_to_onehot=None,\n",
       "                                            max_delta_step=None, max_depth=None,\n",
       "                                            max_leaves=None,\n",
       "                                            min_child_weight=None, missing=nan,\n",
       "                                            monotone_constraints=None,\n",
       "                                            n_estimators=100, n_jobs=None,\n",
       "                                            num_parallel_tree=None,\n",
       "                                            objective=&#x27;multi:softprob&#x27;,\n",
       "                                            predictor=None, ...)),\n",
       "                             (&#x27;gradient&#x27;,\n",
       "                              GradientBoostingClassifier(n_estimators=35))])</pre></div></div></div><div class=\"sk-parallel\"><div class=\"sk-parallel-item\"><div class=\"sk-item\"><div class=\"sk-label-container\"><div class=\"sk-label sk-toggleable\"><label>svc</label></div></div><div class=\"sk-serial\"><div class=\"sk-item\"><div class=\"sk-estimator sk-toggleable\"><input class=\"sk-toggleable__control sk-hidden--visually\" id=\"sk-estimator-id-209\" type=\"checkbox\" ><label for=\"sk-estimator-id-209\" class=\"sk-toggleable__label sk-toggleable__label-arrow\">SVC</label><div class=\"sk-toggleable__content\"><pre>SVC()</pre></div></div></div></div></div></div><div class=\"sk-parallel-item\"><div class=\"sk-item\"><div class=\"sk-label-container\"><div class=\"sk-label sk-toggleable\"><label>lr</label></div></div><div class=\"sk-serial\"><div class=\"sk-item\"><div class=\"sk-estimator sk-toggleable\"><input class=\"sk-toggleable__control sk-hidden--visually\" id=\"sk-estimator-id-210\" type=\"checkbox\" ><label for=\"sk-estimator-id-210\" class=\"sk-toggleable__label sk-toggleable__label-arrow\">LogisticRegression</label><div class=\"sk-toggleable__content\"><pre>LogisticRegression(max_iter=400)</pre></div></div></div></div></div></div><div class=\"sk-parallel-item\"><div class=\"sk-item\"><div class=\"sk-label-container\"><div class=\"sk-label sk-toggleable\"><label>rf</label></div></div><div class=\"sk-serial\"><div class=\"sk-item\"><div class=\"sk-estimator sk-toggleable\"><input class=\"sk-toggleable__control sk-hidden--visually\" id=\"sk-estimator-id-211\" type=\"checkbox\" ><label for=\"sk-estimator-id-211\" class=\"sk-toggleable__label sk-toggleable__label-arrow\">RandomForestClassifier</label><div class=\"sk-toggleable__content\"><pre>RandomForestClassifier(n_estimators=35)</pre></div></div></div></div></div></div><div class=\"sk-parallel-item\"><div class=\"sk-item\"><div class=\"sk-label-container\"><div class=\"sk-label sk-toggleable\"><label>kNN</label></div></div><div class=\"sk-serial\"><div class=\"sk-item\"><div class=\"sk-estimator sk-toggleable\"><input class=\"sk-toggleable__control sk-hidden--visually\" id=\"sk-estimator-id-212\" type=\"checkbox\" ><label for=\"sk-estimator-id-212\" class=\"sk-toggleable__label sk-toggleable__label-arrow\">KNeighborsClassifier</label><div class=\"sk-toggleable__content\"><pre>KNeighborsClassifier(n_neighbors=4)</pre></div></div></div></div></div></div><div class=\"sk-parallel-item\"><div class=\"sk-item\"><div class=\"sk-label-container\"><div class=\"sk-label sk-toggleable\"><label>dt</label></div></div><div class=\"sk-serial\"><div class=\"sk-item\"><div class=\"sk-estimator sk-toggleable\"><input class=\"sk-toggleable__control sk-hidden--visually\" id=\"sk-estimator-id-213\" type=\"checkbox\" ><label for=\"sk-estimator-id-213\" class=\"sk-toggleable__label sk-toggleable__label-arrow\">DecisionTreeClassifier</label><div class=\"sk-toggleable__content\"><pre>DecisionTreeClassifier()</pre></div></div></div></div></div></div><div class=\"sk-parallel-item\"><div class=\"sk-item\"><div class=\"sk-label-container\"><div class=\"sk-label sk-toggleable\"><label>sgd</label></div></div><div class=\"sk-serial\"><div class=\"sk-item\"><div class=\"sk-estimator sk-toggleable\"><input class=\"sk-toggleable__control sk-hidden--visually\" id=\"sk-estimator-id-214\" type=\"checkbox\" ><label for=\"sk-estimator-id-214\" class=\"sk-toggleable__label sk-toggleable__label-arrow\">SGDClassifier</label><div class=\"sk-toggleable__content\"><pre>SGDClassifier()</pre></div></div></div></div></div></div><div class=\"sk-parallel-item\"><div class=\"sk-item\"><div class=\"sk-label-container\"><div class=\"sk-label sk-toggleable\"><label>XGB</label></div></div><div class=\"sk-serial\"><div class=\"sk-item\"><div class=\"sk-estimator sk-toggleable\"><input class=\"sk-toggleable__control sk-hidden--visually\" id=\"sk-estimator-id-215\" type=\"checkbox\" ><label for=\"sk-estimator-id-215\" class=\"sk-toggleable__label sk-toggleable__label-arrow\">XGBClassifier</label><div class=\"sk-toggleable__content\"><pre>XGBClassifier(base_score=None, booster=None, callbacks=None,\n",
       "              colsample_bylevel=None, colsample_bynode=None,\n",
       "              colsample_bytree=None, early_stopping_rounds=None,\n",
       "              enable_categorical=False, eval_metric=None, feature_types=None,\n",
       "              gamma=None, gpu_id=None, grow_policy=None, importance_type=None,\n",
       "              interaction_constraints=None, learning_rate=None, max_bin=None,\n",
       "              max_cat_threshold=None, max_cat_to_onehot=None,\n",
       "              max_delta_step=None, max_depth=None, max_leaves=None,\n",
       "              min_child_weight=None, missing=nan, monotone_constraints=None,\n",
       "              n_estimators=100, n_jobs=None, num_parallel_tree=None,\n",
       "              objective=&#x27;multi:softprob&#x27;, predictor=None, ...)</pre></div></div></div></div></div></div><div class=\"sk-parallel-item\"><div class=\"sk-item\"><div class=\"sk-label-container\"><div class=\"sk-label sk-toggleable\"><label>gradient</label></div></div><div class=\"sk-serial\"><div class=\"sk-item\"><div class=\"sk-estimator sk-toggleable\"><input class=\"sk-toggleable__control sk-hidden--visually\" id=\"sk-estimator-id-216\" type=\"checkbox\" ><label for=\"sk-estimator-id-216\" class=\"sk-toggleable__label sk-toggleable__label-arrow\">GradientBoostingClassifier</label><div class=\"sk-toggleable__content\"><pre>GradientBoostingClassifier(n_estimators=35)</pre></div></div></div></div></div></div></div></div></div></div>"
      ],
      "text/plain": [
       "VotingClassifier(estimators=[('svc', SVC()),\n",
       "                             ('lr', LogisticRegression(max_iter=400)),\n",
       "                             ('rf', RandomForestClassifier(n_estimators=35)),\n",
       "                             ('kNN', KNeighborsClassifier(n_neighbors=4)),\n",
       "                             ('dt', DecisionTreeClassifier()),\n",
       "                             ('sgd', SGDClassifier()),\n",
       "                             ('XGB',\n",
       "                              XGBClassifier(base_score=None, booster=None,\n",
       "                                            callbacks=None,\n",
       "                                            colsample_bylevel=None,\n",
       "                                            colsample_bynode=None,\n",
       "                                            colsample_...\n",
       "                                            interaction_constraints=None,\n",
       "                                            learning_rate=None, max_bin=None,\n",
       "                                            max_cat_threshold=None,\n",
       "                                            max_cat_to_onehot=None,\n",
       "                                            max_delta_step=None, max_depth=None,\n",
       "                                            max_leaves=None,\n",
       "                                            min_child_weight=None, missing=nan,\n",
       "                                            monotone_constraints=None,\n",
       "                                            n_estimators=100, n_jobs=None,\n",
       "                                            num_parallel_tree=None,\n",
       "                                            objective='multi:softprob',\n",
       "                                            predictor=None, ...)),\n",
       "                             ('gradient',\n",
       "                              GradientBoostingClassifier(n_estimators=35))])"
      ]
     },
     "execution_count": 1349,
     "metadata": {},
     "output_type": "execute_result"
    }
   ],
   "source": [
    "voting_clf.fit(X_train,y_train)"
   ]
  },
  {
   "cell_type": "code",
   "execution_count": 1350,
   "id": "8e1e1eba-e7b6-40f2-bc56-c8d148c2bfa2",
   "metadata": {},
   "outputs": [
    {
     "data": {
      "text/plain": [
       "0.71280276816609"
      ]
     },
     "execution_count": 1350,
     "metadata": {},
     "output_type": "execute_result"
    }
   ],
   "source": [
    "pred[\"voting\"] = voting_clf.predict(X_test)\n",
    "# models[\"voting\"] = model\n",
    "\n",
    "accuracy_score(y_true=y_test,y_pred=pred[\"voting\"])"
   ]
  },
  {
   "cell_type": "markdown",
   "id": "6bc055f0-71e6-4946-a6a3-f9204213bcee",
   "metadata": {},
   "source": [
    "# Compare Models"
   ]
  },
  {
   "cell_type": "code",
   "execution_count": 1351,
   "id": "a19fe9be-d637-4ea3-bb33-8cb1c93fb51b",
   "metadata": {},
   "outputs": [],
   "source": [
    "# compare = pd.DataFrame(pred)\n",
    "compare = pd.DataFrame({\n",
    "    \"name\":pred.keys(), \n",
    "    \"accuracy\":np.nan,\n",
    "    \"mse\":np.nan,\n",
    "})\n",
    "compare = compare.set_index(\"name\")"
   ]
  },
  {
   "cell_type": "code",
   "execution_count": 1352,
   "id": "96016399-4fb4-4690-9b2f-6bf7e5e3a03e",
   "metadata": {},
   "outputs": [],
   "source": [
    "compare[\"accuracy\"] = compare.apply(lambda row: accuracy_score(y_pred=pred[row.name],y_true=y_test)*100,axis=1)\n",
    "compare[\"mse\"] = compare.apply(lambda row: mean_squared_error(y_pred=pred[row.name],y_true=y_test),axis=1)\n",
    "compare[\"mean absolute\"] = compare.apply(lambda row: mean_absolute_error(y_pred=pred[row.name],y_true=y_test),axis=1)"
   ]
  },
  {
   "cell_type": "markdown",
   "id": "ac547b06-2e0e-430f-b283-e960f23576ea",
   "metadata": {},
   "source": [
    "### So how do the models stack up to each other?"
   ]
  },
  {
   "cell_type": "code",
   "execution_count": 1353,
   "id": "6a052bb7-634c-4cb9-9e99-aefc5832024b",
   "metadata": {},
   "outputs": [
    {
     "data": {
      "text/html": [
       "<div>\n",
       "<style scoped>\n",
       "    .dataframe tbody tr th:only-of-type {\n",
       "        vertical-align: middle;\n",
       "    }\n",
       "\n",
       "    .dataframe tbody tr th {\n",
       "        vertical-align: top;\n",
       "    }\n",
       "\n",
       "    .dataframe thead th {\n",
       "        text-align: right;\n",
       "    }\n",
       "</style>\n",
       "<table border=\"1\" class=\"dataframe\">\n",
       "  <thead>\n",
       "    <tr style=\"text-align: right;\">\n",
       "      <th></th>\n",
       "      <th>accuracy</th>\n",
       "      <th>mse</th>\n",
       "      <th>mean absolute</th>\n",
       "    </tr>\n",
       "    <tr>\n",
       "      <th>name</th>\n",
       "      <th></th>\n",
       "      <th></th>\n",
       "      <th></th>\n",
       "    </tr>\n",
       "  </thead>\n",
       "  <tbody>\n",
       "    <tr>\n",
       "      <th>Kmeans</th>\n",
       "      <td>15.224913</td>\n",
       "      <td>2.342561</td>\n",
       "      <td>1.290657</td>\n",
       "    </tr>\n",
       "    <tr>\n",
       "      <th>SVM</th>\n",
       "      <td>65.397924</td>\n",
       "      <td>0.377163</td>\n",
       "      <td>0.356401</td>\n",
       "    </tr>\n",
       "    <tr>\n",
       "      <th>DecisionTree</th>\n",
       "      <td>65.743945</td>\n",
       "      <td>0.432526</td>\n",
       "      <td>0.370242</td>\n",
       "    </tr>\n",
       "    <tr>\n",
       "      <th>LogisticRegression</th>\n",
       "      <td>58.131488</td>\n",
       "      <td>0.501730</td>\n",
       "      <td>0.446367</td>\n",
       "    </tr>\n",
       "    <tr>\n",
       "      <th>SGD</th>\n",
       "      <td>65.743945</td>\n",
       "      <td>0.363322</td>\n",
       "      <td>0.349481</td>\n",
       "    </tr>\n",
       "    <tr>\n",
       "      <th>kNN</th>\n",
       "      <td>65.051903</td>\n",
       "      <td>0.435986</td>\n",
       "      <td>0.373702</td>\n",
       "    </tr>\n",
       "    <tr>\n",
       "      <th>RandomForest</th>\n",
       "      <td>70.934256</td>\n",
       "      <td>0.349481</td>\n",
       "      <td>0.307958</td>\n",
       "    </tr>\n",
       "    <tr>\n",
       "      <th>GradientBoosting</th>\n",
       "      <td>72.664360</td>\n",
       "      <td>0.301038</td>\n",
       "      <td>0.280277</td>\n",
       "    </tr>\n",
       "    <tr>\n",
       "      <th>LGBM</th>\n",
       "      <td>68.512111</td>\n",
       "      <td>0.384083</td>\n",
       "      <td>0.335640</td>\n",
       "    </tr>\n",
       "    <tr>\n",
       "      <th>XGB</th>\n",
       "      <td>68.512111</td>\n",
       "      <td>0.356401</td>\n",
       "      <td>0.328720</td>\n",
       "    </tr>\n",
       "    <tr>\n",
       "      <th>GRBT</th>\n",
       "      <td>71.280277</td>\n",
       "      <td>0.297578</td>\n",
       "      <td>0.290657</td>\n",
       "    </tr>\n",
       "    <tr>\n",
       "      <th>voting</th>\n",
       "      <td>71.280277</td>\n",
       "      <td>0.314879</td>\n",
       "      <td>0.294118</td>\n",
       "    </tr>\n",
       "  </tbody>\n",
       "</table>\n",
       "</div>"
      ],
      "text/plain": [
       "                     accuracy       mse  mean absolute\n",
       "name                                                  \n",
       "Kmeans              15.224913  2.342561       1.290657\n",
       "SVM                 65.397924  0.377163       0.356401\n",
       "DecisionTree        65.743945  0.432526       0.370242\n",
       "LogisticRegression  58.131488  0.501730       0.446367\n",
       "SGD                 65.743945  0.363322       0.349481\n",
       "kNN                 65.051903  0.435986       0.373702\n",
       "RandomForest        70.934256  0.349481       0.307958\n",
       "GradientBoosting    72.664360  0.301038       0.280277\n",
       "LGBM                68.512111  0.384083       0.335640\n",
       "XGB                 68.512111  0.356401       0.328720\n",
       "GRBT                71.280277  0.297578       0.290657\n",
       "voting              71.280277  0.314879       0.294118"
      ]
     },
     "execution_count": 1353,
     "metadata": {},
     "output_type": "execute_result"
    }
   ],
   "source": [
    "compare"
   ]
  },
  {
   "cell_type": "markdown",
   "id": "72f48efe-47dd-4f87-96a3-9277a00febc6",
   "metadata": {},
   "source": [
    "so Kmeans is pretty bad, Random Forest, Gradient Boosting and GRBT appear to be the best\n",
    "\n",
    "the voting ensemble also does well, just about matching the performance of any one other model. I hoped it would exceed the individuals but it has not yet"
   ]
  },
  {
   "cell_type": "code",
   "execution_count": 1354,
   "id": "5af7e541-8d11-4dc3-a90e-2652af184a0e",
   "metadata": {},
   "outputs": [
    {
     "name": "stdout",
     "output_type": "stream",
     "text": [
      "32 minutes   \t0\n",
      "55 minutes   \t1\n",
      "3 hours   \t2\n",
      "3 days   \t3\n"
     ]
    }
   ],
   "source": [
    "print_categories()"
   ]
  },
  {
   "cell_type": "markdown",
   "id": "5bcc4d0b-5d8a-47a0-ac78-9e0d3bb61085",
   "metadata": {},
   "source": [
    "note: look into principal component analysis"
   ]
  },
  {
   "cell_type": "markdown",
   "id": "aa0704b1-5eed-41ec-9020-dcb8f66a477f",
   "metadata": {
    "jp-MarkdownHeadingCollapsed": true
   },
   "source": [
    "# Charts in progress"
   ]
  },
  {
   "cell_type": "code",
   "execution_count": 922,
   "id": "eab091a7-d8ac-47f7-b0bf-3d39b5f4edcb",
   "metadata": {},
   "outputs": [],
   "source": [
    "a = pd.Series(pred[\"LGBM\"]).value_counts()\n",
    "b = pd.Series(y_test).value_counts()"
   ]
  },
  {
   "cell_type": "code",
   "execution_count": 923,
   "id": "69c22ecd-1a76-4907-9dc5-21878595fec6",
   "metadata": {},
   "outputs": [
    {
     "data": {
      "text/html": [
       "<div>\n",
       "<style scoped>\n",
       "    .dataframe tbody tr th:only-of-type {\n",
       "        vertical-align: middle;\n",
       "    }\n",
       "\n",
       "    .dataframe tbody tr th {\n",
       "        vertical-align: top;\n",
       "    }\n",
       "\n",
       "    .dataframe thead th {\n",
       "        text-align: right;\n",
       "    }\n",
       "</style>\n",
       "<table border=\"1\" class=\"dataframe\">\n",
       "  <thead>\n",
       "    <tr style=\"text-align: right;\">\n",
       "      <th></th>\n",
       "      <th>species</th>\n",
       "      <th>island</th>\n",
       "      <th>bill_length_mm</th>\n",
       "      <th>bill_depth_mm</th>\n",
       "      <th>flipper_length_mm</th>\n",
       "      <th>body_mass_g</th>\n",
       "      <th>sex</th>\n",
       "    </tr>\n",
       "  </thead>\n",
       "  <tbody>\n",
       "    <tr>\n",
       "      <th>339</th>\n",
       "      <td>Gentoo</td>\n",
       "      <td>Biscoe</td>\n",
       "      <td>NaN</td>\n",
       "      <td>NaN</td>\n",
       "      <td>NaN</td>\n",
       "      <td>NaN</td>\n",
       "      <td>NaN</td>\n",
       "    </tr>\n",
       "    <tr>\n",
       "      <th>340</th>\n",
       "      <td>Gentoo</td>\n",
       "      <td>Biscoe</td>\n",
       "      <td>46.8</td>\n",
       "      <td>14.3</td>\n",
       "      <td>215.0</td>\n",
       "      <td>4850.0</td>\n",
       "      <td>Female</td>\n",
       "    </tr>\n",
       "    <tr>\n",
       "      <th>341</th>\n",
       "      <td>Gentoo</td>\n",
       "      <td>Biscoe</td>\n",
       "      <td>50.4</td>\n",
       "      <td>15.7</td>\n",
       "      <td>222.0</td>\n",
       "      <td>5750.0</td>\n",
       "      <td>Male</td>\n",
       "    </tr>\n",
       "    <tr>\n",
       "      <th>342</th>\n",
       "      <td>Gentoo</td>\n",
       "      <td>Biscoe</td>\n",
       "      <td>45.2</td>\n",
       "      <td>14.8</td>\n",
       "      <td>212.0</td>\n",
       "      <td>5200.0</td>\n",
       "      <td>Female</td>\n",
       "    </tr>\n",
       "    <tr>\n",
       "      <th>343</th>\n",
       "      <td>Gentoo</td>\n",
       "      <td>Biscoe</td>\n",
       "      <td>49.9</td>\n",
       "      <td>16.1</td>\n",
       "      <td>213.0</td>\n",
       "      <td>5400.0</td>\n",
       "      <td>Male</td>\n",
       "    </tr>\n",
       "  </tbody>\n",
       "</table>\n",
       "</div>"
      ],
      "text/plain": [
       "    species  island  bill_length_mm  bill_depth_mm  flipper_length_mm  \\\n",
       "339  Gentoo  Biscoe             NaN            NaN                NaN   \n",
       "340  Gentoo  Biscoe            46.8           14.3              215.0   \n",
       "341  Gentoo  Biscoe            50.4           15.7              222.0   \n",
       "342  Gentoo  Biscoe            45.2           14.8              212.0   \n",
       "343  Gentoo  Biscoe            49.9           16.1              213.0   \n",
       "\n",
       "     body_mass_g     sex  \n",
       "339          NaN     NaN  \n",
       "340       4850.0  Female  \n",
       "341       5750.0    Male  \n",
       "342       5200.0  Female  \n",
       "343       5400.0    Male  "
      ]
     },
     "execution_count": 923,
     "metadata": {},
     "output_type": "execute_result"
    },
    {
     "data": {
      "image/png": "[encoded data removed]",
      "text/plain": [
       "<Figure size 710.375x600 with 1 Axes>"
      ]
     },
     "metadata": {},
     "output_type": "display_data"
    }
   ],
   "source": [
    "sns.set_theme(style=\"whitegrid\")\n",
    "\n",
    "penguins = sns.load_dataset(\"penguins\")\n",
    "# Draw a nested barplot by species and sex\n",
    "g = sns.catplot(\n",
    "    data=penguins, kind=\"bar\",\n",
    "    x=\"species\", y=\"body_mass_g\", hue=\"sex\",\n",
    "    errorbar=\"sd\", palette=\"dark\", alpha=.6, height=6\n",
    ")\n",
    "g.despine(left=True)\n",
    "g.set_axis_labels(\"\", \"Body mass (g)\")\n",
    "g.legend.set_title(\"\")\n",
    "penguins.tail(5)"
   ]
  },
  {
   "cell_type": "code",
   "execution_count": 924,
   "id": "d39a9b40-3054-4ea6-965e-f0509265146e",
   "metadata": {},
   "outputs": [],
   "source": [
    "model_val_counts = pd.Series(pred[\"XGB\"]).value_counts()\n",
    "y_test_val_counts = pd.Series(y_test).value_counts()\n",
    "c = dict(model_val_counts)\n",
    "d = dict(y_test_val_counts)\n",
    "\n",
    "merged_dict = {}\n",
    "for i in range(0,len(c)):\n",
    "    merged_dict[i] = [c[i], d[i]]\n",
    "\n",
    "data = pd.DataFrame(merged_dict)\n",
    "# data[\"hue\"] = [0,1]\n",
    "data = data.T"
   ]
  },
  {
   "cell_type": "code",
   "execution_count": 758,
   "id": "7d1fc01b-500e-41e2-a0b8-1552e05d2055",
   "metadata": {},
   "outputs": [
    {
     "data": {
      "text/html": [
       "<div>\n",
       "<style scoped>\n",
       "    .dataframe tbody tr th:only-of-type {\n",
       "        vertical-align: middle;\n",
       "    }\n",
       "\n",
       "    .dataframe tbody tr th {\n",
       "        vertical-align: top;\n",
       "    }\n",
       "\n",
       "    .dataframe thead th {\n",
       "        text-align: right;\n",
       "    }\n",
       "</style>\n",
       "<table border=\"1\" class=\"dataframe\">\n",
       "  <thead>\n",
       "    <tr style=\"text-align: right;\">\n",
       "      <th></th>\n",
       "      <th>species</th>\n",
       "      <th>island</th>\n",
       "      <th>bill_length_mm</th>\n",
       "      <th>bill_depth_mm</th>\n",
       "      <th>flipper_length_mm</th>\n",
       "      <th>body_mass_g</th>\n",
       "      <th>sex</th>\n",
       "    </tr>\n",
       "  </thead>\n",
       "  <tbody>\n",
       "    <tr>\n",
       "      <th>339</th>\n",
       "      <td>Gentoo</td>\n",
       "      <td>Biscoe</td>\n",
       "      <td>NaN</td>\n",
       "      <td>NaN</td>\n",
       "      <td>NaN</td>\n",
       "      <td>NaN</td>\n",
       "      <td>NaN</td>\n",
       "    </tr>\n",
       "    <tr>\n",
       "      <th>340</th>\n",
       "      <td>Gentoo</td>\n",
       "      <td>Biscoe</td>\n",
       "      <td>46.8</td>\n",
       "      <td>14.3</td>\n",
       "      <td>215.0</td>\n",
       "      <td>4850.0</td>\n",
       "      <td>Female</td>\n",
       "    </tr>\n",
       "    <tr>\n",
       "      <th>341</th>\n",
       "      <td>Gentoo</td>\n",
       "      <td>Biscoe</td>\n",
       "      <td>50.4</td>\n",
       "      <td>15.7</td>\n",
       "      <td>222.0</td>\n",
       "      <td>5750.0</td>\n",
       "      <td>Male</td>\n",
       "    </tr>\n",
       "    <tr>\n",
       "      <th>342</th>\n",
       "      <td>Gentoo</td>\n",
       "      <td>Biscoe</td>\n",
       "      <td>45.2</td>\n",
       "      <td>14.8</td>\n",
       "      <td>212.0</td>\n",
       "      <td>5200.0</td>\n",
       "      <td>Female</td>\n",
       "    </tr>\n",
       "    <tr>\n",
       "      <th>343</th>\n",
       "      <td>Gentoo</td>\n",
       "      <td>Biscoe</td>\n",
       "      <td>49.9</td>\n",
       "      <td>16.1</td>\n",
       "      <td>213.0</td>\n",
       "      <td>5400.0</td>\n",
       "      <td>Male</td>\n",
       "    </tr>\n",
       "  </tbody>\n",
       "</table>\n",
       "</div>"
      ],
      "text/plain": [
       "    species  island  bill_length_mm  bill_depth_mm  flipper_length_mm  \\\n",
       "339  Gentoo  Biscoe             NaN            NaN                NaN   \n",
       "340  Gentoo  Biscoe            46.8           14.3              215.0   \n",
       "341  Gentoo  Biscoe            50.4           15.7              222.0   \n",
       "342  Gentoo  Biscoe            45.2           14.8              212.0   \n",
       "343  Gentoo  Biscoe            49.9           16.1              213.0   \n",
       "\n",
       "     body_mass_g     sex  \n",
       "339          NaN     NaN  \n",
       "340       4850.0  Female  \n",
       "341       5750.0    Male  \n",
       "342       5200.0  Female  \n",
       "343       5400.0    Male  "
      ]
     },
     "execution_count": 758,
     "metadata": {},
     "output_type": "execute_result"
    },
    {
     "data": {
      "image/png": "[encoded data removed]",
      "text/plain": [
       "<Figure size 500x500 with 1 Axes>"
      ]
     },
     "metadata": {},
     "output_type": "display_data"
    }
   ],
   "source": [
    "sns.set_theme(style=\"whitegrid\")\n",
    "\n",
    "penguins = sns.load_dataset(\"penguins\")\n",
    "# Draw a nested barplot by species and sex\n",
    "g = sns.catplot(\n",
    "    data=data, kind=\"bar\"\n",
    "    # x=\"species\", y=\"body_mass_g\", hue=\"sex\",\n",
    "    # errorbar=\"sd\", palette=\"dark\", alpha=.6, height=6\n",
    ")\n",
    "g.despine(left=True)\n",
    "g.set_axis_labels(\"\", \"Body mass (g)\")\n",
    "# g.legend.set_title(\"\")\n",
    "penguins.tail(5)\n"
   ]
  },
  {
   "cell_type": "code",
   "execution_count": 759,
   "id": "8cd569c9-1c1e-48a3-9959-75b33e343fbe",
   "metadata": {},
   "outputs": [
    {
     "data": {
      "text/html": [
       "<div>\n",
       "<style scoped>\n",
       "    .dataframe tbody tr th:only-of-type {\n",
       "        vertical-align: middle;\n",
       "    }\n",
       "\n",
       "    .dataframe tbody tr th {\n",
       "        vertical-align: top;\n",
       "    }\n",
       "\n",
       "    .dataframe thead th {\n",
       "        text-align: right;\n",
       "    }\n",
       "</style>\n",
       "<table border=\"1\" class=\"dataframe\">\n",
       "  <thead>\n",
       "    <tr style=\"text-align: right;\">\n",
       "      <th></th>\n",
       "      <th>0</th>\n",
       "      <th>1</th>\n",
       "    </tr>\n",
       "  </thead>\n",
       "  <tbody>\n",
       "    <tr>\n",
       "      <th>0</th>\n",
       "      <td>62</td>\n",
       "      <td>65</td>\n",
       "    </tr>\n",
       "    <tr>\n",
       "      <th>1</th>\n",
       "      <td>99</td>\n",
       "      <td>81</td>\n",
       "    </tr>\n",
       "    <tr>\n",
       "      <th>2</th>\n",
       "      <td>51</td>\n",
       "      <td>73</td>\n",
       "    </tr>\n",
       "    <tr>\n",
       "      <th>3</th>\n",
       "      <td>77</td>\n",
       "      <td>70</td>\n",
       "    </tr>\n",
       "  </tbody>\n",
       "</table>\n",
       "</div>"
      ],
      "text/plain": [
       "    0   1\n",
       "0  62  65\n",
       "1  99  81\n",
       "2  51  73\n",
       "3  77  70"
      ]
     },
     "execution_count": 759,
     "metadata": {},
     "output_type": "execute_result"
    }
   ],
   "source": [
    "data"
   ]
  },
  {
   "cell_type": "code",
   "execution_count": null,
   "id": "01c1fef6-524d-4614-8b1a-36fc3567c9ad",
   "metadata": {},
   "outputs": [],
   "source": []
  }
 ],
 "metadata": {
  "kernelspec": {
   "display_name": "Python 3 (ipykernel)",
   "language": "python",
   "name": "python3"
  },
  "language_info": {
   "codemirror_mode": {
    "name": "ipython",
    "version": 3
   },
   "file_extension": ".py",
   "mimetype": "text/x-python",
   "name": "python",
   "nbconvert_exporter": "python",
   "pygments_lexer": "ipython3",
   "version": "3.8.10"
  }
 },
 "nbformat": 4,
 "nbformat_minor": 5
}
