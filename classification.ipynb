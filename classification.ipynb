{
 "cells": [
  {
   "cell_type": "markdown",
   "id": "4c4f9e88-3552-4e0b-852f-2f2a5ac61f3d",
   "metadata": {},
   "source": [
    "# Classification Prediction"
   ]
  },
  {
   "cell_type": "code",
   "execution_count": 637,
   "id": "98d47b09-6f42-412c-aa3f-112d7d28fdab",
   "metadata": {},
   "outputs": [],
   "source": [
    "from sklearn.preprocessing import MinMaxScaler\n",
    "from sklearn.model_selection import train_test_split\n",
    "from sklearn.metrics import mean_squared_error, mean_absolute_error, accuracy_score\n",
    "from sklearn.model_selection import train_test_split\n",
    "from sklearn.datasets import make_regression\n",
    "from sklearn.preprocessing import MinMaxScaler\n",
    "from sklearn.preprocessing import StandardScaler\n",
    "\n",
    "from tqdm import tqdm\n",
    "import pandas as pd\n",
    "import humanize\n",
    "from datetime import datetime, timedelta\n",
    "import time\n",
    "import numpy as np\n",
    "import seaborn as sns\n",
    "import ast\n",
    "import matplotlib.pyplot as plt\n",
    "import matplotlib.patches as mpatches"
   ]
  },
  {
   "cell_type": "code",
   "execution_count": 638,
   "id": "09a99f0b-be05-4d86-a34f-fc93946948ab",
   "metadata": {},
   "outputs": [],
   "source": [
    "CATEGORIES = [1935, 3307, 11000, 260000]"
   ]
  },
  {
   "cell_type": "code",
   "execution_count": 639,
   "id": "e52cfaf4-6e3d-4619-b984-e7d833ea3925",
   "metadata": {},
   "outputs": [
    {
     "name": "stdout",
     "output_type": "stream",
     "text": [
      "1567\n"
     ]
    }
   ],
   "source": [
    "df = pd.read_csv(\"training_data.csv\")\n",
    "df = df.drop(columns=df.columns[0])\n",
    "df.head()\n",
    "print(len(df))"
   ]
  },
  {
   "cell_type": "code",
   "execution_count": 640,
   "id": "90df94f4-33f4-41e7-be6e-4fcdee2f8042",
   "metadata": {},
   "outputs": [],
   "source": [
    "def print_score(pred, true):\n",
    "    print(\"Mean Squared Error:\".ljust(22,\" \"),round(mean_squared_error(true, pred),5))\n",
    "    print(\"Mean Absolute Error:\".ljust(22,\" \"), round(mean_absolute_error(true, pred),5))\n",
    "    \n",
    "def convert(seconds):\n",
    "    return humanize.naturaldelta(timedelta(seconds=seconds))\n",
    "\n",
    "def show_diff(predictions,y_test,n=25):\n",
    "    print(\"PREDICTION\\t RESULT\\t\\t DIFFERENCE\")\n",
    "    print(\"-\"*45)\n",
    "    for i in range(0,n):\n",
    "        print(predictions[i], \"\\t\",y_test[i], \"\\t\", y_test[i] - predictions[i])\n",
    "\n",
    "def show_plots(predictions, y_test, s=4):\n",
    "    plt.subplot(211)\n",
    "    plt.title(\"Test Results and Predictions\")\n",
    "    plt.scatter(range(len(y_test)),y_test,s=s)\n",
    "    plt.xlabel(\"X_test[i]\")\n",
    "    plt.ylabel(\"correct answer\")\n",
    "    plt.subplot(212)\n",
    "    plt.scatter(range(len(predictions)),predictions,s=s)\n",
    "    plt.ylabel(\"predictions\")\n",
    "    plt.show()\n",
    "\n",
    "pred = {}"
   ]
  },
  {
   "cell_type": "markdown",
   "id": "637f4d7c-6ed9-421b-84cc-5904022e4868",
   "metadata": {},
   "source": [
    "## Remove Outliers from DataFrame\n",
    "any simulations over 26000 seconds is what this just about works out to be"
   ]
  },
  {
   "cell_type": "code",
   "execution_count": 641,
   "id": "0b895cde-3c1f-4332-8948-c81844c3b97f",
   "metadata": {},
   "outputs": [],
   "source": [
    "import pandas as pd\n",
    "import numpy as np\n",
    "from scipy import stats\n",
    "\n",
    "df = df[(np.abs(stats.zscore(df)) < 3).all(axis=1)]"
   ]
  },
  {
   "cell_type": "code",
   "execution_count": 642,
   "id": "e263fbd1-0cef-4374-8ad7-7f1683221564",
   "metadata": {},
   "outputs": [
    {
     "data": {
      "text/html": [
       "<div>\n",
       "<style scoped>\n",
       "    .dataframe tbody tr th:only-of-type {\n",
       "        vertical-align: middle;\n",
       "    }\n",
       "\n",
       "    .dataframe tbody tr th {\n",
       "        vertical-align: top;\n",
       "    }\n",
       "\n",
       "    .dataframe thead th {\n",
       "        text-align: right;\n",
       "    }\n",
       "</style>\n",
       "<table border=\"1\" class=\"dataframe\">\n",
       "  <thead>\n",
       "    <tr style=\"text-align: right;\">\n",
       "      <th></th>\n",
       "      <th>runtime</th>\n",
       "      <th>sim_time</th>\n",
       "      <th>surface_moisture</th>\n",
       "      <th>timestep</th>\n",
       "      <th>wind_direction</th>\n",
       "      <th>wind_speed</th>\n",
       "      <th>canopy_moisture</th>\n",
       "      <th>run_max_mem_rss_bytes</th>\n",
       "      <th>area</th>\n",
       "      <th>steps_fire</th>\n",
       "    </tr>\n",
       "  </thead>\n",
       "  <tbody>\n",
       "    <tr>\n",
       "      <th>count</th>\n",
       "      <td>1442.000000</td>\n",
       "      <td>1442.000000</td>\n",
       "      <td>1442.000000</td>\n",
       "      <td>1442.0</td>\n",
       "      <td>1442.000000</td>\n",
       "      <td>1442.000000</td>\n",
       "      <td>1442.000000</td>\n",
       "      <td>1442.000000</td>\n",
       "      <td>1442.000000</td>\n",
       "      <td>1442.0</td>\n",
       "    </tr>\n",
       "    <tr>\n",
       "      <th>mean</th>\n",
       "      <td>6396.604022</td>\n",
       "      <td>0.103108</td>\n",
       "      <td>0.400160</td>\n",
       "      <td>1.0</td>\n",
       "      <td>0.459015</td>\n",
       "      <td>0.154201</td>\n",
       "      <td>0.741823</td>\n",
       "      <td>0.087422</td>\n",
       "      <td>0.098965</td>\n",
       "      <td>1.0</td>\n",
       "    </tr>\n",
       "    <tr>\n",
       "      <th>std</th>\n",
       "      <td>5750.241251</td>\n",
       "      <td>0.067780</td>\n",
       "      <td>0.201488</td>\n",
       "      <td>0.0</td>\n",
       "      <td>0.222123</td>\n",
       "      <td>0.121748</td>\n",
       "      <td>0.167932</td>\n",
       "      <td>0.055161</td>\n",
       "      <td>0.095449</td>\n",
       "      <td>0.0</td>\n",
       "    </tr>\n",
       "    <tr>\n",
       "      <th>min</th>\n",
       "      <td>10.000000</td>\n",
       "      <td>0.041846</td>\n",
       "      <td>0.000000</td>\n",
       "      <td>1.0</td>\n",
       "      <td>0.000000</td>\n",
       "      <td>0.000000</td>\n",
       "      <td>0.250000</td>\n",
       "      <td>0.000000</td>\n",
       "      <td>0.000000</td>\n",
       "      <td>1.0</td>\n",
       "    </tr>\n",
       "    <tr>\n",
       "      <th>25%</th>\n",
       "      <td>1935.000000</td>\n",
       "      <td>0.050966</td>\n",
       "      <td>0.272727</td>\n",
       "      <td>1.0</td>\n",
       "      <td>0.305913</td>\n",
       "      <td>0.051458</td>\n",
       "      <td>0.750000</td>\n",
       "      <td>0.045511</td>\n",
       "      <td>0.061078</td>\n",
       "      <td>1.0</td>\n",
       "    </tr>\n",
       "    <tr>\n",
       "      <th>50%</th>\n",
       "      <td>3307.000000</td>\n",
       "      <td>0.076433</td>\n",
       "      <td>0.303030</td>\n",
       "      <td>1.0</td>\n",
       "      <td>0.383033</td>\n",
       "      <td>0.144583</td>\n",
       "      <td>0.750000</td>\n",
       "      <td>0.100226</td>\n",
       "      <td>0.061357</td>\n",
       "      <td>1.0</td>\n",
       "    </tr>\n",
       "    <tr>\n",
       "      <th>75%</th>\n",
       "      <td>10958.250000</td>\n",
       "      <td>0.128999</td>\n",
       "      <td>0.606061</td>\n",
       "      <td>1.0</td>\n",
       "      <td>0.652956</td>\n",
       "      <td>0.237708</td>\n",
       "      <td>0.833333</td>\n",
       "      <td>0.109813</td>\n",
       "      <td>0.091384</td>\n",
       "      <td>1.0</td>\n",
       "    </tr>\n",
       "    <tr>\n",
       "      <th>max</th>\n",
       "      <td>25866.000000</td>\n",
       "      <td>0.309009</td>\n",
       "      <td>0.909091</td>\n",
       "      <td>1.0</td>\n",
       "      <td>1.000000</td>\n",
       "      <td>0.583333</td>\n",
       "      <td>1.000000</td>\n",
       "      <td>0.248807</td>\n",
       "      <td>0.354496</td>\n",
       "      <td>1.0</td>\n",
       "    </tr>\n",
       "  </tbody>\n",
       "</table>\n",
       "</div>"
      ],
      "text/plain": [
       "            runtime     sim_time  surface_moisture  timestep  wind_direction  \\\n",
       "count   1442.000000  1442.000000       1442.000000    1442.0     1442.000000   \n",
       "mean    6396.604022     0.103108          0.400160       1.0        0.459015   \n",
       "std     5750.241251     0.067780          0.201488       0.0        0.222123   \n",
       "min       10.000000     0.041846          0.000000       1.0        0.000000   \n",
       "25%     1935.000000     0.050966          0.272727       1.0        0.305913   \n",
       "50%     3307.000000     0.076433          0.303030       1.0        0.383033   \n",
       "75%    10958.250000     0.128999          0.606061       1.0        0.652956   \n",
       "max    25866.000000     0.309009          0.909091       1.0        1.000000   \n",
       "\n",
       "        wind_speed  canopy_moisture  run_max_mem_rss_bytes         area  \\\n",
       "count  1442.000000      1442.000000            1442.000000  1442.000000   \n",
       "mean      0.154201         0.741823               0.087422     0.098965   \n",
       "std       0.121748         0.167932               0.055161     0.095449   \n",
       "min       0.000000         0.250000               0.000000     0.000000   \n",
       "25%       0.051458         0.750000               0.045511     0.061078   \n",
       "50%       0.144583         0.750000               0.100226     0.061357   \n",
       "75%       0.237708         0.833333               0.109813     0.091384   \n",
       "max       0.583333         1.000000               0.248807     0.354496   \n",
       "\n",
       "       steps_fire  \n",
       "count      1442.0  \n",
       "mean          1.0  \n",
       "std           0.0  \n",
       "min           1.0  \n",
       "25%           1.0  \n",
       "50%           1.0  \n",
       "75%           1.0  \n",
       "max           1.0  "
      ]
     },
     "execution_count": 642,
     "metadata": {},
     "output_type": "execute_result"
    }
   ],
   "source": [
    "df.describe()"
   ]
  },
  {
   "cell_type": "code",
   "execution_count": 643,
   "id": "3a850ecf-0753-4eb1-9c10-ca096ab22472",
   "metadata": {},
   "outputs": [
    {
     "data": {
      "image/png": "[encoded data removed]",
      "text/plain": [
       "<Figure size 640x480 with 1 Axes>"
      ]
     },
     "metadata": {},
     "output_type": "display_data"
    }
   ],
   "source": [
    "plt.title(\"Runtime Distribution After Outliers are Removed\")\n",
    "plt.scatter(range(len(df[\"runtime\"])),df[\"runtime\"],s=4)\n",
    "plt.ylabel(\"Runtime in seconds\")\n",
    "plt.xlabel(\"Data point [i]\")\n",
    "plt.show()"
   ]
  },
  {
   "cell_type": "code",
   "execution_count": 644,
   "id": "39b3beb2-b6a7-41cd-9176-a8e08e99a87a",
   "metadata": {},
   "outputs": [
    {
     "data": {
      "text/plain": [
       "<Axes: xlabel='runtime', ylabel='Count'>"
      ]
     },
     "execution_count": 644,
     "metadata": {},
     "output_type": "execute_result"
    },
    {
     "data": {
      "image/png": "[encoded data removed]",
      "text/plain": [
       "<Figure size 640x480 with 1 Axes>"
      ]
     },
     "metadata": {},
     "output_type": "display_data"
    }
   ],
   "source": [
    "sns.histplot(df[\"runtime\"])"
   ]
  },
  {
   "cell_type": "code",
   "execution_count": 645,
   "id": "caefa034-758f-49a8-be98-c6076c3a9fdb",
   "metadata": {},
   "outputs": [
    {
     "name": "stdout",
     "output_type": "stream",
     "text": [
      "a minute\n",
      "33 minutes\n",
      "55 minutes\n",
      "3 hours\n",
      "7 hours\n"
     ]
    }
   ],
   "source": [
    "for i in [100, 2000, 3300, 11000, 26000]:\n",
    "    print(f\"{convert(i)}\")"
   ]
  },
  {
   "cell_type": "code",
   "execution_count": 646,
   "id": "6a858a63-3b74-4b3b-9967-f5073abbdb98",
   "metadata": {},
   "outputs": [],
   "source": [
    "def categorize(seconds):\n",
    "    global CATEGORIES\n",
    "    for i in range(len(CATEGORIES)):\n",
    "        if (seconds <= CATEGORIES[i]):\n",
    "            return i\n",
    "\n",
    "def print_categories():\n",
    "    global CATEGORIES\n",
    "    for i in range(len(CATEGORIES)):\n",
    "        print(f\"{convert(CATEGORIES[i])}   \\t{i}\")"
   ]
  },
  {
   "cell_type": "code",
   "execution_count": 647,
   "id": "09b9ea3d-5e76-4b6a-9812-71d90df49679",
   "metadata": {},
   "outputs": [
    {
     "data": {
      "text/html": [
       "<div>\n",
       "<style scoped>\n",
       "    .dataframe tbody tr th:only-of-type {\n",
       "        vertical-align: middle;\n",
       "    }\n",
       "\n",
       "    .dataframe tbody tr th {\n",
       "        vertical-align: top;\n",
       "    }\n",
       "\n",
       "    .dataframe thead th {\n",
       "        text-align: right;\n",
       "    }\n",
       "</style>\n",
       "<table border=\"1\" class=\"dataframe\">\n",
       "  <thead>\n",
       "    <tr style=\"text-align: right;\">\n",
       "      <th></th>\n",
       "      <th>runtime</th>\n",
       "      <th>sim_time</th>\n",
       "      <th>surface_moisture</th>\n",
       "      <th>timestep</th>\n",
       "      <th>wind_direction</th>\n",
       "      <th>wind_speed</th>\n",
       "      <th>canopy_moisture</th>\n",
       "      <th>run_max_mem_rss_bytes</th>\n",
       "      <th>area</th>\n",
       "      <th>steps_fire</th>\n",
       "      <th>runtime_ca</th>\n",
       "    </tr>\n",
       "  </thead>\n",
       "  <tbody>\n",
       "    <tr>\n",
       "      <th>0</th>\n",
       "      <td>5475</td>\n",
       "      <td>0.050966</td>\n",
       "      <td>0.303030</td>\n",
       "      <td>1.0</td>\n",
       "      <td>0.241645</td>\n",
       "      <td>0.051458</td>\n",
       "      <td>0.833333</td>\n",
       "      <td>0.074582</td>\n",
       "      <td>0.046235</td>\n",
       "      <td>1.0</td>\n",
       "      <td>2</td>\n",
       "    </tr>\n",
       "    <tr>\n",
       "      <th>1</th>\n",
       "      <td>9737</td>\n",
       "      <td>0.128999</td>\n",
       "      <td>0.151515</td>\n",
       "      <td>1.0</td>\n",
       "      <td>0.305913</td>\n",
       "      <td>0.144583</td>\n",
       "      <td>0.750000</td>\n",
       "      <td>0.100625</td>\n",
       "      <td>0.293084</td>\n",
       "      <td>1.0</td>\n",
       "      <td>2</td>\n",
       "    </tr>\n",
       "    <tr>\n",
       "      <th>2</th>\n",
       "      <td>501</td>\n",
       "      <td>0.044546</td>\n",
       "      <td>0.363636</td>\n",
       "      <td>1.0</td>\n",
       "      <td>0.768638</td>\n",
       "      <td>0.051458</td>\n",
       "      <td>0.791667</td>\n",
       "      <td>0.005656</td>\n",
       "      <td>0.011231</td>\n",
       "      <td>1.0</td>\n",
       "      <td>0</td>\n",
       "    </tr>\n",
       "    <tr>\n",
       "      <th>3</th>\n",
       "      <td>4325</td>\n",
       "      <td>0.055708</td>\n",
       "      <td>0.303030</td>\n",
       "      <td>1.0</td>\n",
       "      <td>0.426735</td>\n",
       "      <td>0.083333</td>\n",
       "      <td>0.916667</td>\n",
       "      <td>0.099840</td>\n",
       "      <td>0.131749</td>\n",
       "      <td>1.0</td>\n",
       "      <td>2</td>\n",
       "    </tr>\n",
       "    <tr>\n",
       "      <th>4</th>\n",
       "      <td>9008</td>\n",
       "      <td>0.170005</td>\n",
       "      <td>0.454545</td>\n",
       "      <td>1.0</td>\n",
       "      <td>1.000000</td>\n",
       "      <td>0.144583</td>\n",
       "      <td>0.833333</td>\n",
       "      <td>0.171107</td>\n",
       "      <td>0.061357</td>\n",
       "      <td>1.0</td>\n",
       "      <td>2</td>\n",
       "    </tr>\n",
       "  </tbody>\n",
       "</table>\n",
       "</div>"
      ],
      "text/plain": [
       "   runtime  sim_time  surface_moisture  timestep  wind_direction  wind_speed  \\\n",
       "0     5475  0.050966          0.303030       1.0        0.241645    0.051458   \n",
       "1     9737  0.128999          0.151515       1.0        0.305913    0.144583   \n",
       "2      501  0.044546          0.363636       1.0        0.768638    0.051458   \n",
       "3     4325  0.055708          0.303030       1.0        0.426735    0.083333   \n",
       "4     9008  0.170005          0.454545       1.0        1.000000    0.144583   \n",
       "\n",
       "   canopy_moisture  run_max_mem_rss_bytes      area  steps_fire  runtime_ca  \n",
       "0         0.833333               0.074582  0.046235         1.0           2  \n",
       "1         0.750000               0.100625  0.293084         1.0           2  \n",
       "2         0.791667               0.005656  0.011231         1.0           0  \n",
       "3         0.916667               0.099840  0.131749         1.0           2  \n",
       "4         0.833333               0.171107  0.061357         1.0           2  "
      ]
     },
     "execution_count": 647,
     "metadata": {},
     "output_type": "execute_result"
    }
   ],
   "source": [
    "runtime_categories = df.apply(lambda row: categorize(row[\"runtime\"]), axis=1)\n",
    "# df.insert(0, \"runtime_ca\", runtime_categories)\n",
    "df[\"runtime_ca\"] = runtime_categories\n",
    "df.head()"
   ]
  },
  {
   "cell_type": "code",
   "execution_count": 648,
   "id": "f91018d6-1f34-44c2-ac65-d63fef27153d",
   "metadata": {},
   "outputs": [
    {
     "name": "stdout",
     "output_type": "stream",
     "text": [
      "32 minutes \t 0\n",
      "55 minutes \t 1\n",
      "3 hours \t 2\n",
      "3 days \t 3\n"
     ]
    },
    {
     "data": {
      "text/plain": [
       "runtime_ca\n",
       "2    364\n",
       "0    361\n",
       "1    360\n",
       "3    357\n",
       "Name: count, dtype: int64"
      ]
     },
     "execution_count": 648,
     "metadata": {},
     "output_type": "execute_result"
    },
    {
     "data": {
      "image/png": "[encoded data removed]",
      "text/plain": [
       "<Figure size 640x480 with 1 Axes>"
      ]
     },
     "metadata": {},
     "output_type": "display_data"
    }
   ],
   "source": [
    "for i in range(len(CATEGORIES)):\n",
    "    print(convert(CATEGORIES[i]),\"\\t\",i)\n",
    "df[\"runtime_ca\"].value_counts().plot(kind=\"bar\")\n",
    "df[\"runtime_ca\"].value_counts()\n"
   ]
  },
  {
   "cell_type": "code",
   "execution_count": 649,
   "id": "520e08ac-d72f-43e8-a0dc-d1149570c315",
   "metadata": {},
   "outputs": [
    {
     "data": {
      "text/html": [
       "<div>\n",
       "<style scoped>\n",
       "    .dataframe tbody tr th:only-of-type {\n",
       "        vertical-align: middle;\n",
       "    }\n",
       "\n",
       "    .dataframe tbody tr th {\n",
       "        vertical-align: top;\n",
       "    }\n",
       "\n",
       "    .dataframe thead th {\n",
       "        text-align: right;\n",
       "    }\n",
       "</style>\n",
       "<table border=\"1\" class=\"dataframe\">\n",
       "  <thead>\n",
       "    <tr style=\"text-align: right;\">\n",
       "      <th></th>\n",
       "      <th>sim_time</th>\n",
       "      <th>surface_moisture</th>\n",
       "      <th>timestep</th>\n",
       "      <th>wind_direction</th>\n",
       "      <th>wind_speed</th>\n",
       "      <th>canopy_moisture</th>\n",
       "      <th>run_max_mem_rss_bytes</th>\n",
       "      <th>area</th>\n",
       "      <th>steps_fire</th>\n",
       "    </tr>\n",
       "  </thead>\n",
       "  <tbody>\n",
       "    <tr>\n",
       "      <th>1562</th>\n",
       "      <td>0.045317</td>\n",
       "      <td>0.303030</td>\n",
       "      <td>1.0</td>\n",
       "      <td>0.228792</td>\n",
       "      <td>0.051458</td>\n",
       "      <td>0.750000</td>\n",
       "      <td>0.000000</td>\n",
       "      <td>0.000000</td>\n",
       "      <td>1.0</td>\n",
       "    </tr>\n",
       "    <tr>\n",
       "      <th>1563</th>\n",
       "      <td>0.128738</td>\n",
       "      <td>0.151515</td>\n",
       "      <td>1.0</td>\n",
       "      <td>0.460154</td>\n",
       "      <td>0.125958</td>\n",
       "      <td>0.833333</td>\n",
       "      <td>0.100649</td>\n",
       "      <td>0.293084</td>\n",
       "      <td>1.0</td>\n",
       "    </tr>\n",
       "    <tr>\n",
       "      <th>1564</th>\n",
       "      <td>0.044546</td>\n",
       "      <td>0.212121</td>\n",
       "      <td>1.0</td>\n",
       "      <td>0.691517</td>\n",
       "      <td>0.051458</td>\n",
       "      <td>0.791667</td>\n",
       "      <td>0.005659</td>\n",
       "      <td>0.011231</td>\n",
       "      <td>1.0</td>\n",
       "    </tr>\n",
       "    <tr>\n",
       "      <th>1565</th>\n",
       "      <td>0.309009</td>\n",
       "      <td>0.454545</td>\n",
       "      <td>1.0</td>\n",
       "      <td>0.228792</td>\n",
       "      <td>0.144583</td>\n",
       "      <td>0.750000</td>\n",
       "      <td>0.171151</td>\n",
       "      <td>0.061357</td>\n",
       "      <td>1.0</td>\n",
       "    </tr>\n",
       "    <tr>\n",
       "      <th>1566</th>\n",
       "      <td>0.045317</td>\n",
       "      <td>0.303030</td>\n",
       "      <td>1.0</td>\n",
       "      <td>0.305913</td>\n",
       "      <td>0.051458</td>\n",
       "      <td>0.750000</td>\n",
       "      <td>0.000155</td>\n",
       "      <td>0.000000</td>\n",
       "      <td>1.0</td>\n",
       "    </tr>\n",
       "  </tbody>\n",
       "</table>\n",
       "</div>"
      ],
      "text/plain": [
       "      sim_time  surface_moisture  timestep  wind_direction  wind_speed  \\\n",
       "1562  0.045317          0.303030       1.0        0.228792    0.051458   \n",
       "1563  0.128738          0.151515       1.0        0.460154    0.125958   \n",
       "1564  0.044546          0.212121       1.0        0.691517    0.051458   \n",
       "1565  0.309009          0.454545       1.0        0.228792    0.144583   \n",
       "1566  0.045317          0.303030       1.0        0.305913    0.051458   \n",
       "\n",
       "      canopy_moisture  run_max_mem_rss_bytes      area  steps_fire  \n",
       "1562         0.750000               0.000000  0.000000         1.0  \n",
       "1563         0.833333               0.100649  0.293084         1.0  \n",
       "1564         0.791667               0.005659  0.011231         1.0  \n",
       "1565         0.750000               0.171151  0.061357         1.0  \n",
       "1566         0.750000               0.000155  0.000000         1.0  "
      ]
     },
     "execution_count": 649,
     "metadata": {},
     "output_type": "execute_result"
    }
   ],
   "source": [
    "y = df[\"runtime_ca\"]\n",
    "X = df.drop(columns=[\"runtime\",\"runtime_ca\"])\n",
    "X.tail()"
   ]
  },
  {
   "cell_type": "code",
   "execution_count": 650,
   "id": "3b76a85d-1cfa-4d6d-bbc0-86635328faf8",
   "metadata": {},
   "outputs": [
    {
     "name": "stdout",
     "output_type": "stream",
     "text": [
      "1153 289 1153 289\n"
     ]
    }
   ],
   "source": [
    "TEST_RATIO = 0.2\n",
    "\n",
    "X_train, X_test, y_train, y_test = train_test_split(X, y, test_size=TEST_RATIO,random_state=42)\n",
    "\n",
    "X_train = np.array(X_train)\n",
    "X_test = np.array(X_test)\n",
    "y_train = np.array(y_train)\n",
    "y_test = np.array(y_test)\n",
    "\n",
    "print(len(X_train), len(X_test), len(y_train), len(y_test))"
   ]
  },
  {
   "cell_type": "markdown",
   "id": "216b8be2-5fa2-4724-9d90-63760caa8a60",
   "metadata": {},
   "source": [
    "# Classification Approaches\n",
    "- K Means clustering\n",
    "- SVM\n",
    "- decision tree\n",
    "  "
   ]
  },
  {
   "cell_type": "markdown",
   "id": "0c4f8223-d89f-4cc9-b5e9-f9e0af761217",
   "metadata": {},
   "source": [
    "# K Means Clustering"
   ]
  },
  {
   "cell_type": "code",
   "execution_count": 651,
   "id": "8b2da5be-8b35-4b57-826c-98b51d2f9a55",
   "metadata": {},
   "outputs": [],
   "source": [
    "from sklearn.cluster import KMeans\n",
    "\n",
    "# ------ experiment with cluster amount ---------- #\n",
    "n_clusters = len(CATEGORIES)\n",
    "# ------ experiment with cluster amount ---------- #\n",
    "\n",
    "model = KMeans(n_clusters=n_clusters, n_init=10)\n",
    "model = model.fit(X_train,y_train)"
   ]
  },
  {
   "cell_type": "code",
   "execution_count": 652,
   "id": "92f968df-9f7a-42ce-ae2b-5fc74137b850",
   "metadata": {},
   "outputs": [],
   "source": [
    "pred[\"Kmeans\"] = model.predict(X_test)"
   ]
  },
  {
   "cell_type": "code",
   "execution_count": 653,
   "id": "ae605f39-6133-4a0e-a117-31a595b0e69f",
   "metadata": {},
   "outputs": [
    {
     "name": "stdout",
     "output_type": "stream",
     "text": [
      "Mean Squared Error:    2.00692\n",
      "Mean Absolute Error:   1.04498\n"
     ]
    }
   ],
   "source": [
    "print_score(pred[\"Kmeans\"], y_test)"
   ]
  },
  {
   "cell_type": "code",
   "execution_count": 654,
   "id": "42b07ffe-97ae-4aae-aad9-0c00ed4b1add",
   "metadata": {},
   "outputs": [
    {
     "data": {
      "text/plain": [
       "0.3494809688581315"
      ]
     },
     "execution_count": 654,
     "metadata": {},
     "output_type": "execute_result"
    }
   ],
   "source": [
    "accuracy_score(y_true=y_test,y_pred=pred[\"Kmeans\"])"
   ]
  },
  {
   "cell_type": "markdown",
   "id": "0c5b0eea-7668-4faa-91d7-0c6b5e7d5261",
   "metadata": {},
   "source": [
    "15% is very bad accuracy, something must be wrong with my approach to using K means here but I am not sure so I will try another model. Could be an input data problem but I am skeptical of that"
   ]
  },
  {
   "cell_type": "markdown",
   "id": "46f3eba8-8ab2-4b73-a0d9-ab034552c097",
   "metadata": {},
   "source": [
    "# SVM"
   ]
  },
  {
   "cell_type": "code",
   "execution_count": 655,
   "id": "13dbbf2c-feb2-4ee8-9e08-4fa9ab8d62ff",
   "metadata": {},
   "outputs": [],
   "source": [
    "from sklearn.svm import SVC\n",
    "model = SVC(kernel='rbf')\n",
    "model = model.fit(X_train,y_train)"
   ]
  },
  {
   "cell_type": "code",
   "execution_count": 656,
   "id": "42b3f036-a210-4cd7-a01d-ff36476864fb",
   "metadata": {},
   "outputs": [
    {
     "data": {
      "text/plain": [
       "0.6539792387543253"
      ]
     },
     "execution_count": 656,
     "metadata": {},
     "output_type": "execute_result"
    }
   ],
   "source": [
    "pred[\"SVM\"] = model.predict(X_test)\n",
    "accuracy_score(y_true=y_test,y_pred=pred[\"SVM\"])"
   ]
  },
  {
   "cell_type": "markdown",
   "id": "9198b0bd-b863-46b0-a25b-aa1ba5fe40ef",
   "metadata": {},
   "source": [
    "# Decision Tree Classifier"
   ]
  },
  {
   "cell_type": "code",
   "execution_count": 657,
   "id": "02d97bc1-da2d-423f-9600-1ce350fe0ff3",
   "metadata": {},
   "outputs": [],
   "source": [
    "from sklearn.tree import DecisionTreeClassifier\n",
    "model = DecisionTreeClassifier()\n",
    "model = model.fit(X_train, y_train)"
   ]
  },
  {
   "cell_type": "code",
   "execution_count": 658,
   "id": "efd8826f-7e0c-45e2-b85a-42fa44708d3b",
   "metadata": {},
   "outputs": [
    {
     "data": {
      "text/plain": [
       "0.6539792387543253"
      ]
     },
     "execution_count": 658,
     "metadata": {},
     "output_type": "execute_result"
    }
   ],
   "source": [
    "pred[\"DecisionTree\"] = model.predict(X_test)\n",
    "accuracy_score(y_true=y_test,y_pred=pred[\"DecisionTree\"])"
   ]
  },
  {
   "cell_type": "code",
   "execution_count": null,
   "id": "c10a03f5-97e8-4814-9de6-32bf8a914f7f",
   "metadata": {},
   "outputs": [],
   "source": []
  },
  {
   "cell_type": "markdown",
   "id": "00e76bda-09ef-4265-b4bd-45dc2cd08758",
   "metadata": {},
   "source": [
    "# Logistic Regression"
   ]
  },
  {
   "cell_type": "markdown",
   "id": "a2f5d38c-d872-4bfc-b4e1-6e48c259c20d",
   "metadata": {},
   "source": [
    "currently not working"
   ]
  },
  {
   "cell_type": "code",
   "execution_count": 659,
   "id": "23cf2d57-1e07-4117-ad91-9f7a15f59f23",
   "metadata": {},
   "outputs": [
    {
     "name": "stderr",
     "output_type": "stream",
     "text": [
      "/root/.local/lib/python3.8/site-packages/sklearn/linear_model/_logistic.py:460: ConvergenceWarning: lbfgs failed to converge (status=1):\n",
      "STOP: TOTAL NO. of ITERATIONS REACHED LIMIT.\n",
      "\n",
      "Increase the number of iterations (max_iter) or scale the data as shown in:\n",
      "    https://scikit-learn.org/stable/modules/preprocessing.html\n",
      "Please also refer to the documentation for alternative solver options:\n",
      "    https://scikit-learn.org/stable/modules/linear_model.html#logistic-regression\n",
      "  n_iter_i = _check_optimize_result(\n"
     ]
    }
   ],
   "source": [
    "from sklearn.linear_model import LogisticRegression\n",
    "model = LogisticRegression()\n",
    "model = model.fit(X_train, y_train)"
   ]
  },
  {
   "cell_type": "code",
   "execution_count": 660,
   "id": "ce24f917-342c-4024-86ca-1d3ba7dcec15",
   "metadata": {},
   "outputs": [
    {
     "data": {
      "text/plain": [
       "0.5813148788927336"
      ]
     },
     "execution_count": 660,
     "metadata": {},
     "output_type": "execute_result"
    }
   ],
   "source": [
    "pred[\"LogisticRegression\"] = model.predict(X_test)\n",
    "accuracy_score(y_true=y_test,y_pred=pred[\"LogisticRegression\"])"
   ]
  },
  {
   "cell_type": "markdown",
   "id": "cabd7aa9-48aa-4108-a717-a37d133a2f84",
   "metadata": {},
   "source": [
    "# Stochastic Gradient Descent"
   ]
  },
  {
   "cell_type": "code",
   "execution_count": 661,
   "id": "70e22a9c-7f50-4cb0-9731-f17eb3ecbe82",
   "metadata": {},
   "outputs": [],
   "source": [
    "from sklearn.linear_model import SGDClassifier\n",
    "model = SGDClassifier()\n",
    "model = model.fit(X_train, y_train)"
   ]
  },
  {
   "cell_type": "code",
   "execution_count": 662,
   "id": "6b479ed1-770b-475f-bd6a-fbdbdb8f067b",
   "metadata": {},
   "outputs": [
    {
     "data": {
      "text/plain": [
       "0.6020761245674741"
      ]
     },
     "execution_count": 662,
     "metadata": {},
     "output_type": "execute_result"
    }
   ],
   "source": [
    "pred[\"SGD\"] = model.predict(X_test)\n",
    "accuracy_score(y_true=y_test,y_pred=pred[\"SGD\"])"
   ]
  },
  {
   "cell_type": "markdown",
   "id": "e0cf1d89-0213-4da1-a5d1-7033c06a9458",
   "metadata": {},
   "source": [
    "# K Nearest Neighbor"
   ]
  },
  {
   "cell_type": "code",
   "execution_count": 663,
   "id": "792d1c8f-c9c4-4dd3-96f3-52c6a762b957",
   "metadata": {},
   "outputs": [],
   "source": [
    "from sklearn.neighbors import KNeighborsClassifier\n",
    "model = KNeighborsClassifier(n_neighbors=len(CATEGORIES))\n",
    "model = model.fit(X_train, y_train)"
   ]
  },
  {
   "cell_type": "code",
   "execution_count": 664,
   "id": "97ca0a7f-85bc-47ec-b554-95f838c9f64c",
   "metadata": {},
   "outputs": [
    {
     "data": {
      "text/plain": [
       "0.6505190311418685"
      ]
     },
     "execution_count": 664,
     "metadata": {},
     "output_type": "execute_result"
    }
   ],
   "source": [
    "pred[\"kNN\"] = model.predict(X_test)\n",
    "accuracy_score(y_true=y_test,y_pred=pred[\"kNN\"])"
   ]
  },
  {
   "cell_type": "markdown",
   "id": "78696473-c554-42c2-a042-0c8acf59da3f",
   "metadata": {},
   "source": [
    "# Random Forest\n"
   ]
  },
  {
   "cell_type": "code",
   "execution_count": 665,
   "id": "c6035dd4-5629-473e-9865-957b27f7f6b8",
   "metadata": {},
   "outputs": [],
   "source": [
    "from sklearn.ensemble import RandomForestClassifier\n",
    "# ----------------- #\n",
    "n = 100\n",
    "# ----------------- #\n",
    "model = RandomForestClassifier(n_estimators=n)\n",
    "model = model.fit(X_train, y_train)"
   ]
  },
  {
   "cell_type": "code",
   "execution_count": 666,
   "id": "d0c1c583-34bd-452c-9485-7ad1eadb54bd",
   "metadata": {},
   "outputs": [
    {
     "data": {
      "text/plain": [
       "0.7231833910034602"
      ]
     },
     "execution_count": 666,
     "metadata": {},
     "output_type": "execute_result"
    }
   ],
   "source": [
    "pred[\"RandomForest\"] = model.predict(X_test)\n",
    "accuracy_score(y_true=y_test,y_pred=pred[\"RandomForest\"])"
   ]
  },
  {
   "cell_type": "markdown",
   "id": "7ee5d5e8-5286-44fb-bdd7-cd2a33c2ac0d",
   "metadata": {},
   "source": [
    "# Gradient Boosting"
   ]
  },
  {
   "cell_type": "code",
   "execution_count": 667,
   "id": "5952d386-d1e5-478f-9376-0102a7936147",
   "metadata": {},
   "outputs": [],
   "source": [
    "from sklearn.ensemble import GradientBoostingClassifier\n",
    "# ----------------- #\n",
    "n = 100\n",
    "# ----------------- #\n",
    "model = GradientBoostingClassifier(n_estimators = n)\n",
    "model = model.fit(X_train, y_train)"
   ]
  },
  {
   "cell_type": "code",
   "execution_count": 668,
   "id": "13c28f04-e05a-405f-a246-a0b18bad051a",
   "metadata": {},
   "outputs": [
    {
     "data": {
      "text/plain": [
       "0.698961937716263"
      ]
     },
     "execution_count": 668,
     "metadata": {},
     "output_type": "execute_result"
    }
   ],
   "source": [
    "pred[\"GradientBoosting\"] = model.predict(X_test)\n",
    "accuracy_score(y_true=y_test,y_pred=pred[\"GradientBoosting\"])"
   ]
  },
  {
   "cell_type": "markdown",
   "id": "1f6d3c97-955a-4707-b71b-163592b12fd6",
   "metadata": {},
   "source": [
    "# LGBM"
   ]
  },
  {
   "cell_type": "code",
   "execution_count": 669,
   "id": "49dae77e-d256-4412-962c-493e4097a083",
   "metadata": {},
   "outputs": [],
   "source": [
    "# !pip3 install --user lightgbm"
   ]
  },
  {
   "cell_type": "code",
   "execution_count": 670,
   "id": "70a5889e-5c29-4aa9-a53d-7f2b62fb8c56",
   "metadata": {},
   "outputs": [
    {
     "name": "stdout",
     "output_type": "stream",
     "text": [
      "[LightGBM] [Warning] Auto-choosing row-wise multi-threading, the overhead of testing was 0.000308 seconds.\n",
      "You can set `force_row_wise=true` to remove the overhead.\n",
      "And if memory is not enough, you can set `force_col_wise=true`.\n",
      "[LightGBM] [Info] Total Bins 406\n",
      "[LightGBM] [Info] Number of data points in the train set: 1153, number of used features: 7\n",
      "[LightGBM] [Info] Start training from score -1.359763\n",
      "[LightGBM] [Info] Start training from score -1.418911\n",
      "[LightGBM] [Info] Start training from score -1.376799\n",
      "[LightGBM] [Info] Start training from score -1.390640\n",
      "[LightGBM] [Warning] No further splits with positive gain, best gain: -inf\n",
      "[LightGBM] [Warning] No further splits with positive gain, best gain: -inf\n",
      "[LightGBM] [Warning] No further splits with positive gain, best gain: -inf\n"
     ]
    }
   ],
   "source": [
    "from lightgbm import LGBMClassifier\n",
    "# ----------------- #\n",
    "n = 100\n",
    "# ----------------- #\n",
    "model = LGBMClassifier(n_estimators = n)\n",
    "model = model.fit(X_train, y_train)"
   ]
  },
  {
   "cell_type": "code",
   "execution_count": 671,
   "id": "9482d098-74e1-4eb5-a9bb-c15e3c9a6a75",
   "metadata": {},
   "outputs": [
    {
     "data": {
      "text/plain": [
       "0.6851211072664359"
      ]
     },
     "execution_count": 671,
     "metadata": {},
     "output_type": "execute_result"
    }
   ],
   "source": [
    "pred[\"LGBM\"] = model.predict(X_test)\n",
    "accuracy_score(y_true=y_test,y_pred=pred[\"LGBM\"])"
   ]
  },
  {
   "cell_type": "markdown",
   "id": "b0be35c7-f82e-4889-958e-2aaa861e77d1",
   "metadata": {},
   "source": [
    "# XGB"
   ]
  },
  {
   "cell_type": "code",
   "execution_count": 672,
   "id": "aabec3ad-5f88-4393-8842-495bdfaf7463",
   "metadata": {},
   "outputs": [],
   "source": [
    "# !pip3 install --user xgboost"
   ]
  },
  {
   "cell_type": "code",
   "execution_count": 673,
   "id": "6ad3b9f1-a0f0-4e4d-bd59-b16218c824ff",
   "metadata": {},
   "outputs": [],
   "source": [
    "from xgboost.sklearn import XGBClassifier\n",
    "# ----------------- #\n",
    "n = 100\n",
    "# ----------------- #\n",
    "model = XGBClassifier(n_estimators = n)\n",
    "model = model.fit(X_train, y_train)"
   ]
  },
  {
   "cell_type": "code",
   "execution_count": 674,
   "id": "1540f928-6852-4352-88be-27914b427cef",
   "metadata": {},
   "outputs": [
    {
     "data": {
      "text/plain": [
       "0.6851211072664359"
      ]
     },
     "execution_count": 674,
     "metadata": {},
     "output_type": "execute_result"
    }
   ],
   "source": [
    "pred[\"XGB\"] = model.predict(X_test)\n",
    "accuracy_score(y_true=y_test,y_pred=pred[\"XGB\"])"
   ]
  },
  {
   "cell_type": "markdown",
   "id": "6bc055f0-71e6-4946-a6a3-f9204213bcee",
   "metadata": {},
   "source": [
    "# Compare Models"
   ]
  },
  {
   "cell_type": "code",
   "execution_count": 675,
   "id": "a19fe9be-d637-4ea3-bb33-8cb1c93fb51b",
   "metadata": {},
   "outputs": [],
   "source": [
    "# compare = pd.DataFrame(pred)\n",
    "compare = pd.DataFrame({\n",
    "    \"name\":pred.keys(), \n",
    "    \"accuracy\":np.nan,\n",
    "    \"mse\":np.nan,\n",
    "})\n",
    "compare = compare.set_index(\"name\")"
   ]
  },
  {
   "cell_type": "code",
   "execution_count": 676,
   "id": "96016399-4fb4-4690-9b2f-6bf7e5e3a03e",
   "metadata": {},
   "outputs": [],
   "source": [
    "compare[\"accuracy\"] = compare.apply(lambda row: accuracy_score(y_pred=pred[row.name],y_true=y_test)*100,axis=1)\n",
    "compare[\"mse\"] = compare.apply(lambda row: mean_squared_error(y_pred=pred[row.name],y_true=y_test),axis=1)\n",
    "compare[\"mean absolute\"] = compare.apply(lambda row: mean_absolute_error(y_pred=pred[row.name],y_true=y_test),axis=1)"
   ]
  },
  {
   "cell_type": "markdown",
   "id": "ac547b06-2e0e-430f-b283-e960f23576ea",
   "metadata": {},
   "source": [
    "### So how do the models stack up to each other?"
   ]
  },
  {
   "cell_type": "code",
   "execution_count": 677,
   "id": "6a052bb7-634c-4cb9-9e99-aefc5832024b",
   "metadata": {},
   "outputs": [
    {
     "data": {
      "text/html": [
       "<div>\n",
       "<style scoped>\n",
       "    .dataframe tbody tr th:only-of-type {\n",
       "        vertical-align: middle;\n",
       "    }\n",
       "\n",
       "    .dataframe tbody tr th {\n",
       "        vertical-align: top;\n",
       "    }\n",
       "\n",
       "    .dataframe thead th {\n",
       "        text-align: right;\n",
       "    }\n",
       "</style>\n",
       "<table border=\"1\" class=\"dataframe\">\n",
       "  <thead>\n",
       "    <tr style=\"text-align: right;\">\n",
       "      <th></th>\n",
       "      <th>accuracy</th>\n",
       "      <th>mse</th>\n",
       "      <th>mean absolute</th>\n",
       "    </tr>\n",
       "    <tr>\n",
       "      <th>name</th>\n",
       "      <th></th>\n",
       "      <th></th>\n",
       "      <th></th>\n",
       "    </tr>\n",
       "  </thead>\n",
       "  <tbody>\n",
       "    <tr>\n",
       "      <th>Kmeans</th>\n",
       "      <td>34.948097</td>\n",
       "      <td>2.006920</td>\n",
       "      <td>1.044983</td>\n",
       "    </tr>\n",
       "    <tr>\n",
       "      <th>SVM</th>\n",
       "      <td>65.397924</td>\n",
       "      <td>0.377163</td>\n",
       "      <td>0.356401</td>\n",
       "    </tr>\n",
       "    <tr>\n",
       "      <th>DecisionTree</th>\n",
       "      <td>65.397924</td>\n",
       "      <td>0.435986</td>\n",
       "      <td>0.373702</td>\n",
       "    </tr>\n",
       "    <tr>\n",
       "      <th>LogisticRegression</th>\n",
       "      <td>58.131488</td>\n",
       "      <td>0.501730</td>\n",
       "      <td>0.446367</td>\n",
       "    </tr>\n",
       "    <tr>\n",
       "      <th>SGD</th>\n",
       "      <td>60.207612</td>\n",
       "      <td>0.581315</td>\n",
       "      <td>0.456747</td>\n",
       "    </tr>\n",
       "    <tr>\n",
       "      <th>kNN</th>\n",
       "      <td>65.051903</td>\n",
       "      <td>0.435986</td>\n",
       "      <td>0.373702</td>\n",
       "    </tr>\n",
       "    <tr>\n",
       "      <th>RandomForest</th>\n",
       "      <td>72.318339</td>\n",
       "      <td>0.366782</td>\n",
       "      <td>0.304498</td>\n",
       "    </tr>\n",
       "    <tr>\n",
       "      <th>GradientBoosting</th>\n",
       "      <td>69.896194</td>\n",
       "      <td>0.339100</td>\n",
       "      <td>0.311419</td>\n",
       "    </tr>\n",
       "    <tr>\n",
       "      <th>LGBM</th>\n",
       "      <td>68.512111</td>\n",
       "      <td>0.384083</td>\n",
       "      <td>0.335640</td>\n",
       "    </tr>\n",
       "    <tr>\n",
       "      <th>XGB</th>\n",
       "      <td>68.512111</td>\n",
       "      <td>0.356401</td>\n",
       "      <td>0.328720</td>\n",
       "    </tr>\n",
       "  </tbody>\n",
       "</table>\n",
       "</div>"
      ],
      "text/plain": [
       "                     accuracy       mse  mean absolute\n",
       "name                                                  \n",
       "Kmeans              34.948097  2.006920       1.044983\n",
       "SVM                 65.397924  0.377163       0.356401\n",
       "DecisionTree        65.397924  0.435986       0.373702\n",
       "LogisticRegression  58.131488  0.501730       0.446367\n",
       "SGD                 60.207612  0.581315       0.456747\n",
       "kNN                 65.051903  0.435986       0.373702\n",
       "RandomForest        72.318339  0.366782       0.304498\n",
       "GradientBoosting    69.896194  0.339100       0.311419\n",
       "LGBM                68.512111  0.384083       0.335640\n",
       "XGB                 68.512111  0.356401       0.328720"
      ]
     },
     "execution_count": 677,
     "metadata": {},
     "output_type": "execute_result"
    }
   ],
   "source": [
    "compare"
   ]
  },
  {
   "cell_type": "markdown",
   "id": "72f48efe-47dd-4f87-96a3-9277a00febc6",
   "metadata": {},
   "source": [
    "so Kmeans is pretty bad, Decision trees and SVM and kNN appear to be the best"
   ]
  },
  {
   "cell_type": "code",
   "execution_count": 678,
   "id": "5af7e541-8d11-4dc3-a90e-2652af184a0e",
   "metadata": {},
   "outputs": [
    {
     "name": "stdout",
     "output_type": "stream",
     "text": [
      "32 minutes   \t0\n",
      "55 minutes   \t1\n",
      "3 hours   \t2\n",
      "3 days   \t3\n"
     ]
    }
   ],
   "source": [
    "print_categories()"
   ]
  },
  {
   "cell_type": "markdown",
   "id": "5bcc4d0b-5d8a-47a0-ac78-9e0d3bb61085",
   "metadata": {},
   "source": [
    "note: look into principal component analysis"
   ]
  },
  {
   "cell_type": "code",
   "execution_count": null,
   "id": "eab091a7-d8ac-47f7-b0bf-3d39b5f4edcb",
   "metadata": {},
   "outputs": [],
   "source": []
  },
  {
   "cell_type": "code",
   "execution_count": null,
   "id": "69c22ecd-1a76-4907-9dc5-21878595fec6",
   "metadata": {},
   "outputs": [],
   "source": []
  }
 ],
 "metadata": {
  "kernelspec": {
   "display_name": "Python 3 (ipykernel)",
   "language": "python",
   "name": "python3"
  },
  "language_info": {
   "codemirror_mode": {
    "name": "ipython",
    "version": 3
   },
   "file_extension": ".py",
   "mimetype": "text/x-python",
   "name": "python",
   "nbconvert_exporter": "python",
   "pygments_lexer": "ipython3",
   "version": "3.8.10"
  }
 },
 "nbformat": 4,
 "nbformat_minor": 5
}
