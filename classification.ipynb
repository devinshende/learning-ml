{
 "cells": [
  {
   "cell_type": "markdown",
   "id": "4c4f9e88-3552-4e0b-852f-2f2a5ac61f3d",
   "metadata": {
    "jp-MarkdownHeadingCollapsed": true
   },
   "source": [
    "# Classification Prediction"
   ]
  },
  {
   "cell_type": "markdown",
   "id": "9b9b2214-0774-42e3-9d01-77949e4b3ec9",
   "metadata": {},
   "source": [
    "Lets treat runtime prediction as a classification problem! Split the run times into 5 categories with equal amounts of training data and gather the data"
   ]
  },
  {
   "cell_type": "code",
   "execution_count": 909,
   "id": "98d47b09-6f42-412c-aa3f-112d7d28fdab",
   "metadata": {},
   "outputs": [],
   "source": [
    "from sklearn.preprocessing import MinMaxScaler\n",
    "from sklearn.model_selection import train_test_split\n",
    "from sklearn.metrics import mean_squared_error, mean_absolute_error, accuracy_score\n",
    "from sklearn.model_selection import train_test_split\n",
    "from sklearn.preprocessing import MinMaxScaler\n",
    "from sklearn.preprocessing import StandardScaler\n",
    "\n",
    "from tqdm import tqdm\n",
    "import pandas as pd\n",
    "import humanize\n",
    "from datetime import datetime, timedelta\n",
    "import time\n",
    "import numpy as np\n",
    "import seaborn as sns\n",
    "import ast\n",
    "import matplotlib.pyplot as plt\n",
    "import matplotlib.patches as mpatches"
   ]
  },
  {
   "cell_type": "code",
   "execution_count": 910,
   "id": "09a99f0b-be05-4d86-a34f-fc93946948ab",
   "metadata": {},
   "outputs": [],
   "source": [
    "CATEGORIES = [300, 1935, 3307, 11000, 260000]\n",
    "N_BUCKETS = 5\n",
    "N_FEATURES = 9"
   ]
  },
  {
   "cell_type": "code",
   "execution_count": 911,
   "id": "e52cfaf4-6e3d-4619-b984-e7d833ea3925",
   "metadata": {},
   "outputs": [
    {
     "data": {
      "text/html": [
       "<div>\n",
       "<style scoped>\n",
       "    .dataframe tbody tr th:only-of-type {\n",
       "        vertical-align: middle;\n",
       "    }\n",
       "\n",
       "    .dataframe tbody tr th {\n",
       "        vertical-align: top;\n",
       "    }\n",
       "\n",
       "    .dataframe thead th {\n",
       "        text-align: right;\n",
       "    }\n",
       "</style>\n",
       "<table border=\"1\" class=\"dataframe\">\n",
       "  <thead>\n",
       "    <tr style=\"text-align: right;\">\n",
       "      <th></th>\n",
       "      <th>runtime</th>\n",
       "      <th>sim_time</th>\n",
       "      <th>surface_moisture</th>\n",
       "      <th>timestep</th>\n",
       "      <th>wind_direction</th>\n",
       "      <th>wind_speed</th>\n",
       "      <th>canopy_moisture</th>\n",
       "      <th>run_max_mem_rss_bytes</th>\n",
       "      <th>area</th>\n",
       "      <th>steps_fire</th>\n",
       "    </tr>\n",
       "  </thead>\n",
       "  <tbody>\n",
       "    <tr>\n",
       "      <th>count</th>\n",
       "      <td>1567.000000</td>\n",
       "      <td>1567.000000</td>\n",
       "      <td>1567.000000</td>\n",
       "      <td>1567.00000</td>\n",
       "      <td>1567.000000</td>\n",
       "      <td>1567.000000</td>\n",
       "      <td>1567.000000</td>\n",
       "      <td>1.567000e+03</td>\n",
       "      <td>1.567000e+03</td>\n",
       "      <td>1567.00000</td>\n",
       "    </tr>\n",
       "    <tr>\n",
       "      <th>mean</th>\n",
       "      <td>6431.226548</td>\n",
       "      <td>8845.504786</td>\n",
       "      <td>0.132285</td>\n",
       "      <td>585.52074</td>\n",
       "      <td>146.346522</td>\n",
       "      <td>5.017888</td>\n",
       "      <td>0.865431</td>\n",
       "      <td>2.265994e+06</td>\n",
       "      <td>8.717648e+05</td>\n",
       "      <td>585.52074</td>\n",
       "    </tr>\n",
       "    <tr>\n",
       "      <th>std</th>\n",
       "      <td>6553.691660</td>\n",
       "      <td>6431.073029</td>\n",
       "      <td>0.066668</td>\n",
       "      <td>89.64333</td>\n",
       "      <td>86.238083</td>\n",
       "      <td>3.686380</td>\n",
       "      <td>0.240428</td>\n",
       "      <td>1.469066e+06</td>\n",
       "      <td>5.962585e+05</td>\n",
       "      <td>89.64333</td>\n",
       "    </tr>\n",
       "    <tr>\n",
       "      <th>min</th>\n",
       "      <td>10.000000</td>\n",
       "      <td>10.000000</td>\n",
       "      <td>0.000000</td>\n",
       "      <td>1.00000</td>\n",
       "      <td>-29.000000</td>\n",
       "      <td>1.000000</td>\n",
       "      <td>0.000000</td>\n",
       "      <td>4.011320e+05</td>\n",
       "      <td>2.948400e+05</td>\n",
       "      <td>1.00000</td>\n",
       "    </tr>\n",
       "    <tr>\n",
       "      <th>25%</th>\n",
       "      <td>1738.000000</td>\n",
       "      <td>4228.000000</td>\n",
       "      <td>0.090000</td>\n",
       "      <td>600.00000</td>\n",
       "      <td>90.000000</td>\n",
       "      <td>2.235000</td>\n",
       "      <td>0.900000</td>\n",
       "      <td>1.336916e+06</td>\n",
       "      <td>6.464160e+05</td>\n",
       "      <td>600.00000</td>\n",
       "    </tr>\n",
       "    <tr>\n",
       "      <th>50%</th>\n",
       "      <td>3086.000000</td>\n",
       "      <td>6084.000000</td>\n",
       "      <td>0.100000</td>\n",
       "      <td>600.00000</td>\n",
       "      <td>120.000000</td>\n",
       "      <td>4.470000</td>\n",
       "      <td>0.900000</td>\n",
       "      <td>2.462132e+06</td>\n",
       "      <td>6.480240e+05</td>\n",
       "      <td>600.00000</td>\n",
       "    </tr>\n",
       "    <tr>\n",
       "      <th>75%</th>\n",
       "      <td>10837.000000</td>\n",
       "      <td>11382.000000</td>\n",
       "      <td>0.200000</td>\n",
       "      <td>600.00000</td>\n",
       "      <td>210.000000</td>\n",
       "      <td>6.705000</td>\n",
       "      <td>1.000000</td>\n",
       "      <td>2.659250e+06</td>\n",
       "      <td>8.208640e+05</td>\n",
       "      <td>600.00000</td>\n",
       "    </tr>\n",
       "    <tr>\n",
       "      <th>max</th>\n",
       "      <td>53888.000000</td>\n",
       "      <td>88166.000000</td>\n",
       "      <td>0.330000</td>\n",
       "      <td>600.00000</td>\n",
       "      <td>360.000000</td>\n",
       "      <td>25.000000</td>\n",
       "      <td>1.200000</td>\n",
       "      <td>2.096308e+07</td>\n",
       "      <td>6.051040e+06</td>\n",
       "      <td>600.00000</td>\n",
       "    </tr>\n",
       "  </tbody>\n",
       "</table>\n",
       "</div>"
      ],
      "text/plain": [
       "            runtime      sim_time  surface_moisture    timestep  \\\n",
       "count   1567.000000   1567.000000       1567.000000  1567.00000   \n",
       "mean    6431.226548   8845.504786          0.132285   585.52074   \n",
       "std     6553.691660   6431.073029          0.066668    89.64333   \n",
       "min       10.000000     10.000000          0.000000     1.00000   \n",
       "25%     1738.000000   4228.000000          0.090000   600.00000   \n",
       "50%     3086.000000   6084.000000          0.100000   600.00000   \n",
       "75%    10837.000000  11382.000000          0.200000   600.00000   \n",
       "max    53888.000000  88166.000000          0.330000   600.00000   \n",
       "\n",
       "       wind_direction   wind_speed  canopy_moisture  run_max_mem_rss_bytes  \\\n",
       "count     1567.000000  1567.000000      1567.000000           1.567000e+03   \n",
       "mean       146.346522     5.017888         0.865431           2.265994e+06   \n",
       "std         86.238083     3.686380         0.240428           1.469066e+06   \n",
       "min        -29.000000     1.000000         0.000000           4.011320e+05   \n",
       "25%         90.000000     2.235000         0.900000           1.336916e+06   \n",
       "50%        120.000000     4.470000         0.900000           2.462132e+06   \n",
       "75%        210.000000     6.705000         1.000000           2.659250e+06   \n",
       "max        360.000000    25.000000         1.200000           2.096308e+07   \n",
       "\n",
       "               area  steps_fire  \n",
       "count  1.567000e+03  1567.00000  \n",
       "mean   8.717648e+05   585.52074  \n",
       "std    5.962585e+05    89.64333  \n",
       "min    2.948400e+05     1.00000  \n",
       "25%    6.464160e+05   600.00000  \n",
       "50%    6.480240e+05   600.00000  \n",
       "75%    8.208640e+05   600.00000  \n",
       "max    6.051040e+06   600.00000  "
      ]
     },
     "execution_count": 911,
     "metadata": {},
     "output_type": "execute_result"
    }
   ],
   "source": [
    "df = pd.read_csv(\"training_data.csv\")\n",
    "df = df.drop(columns=df.columns[0])\n",
    "df.describe()"
   ]
  },
  {
   "cell_type": "markdown",
   "id": "1605e819-4c40-4028-9ba8-ee912bda2845",
   "metadata": {},
   "source": [
    "Handy functions for later"
   ]
  },
  {
   "cell_type": "code",
   "execution_count": 912,
   "id": "90df94f4-33f4-41e7-be6e-4fcdee2f8042",
   "metadata": {},
   "outputs": [],
   "source": [
    "def print_score(pred, true):\n",
    "    print(\"Mean Squared Error:\".ljust(22,\" \"),round(mean_squared_error(true, pred),5))\n",
    "    print(\"Mean Absolute Error:\".ljust(22,\" \"), round(mean_absolute_error(true, pred),5))\n",
    "    \n",
    "def convert(seconds):\n",
    "    return humanize.naturaldelta(timedelta(seconds=seconds))\n",
    "\n",
    "def show_diff(predictions,y_test,n=25):\n",
    "    print(\"PREDICTION\\t RESULT\\t\\t DIFFERENCE\")\n",
    "    print(\"-\"*45)\n",
    "    for i in range(0,n):\n",
    "        print(predictions[i], \"\\t\",y_test[i], \"\\t\", y_test[i] - predictions[i])\n",
    "\n",
    "def show_plots(predictions, y_test, s=4):\n",
    "    plt.subplot(211)\n",
    "    plt.title(\"Test Results and Predictions\")\n",
    "    plt.scatter(range(len(y_test)),y_test,s=s)\n",
    "    plt.xlabel(\"X_test[i]\")\n",
    "    plt.ylabel(\"correct answer\")\n",
    "    plt.subplot(212)\n",
    "    plt.scatter(range(len(predictions)),predictions,s=s)\n",
    "    plt.ylabel(\"predictions\")\n",
    "    plt.show()\n",
    "\n",
    "pred = {}\n",
    "models = {}"
   ]
  },
  {
   "cell_type": "markdown",
   "id": "637f4d7c-6ed9-421b-84cc-5904022e4868",
   "metadata": {},
   "source": [
    "## Remove Outliers from DataFrame\n",
    "any simulations over 26000 seconds is what this just about works out to be"
   ]
  },
  {
   "cell_type": "code",
   "execution_count": 913,
   "id": "2d6742be-2e8f-426d-824d-8a4b5a21f62e",
   "metadata": {},
   "outputs": [
    {
     "data": {
      "image/png": "[encoded data removed]",
      "text/plain": [
       "<Figure size 640x480 with 1 Axes>"
      ]
     },
     "metadata": {},
     "output_type": "display_data"
    }
   ],
   "source": [
    "plt.title(\"Runtime Distribution Before Outliers are Removed\")\n",
    "plt.scatter(range(len(df[\"runtime\"])),df[\"runtime\"],s=4)\n",
    "plt.ylabel(\"Runtime in seconds\")\n",
    "plt.xlabel(\"Data point [i]\")\n",
    "plt.show()"
   ]
  },
  {
   "cell_type": "code",
   "execution_count": 914,
   "id": "0b895cde-3c1f-4332-8948-c81844c3b97f",
   "metadata": {},
   "outputs": [],
   "source": [
    "import pandas as pd\n",
    "import numpy as np\n",
    "from scipy import stats\n",
    "\n",
    "df = df[(np.abs(stats.zscore(df)) < 3).all(axis=1)]"
   ]
  },
  {
   "cell_type": "code",
   "execution_count": 915,
   "id": "e263fbd1-0cef-4374-8ad7-7f1683221564",
   "metadata": {},
   "outputs": [
    {
     "data": {
      "text/html": [
       "<div>\n",
       "<style scoped>\n",
       "    .dataframe tbody tr th:only-of-type {\n",
       "        vertical-align: middle;\n",
       "    }\n",
       "\n",
       "    .dataframe tbody tr th {\n",
       "        vertical-align: top;\n",
       "    }\n",
       "\n",
       "    .dataframe thead th {\n",
       "        text-align: right;\n",
       "    }\n",
       "</style>\n",
       "<table border=\"1\" class=\"dataframe\">\n",
       "  <thead>\n",
       "    <tr style=\"text-align: right;\">\n",
       "      <th></th>\n",
       "      <th>runtime</th>\n",
       "      <th>sim_time</th>\n",
       "      <th>surface_moisture</th>\n",
       "      <th>timestep</th>\n",
       "      <th>wind_direction</th>\n",
       "      <th>wind_speed</th>\n",
       "      <th>canopy_moisture</th>\n",
       "      <th>run_max_mem_rss_bytes</th>\n",
       "      <th>area</th>\n",
       "      <th>steps_fire</th>\n",
       "    </tr>\n",
       "  </thead>\n",
       "  <tbody>\n",
       "    <tr>\n",
       "      <th>count</th>\n",
       "      <td>1442.000000</td>\n",
       "      <td>1442.000000</td>\n",
       "      <td>1442.000000</td>\n",
       "      <td>1442.0</td>\n",
       "      <td>1442.000000</td>\n",
       "      <td>1442.000000</td>\n",
       "      <td>1442.000000</td>\n",
       "      <td>1.442000e+03</td>\n",
       "      <td>1.442000e+03</td>\n",
       "      <td>1442.0</td>\n",
       "    </tr>\n",
       "    <tr>\n",
       "      <th>mean</th>\n",
       "      <td>6396.604022</td>\n",
       "      <td>9099.547850</td>\n",
       "      <td>0.132053</td>\n",
       "      <td>600.0</td>\n",
       "      <td>149.556865</td>\n",
       "      <td>4.700820</td>\n",
       "      <td>0.890187</td>\n",
       "      <td>2.198703e+06</td>\n",
       "      <td>8.645024e+05</td>\n",
       "      <td>600.0</td>\n",
       "    </tr>\n",
       "    <tr>\n",
       "      <th>std</th>\n",
       "      <td>5750.241251</td>\n",
       "      <td>5975.171672</td>\n",
       "      <td>0.066491</td>\n",
       "      <td>0.0</td>\n",
       "      <td>86.405921</td>\n",
       "      <td>2.921946</td>\n",
       "      <td>0.201519</td>\n",
       "      <td>1.134214e+06</td>\n",
       "      <td>5.494223e+05</td>\n",
       "      <td>0.0</td>\n",
       "    </tr>\n",
       "    <tr>\n",
       "      <th>min</th>\n",
       "      <td>10.000000</td>\n",
       "      <td>3699.000000</td>\n",
       "      <td>0.000000</td>\n",
       "      <td>600.0</td>\n",
       "      <td>-29.000000</td>\n",
       "      <td>1.000000</td>\n",
       "      <td>0.300000</td>\n",
       "      <td>4.011320e+05</td>\n",
       "      <td>2.948400e+05</td>\n",
       "      <td>600.0</td>\n",
       "    </tr>\n",
       "    <tr>\n",
       "      <th>25%</th>\n",
       "      <td>1935.000000</td>\n",
       "      <td>4503.000000</td>\n",
       "      <td>0.090000</td>\n",
       "      <td>600.0</td>\n",
       "      <td>90.000000</td>\n",
       "      <td>2.235000</td>\n",
       "      <td>0.900000</td>\n",
       "      <td>1.336937e+06</td>\n",
       "      <td>6.464160e+05</td>\n",
       "      <td>600.0</td>\n",
       "    </tr>\n",
       "    <tr>\n",
       "      <th>50%</th>\n",
       "      <td>3307.000000</td>\n",
       "      <td>6748.000000</td>\n",
       "      <td>0.100000</td>\n",
       "      <td>600.0</td>\n",
       "      <td>120.000000</td>\n",
       "      <td>4.470000</td>\n",
       "      <td>0.900000</td>\n",
       "      <td>2.461966e+06</td>\n",
       "      <td>6.480240e+05</td>\n",
       "      <td>600.0</td>\n",
       "    </tr>\n",
       "    <tr>\n",
       "      <th>75%</th>\n",
       "      <td>10958.250000</td>\n",
       "      <td>11382.000000</td>\n",
       "      <td>0.200000</td>\n",
       "      <td>600.0</td>\n",
       "      <td>225.000000</td>\n",
       "      <td>6.705000</td>\n",
       "      <td>1.000000</td>\n",
       "      <td>2.659110e+06</td>\n",
       "      <td>8.208640e+05</td>\n",
       "      <td>600.0</td>\n",
       "    </tr>\n",
       "    <tr>\n",
       "      <th>max</th>\n",
       "      <td>25866.000000</td>\n",
       "      <td>27251.000000</td>\n",
       "      <td>0.300000</td>\n",
       "      <td>600.0</td>\n",
       "      <td>360.000000</td>\n",
       "      <td>15.000000</td>\n",
       "      <td>1.200000</td>\n",
       "      <td>5.517084e+06</td>\n",
       "      <td>2.335392e+06</td>\n",
       "      <td>600.0</td>\n",
       "    </tr>\n",
       "  </tbody>\n",
       "</table>\n",
       "</div>"
      ],
      "text/plain": [
       "            runtime      sim_time  surface_moisture  timestep  wind_direction  \\\n",
       "count   1442.000000   1442.000000       1442.000000    1442.0     1442.000000   \n",
       "mean    6396.604022   9099.547850          0.132053     600.0      149.556865   \n",
       "std     5750.241251   5975.171672          0.066491       0.0       86.405921   \n",
       "min       10.000000   3699.000000          0.000000     600.0      -29.000000   \n",
       "25%     1935.000000   4503.000000          0.090000     600.0       90.000000   \n",
       "50%     3307.000000   6748.000000          0.100000     600.0      120.000000   \n",
       "75%    10958.250000  11382.000000          0.200000     600.0      225.000000   \n",
       "max    25866.000000  27251.000000          0.300000     600.0      360.000000   \n",
       "\n",
       "        wind_speed  canopy_moisture  run_max_mem_rss_bytes          area  \\\n",
       "count  1442.000000      1442.000000           1.442000e+03  1.442000e+03   \n",
       "mean      4.700820         0.890187           2.198703e+06  8.645024e+05   \n",
       "std       2.921946         0.201519           1.134214e+06  5.494223e+05   \n",
       "min       1.000000         0.300000           4.011320e+05  2.948400e+05   \n",
       "25%       2.235000         0.900000           1.336937e+06  6.464160e+05   \n",
       "50%       4.470000         0.900000           2.461966e+06  6.480240e+05   \n",
       "75%       6.705000         1.000000           2.659110e+06  8.208640e+05   \n",
       "max      15.000000         1.200000           5.517084e+06  2.335392e+06   \n",
       "\n",
       "       steps_fire  \n",
       "count      1442.0  \n",
       "mean        600.0  \n",
       "std           0.0  \n",
       "min         600.0  \n",
       "25%         600.0  \n",
       "50%         600.0  \n",
       "75%         600.0  \n",
       "max         600.0  "
      ]
     },
     "execution_count": 915,
     "metadata": {},
     "output_type": "execute_result"
    }
   ],
   "source": [
    "df.describe()"
   ]
  },
  {
   "cell_type": "code",
   "execution_count": 916,
   "id": "3a850ecf-0753-4eb1-9c10-ca096ab22472",
   "metadata": {},
   "outputs": [
    {
     "data": {
      "image/png": "[encoded data removed]",
      "text/plain": [
       "<Figure size 640x480 with 1 Axes>"
      ]
     },
     "metadata": {},
     "output_type": "display_data"
    }
   ],
   "source": [
    "plt.title(\"Runtime Distribution After Outliers are Removed\")\n",
    "plt.scatter(range(len(df[\"runtime\"])),df[\"runtime\"],s=4)\n",
    "plt.ylabel(\"Runtime in seconds\")\n",
    "plt.xlabel(\"Data point [i]\")\n",
    "plt.show()"
   ]
  },
  {
   "cell_type": "code",
   "execution_count": 917,
   "id": "39b3beb2-b6a7-41cd-9176-a8e08e99a87a",
   "metadata": {},
   "outputs": [
    {
     "data": {
      "text/plain": [
       "<Axes: xlabel='runtime', ylabel='Count'>"
      ]
     },
     "execution_count": 917,
     "metadata": {},
     "output_type": "execute_result"
    },
    {
     "data": {
      "image/png": "[encoded data removed]",
      "text/plain": [
       "<Figure size 640x480 with 1 Axes>"
      ]
     },
     "metadata": {},
     "output_type": "display_data"
    }
   ],
   "source": [
    "sns.histplot(df[\"runtime\"])"
   ]
  },
  {
   "cell_type": "markdown",
   "id": "81339c16-e8f0-49b9-babd-3a576f98560b",
   "metadata": {},
   "source": [
    "### Create n buckets split with even amounts of runs"
   ]
  },
  {
   "cell_type": "code",
   "execution_count": 918,
   "id": "33d65458-dd3e-42e0-b2e2-e376b4bb58f2",
   "metadata": {},
   "outputs": [
    {
     "data": {
      "text/plain": [
       "[1602, 2664, 7072, 11969, 25866]"
      ]
     },
     "execution_count": 918,
     "metadata": {},
     "output_type": "execute_result"
    }
   ],
   "source": [
    "sim_times = list(df[\"runtime\"].sort_values())\n",
    "bin_length = len(sim_times) // N_BUCKETS\n",
    "CATEGORIES = []\n",
    "current = 0\n",
    "for i in range(1,N_BUCKETS):\n",
    "    CATEGORIES.append(sim_times[bin_length+current])\n",
    "    current += bin_length\n",
    "CATEGORIES.append(list(sim_times)[-1])\n",
    "CATEGORIES"
   ]
  },
  {
   "cell_type": "code",
   "execution_count": 919,
   "id": "6a858a63-3b74-4b3b-9967-f5073abbdb98",
   "metadata": {},
   "outputs": [],
   "source": [
    "def categorize(seconds):\n",
    "    global CATEGORIES\n",
    "    for i in range(len(CATEGORIES)):\n",
    "        if (seconds <= CATEGORIES[i]):\n",
    "            return i\n",
    "\n",
    "def print_categories():\n",
    "    global CATEGORIES\n",
    "    for i in range(len(CATEGORIES)):\n",
    "        print(f\"{convert(CATEGORIES[i])}   \\t{i}\")"
   ]
  },
  {
   "cell_type": "code",
   "execution_count": 920,
   "id": "09b9ea3d-5e76-4b6a-9812-71d90df49679",
   "metadata": {},
   "outputs": [
    {
     "data": {
      "text/html": [
       "<div>\n",
       "<style scoped>\n",
       "    .dataframe tbody tr th:only-of-type {\n",
       "        vertical-align: middle;\n",
       "    }\n",
       "\n",
       "    .dataframe tbody tr th {\n",
       "        vertical-align: top;\n",
       "    }\n",
       "\n",
       "    .dataframe thead th {\n",
       "        text-align: right;\n",
       "    }\n",
       "</style>\n",
       "<table border=\"1\" class=\"dataframe\">\n",
       "  <thead>\n",
       "    <tr style=\"text-align: right;\">\n",
       "      <th></th>\n",
       "      <th>runtime</th>\n",
       "      <th>sim_time</th>\n",
       "      <th>surface_moisture</th>\n",
       "      <th>timestep</th>\n",
       "      <th>wind_direction</th>\n",
       "      <th>wind_speed</th>\n",
       "      <th>canopy_moisture</th>\n",
       "      <th>run_max_mem_rss_bytes</th>\n",
       "      <th>area</th>\n",
       "      <th>steps_fire</th>\n",
       "      <th>runtime_ca</th>\n",
       "    </tr>\n",
       "  </thead>\n",
       "  <tbody>\n",
       "    <tr>\n",
       "      <th>0</th>\n",
       "      <td>5475</td>\n",
       "      <td>4503</td>\n",
       "      <td>0.10</td>\n",
       "      <td>600</td>\n",
       "      <td>65.0</td>\n",
       "      <td>2.235</td>\n",
       "      <td>1.00</td>\n",
       "      <td>1934680</td>\n",
       "      <td>560976.0</td>\n",
       "      <td>600</td>\n",
       "      <td>2</td>\n",
       "    </tr>\n",
       "    <tr>\n",
       "      <th>1</th>\n",
       "      <td>9737</td>\n",
       "      <td>11382</td>\n",
       "      <td>0.05</td>\n",
       "      <td>600</td>\n",
       "      <td>90.0</td>\n",
       "      <td>4.470</td>\n",
       "      <td>0.90</td>\n",
       "      <td>2470180</td>\n",
       "      <td>1981888.0</td>\n",
       "      <td>600</td>\n",
       "      <td>3</td>\n",
       "    </tr>\n",
       "    <tr>\n",
       "      <th>2</th>\n",
       "      <td>501</td>\n",
       "      <td>3937</td>\n",
       "      <td>0.12</td>\n",
       "      <td>600</td>\n",
       "      <td>270.0</td>\n",
       "      <td>2.235</td>\n",
       "      <td>0.95</td>\n",
       "      <td>517424</td>\n",
       "      <td>359488.0</td>\n",
       "      <td>600</td>\n",
       "      <td>0</td>\n",
       "    </tr>\n",
       "    <tr>\n",
       "      <th>3</th>\n",
       "      <td>4325</td>\n",
       "      <td>4921</td>\n",
       "      <td>0.10</td>\n",
       "      <td>600</td>\n",
       "      <td>137.0</td>\n",
       "      <td>3.000</td>\n",
       "      <td>1.10</td>\n",
       "      <td>2454040</td>\n",
       "      <td>1053216.0</td>\n",
       "      <td>600</td>\n",
       "      <td>2</td>\n",
       "    </tr>\n",
       "    <tr>\n",
       "      <th>4</th>\n",
       "      <td>9008</td>\n",
       "      <td>14997</td>\n",
       "      <td>0.15</td>\n",
       "      <td>600</td>\n",
       "      <td>360.0</td>\n",
       "      <td>4.470</td>\n",
       "      <td>1.00</td>\n",
       "      <td>3919432</td>\n",
       "      <td>648024.0</td>\n",
       "      <td>600</td>\n",
       "      <td>3</td>\n",
       "    </tr>\n",
       "  </tbody>\n",
       "</table>\n",
       "</div>"
      ],
      "text/plain": [
       "   runtime  sim_time  surface_moisture  timestep  wind_direction  wind_speed  \\\n",
       "0     5475      4503              0.10       600            65.0       2.235   \n",
       "1     9737     11382              0.05       600            90.0       4.470   \n",
       "2      501      3937              0.12       600           270.0       2.235   \n",
       "3     4325      4921              0.10       600           137.0       3.000   \n",
       "4     9008     14997              0.15       600           360.0       4.470   \n",
       "\n",
       "   canopy_moisture  run_max_mem_rss_bytes       area  steps_fire  runtime_ca  \n",
       "0             1.00                1934680   560976.0         600           2  \n",
       "1             0.90                2470180  1981888.0         600           3  \n",
       "2             0.95                 517424   359488.0         600           0  \n",
       "3             1.10                2454040  1053216.0         600           2  \n",
       "4             1.00                3919432   648024.0         600           3  "
      ]
     },
     "execution_count": 920,
     "metadata": {},
     "output_type": "execute_result"
    }
   ],
   "source": [
    "runtime_categories = df.apply(lambda row: categorize(row[\"runtime\"]), axis=1)\n",
    "# df.insert(0, \"runtime_ca\", runtime_categories)\n",
    "df[\"runtime_ca\"] = runtime_categories\n",
    "df.head()"
   ]
  },
  {
   "cell_type": "code",
   "execution_count": 921,
   "id": "f91018d6-1f34-44c2-ac65-d63fef27153d",
   "metadata": {},
   "outputs": [
    {
     "name": "stdout",
     "output_type": "stream",
     "text": [
      "26 minutes   \t 0\n",
      "44 minutes   \t 1\n",
      "an hour   \t 2\n",
      "3 hours   \t 3\n",
      "7 hours   \t 4\n",
      "[1602, 2664, 7072, 11969, 25866]\n"
     ]
    },
    {
     "data": {
      "text/plain": [
       "runtime_ca\n",
       "0    289\n",
       "4    289\n",
       "2    288\n",
       "3    288\n",
       "1    288\n",
       "Name: count, dtype: int64"
      ]
     },
     "execution_count": 921,
     "metadata": {},
     "output_type": "execute_result"
    },
    {
     "data": {
      "image/png": "[encoded data removed]",
      "text/plain": [
       "<Figure size 640x480 with 1 Axes>"
      ]
     },
     "metadata": {},
     "output_type": "display_data"
    }
   ],
   "source": [
    "for i in range(len(CATEGORIES)):\n",
    "    print(convert(CATEGORIES[i]),\"  \\t\",i)\n",
    "print(CATEGORIES)\n",
    "df[\"runtime_ca\"].value_counts().plot(kind=\"bar\")\n",
    "df[\"runtime_ca\"].value_counts()"
   ]
  },
  {
   "cell_type": "code",
   "execution_count": 922,
   "id": "e9931f7a-5f50-4ced-84d7-8e6dedb981ca",
   "metadata": {},
   "outputs": [
    {
     "data": {
      "text/html": [
       "<div>\n",
       "<style scoped>\n",
       "    .dataframe tbody tr th:only-of-type {\n",
       "        vertical-align: middle;\n",
       "    }\n",
       "\n",
       "    .dataframe tbody tr th {\n",
       "        vertical-align: top;\n",
       "    }\n",
       "\n",
       "    .dataframe thead th {\n",
       "        text-align: right;\n",
       "    }\n",
       "</style>\n",
       "<table border=\"1\" class=\"dataframe\">\n",
       "  <thead>\n",
       "    <tr style=\"text-align: right;\">\n",
       "      <th></th>\n",
       "      <th>sim_time</th>\n",
       "      <th>surface_moisture</th>\n",
       "      <th>timestep</th>\n",
       "      <th>wind_direction</th>\n",
       "      <th>wind_speed</th>\n",
       "      <th>canopy_moisture</th>\n",
       "      <th>run_max_mem_rss_bytes</th>\n",
       "      <th>area</th>\n",
       "      <th>steps_fire</th>\n",
       "    </tr>\n",
       "  </thead>\n",
       "  <tbody>\n",
       "    <tr>\n",
       "      <th>1562</th>\n",
       "      <td>4005</td>\n",
       "      <td>0.10</td>\n",
       "      <td>600</td>\n",
       "      <td>60.0</td>\n",
       "      <td>2.235</td>\n",
       "      <td>0.90</td>\n",
       "      <td>401132</td>\n",
       "      <td>294840.0</td>\n",
       "      <td>600</td>\n",
       "    </tr>\n",
       "    <tr>\n",
       "      <th>1563</th>\n",
       "      <td>11359</td>\n",
       "      <td>0.05</td>\n",
       "      <td>600</td>\n",
       "      <td>150.0</td>\n",
       "      <td>4.023</td>\n",
       "      <td>1.00</td>\n",
       "      <td>2470680</td>\n",
       "      <td>1981888.0</td>\n",
       "      <td>600</td>\n",
       "    </tr>\n",
       "    <tr>\n",
       "      <th>1564</th>\n",
       "      <td>3937</td>\n",
       "      <td>0.07</td>\n",
       "      <td>600</td>\n",
       "      <td>240.0</td>\n",
       "      <td>2.235</td>\n",
       "      <td>0.95</td>\n",
       "      <td>517488</td>\n",
       "      <td>359488.0</td>\n",
       "      <td>600</td>\n",
       "    </tr>\n",
       "    <tr>\n",
       "      <th>1565</th>\n",
       "      <td>27251</td>\n",
       "      <td>0.15</td>\n",
       "      <td>600</td>\n",
       "      <td>60.0</td>\n",
       "      <td>4.470</td>\n",
       "      <td>0.90</td>\n",
       "      <td>3920324</td>\n",
       "      <td>648024.0</td>\n",
       "      <td>600</td>\n",
       "    </tr>\n",
       "    <tr>\n",
       "      <th>1566</th>\n",
       "      <td>4005</td>\n",
       "      <td>0.10</td>\n",
       "      <td>600</td>\n",
       "      <td>90.0</td>\n",
       "      <td>2.235</td>\n",
       "      <td>0.90</td>\n",
       "      <td>404324</td>\n",
       "      <td>294840.0</td>\n",
       "      <td>600</td>\n",
       "    </tr>\n",
       "  </tbody>\n",
       "</table>\n",
       "</div>"
      ],
      "text/plain": [
       "      sim_time  surface_moisture  timestep  wind_direction  wind_speed  \\\n",
       "1562      4005              0.10       600            60.0       2.235   \n",
       "1563     11359              0.05       600           150.0       4.023   \n",
       "1564      3937              0.07       600           240.0       2.235   \n",
       "1565     27251              0.15       600            60.0       4.470   \n",
       "1566      4005              0.10       600            90.0       2.235   \n",
       "\n",
       "      canopy_moisture  run_max_mem_rss_bytes       area  steps_fire  \n",
       "1562             0.90                 401132   294840.0         600  \n",
       "1563             1.00                2470680  1981888.0         600  \n",
       "1564             0.95                 517488   359488.0         600  \n",
       "1565             0.90                3920324   648024.0         600  \n",
       "1566             0.90                 404324   294840.0         600  "
      ]
     },
     "execution_count": 922,
     "metadata": {},
     "output_type": "execute_result"
    }
   ],
   "source": [
    "y = df[\"runtime_ca\"]\n",
    "X = df.drop(columns=[\"runtime\",\"runtime_ca\"])\n",
    "X.tail()"
   ]
  },
  {
   "cell_type": "code",
   "execution_count": 923,
   "id": "3b76a85d-1cfa-4d6d-bbc0-86635328faf8",
   "metadata": {},
   "outputs": [
    {
     "name": "stdout",
     "output_type": "stream",
     "text": [
      "1153 289 1153 289\n"
     ]
    }
   ],
   "source": [
    "TEST_RATIO = 0.2\n",
    "\n",
    "X_train, X_test, y_train, y_test = train_test_split(X, y, test_size=TEST_RATIO,random_state=42)\n",
    "\n",
    "# X_train = np.array(X_train)\n",
    "# X_test = np.array(X_test)\n",
    "# y_train = np.array(y_train)\n",
    "# y_test = np.array(y_test)\n",
    "\n",
    "print(len(X_train), len(X_test), len(y_train), len(y_test))"
   ]
  },
  {
   "cell_type": "markdown",
   "id": "216b8be2-5fa2-4724-9d90-63760caa8a60",
   "metadata": {},
   "source": [
    "# Classification Approaches\n",
    "- K Means clustering\n",
    "- Support Vector Machines\n",
    "- Decision Trees\n",
    "- Logistic Regression\n",
    "- Stochastic Gradient Descent\n",
    "- k Nearest Neighbors\n",
    "- Random Forest\n",
    "- Gradient Boosting\n",
    "- LGBM\n",
    "- XGB\n",
    "- GRBT\n",
    "- Keras neural net\n",
    "\n",
    "Ensemble Methods\n",
    "- Voting Classifier (Hard and Soft)\n"
   ]
  },
  {
   "cell_type": "markdown",
   "id": "77787445-b0fb-425a-b59b-67f9d37afdc4",
   "metadata": {
    "jp-MarkdownHeadingCollapsed": true
   },
   "source": [
    "# Principal Component Analysis"
   ]
  },
  {
   "cell_type": "code",
   "execution_count": 924,
   "id": "4e08bc22-8e20-4d23-b3c7-f7b39dd02710",
   "metadata": {},
   "outputs": [],
   "source": [
    "from sklearn.preprocessing import StandardScaler\n",
    "\n",
    "\n",
    "# Standardizing the features\n",
    "x_tr = StandardScaler().fit_transform(X_train)\n",
    "x_te = StandardScaler().fit_transform(X_test)\n",
    "X_train  = x_tr\n",
    "X_test = x_te\n"
   ]
  },
  {
   "cell_type": "code",
   "execution_count": 925,
   "id": "60b771c4-b5b8-4764-9b9f-17cd9de6f93c",
   "metadata": {},
   "outputs": [
    {
     "data": {
      "text/html": [
       "<div>\n",
       "<style scoped>\n",
       "    .dataframe tbody tr th:only-of-type {\n",
       "        vertical-align: middle;\n",
       "    }\n",
       "\n",
       "    .dataframe tbody tr th {\n",
       "        vertical-align: top;\n",
       "    }\n",
       "\n",
       "    .dataframe thead th {\n",
       "        text-align: right;\n",
       "    }\n",
       "</style>\n",
       "<table border=\"1\" class=\"dataframe\">\n",
       "  <thead>\n",
       "    <tr style=\"text-align: right;\">\n",
       "      <th></th>\n",
       "      <th>pc1</th>\n",
       "      <th>pc2</th>\n",
       "      <th>pc3</th>\n",
       "      <th>pc4</th>\n",
       "      <th>pc5</th>\n",
       "      <th>pc6</th>\n",
       "      <th>pc7</th>\n",
       "      <th>pc8</th>\n",
       "      <th>pc9</th>\n",
       "    </tr>\n",
       "  </thead>\n",
       "  <tbody>\n",
       "    <tr>\n",
       "      <th>0</th>\n",
       "      <td>5.059003</td>\n",
       "      <td>-0.349913</td>\n",
       "      <td>-0.194188</td>\n",
       "      <td>0.115537</td>\n",
       "      <td>0.100735</td>\n",
       "      <td>-0.577014</td>\n",
       "      <td>-0.834581</td>\n",
       "      <td>-2.997792e-17</td>\n",
       "      <td>-0.0</td>\n",
       "    </tr>\n",
       "    <tr>\n",
       "      <th>1</th>\n",
       "      <td>3.966041</td>\n",
       "      <td>-0.419386</td>\n",
       "      <td>-0.864955</td>\n",
       "      <td>-0.106402</td>\n",
       "      <td>1.026831</td>\n",
       "      <td>-0.290749</td>\n",
       "      <td>-0.843278</td>\n",
       "      <td>4.031518e-17</td>\n",
       "      <td>0.0</td>\n",
       "    </tr>\n",
       "    <tr>\n",
       "      <th>2</th>\n",
       "      <td>0.167789</td>\n",
       "      <td>0.078544</td>\n",
       "      <td>-0.663254</td>\n",
       "      <td>-0.333870</td>\n",
       "      <td>0.345646</td>\n",
       "      <td>1.454306</td>\n",
       "      <td>0.330327</td>\n",
       "      <td>1.508067e-15</td>\n",
       "      <td>-0.0</td>\n",
       "    </tr>\n",
       "    <tr>\n",
       "      <th>3</th>\n",
       "      <td>2.080230</td>\n",
       "      <td>-0.217493</td>\n",
       "      <td>-0.521520</td>\n",
       "      <td>-1.636613</td>\n",
       "      <td>0.148159</td>\n",
       "      <td>0.842600</td>\n",
       "      <td>1.751030</td>\n",
       "      <td>-7.146696e-18</td>\n",
       "      <td>0.0</td>\n",
       "    </tr>\n",
       "    <tr>\n",
       "      <th>4</th>\n",
       "      <td>0.293975</td>\n",
       "      <td>-0.057179</td>\n",
       "      <td>0.033611</td>\n",
       "      <td>-0.038830</td>\n",
       "      <td>0.870975</td>\n",
       "      <td>0.322254</td>\n",
       "      <td>-0.230805</td>\n",
       "      <td>-1.619690e-18</td>\n",
       "      <td>0.0</td>\n",
       "    </tr>\n",
       "    <tr>\n",
       "      <th>...</th>\n",
       "      <td>...</td>\n",
       "      <td>...</td>\n",
       "      <td>...</td>\n",
       "      <td>...</td>\n",
       "      <td>...</td>\n",
       "      <td>...</td>\n",
       "      <td>...</td>\n",
       "      <td>...</td>\n",
       "      <td>...</td>\n",
       "    </tr>\n",
       "    <tr>\n",
       "      <th>1148</th>\n",
       "      <td>1.692802</td>\n",
       "      <td>-0.248479</td>\n",
       "      <td>-0.630972</td>\n",
       "      <td>-1.295461</td>\n",
       "      <td>0.105789</td>\n",
       "      <td>0.786478</td>\n",
       "      <td>1.457470</td>\n",
       "      <td>-6.364891e-18</td>\n",
       "      <td>0.0</td>\n",
       "    </tr>\n",
       "    <tr>\n",
       "      <th>1149</th>\n",
       "      <td>4.656933</td>\n",
       "      <td>-0.396537</td>\n",
       "      <td>-0.861977</td>\n",
       "      <td>-0.569300</td>\n",
       "      <td>1.058689</td>\n",
       "      <td>-0.259406</td>\n",
       "      <td>-0.184153</td>\n",
       "      <td>-1.122814e-18</td>\n",
       "      <td>0.0</td>\n",
       "    </tr>\n",
       "    <tr>\n",
       "      <th>1150</th>\n",
       "      <td>-1.187982</td>\n",
       "      <td>-0.244702</td>\n",
       "      <td>-1.157597</td>\n",
       "      <td>1.167232</td>\n",
       "      <td>-0.113069</td>\n",
       "      <td>0.177412</td>\n",
       "      <td>-0.370383</td>\n",
       "      <td>-2.421467e-19</td>\n",
       "      <td>-0.0</td>\n",
       "    </tr>\n",
       "    <tr>\n",
       "      <th>1151</th>\n",
       "      <td>-0.629434</td>\n",
       "      <td>-1.896367</td>\n",
       "      <td>0.880151</td>\n",
       "      <td>-0.923903</td>\n",
       "      <td>-0.018524</td>\n",
       "      <td>0.135344</td>\n",
       "      <td>0.404748</td>\n",
       "      <td>-6.248569e-19</td>\n",
       "      <td>-0.0</td>\n",
       "    </tr>\n",
       "    <tr>\n",
       "      <th>1152</th>\n",
       "      <td>-0.786605</td>\n",
       "      <td>1.002940</td>\n",
       "      <td>-1.128480</td>\n",
       "      <td>2.343566</td>\n",
       "      <td>0.851499</td>\n",
       "      <td>0.286574</td>\n",
       "      <td>-0.238064</td>\n",
       "      <td>-1.146605e-18</td>\n",
       "      <td>-0.0</td>\n",
       "    </tr>\n",
       "  </tbody>\n",
       "</table>\n",
       "<p>1153 rows × 9 columns</p>\n",
       "</div>"
      ],
      "text/plain": [
       "           pc1       pc2       pc3       pc4       pc5       pc6       pc7  \\\n",
       "0     5.059003 -0.349913 -0.194188  0.115537  0.100735 -0.577014 -0.834581   \n",
       "1     3.966041 -0.419386 -0.864955 -0.106402  1.026831 -0.290749 -0.843278   \n",
       "2     0.167789  0.078544 -0.663254 -0.333870  0.345646  1.454306  0.330327   \n",
       "3     2.080230 -0.217493 -0.521520 -1.636613  0.148159  0.842600  1.751030   \n",
       "4     0.293975 -0.057179  0.033611 -0.038830  0.870975  0.322254 -0.230805   \n",
       "...        ...       ...       ...       ...       ...       ...       ...   \n",
       "1148  1.692802 -0.248479 -0.630972 -1.295461  0.105789  0.786478  1.457470   \n",
       "1149  4.656933 -0.396537 -0.861977 -0.569300  1.058689 -0.259406 -0.184153   \n",
       "1150 -1.187982 -0.244702 -1.157597  1.167232 -0.113069  0.177412 -0.370383   \n",
       "1151 -0.629434 -1.896367  0.880151 -0.923903 -0.018524  0.135344  0.404748   \n",
       "1152 -0.786605  1.002940 -1.128480  2.343566  0.851499  0.286574 -0.238064   \n",
       "\n",
       "               pc8  pc9  \n",
       "0    -2.997792e-17 -0.0  \n",
       "1     4.031518e-17  0.0  \n",
       "2     1.508067e-15 -0.0  \n",
       "3    -7.146696e-18  0.0  \n",
       "4    -1.619690e-18  0.0  \n",
       "...            ...  ...  \n",
       "1148 -6.364891e-18  0.0  \n",
       "1149 -1.122814e-18  0.0  \n",
       "1150 -2.421467e-19 -0.0  \n",
       "1151 -6.248569e-19 -0.0  \n",
       "1152 -1.146605e-18 -0.0  \n",
       "\n",
       "[1153 rows x 9 columns]"
      ]
     },
     "execution_count": 925,
     "metadata": {},
     "output_type": "execute_result"
    }
   ],
   "source": [
    "from sklearn.decomposition import PCA\n",
    "\n",
    "pca = PCA(n_components=N_FEATURES)\n",
    "\n",
    "principalComponents = pca.fit_transform(x_tr)\n",
    "# principalComponents = pca.fit_transform(x_te)\n",
    "\n",
    "columns = []\n",
    "for i in range(N_FEATURES):\n",
    "    columns.append('pc'+str(i+1))\n",
    "\n",
    "principalDf = pd.DataFrame(data = principalComponents\n",
    "             , columns = columns)\n",
    "principalDf"
   ]
  },
  {
   "cell_type": "code",
   "execution_count": 926,
   "id": "92ada291-de81-4751-b08a-8241bd652bcc",
   "metadata": {},
   "outputs": [
    {
     "data": {
      "image/png": "[encoded data removed]",
      "text/plain": [
       "<Figure size 640x480 with 1 Axes>"
      ]
     },
     "metadata": {},
     "output_type": "display_data"
    }
   ],
   "source": [
    "import matplotlib.pyplot as plt\n",
    "import numpy as np\n",
    "\n",
    "PC_values = np.arange(pca.n_components_) + 1\n",
    "plt.plot(PC_values, pca.explained_variance_ratio_, 'o-', linewidth=2, color='blue')\n",
    "plt.title('Scree Plot')\n",
    "plt.xlabel('Principal Component')\n",
    "plt.ylabel('Variance Explained')\n",
    "plt.show()"
   ]
  },
  {
   "cell_type": "code",
   "execution_count": 927,
   "id": "8f2dbf6b-ac2c-41e7-926f-c9f36a43cd03",
   "metadata": {},
   "outputs": [],
   "source": [
    "series = pd.Series([str(round(x)) for x in y_train])\n",
    "finalDf = principalDf\n",
    "finalDf['target'] = series"
   ]
  },
  {
   "cell_type": "code",
   "execution_count": 928,
   "id": "628fb0b1-9846-4c12-93d7-b27d162a7c2f",
   "metadata": {},
   "outputs": [
    {
     "data": {
      "text/html": [
       "<div>\n",
       "<style scoped>\n",
       "    .dataframe tbody tr th:only-of-type {\n",
       "        vertical-align: middle;\n",
       "    }\n",
       "\n",
       "    .dataframe tbody tr th {\n",
       "        vertical-align: top;\n",
       "    }\n",
       "\n",
       "    .dataframe thead th {\n",
       "        text-align: right;\n",
       "    }\n",
       "</style>\n",
       "<table border=\"1\" class=\"dataframe\">\n",
       "  <thead>\n",
       "    <tr style=\"text-align: right;\">\n",
       "      <th></th>\n",
       "      <th>pc1</th>\n",
       "      <th>pc2</th>\n",
       "      <th>pc3</th>\n",
       "      <th>pc4</th>\n",
       "      <th>pc5</th>\n",
       "      <th>pc6</th>\n",
       "      <th>pc7</th>\n",
       "      <th>pc8</th>\n",
       "      <th>pc9</th>\n",
       "      <th>target</th>\n",
       "    </tr>\n",
       "  </thead>\n",
       "  <tbody>\n",
       "    <tr>\n",
       "      <th>0</th>\n",
       "      <td>5.059003</td>\n",
       "      <td>-0.349913</td>\n",
       "      <td>-0.194188</td>\n",
       "      <td>0.115537</td>\n",
       "      <td>0.100735</td>\n",
       "      <td>-0.577014</td>\n",
       "      <td>-0.834581</td>\n",
       "      <td>-2.997792e-17</td>\n",
       "      <td>-0.0</td>\n",
       "      <td>3</td>\n",
       "    </tr>\n",
       "    <tr>\n",
       "      <th>1</th>\n",
       "      <td>3.966041</td>\n",
       "      <td>-0.419386</td>\n",
       "      <td>-0.864955</td>\n",
       "      <td>-0.106402</td>\n",
       "      <td>1.026831</td>\n",
       "      <td>-0.290749</td>\n",
       "      <td>-0.843278</td>\n",
       "      <td>4.031518e-17</td>\n",
       "      <td>0.0</td>\n",
       "      <td>0</td>\n",
       "    </tr>\n",
       "    <tr>\n",
       "      <th>2</th>\n",
       "      <td>0.167789</td>\n",
       "      <td>0.078544</td>\n",
       "      <td>-0.663254</td>\n",
       "      <td>-0.333870</td>\n",
       "      <td>0.345646</td>\n",
       "      <td>1.454306</td>\n",
       "      <td>0.330327</td>\n",
       "      <td>1.508067e-15</td>\n",
       "      <td>-0.0</td>\n",
       "      <td>1</td>\n",
       "    </tr>\n",
       "    <tr>\n",
       "      <th>3</th>\n",
       "      <td>2.080230</td>\n",
       "      <td>-0.217493</td>\n",
       "      <td>-0.521520</td>\n",
       "      <td>-1.636613</td>\n",
       "      <td>0.148159</td>\n",
       "      <td>0.842600</td>\n",
       "      <td>1.751030</td>\n",
       "      <td>-7.146696e-18</td>\n",
       "      <td>0.0</td>\n",
       "      <td>2</td>\n",
       "    </tr>\n",
       "    <tr>\n",
       "      <th>4</th>\n",
       "      <td>0.293975</td>\n",
       "      <td>-0.057179</td>\n",
       "      <td>0.033611</td>\n",
       "      <td>-0.038830</td>\n",
       "      <td>0.870975</td>\n",
       "      <td>0.322254</td>\n",
       "      <td>-0.230805</td>\n",
       "      <td>-1.619690e-18</td>\n",
       "      <td>0.0</td>\n",
       "      <td>1</td>\n",
       "    </tr>\n",
       "    <tr>\n",
       "      <th>...</th>\n",
       "      <td>...</td>\n",
       "      <td>...</td>\n",
       "      <td>...</td>\n",
       "      <td>...</td>\n",
       "      <td>...</td>\n",
       "      <td>...</td>\n",
       "      <td>...</td>\n",
       "      <td>...</td>\n",
       "      <td>...</td>\n",
       "      <td>...</td>\n",
       "    </tr>\n",
       "    <tr>\n",
       "      <th>1148</th>\n",
       "      <td>1.692802</td>\n",
       "      <td>-0.248479</td>\n",
       "      <td>-0.630972</td>\n",
       "      <td>-1.295461</td>\n",
       "      <td>0.105789</td>\n",
       "      <td>0.786478</td>\n",
       "      <td>1.457470</td>\n",
       "      <td>-6.364891e-18</td>\n",
       "      <td>0.0</td>\n",
       "      <td>1</td>\n",
       "    </tr>\n",
       "    <tr>\n",
       "      <th>1149</th>\n",
       "      <td>4.656933</td>\n",
       "      <td>-0.396537</td>\n",
       "      <td>-0.861977</td>\n",
       "      <td>-0.569300</td>\n",
       "      <td>1.058689</td>\n",
       "      <td>-0.259406</td>\n",
       "      <td>-0.184153</td>\n",
       "      <td>-1.122814e-18</td>\n",
       "      <td>0.0</td>\n",
       "      <td>2</td>\n",
       "    </tr>\n",
       "    <tr>\n",
       "      <th>1150</th>\n",
       "      <td>-1.187982</td>\n",
       "      <td>-0.244702</td>\n",
       "      <td>-1.157597</td>\n",
       "      <td>1.167232</td>\n",
       "      <td>-0.113069</td>\n",
       "      <td>0.177412</td>\n",
       "      <td>-0.370383</td>\n",
       "      <td>-2.421467e-19</td>\n",
       "      <td>-0.0</td>\n",
       "      <td>2</td>\n",
       "    </tr>\n",
       "    <tr>\n",
       "      <th>1151</th>\n",
       "      <td>-0.629434</td>\n",
       "      <td>-1.896367</td>\n",
       "      <td>0.880151</td>\n",
       "      <td>-0.923903</td>\n",
       "      <td>-0.018524</td>\n",
       "      <td>0.135344</td>\n",
       "      <td>0.404748</td>\n",
       "      <td>-6.248569e-19</td>\n",
       "      <td>-0.0</td>\n",
       "      <td>0</td>\n",
       "    </tr>\n",
       "    <tr>\n",
       "      <th>1152</th>\n",
       "      <td>-0.786605</td>\n",
       "      <td>1.002940</td>\n",
       "      <td>-1.128480</td>\n",
       "      <td>2.343566</td>\n",
       "      <td>0.851499</td>\n",
       "      <td>0.286574</td>\n",
       "      <td>-0.238064</td>\n",
       "      <td>-1.146605e-18</td>\n",
       "      <td>-0.0</td>\n",
       "      <td>3</td>\n",
       "    </tr>\n",
       "  </tbody>\n",
       "</table>\n",
       "<p>1153 rows × 10 columns</p>\n",
       "</div>"
      ],
      "text/plain": [
       "           pc1       pc2       pc3       pc4       pc5       pc6       pc7  \\\n",
       "0     5.059003 -0.349913 -0.194188  0.115537  0.100735 -0.577014 -0.834581   \n",
       "1     3.966041 -0.419386 -0.864955 -0.106402  1.026831 -0.290749 -0.843278   \n",
       "2     0.167789  0.078544 -0.663254 -0.333870  0.345646  1.454306  0.330327   \n",
       "3     2.080230 -0.217493 -0.521520 -1.636613  0.148159  0.842600  1.751030   \n",
       "4     0.293975 -0.057179  0.033611 -0.038830  0.870975  0.322254 -0.230805   \n",
       "...        ...       ...       ...       ...       ...       ...       ...   \n",
       "1148  1.692802 -0.248479 -0.630972 -1.295461  0.105789  0.786478  1.457470   \n",
       "1149  4.656933 -0.396537 -0.861977 -0.569300  1.058689 -0.259406 -0.184153   \n",
       "1150 -1.187982 -0.244702 -1.157597  1.167232 -0.113069  0.177412 -0.370383   \n",
       "1151 -0.629434 -1.896367  0.880151 -0.923903 -0.018524  0.135344  0.404748   \n",
       "1152 -0.786605  1.002940 -1.128480  2.343566  0.851499  0.286574 -0.238064   \n",
       "\n",
       "               pc8  pc9 target  \n",
       "0    -2.997792e-17 -0.0      3  \n",
       "1     4.031518e-17  0.0      0  \n",
       "2     1.508067e-15 -0.0      1  \n",
       "3    -7.146696e-18  0.0      2  \n",
       "4    -1.619690e-18  0.0      1  \n",
       "...            ...  ...    ...  \n",
       "1148 -6.364891e-18  0.0      1  \n",
       "1149 -1.122814e-18  0.0      2  \n",
       "1150 -2.421467e-19 -0.0      2  \n",
       "1151 -6.248569e-19 -0.0      0  \n",
       "1152 -1.146605e-18 -0.0      3  \n",
       "\n",
       "[1153 rows x 10 columns]"
      ]
     },
     "execution_count": 928,
     "metadata": {},
     "output_type": "execute_result"
    }
   ],
   "source": [
    "finalDf"
   ]
  },
  {
   "cell_type": "code",
   "execution_count": 929,
   "id": "d746b0c1-8dd7-4f81-80e9-acdfb92581be",
   "metadata": {},
   "outputs": [
    {
     "data": {
      "text/plain": [
       "Text(0.5, 0, 'PC3')"
      ]
     },
     "execution_count": 929,
     "metadata": {},
     "output_type": "execute_result"
    },
    {
     "data": {
      "image/png": "[encoded data removed]",
      "text/plain": [
       "<Figure size 640x480 with 1 Axes>"
      ]
     },
     "metadata": {},
     "output_type": "display_data"
    }
   ],
   "source": [
    "fig = plt.figure()\n",
    "ax = fig.add_subplot(projection='3d')\n",
    "\n",
    "l = ['0','1','2','3']\n",
    "df_list = []\n",
    "for item in l:\n",
    "    df = finalDf.query(f\"target == '{item}'\")\n",
    "    df_list.append(df)\n",
    "\n",
    "for df in df_list:\n",
    "    ax.scatter(df['pc1'], df['pc2'], df['pc3'],marker='p')\n",
    "\n",
    "ax.set_xlabel('PC1')\n",
    "ax.set_ylabel('PC2')\n",
    "ax.set_zlabel('PC3')"
   ]
  },
  {
   "cell_type": "code",
   "execution_count": 930,
   "id": "7ad37320-176d-49cc-a33f-2f592c50613e",
   "metadata": {},
   "outputs": [
    {
     "data": {
      "image/png": "[encoded data removed]",
      "text/plain": [
       "<Figure size 800x800 with 1 Axes>"
      ]
     },
     "metadata": {},
     "output_type": "display_data"
    }
   ],
   "source": [
    "fig = plt.figure(figsize = (8,8))\n",
    "ax = fig.add_subplot(1,1,1) \n",
    "ax.set_xlabel('Principal Component 1', fontsize = 15)\n",
    "ax.set_ylabel('Principal Component 2', fontsize = 15)\n",
    "ax.set_title('2 component PCA', fontsize = 20)\n",
    "\n",
    "targets = ['0','1','2','3']\n",
    "colors = ['r', 'g', 'b', 'y']\n",
    "for target, color in zip(targets,colors):\n",
    "    indicesToKeep = finalDf['target'] == target\n",
    "    ax.scatter(finalDf.loc[indicesToKeep, 'pc1']\n",
    "               , finalDf.loc[indicesToKeep, 'pc2']\n",
    "               , c = color\n",
    "               , s = 10)\n",
    "ax.legend(targets)\n",
    "ax.grid()"
   ]
  },
  {
   "cell_type": "markdown",
   "id": "aee8ef90-e63b-436b-8f7b-ff8180ab6ac8",
   "metadata": {
    "jp-MarkdownHeadingCollapsed": true
   },
   "source": [
    "# Gather and Split Test/Train Data"
   ]
  },
  {
   "cell_type": "code",
   "execution_count": 931,
   "id": "283a9cf6-7925-47de-813d-d10f98510dfc",
   "metadata": {},
   "outputs": [
    {
     "data": {
      "text/html": [
       "<div>\n",
       "<style scoped>\n",
       "    .dataframe tbody tr th:only-of-type {\n",
       "        vertical-align: middle;\n",
       "    }\n",
       "\n",
       "    .dataframe tbody tr th {\n",
       "        vertical-align: top;\n",
       "    }\n",
       "\n",
       "    .dataframe thead th {\n",
       "        text-align: right;\n",
       "    }\n",
       "</style>\n",
       "<table border=\"1\" class=\"dataframe\">\n",
       "  <thead>\n",
       "    <tr style=\"text-align: right;\">\n",
       "      <th></th>\n",
       "      <th>sim_time</th>\n",
       "      <th>surface_moisture</th>\n",
       "      <th>timestep</th>\n",
       "      <th>wind_direction</th>\n",
       "      <th>wind_speed</th>\n",
       "      <th>canopy_moisture</th>\n",
       "      <th>run_max_mem_rss_bytes</th>\n",
       "      <th>area</th>\n",
       "      <th>steps_fire</th>\n",
       "    </tr>\n",
       "  </thead>\n",
       "  <tbody>\n",
       "    <tr>\n",
       "      <th>1562</th>\n",
       "      <td>4005</td>\n",
       "      <td>0.10</td>\n",
       "      <td>600</td>\n",
       "      <td>60.0</td>\n",
       "      <td>2.235</td>\n",
       "      <td>0.90</td>\n",
       "      <td>401132</td>\n",
       "      <td>294840.0</td>\n",
       "      <td>600</td>\n",
       "    </tr>\n",
       "    <tr>\n",
       "      <th>1563</th>\n",
       "      <td>11359</td>\n",
       "      <td>0.05</td>\n",
       "      <td>600</td>\n",
       "      <td>150.0</td>\n",
       "      <td>4.023</td>\n",
       "      <td>1.00</td>\n",
       "      <td>2470680</td>\n",
       "      <td>1981888.0</td>\n",
       "      <td>600</td>\n",
       "    </tr>\n",
       "    <tr>\n",
       "      <th>1564</th>\n",
       "      <td>3937</td>\n",
       "      <td>0.07</td>\n",
       "      <td>600</td>\n",
       "      <td>240.0</td>\n",
       "      <td>2.235</td>\n",
       "      <td>0.95</td>\n",
       "      <td>517488</td>\n",
       "      <td>359488.0</td>\n",
       "      <td>600</td>\n",
       "    </tr>\n",
       "    <tr>\n",
       "      <th>1565</th>\n",
       "      <td>27251</td>\n",
       "      <td>0.15</td>\n",
       "      <td>600</td>\n",
       "      <td>60.0</td>\n",
       "      <td>4.470</td>\n",
       "      <td>0.90</td>\n",
       "      <td>3920324</td>\n",
       "      <td>648024.0</td>\n",
       "      <td>600</td>\n",
       "    </tr>\n",
       "    <tr>\n",
       "      <th>1566</th>\n",
       "      <td>4005</td>\n",
       "      <td>0.10</td>\n",
       "      <td>600</td>\n",
       "      <td>90.0</td>\n",
       "      <td>2.235</td>\n",
       "      <td>0.90</td>\n",
       "      <td>404324</td>\n",
       "      <td>294840.0</td>\n",
       "      <td>600</td>\n",
       "    </tr>\n",
       "  </tbody>\n",
       "</table>\n",
       "</div>"
      ],
      "text/plain": [
       "      sim_time  surface_moisture  timestep  wind_direction  wind_speed  \\\n",
       "1562      4005              0.10       600            60.0       2.235   \n",
       "1563     11359              0.05       600           150.0       4.023   \n",
       "1564      3937              0.07       600           240.0       2.235   \n",
       "1565     27251              0.15       600            60.0       4.470   \n",
       "1566      4005              0.10       600            90.0       2.235   \n",
       "\n",
       "      canopy_moisture  run_max_mem_rss_bytes       area  steps_fire  \n",
       "1562             0.90                 401132   294840.0         600  \n",
       "1563             1.00                2470680  1981888.0         600  \n",
       "1564             0.95                 517488   359488.0         600  \n",
       "1565             0.90                3920324   648024.0         600  \n",
       "1566             0.90                 404324   294840.0         600  "
      ]
     },
     "execution_count": 931,
     "metadata": {},
     "output_type": "execute_result"
    }
   ],
   "source": [
    "# y = finalDf['target']                # Uncomment this if you want PCA as the training data\n",
    "# X = finalDf.drop(columns=[\"target\"]) # Uncomment this if you want PCA as the training data\n",
    "X.tail()"
   ]
  },
  {
   "cell_type": "code",
   "execution_count": 932,
   "id": "833c9530-6fb6-4a97-9fe2-e3e5a093f964",
   "metadata": {},
   "outputs": [
    {
     "name": "stdout",
     "output_type": "stream",
     "text": [
      "1153 289 1153 289\n"
     ]
    }
   ],
   "source": [
    "TEST_RATIO = 0.2\n",
    "\n",
    "X_train, X_test, y_train, y_test = train_test_split(X, y, test_size=TEST_RATIO,random_state=42)\n",
    "\n",
    "X_train = np.array(X_train)\n",
    "X_test = np.array(X_test)\n",
    "y_train = np.array(y_train, dtype=np.int32)\n",
    "y_test = np.array(y_test, dtype=np.int32)\n",
    "\n",
    "print(len(X_train), len(X_test), len(y_train), len(y_test))"
   ]
  },
  {
   "cell_type": "markdown",
   "id": "dd2b1001-be05-4c63-932a-818ba2355713",
   "metadata": {
    "jp-MarkdownHeadingCollapsed": true
   },
   "source": [
    "# Try Different Models from ScikitLearn"
   ]
  },
  {
   "cell_type": "markdown",
   "id": "0c4f8223-d89f-4cc9-b5e9-f9e0af761217",
   "metadata": {
    "jp-MarkdownHeadingCollapsed": true
   },
   "source": [
    "## K Means Clustering"
   ]
  },
  {
   "cell_type": "code",
   "execution_count": 933,
   "id": "8b2da5be-8b35-4b57-826c-98b51d2f9a55",
   "metadata": {},
   "outputs": [],
   "source": [
    "from sklearn.cluster import KMeans\n",
    "\n",
    "# ------ experiment with cluster amount ---------- #\n",
    "n_clusters = len(CATEGORIES)\n",
    "# ------ experiment with cluster amount ---------- #\n",
    "\n",
    "model = KMeans(n_clusters=n_clusters, n_init=10)\n",
    "model = model.fit(X_train,y_train)"
   ]
  },
  {
   "cell_type": "code",
   "execution_count": 934,
   "id": "92f968df-9f7a-42ce-ae2b-5fc74137b850",
   "metadata": {},
   "outputs": [],
   "source": [
    "pred[\"Kmeans\"] = model.predict(X_test)\n",
    "models[\"Kmeans\"] = model"
   ]
  },
  {
   "cell_type": "code",
   "execution_count": 935,
   "id": "ae605f39-6133-4a0e-a117-31a595b0e69f",
   "metadata": {},
   "outputs": [
    {
     "name": "stdout",
     "output_type": "stream",
     "text": [
      "Mean Squared Error:    5.78201\n",
      "Mean Absolute Error:   1.85121\n"
     ]
    }
   ],
   "source": [
    "print_score(pred[\"Kmeans\"], y_test)"
   ]
  },
  {
   "cell_type": "code",
   "execution_count": 936,
   "id": "42b07ffe-97ae-4aae-aad9-0c00ed4b1add",
   "metadata": {},
   "outputs": [
    {
     "data": {
      "text/plain": [
       "0.23183391003460208"
      ]
     },
     "execution_count": 936,
     "metadata": {},
     "output_type": "execute_result"
    }
   ],
   "source": [
    "accuracy_score(y_true=y_test,y_pred=pred[\"Kmeans\"])"
   ]
  },
  {
   "cell_type": "markdown",
   "id": "0c5b0eea-7668-4faa-91d7-0c6b5e7d5261",
   "metadata": {},
   "source": [
    "15% is very bad accuracy, something must be wrong with my approach to using K means here but I am not sure so I will try another model. Could be an input data problem but I am skeptical of that"
   ]
  },
  {
   "cell_type": "markdown",
   "id": "46f3eba8-8ab2-4b73-a0d9-ab034552c097",
   "metadata": {
    "jp-MarkdownHeadingCollapsed": true
   },
   "source": [
    "## SVM"
   ]
  },
  {
   "cell_type": "code",
   "execution_count": 937,
   "id": "13dbbf2c-feb2-4ee8-9e08-4fa9ab8d62ff",
   "metadata": {},
   "outputs": [],
   "source": [
    "from sklearn.svm import SVC\n",
    "model = SVC(kernel='rbf')\n",
    "model = model.fit(X_train,y_train)"
   ]
  },
  {
   "cell_type": "code",
   "execution_count": 938,
   "id": "42b3f036-a210-4cd7-a01d-ff36476864fb",
   "metadata": {},
   "outputs": [
    {
     "data": {
      "text/plain": [
       "0.5224913494809689"
      ]
     },
     "execution_count": 938,
     "metadata": {},
     "output_type": "execute_result"
    }
   ],
   "source": [
    "pred[\"SVM\"] = model.predict(X_test)\n",
    "models[\"SVM\"] = model\n",
    "accuracy_score(y_true=y_test,y_pred=pred[\"SVM\"])"
   ]
  },
  {
   "cell_type": "markdown",
   "id": "9198b0bd-b863-46b0-a25b-aa1ba5fe40ef",
   "metadata": {
    "jp-MarkdownHeadingCollapsed": true
   },
   "source": [
    "## Decision Tree Classifier"
   ]
  },
  {
   "cell_type": "code",
   "execution_count": 939,
   "id": "02d97bc1-da2d-423f-9600-1ce350fe0ff3",
   "metadata": {},
   "outputs": [],
   "source": [
    "from sklearn.tree import DecisionTreeClassifier\n",
    "model = DecisionTreeClassifier()\n",
    "model = model.fit(X_train, y_train)"
   ]
  },
  {
   "cell_type": "code",
   "execution_count": 940,
   "id": "efd8826f-7e0c-45e2-b85a-42fa44708d3b",
   "metadata": {},
   "outputs": [
    {
     "data": {
      "text/plain": [
       "0.5951557093425606"
      ]
     },
     "execution_count": 940,
     "metadata": {},
     "output_type": "execute_result"
    }
   ],
   "source": [
    "pred[\"DecisionTree\"] = model.predict(X_test)\n",
    "models[\"DecisionTree\"] = model\n",
    "accuracy_score(y_true=y_test,y_pred=pred[\"DecisionTree\"])"
   ]
  },
  {
   "cell_type": "markdown",
   "id": "00e76bda-09ef-4265-b4bd-45dc2cd08758",
   "metadata": {
    "jp-MarkdownHeadingCollapsed": true
   },
   "source": [
    "## Logistic Regression"
   ]
  },
  {
   "cell_type": "code",
   "execution_count": 941,
   "id": "23cf2d57-1e07-4117-ad91-9f7a15f59f23",
   "metadata": {},
   "outputs": [
    {
     "name": "stderr",
     "output_type": "stream",
     "text": [
      "/root/.local/lib/python3.8/site-packages/sklearn/linear_model/_logistic.py:460: ConvergenceWarning: lbfgs failed to converge (status=1):\n",
      "STOP: TOTAL NO. of ITERATIONS REACHED LIMIT.\n",
      "\n",
      "Increase the number of iterations (max_iter) or scale the data as shown in:\n",
      "    https://scikit-learn.org/stable/modules/preprocessing.html\n",
      "Please also refer to the documentation for alternative solver options:\n",
      "    https://scikit-learn.org/stable/modules/linear_model.html#logistic-regression\n",
      "  n_iter_i = _check_optimize_result(\n"
     ]
    }
   ],
   "source": [
    "from sklearn.linear_model import LogisticRegression\n",
    "model = LogisticRegression(max_iter=400)\n",
    "model = model.fit(X_train, y_train)"
   ]
  },
  {
   "cell_type": "code",
   "execution_count": 942,
   "id": "ce24f917-342c-4024-86ca-1d3ba7dcec15",
   "metadata": {},
   "outputs": [
    {
     "data": {
      "text/plain": [
       "0.4532871972318339"
      ]
     },
     "execution_count": 942,
     "metadata": {},
     "output_type": "execute_result"
    }
   ],
   "source": [
    "pred[\"LogisticRegression\"] = model.predict(X_test)\n",
    "models[\"LogisticRegression\"] = model\n",
    "accuracy_score(y_true=y_test,y_pred=pred[\"LogisticRegression\"])"
   ]
  },
  {
   "cell_type": "markdown",
   "id": "cabd7aa9-48aa-4108-a717-a37d133a2f84",
   "metadata": {
    "jp-MarkdownHeadingCollapsed": true
   },
   "source": [
    "## Stochastic Gradient Descent"
   ]
  },
  {
   "cell_type": "code",
   "execution_count": 943,
   "id": "70e22a9c-7f50-4cb0-9731-f17eb3ecbe82",
   "metadata": {},
   "outputs": [],
   "source": [
    "from sklearn.linear_model import SGDClassifier\n",
    "model = SGDClassifier()\n",
    "model = model.fit(X_train, y_train)"
   ]
  },
  {
   "cell_type": "code",
   "execution_count": 944,
   "id": "6b479ed1-770b-475f-bd6a-fbdbdb8f067b",
   "metadata": {},
   "outputs": [
    {
     "data": {
      "text/plain": [
       "0.18685121107266436"
      ]
     },
     "execution_count": 944,
     "metadata": {},
     "output_type": "execute_result"
    }
   ],
   "source": [
    "pred[\"SGD\"] = model.predict(X_test)\n",
    "models[\"SGD\"] = model\n",
    "accuracy_score(y_true=y_test,y_pred=pred[\"SGD\"])"
   ]
  },
  {
   "cell_type": "markdown",
   "id": "e0cf1d89-0213-4da1-a5d1-7033c06a9458",
   "metadata": {
    "jp-MarkdownHeadingCollapsed": true
   },
   "source": [
    "## K Nearest Neighbor"
   ]
  },
  {
   "cell_type": "code",
   "execution_count": 945,
   "id": "792d1c8f-c9c4-4dd3-96f3-52c6a762b957",
   "metadata": {},
   "outputs": [],
   "source": [
    "from sklearn.neighbors import KNeighborsClassifier\n",
    "model = KNeighborsClassifier(n_neighbors=len(CATEGORIES))\n",
    "model = model.fit(X_train, y_train)"
   ]
  },
  {
   "cell_type": "code",
   "execution_count": 946,
   "id": "97ca0a7f-85bc-47ec-b554-95f838c9f64c",
   "metadata": {},
   "outputs": [
    {
     "data": {
      "text/plain": [
       "0.6020761245674741"
      ]
     },
     "execution_count": 946,
     "metadata": {},
     "output_type": "execute_result"
    }
   ],
   "source": [
    "pred[\"kNN\"] = model.predict(X_test)\n",
    "models[\"kNN\"] = model\n",
    "accuracy_score(y_true=y_test,y_pred=pred[\"kNN\"])"
   ]
  },
  {
   "cell_type": "markdown",
   "id": "78696473-c554-42c2-a042-0c8acf59da3f",
   "metadata": {
    "jp-MarkdownHeadingCollapsed": true
   },
   "source": [
    "## Random Forest\n"
   ]
  },
  {
   "cell_type": "code",
   "execution_count": 972,
   "id": "c6035dd4-5629-473e-9865-957b27f7f6b8",
   "metadata": {},
   "outputs": [
    {
     "data": {
      "text/html": [
       "<style>#sk-container-id-70 {color: black;}#sk-container-id-70 pre{padding: 0;}#sk-container-id-70 div.sk-toggleable {background-color: white;}#sk-container-id-70 label.sk-toggleable__label {cursor: pointer;display: block;width: 100%;margin-bottom: 0;padding: 0.3em;box-sizing: border-box;text-align: center;}#sk-container-id-70 label.sk-toggleable__label-arrow:before {content: \"▸\";float: left;margin-right: 0.25em;color: #696969;}#sk-container-id-70 label.sk-toggleable__label-arrow:hover:before {color: black;}#sk-container-id-70 div.sk-estimator:hover label.sk-toggleable__label-arrow:before {color: black;}#sk-container-id-70 div.sk-toggleable__content {max-height: 0;max-width: 0;overflow: hidden;text-align: left;background-color: #f0f8ff;}#sk-container-id-70 div.sk-toggleable__content pre {margin: 0.2em;color: black;border-radius: 0.25em;background-color: #f0f8ff;}#sk-container-id-70 input.sk-toggleable__control:checked~div.sk-toggleable__content {max-height: 200px;max-width: 100%;overflow: auto;}#sk-container-id-70 input.sk-toggleable__control:checked~label.sk-toggleable__label-arrow:before {content: \"▾\";}#sk-container-id-70 div.sk-estimator input.sk-toggleable__control:checked~label.sk-toggleable__label {background-color: #d4ebff;}#sk-container-id-70 div.sk-label input.sk-toggleable__control:checked~label.sk-toggleable__label {background-color: #d4ebff;}#sk-container-id-70 input.sk-hidden--visually {border: 0;clip: rect(1px 1px 1px 1px);clip: rect(1px, 1px, 1px, 1px);height: 1px;margin: -1px;overflow: hidden;padding: 0;position: absolute;width: 1px;}#sk-container-id-70 div.sk-estimator {font-family: monospace;background-color: #f0f8ff;border: 1px dotted black;border-radius: 0.25em;box-sizing: border-box;margin-bottom: 0.5em;}#sk-container-id-70 div.sk-estimator:hover {background-color: #d4ebff;}#sk-container-id-70 div.sk-parallel-item::after {content: \"\";width: 100%;border-bottom: 1px solid gray;flex-grow: 1;}#sk-container-id-70 div.sk-label:hover label.sk-toggleable__label {background-color: #d4ebff;}#sk-container-id-70 div.sk-serial::before {content: \"\";position: absolute;border-left: 1px solid gray;box-sizing: border-box;top: 0;bottom: 0;left: 50%;z-index: 0;}#sk-container-id-70 div.sk-serial {display: flex;flex-direction: column;align-items: center;background-color: white;padding-right: 0.2em;padding-left: 0.2em;position: relative;}#sk-container-id-70 div.sk-item {position: relative;z-index: 1;}#sk-container-id-70 div.sk-parallel {display: flex;align-items: stretch;justify-content: center;background-color: white;position: relative;}#sk-container-id-70 div.sk-item::before, #sk-container-id-70 div.sk-parallel-item::before {content: \"\";position: absolute;border-left: 1px solid gray;box-sizing: border-box;top: 0;bottom: 0;left: 50%;z-index: -1;}#sk-container-id-70 div.sk-parallel-item {display: flex;flex-direction: column;z-index: 1;position: relative;background-color: white;}#sk-container-id-70 div.sk-parallel-item:first-child::after {align-self: flex-end;width: 50%;}#sk-container-id-70 div.sk-parallel-item:last-child::after {align-self: flex-start;width: 50%;}#sk-container-id-70 div.sk-parallel-item:only-child::after {width: 0;}#sk-container-id-70 div.sk-dashed-wrapped {border: 1px dashed gray;margin: 0 0.4em 0.5em 0.4em;box-sizing: border-box;padding-bottom: 0.4em;background-color: white;}#sk-container-id-70 div.sk-label label {font-family: monospace;font-weight: bold;display: inline-block;line-height: 1.2em;}#sk-container-id-70 div.sk-label-container {text-align: center;}#sk-container-id-70 div.sk-container {/* jupyter's `normalize.less` sets `[hidden] { display: none; }` but bootstrap.min.css set `[hidden] { display: none !important; }` so we also need the `!important` here to be able to override the default hidden behavior on the sphinx rendered scikit-learn.org. See: https://github.com/scikit-learn/scikit-learn/issues/21755 */display: inline-block !important;position: relative;}#sk-container-id-70 div.sk-text-repr-fallback {display: none;}</style><div id=\"sk-container-id-70\" class=\"sk-top-container\"><div class=\"sk-text-repr-fallback\"><pre>RandomForestClassifier(max_depth=7, n_estimators=110)</pre><b>In a Jupyter environment, please rerun this cell to show the HTML representation or trust the notebook. <br />On GitHub, the HTML representation is unable to render, please try loading this page with nbviewer.org.</b></div><div class=\"sk-container\" hidden><div class=\"sk-item\"><div class=\"sk-estimator sk-toggleable\"><input class=\"sk-toggleable__control sk-hidden--visually\" id=\"sk-estimator-id-274\" type=\"checkbox\" checked><label for=\"sk-estimator-id-274\" class=\"sk-toggleable__label sk-toggleable__label-arrow\">RandomForestClassifier</label><div class=\"sk-toggleable__content\"><pre>RandomForestClassifier(max_depth=7, n_estimators=110)</pre></div></div></div></div></div>"
      ],
      "text/plain": [
       "RandomForestClassifier(max_depth=7, n_estimators=110)"
      ]
     },
     "execution_count": 972,
     "metadata": {},
     "output_type": "execute_result"
    }
   ],
   "source": [
    "from sklearn.ensemble import RandomForestClassifier\n",
    "\n",
    "model = RandomForestClassifier(n_estimators=110, max_features='sqrt',max_depth=7)\n",
    "model = model.fit(X_train, y_train)\n",
    "model"
   ]
  },
  {
   "cell_type": "code",
   "execution_count": 973,
   "id": "d0c1c583-34bd-452c-9485-7ad1eadb54bd",
   "metadata": {},
   "outputs": [
    {
     "data": {
      "text/plain": [
       "0.6366782006920415"
      ]
     },
     "execution_count": 973,
     "metadata": {},
     "output_type": "execute_result"
    }
   ],
   "source": [
    "pred[\"RandomForest\"] = model.predict(X_test)\n",
    "models[\"RandomForest\"] = model\n",
    "accuracy_score(y_true=y_test,y_pred=pred[\"RandomForest\"])"
   ]
  },
  {
   "cell_type": "markdown",
   "id": "7ee5d5e8-5286-44fb-bdd7-cd2a33c2ac0d",
   "metadata": {
    "jp-MarkdownHeadingCollapsed": true
   },
   "source": [
    "## Gradient Boosting"
   ]
  },
  {
   "cell_type": "code",
   "execution_count": 974,
   "id": "5952d386-d1e5-478f-9376-0102a7936147",
   "metadata": {},
   "outputs": [],
   "source": [
    "from sklearn.ensemble import GradientBoostingClassifier\n",
    "\n",
    "model = GradientBoostingClassifier(max_depth=3, learning_rate=0.1, n_estimators = 35)\n",
    "model = model.fit(X_train, y_train)"
   ]
  },
  {
   "cell_type": "code",
   "execution_count": null,
   "id": "55a62339-41c6-458a-a5b6-e7fac2321ffa",
   "metadata": {},
   "outputs": [],
   "source": []
  },
  {
   "cell_type": "code",
   "execution_count": 975,
   "id": "13c28f04-e05a-405f-a246-a0b18bad051a",
   "metadata": {},
   "outputs": [
    {
     "data": {
      "text/plain": [
       "0.6505190311418685"
      ]
     },
     "execution_count": 975,
     "metadata": {},
     "output_type": "execute_result"
    }
   ],
   "source": [
    "pred[\"GradientBoosting\"] = model.predict(X_test)\n",
    "models[\"GradientBoosting\"] = model\n",
    "\n",
    "accuracy_score(y_true=y_test,y_pred=pred[\"GradientBoosting\"])"
   ]
  },
  {
   "cell_type": "markdown",
   "id": "1f6d3c97-955a-4707-b71b-163592b12fd6",
   "metadata": {
    "jp-MarkdownHeadingCollapsed": true
   },
   "source": [
    "## LGBM"
   ]
  },
  {
   "cell_type": "code",
   "execution_count": 976,
   "id": "49dae77e-d256-4412-962c-493e4097a083",
   "metadata": {},
   "outputs": [],
   "source": [
    "# !pip3 install --user lightgbm"
   ]
  },
  {
   "cell_type": "code",
   "execution_count": 977,
   "id": "3d77cf3a-7a54-48a7-9d40-7ba77685db61",
   "metadata": {
    "scrolled": true
   },
   "outputs": [
    {
     "name": "stdout",
     "output_type": "stream",
     "text": [
      "[LightGBM] [Warning] Auto-choosing row-wise multi-threading, the overhead of testing was 0.000152 seconds.\n",
      "You can set `force_row_wise=true` to remove the overhead.\n",
      "And if memory is not enough, you can set `force_col_wise=true`.\n",
      "[LightGBM] [Info] Total Bins 407\n",
      "[LightGBM] [Info] Number of data points in the train set: 1153, number of used features: 7\n",
      "[LightGBM] [Info] Start training from score -1.569484\n",
      "[LightGBM] [Info] Start training from score -1.656495\n",
      "[LightGBM] [Info] Start training from score -1.629588\n",
      "[LightGBM] [Info] Start training from score -1.573659\n",
      "[LightGBM] [Info] Start training from score -1.620777\n",
      "[LightGBM] [Warning] No further splits with positive gain, best gain: -inf\n",
      "[LightGBM] [Warning] No further splits with positive gain, best gain: -inf\n",
      "[LightGBM] [Warning] No further splits with positive gain, best gain: -inf\n",
      "[LightGBM] [Warning] No further splits with positive gain, best gain: -inf\n"
     ]
    },
    {
     "data": {
      "text/html": [
       "<style>#sk-container-id-71 {color: black;}#sk-container-id-71 pre{padding: 0;}#sk-container-id-71 div.sk-toggleable {background-color: white;}#sk-container-id-71 label.sk-toggleable__label {cursor: pointer;display: block;width: 100%;margin-bottom: 0;padding: 0.3em;box-sizing: border-box;text-align: center;}#sk-container-id-71 label.sk-toggleable__label-arrow:before {content: \"▸\";float: left;margin-right: 0.25em;color: #696969;}#sk-container-id-71 label.sk-toggleable__label-arrow:hover:before {color: black;}#sk-container-id-71 div.sk-estimator:hover label.sk-toggleable__label-arrow:before {color: black;}#sk-container-id-71 div.sk-toggleable__content {max-height: 0;max-width: 0;overflow: hidden;text-align: left;background-color: #f0f8ff;}#sk-container-id-71 div.sk-toggleable__content pre {margin: 0.2em;color: black;border-radius: 0.25em;background-color: #f0f8ff;}#sk-container-id-71 input.sk-toggleable__control:checked~div.sk-toggleable__content {max-height: 200px;max-width: 100%;overflow: auto;}#sk-container-id-71 input.sk-toggleable__control:checked~label.sk-toggleable__label-arrow:before {content: \"▾\";}#sk-container-id-71 div.sk-estimator input.sk-toggleable__control:checked~label.sk-toggleable__label {background-color: #d4ebff;}#sk-container-id-71 div.sk-label input.sk-toggleable__control:checked~label.sk-toggleable__label {background-color: #d4ebff;}#sk-container-id-71 input.sk-hidden--visually {border: 0;clip: rect(1px 1px 1px 1px);clip: rect(1px, 1px, 1px, 1px);height: 1px;margin: -1px;overflow: hidden;padding: 0;position: absolute;width: 1px;}#sk-container-id-71 div.sk-estimator {font-family: monospace;background-color: #f0f8ff;border: 1px dotted black;border-radius: 0.25em;box-sizing: border-box;margin-bottom: 0.5em;}#sk-container-id-71 div.sk-estimator:hover {background-color: #d4ebff;}#sk-container-id-71 div.sk-parallel-item::after {content: \"\";width: 100%;border-bottom: 1px solid gray;flex-grow: 1;}#sk-container-id-71 div.sk-label:hover label.sk-toggleable__label {background-color: #d4ebff;}#sk-container-id-71 div.sk-serial::before {content: \"\";position: absolute;border-left: 1px solid gray;box-sizing: border-box;top: 0;bottom: 0;left: 50%;z-index: 0;}#sk-container-id-71 div.sk-serial {display: flex;flex-direction: column;align-items: center;background-color: white;padding-right: 0.2em;padding-left: 0.2em;position: relative;}#sk-container-id-71 div.sk-item {position: relative;z-index: 1;}#sk-container-id-71 div.sk-parallel {display: flex;align-items: stretch;justify-content: center;background-color: white;position: relative;}#sk-container-id-71 div.sk-item::before, #sk-container-id-71 div.sk-parallel-item::before {content: \"\";position: absolute;border-left: 1px solid gray;box-sizing: border-box;top: 0;bottom: 0;left: 50%;z-index: -1;}#sk-container-id-71 div.sk-parallel-item {display: flex;flex-direction: column;z-index: 1;position: relative;background-color: white;}#sk-container-id-71 div.sk-parallel-item:first-child::after {align-self: flex-end;width: 50%;}#sk-container-id-71 div.sk-parallel-item:last-child::after {align-self: flex-start;width: 50%;}#sk-container-id-71 div.sk-parallel-item:only-child::after {width: 0;}#sk-container-id-71 div.sk-dashed-wrapped {border: 1px dashed gray;margin: 0 0.4em 0.5em 0.4em;box-sizing: border-box;padding-bottom: 0.4em;background-color: white;}#sk-container-id-71 div.sk-label label {font-family: monospace;font-weight: bold;display: inline-block;line-height: 1.2em;}#sk-container-id-71 div.sk-label-container {text-align: center;}#sk-container-id-71 div.sk-container {/* jupyter's `normalize.less` sets `[hidden] { display: none; }` but bootstrap.min.css set `[hidden] { display: none !important; }` so we also need the `!important` here to be able to override the default hidden behavior on the sphinx rendered scikit-learn.org. See: https://github.com/scikit-learn/scikit-learn/issues/21755 */display: inline-block !important;position: relative;}#sk-container-id-71 div.sk-text-repr-fallback {display: none;}</style><div id=\"sk-container-id-71\" class=\"sk-top-container\"><div class=\"sk-text-repr-fallback\"><pre>LGBMClassifier(n_estimators=8)</pre><b>In a Jupyter environment, please rerun this cell to show the HTML representation or trust the notebook. <br />On GitHub, the HTML representation is unable to render, please try loading this page with nbviewer.org.</b></div><div class=\"sk-container\" hidden><div class=\"sk-item\"><div class=\"sk-estimator sk-toggleable\"><input class=\"sk-toggleable__control sk-hidden--visually\" id=\"sk-estimator-id-275\" type=\"checkbox\" checked><label for=\"sk-estimator-id-275\" class=\"sk-toggleable__label sk-toggleable__label-arrow\">LGBMClassifier</label><div class=\"sk-toggleable__content\"><pre>LGBMClassifier(n_estimators=8)</pre></div></div></div></div></div>"
      ],
      "text/plain": [
       "LGBMClassifier(n_estimators=8)"
      ]
     },
     "execution_count": 977,
     "metadata": {},
     "output_type": "execute_result"
    }
   ],
   "source": [
    "from sklearn.ensemble import RandomForestClassifier\n",
    "from sklearn.model_selection import GridSearchCV\n",
    "from lightgbm import LGBMClassifier\n",
    "\n",
    "model = LGBMClassifier(n_estimators=8)\n",
    "model.fit(X_train,y_train)"
   ]
  },
  {
   "cell_type": "code",
   "execution_count": 978,
   "id": "9482d098-74e1-4eb5-a9bb-c15e3c9a6a75",
   "metadata": {},
   "outputs": [
    {
     "data": {
      "text/plain": [
       "0.6505190311418685"
      ]
     },
     "execution_count": 978,
     "metadata": {},
     "output_type": "execute_result"
    }
   ],
   "source": [
    "pred[\"LGBM\"] = model.predict(X_test)\n",
    "models[\"LGBM\"] = model\n",
    "\n",
    "accuracy_score(y_true=y_test,y_pred=pred[\"LGBM\"])"
   ]
  },
  {
   "cell_type": "markdown",
   "id": "b0be35c7-f82e-4889-958e-2aaa861e77d1",
   "metadata": {
    "jp-MarkdownHeadingCollapsed": true
   },
   "source": [
    "## XGB"
   ]
  },
  {
   "cell_type": "code",
   "execution_count": 979,
   "id": "aabec3ad-5f88-4393-8842-495bdfaf7463",
   "metadata": {},
   "outputs": [],
   "source": [
    "# !pip3 install --user xgboost"
   ]
  },
  {
   "cell_type": "code",
   "execution_count": 980,
   "id": "6ad3b9f1-a0f0-4e4d-bd59-b16218c824ff",
   "metadata": {},
   "outputs": [],
   "source": [
    "from xgboost.sklearn import XGBClassifier\n",
    "# ----------------- #\n",
    "n = 100\n",
    "# ----------------- #\n",
    "model = XGBClassifier(n_estimators = n)\n",
    "model = model.fit(X_train, y_train)"
   ]
  },
  {
   "cell_type": "code",
   "execution_count": 981,
   "id": "1540f928-6852-4352-88be-27914b427cef",
   "metadata": {},
   "outputs": [
    {
     "data": {
      "text/plain": [
       "0.5951557093425606"
      ]
     },
     "execution_count": 981,
     "metadata": {},
     "output_type": "execute_result"
    }
   ],
   "source": [
    "pred[\"XGB\"] = model.predict(X_test)\n",
    "models[\"XGB\"] = model\n",
    "\n",
    "accuracy_score(y_true=y_test,y_pred=pred[\"XGB\"])"
   ]
  },
  {
   "cell_type": "markdown",
   "id": "85983e32-8d06-4314-a67a-47dafcd3a0f3",
   "metadata": {
    "jp-MarkdownHeadingCollapsed": true
   },
   "source": [
    "## Naive Bayes"
   ]
  },
  {
   "cell_type": "markdown",
   "id": "3399669c-b493-4a0a-aec4-70f5f2060a60",
   "metadata": {},
   "source": [
    "Naive Bayes model might help"
   ]
  },
  {
   "cell_type": "code",
   "execution_count": 982,
   "id": "844a4cf1-47d3-46b0-8811-23134ce14dbf",
   "metadata": {},
   "outputs": [],
   "source": [
    "from sklearn.naive_bayes import GaussianNB\n",
    "\n",
    "model = GaussianNB()\n",
    "model = model.fit(X_train, y_train)"
   ]
  },
  {
   "cell_type": "code",
   "execution_count": 983,
   "id": "80591ede-78e0-4bc4-9865-3dfbfeef4a2d",
   "metadata": {},
   "outputs": [
    {
     "data": {
      "text/plain": [
       "0.5605536332179931"
      ]
     },
     "execution_count": 983,
     "metadata": {},
     "output_type": "execute_result"
    }
   ],
   "source": [
    "pred[\"GaussianNB\"] = model.predict(X_test)\n",
    "models[\"GaussinNB\"] = model\n",
    "\n",
    "accuracy_score(y_true=y_test,y_pred=pred[\"GaussianNB\"])"
   ]
  },
  {
   "cell_type": "markdown",
   "id": "21ea8885-e6c6-4c58-9bb2-fae3fe0f5469",
   "metadata": {
    "jp-MarkdownHeadingCollapsed": true
   },
   "source": [
    "## Extra Tree Classifier"
   ]
  },
  {
   "cell_type": "code",
   "execution_count": 984,
   "id": "103ba866-670b-4df3-8b31-8686cdb65d00",
   "metadata": {},
   "outputs": [],
   "source": [
    "from sklearn.tree import ExtraTreeClassifier\n",
    "\n",
    "model = ExtraTreeClassifier(random_state=0)\n",
    "model = model.fit(X_train, y_train)"
   ]
  },
  {
   "cell_type": "code",
   "execution_count": 986,
   "id": "334b8c8d-5c30-4d9e-916d-f9a0a8dc1a9a",
   "metadata": {},
   "outputs": [
    {
     "data": {
      "text/plain": [
       "0.6055363321799307"
      ]
     },
     "execution_count": 986,
     "metadata": {},
     "output_type": "execute_result"
    }
   ],
   "source": [
    "pred[\"Extra tree\"] = model.predict(X_test)\n",
    "models[\"Extra tree\"] = model\n",
    "\n",
    "accuracy_score(y_true=y_test,y_pred=pred[\"Extra tree\"])"
   ]
  },
  {
   "cell_type": "markdown",
   "id": "f1a4493d-5057-4afd-9591-001959afc99c",
   "metadata": {
    "jp-MarkdownHeadingCollapsed": true
   },
   "source": [
    "## Scikit-learn's neural nets"
   ]
  },
  {
   "cell_type": "markdown",
   "id": "e54c4726-cddf-4200-8933-cd041eb6c0cd",
   "metadata": {},
   "source": [
    "### Multi Layer Perceptron"
   ]
  },
  {
   "cell_type": "code",
   "execution_count": 987,
   "id": "275f1a56-bb31-4312-8554-2fa262821461",
   "metadata": {},
   "outputs": [
    {
     "name": "stderr",
     "output_type": "stream",
     "text": [
      "/root/.local/lib/python3.8/site-packages/sklearn/neural_network/_multilayer_perceptron.py:546: ConvergenceWarning: lbfgs failed to converge (status=2):\n",
      "ABNORMAL_TERMINATION_IN_LNSRCH.\n",
      "\n",
      "Increase the number of iterations (max_iter) or scale the data as shown in:\n",
      "    https://scikit-learn.org/stable/modules/preprocessing.html\n",
      "  self.n_iter_ = _check_optimize_result(\"lbfgs\", opt_res, self.max_iter)\n"
     ]
    },
    {
     "data": {
      "text/html": [
       "<style>#sk-container-id-72 {color: black;}#sk-container-id-72 pre{padding: 0;}#sk-container-id-72 div.sk-toggleable {background-color: white;}#sk-container-id-72 label.sk-toggleable__label {cursor: pointer;display: block;width: 100%;margin-bottom: 0;padding: 0.3em;box-sizing: border-box;text-align: center;}#sk-container-id-72 label.sk-toggleable__label-arrow:before {content: \"▸\";float: left;margin-right: 0.25em;color: #696969;}#sk-container-id-72 label.sk-toggleable__label-arrow:hover:before {color: black;}#sk-container-id-72 div.sk-estimator:hover label.sk-toggleable__label-arrow:before {color: black;}#sk-container-id-72 div.sk-toggleable__content {max-height: 0;max-width: 0;overflow: hidden;text-align: left;background-color: #f0f8ff;}#sk-container-id-72 div.sk-toggleable__content pre {margin: 0.2em;color: black;border-radius: 0.25em;background-color: #f0f8ff;}#sk-container-id-72 input.sk-toggleable__control:checked~div.sk-toggleable__content {max-height: 200px;max-width: 100%;overflow: auto;}#sk-container-id-72 input.sk-toggleable__control:checked~label.sk-toggleable__label-arrow:before {content: \"▾\";}#sk-container-id-72 div.sk-estimator input.sk-toggleable__control:checked~label.sk-toggleable__label {background-color: #d4ebff;}#sk-container-id-72 div.sk-label input.sk-toggleable__control:checked~label.sk-toggleable__label {background-color: #d4ebff;}#sk-container-id-72 input.sk-hidden--visually {border: 0;clip: rect(1px 1px 1px 1px);clip: rect(1px, 1px, 1px, 1px);height: 1px;margin: -1px;overflow: hidden;padding: 0;position: absolute;width: 1px;}#sk-container-id-72 div.sk-estimator {font-family: monospace;background-color: #f0f8ff;border: 1px dotted black;border-radius: 0.25em;box-sizing: border-box;margin-bottom: 0.5em;}#sk-container-id-72 div.sk-estimator:hover {background-color: #d4ebff;}#sk-container-id-72 div.sk-parallel-item::after {content: \"\";width: 100%;border-bottom: 1px solid gray;flex-grow: 1;}#sk-container-id-72 div.sk-label:hover label.sk-toggleable__label {background-color: #d4ebff;}#sk-container-id-72 div.sk-serial::before {content: \"\";position: absolute;border-left: 1px solid gray;box-sizing: border-box;top: 0;bottom: 0;left: 50%;z-index: 0;}#sk-container-id-72 div.sk-serial {display: flex;flex-direction: column;align-items: center;background-color: white;padding-right: 0.2em;padding-left: 0.2em;position: relative;}#sk-container-id-72 div.sk-item {position: relative;z-index: 1;}#sk-container-id-72 div.sk-parallel {display: flex;align-items: stretch;justify-content: center;background-color: white;position: relative;}#sk-container-id-72 div.sk-item::before, #sk-container-id-72 div.sk-parallel-item::before {content: \"\";position: absolute;border-left: 1px solid gray;box-sizing: border-box;top: 0;bottom: 0;left: 50%;z-index: -1;}#sk-container-id-72 div.sk-parallel-item {display: flex;flex-direction: column;z-index: 1;position: relative;background-color: white;}#sk-container-id-72 div.sk-parallel-item:first-child::after {align-self: flex-end;width: 50%;}#sk-container-id-72 div.sk-parallel-item:last-child::after {align-self: flex-start;width: 50%;}#sk-container-id-72 div.sk-parallel-item:only-child::after {width: 0;}#sk-container-id-72 div.sk-dashed-wrapped {border: 1px dashed gray;margin: 0 0.4em 0.5em 0.4em;box-sizing: border-box;padding-bottom: 0.4em;background-color: white;}#sk-container-id-72 div.sk-label label {font-family: monospace;font-weight: bold;display: inline-block;line-height: 1.2em;}#sk-container-id-72 div.sk-label-container {text-align: center;}#sk-container-id-72 div.sk-container {/* jupyter's `normalize.less` sets `[hidden] { display: none; }` but bootstrap.min.css set `[hidden] { display: none !important; }` so we also need the `!important` here to be able to override the default hidden behavior on the sphinx rendered scikit-learn.org. See: https://github.com/scikit-learn/scikit-learn/issues/21755 */display: inline-block !important;position: relative;}#sk-container-id-72 div.sk-text-repr-fallback {display: none;}</style><div id=\"sk-container-id-72\" class=\"sk-top-container\"><div class=\"sk-text-repr-fallback\"><pre>MLPClassifier(alpha=1e-05, max_iter=400, solver=&#x27;lbfgs&#x27;)</pre><b>In a Jupyter environment, please rerun this cell to show the HTML representation or trust the notebook. <br />On GitHub, the HTML representation is unable to render, please try loading this page with nbviewer.org.</b></div><div class=\"sk-container\" hidden><div class=\"sk-item\"><div class=\"sk-estimator sk-toggleable\"><input class=\"sk-toggleable__control sk-hidden--visually\" id=\"sk-estimator-id-276\" type=\"checkbox\" checked><label for=\"sk-estimator-id-276\" class=\"sk-toggleable__label sk-toggleable__label-arrow\">MLPClassifier</label><div class=\"sk-toggleable__content\"><pre>MLPClassifier(alpha=1e-05, max_iter=400, solver=&#x27;lbfgs&#x27;)</pre></div></div></div></div></div>"
      ],
      "text/plain": [
       "MLPClassifier(alpha=1e-05, max_iter=400, solver='lbfgs')"
      ]
     },
     "execution_count": 987,
     "metadata": {},
     "output_type": "execute_result"
    }
   ],
   "source": [
    "from sklearn.neural_network import MLPClassifier\n",
    "\n",
    "model = MLPClassifier(solver='lbfgs',  alpha=1e-5, max_iter=400)\n",
    "\n",
    "model.fit(X_train, y_train)"
   ]
  },
  {
   "cell_type": "code",
   "execution_count": 988,
   "id": "ff75306f-5a08-48af-9a52-0573bd1bd29b",
   "metadata": {},
   "outputs": [
    {
     "data": {
      "text/plain": [
       "0.16262975778546712"
      ]
     },
     "execution_count": 988,
     "metadata": {},
     "output_type": "execute_result"
    }
   ],
   "source": [
    "pred[\"MLP\"] = model.predict(X_test)\n",
    "models[\"MLP\"] = model\n",
    "\n",
    "accuracy_score(y_true=y_test,y_pred=pred[\"MLP\"])"
   ]
  },
  {
   "cell_type": "markdown",
   "id": "7fdfb3f4-0fdb-4f24-98d4-1e65d688d18a",
   "metadata": {
    "jp-MarkdownHeadingCollapsed": true
   },
   "source": [
    "## Gaussian Process"
   ]
  },
  {
   "cell_type": "code",
   "execution_count": 989,
   "id": "d7a8d4fe-0137-4f2a-8241-604362802f72",
   "metadata": {},
   "outputs": [
    {
     "name": "stderr",
     "output_type": "stream",
     "text": [
      "/root/.local/lib/python3.8/site-packages/sklearn/gaussian_process/kernels.py:429: ConvergenceWarning: The optimal value found for dimension 0 of parameter k2__length_scale is close to the specified upper bound 100000.0. Increasing the bound and calling fit again may find a better value.\n",
      "  warnings.warn(\n",
      "/root/.local/lib/python3.8/site-packages/sklearn/gaussian_process/kernels.py:429: ConvergenceWarning: The optimal value found for dimension 0 of parameter k2__length_scale is close to the specified upper bound 100000.0. Increasing the bound and calling fit again may find a better value.\n",
      "  warnings.warn(\n"
     ]
    },
    {
     "data": {
      "text/html": [
       "<style>#sk-container-id-73 {color: black;}#sk-container-id-73 pre{padding: 0;}#sk-container-id-73 div.sk-toggleable {background-color: white;}#sk-container-id-73 label.sk-toggleable__label {cursor: pointer;display: block;width: 100%;margin-bottom: 0;padding: 0.3em;box-sizing: border-box;text-align: center;}#sk-container-id-73 label.sk-toggleable__label-arrow:before {content: \"▸\";float: left;margin-right: 0.25em;color: #696969;}#sk-container-id-73 label.sk-toggleable__label-arrow:hover:before {color: black;}#sk-container-id-73 div.sk-estimator:hover label.sk-toggleable__label-arrow:before {color: black;}#sk-container-id-73 div.sk-toggleable__content {max-height: 0;max-width: 0;overflow: hidden;text-align: left;background-color: #f0f8ff;}#sk-container-id-73 div.sk-toggleable__content pre {margin: 0.2em;color: black;border-radius: 0.25em;background-color: #f0f8ff;}#sk-container-id-73 input.sk-toggleable__control:checked~div.sk-toggleable__content {max-height: 200px;max-width: 100%;overflow: auto;}#sk-container-id-73 input.sk-toggleable__control:checked~label.sk-toggleable__label-arrow:before {content: \"▾\";}#sk-container-id-73 div.sk-estimator input.sk-toggleable__control:checked~label.sk-toggleable__label {background-color: #d4ebff;}#sk-container-id-73 div.sk-label input.sk-toggleable__control:checked~label.sk-toggleable__label {background-color: #d4ebff;}#sk-container-id-73 input.sk-hidden--visually {border: 0;clip: rect(1px 1px 1px 1px);clip: rect(1px, 1px, 1px, 1px);height: 1px;margin: -1px;overflow: hidden;padding: 0;position: absolute;width: 1px;}#sk-container-id-73 div.sk-estimator {font-family: monospace;background-color: #f0f8ff;border: 1px dotted black;border-radius: 0.25em;box-sizing: border-box;margin-bottom: 0.5em;}#sk-container-id-73 div.sk-estimator:hover {background-color: #d4ebff;}#sk-container-id-73 div.sk-parallel-item::after {content: \"\";width: 100%;border-bottom: 1px solid gray;flex-grow: 1;}#sk-container-id-73 div.sk-label:hover label.sk-toggleable__label {background-color: #d4ebff;}#sk-container-id-73 div.sk-serial::before {content: \"\";position: absolute;border-left: 1px solid gray;box-sizing: border-box;top: 0;bottom: 0;left: 50%;z-index: 0;}#sk-container-id-73 div.sk-serial {display: flex;flex-direction: column;align-items: center;background-color: white;padding-right: 0.2em;padding-left: 0.2em;position: relative;}#sk-container-id-73 div.sk-item {position: relative;z-index: 1;}#sk-container-id-73 div.sk-parallel {display: flex;align-items: stretch;justify-content: center;background-color: white;position: relative;}#sk-container-id-73 div.sk-item::before, #sk-container-id-73 div.sk-parallel-item::before {content: \"\";position: absolute;border-left: 1px solid gray;box-sizing: border-box;top: 0;bottom: 0;left: 50%;z-index: -1;}#sk-container-id-73 div.sk-parallel-item {display: flex;flex-direction: column;z-index: 1;position: relative;background-color: white;}#sk-container-id-73 div.sk-parallel-item:first-child::after {align-self: flex-end;width: 50%;}#sk-container-id-73 div.sk-parallel-item:last-child::after {align-self: flex-start;width: 50%;}#sk-container-id-73 div.sk-parallel-item:only-child::after {width: 0;}#sk-container-id-73 div.sk-dashed-wrapped {border: 1px dashed gray;margin: 0 0.4em 0.5em 0.4em;box-sizing: border-box;padding-bottom: 0.4em;background-color: white;}#sk-container-id-73 div.sk-label label {font-family: monospace;font-weight: bold;display: inline-block;line-height: 1.2em;}#sk-container-id-73 div.sk-label-container {text-align: center;}#sk-container-id-73 div.sk-container {/* jupyter's `normalize.less` sets `[hidden] { display: none; }` but bootstrap.min.css set `[hidden] { display: none !important; }` so we also need the `!important` here to be able to override the default hidden behavior on the sphinx rendered scikit-learn.org. See: https://github.com/scikit-learn/scikit-learn/issues/21755 */display: inline-block !important;position: relative;}#sk-container-id-73 div.sk-text-repr-fallback {display: none;}</style><div id=\"sk-container-id-73\" class=\"sk-top-container\"><div class=\"sk-text-repr-fallback\"><pre>GaussianProcessClassifier(kernel=1**2 * RBF(length_scale=1))</pre><b>In a Jupyter environment, please rerun this cell to show the HTML representation or trust the notebook. <br />On GitHub, the HTML representation is unable to render, please try loading this page with nbviewer.org.</b></div><div class=\"sk-container\" hidden><div class=\"sk-item\"><div class=\"sk-estimator sk-toggleable\"><input class=\"sk-toggleable__control sk-hidden--visually\" id=\"sk-estimator-id-277\" type=\"checkbox\" checked><label for=\"sk-estimator-id-277\" class=\"sk-toggleable__label sk-toggleable__label-arrow\">GaussianProcessClassifier</label><div class=\"sk-toggleable__content\"><pre>GaussianProcessClassifier(kernel=1**2 * RBF(length_scale=1))</pre></div></div></div></div></div>"
      ],
      "text/plain": [
       "GaussianProcessClassifier(kernel=1**2 * RBF(length_scale=1))"
      ]
     },
     "execution_count": 989,
     "metadata": {},
     "output_type": "execute_result"
    }
   ],
   "source": [
    "from sklearn.gaussian_process import GaussianProcessClassifier\n",
    "from sklearn.gaussian_process.kernels import RBF\n",
    "\n",
    "kernel = 1.0 * RBF(1.0)\n",
    "model = GaussianProcessClassifier(kernel=kernel)\n",
    "\n",
    "# This takes a while to run \n",
    "model.fit(X_train, y_train)"
   ]
  },
  {
   "cell_type": "markdown",
   "id": "be14bc50-22a8-4d06-8a00-b1b949f7d56b",
   "metadata": {},
   "source": [
    "Uncomment these"
   ]
  },
  {
   "cell_type": "code",
   "execution_count": 990,
   "id": "fa2c8836-a5e2-4822-8145-ea1ddf86aaee",
   "metadata": {},
   "outputs": [
    {
     "data": {
      "text/plain": [
       "0.6539792387543253"
      ]
     },
     "execution_count": 990,
     "metadata": {},
     "output_type": "execute_result"
    }
   ],
   "source": [
    "pred[\"GPC\"] = model.predict(X_test)\n",
    "models[\"GPC\"] = model\n",
    "\n",
    "accuracy_score(y_true=y_test,y_pred=pred[\"GPC\"])"
   ]
  },
  {
   "cell_type": "markdown",
   "id": "5791c9e2-92ee-4714-b884-82bf6c07c639",
   "metadata": {
    "jp-MarkdownHeadingCollapsed": true
   },
   "source": [
    "## Ensemble Learning\n",
    "voting classifier to predict based on votes from multiple previous classifiers"
   ]
  },
  {
   "cell_type": "markdown",
   "id": "08b1ae36-252a-4012-8a91-0d278960a878",
   "metadata": {
    "jp-MarkdownHeadingCollapsed": true
   },
   "source": [
    "### Voting Classifier With Hard Voting"
   ]
  },
  {
   "cell_type": "code",
   "execution_count": 991,
   "id": "8f8f4300-36fa-4ee2-9dac-b41130fe98ba",
   "metadata": {},
   "outputs": [],
   "source": [
    "from sklearn.ensemble import VotingClassifier\n",
    "\n",
    "estimators = [\n",
    "    ('svc',models['SVM']),\n",
    "    ('lr',models['LogisticRegression']),\n",
    "    ('rf',models['RandomForest']),\n",
    "    ('kNN',models['kNN']),\n",
    "    ('dt',models['DecisionTree']),\n",
    "    ('sgd',models['SGD']),\n",
    "    ('XGB',models['XGB']),\n",
    "    ('gradient',models['GradientBoosting'])\n",
    "]\n",
    "\n",
    "\n",
    "voting_clf = VotingClassifier(\n",
    "    estimators=estimators,\n",
    "    voting='hard'\n",
    ")"
   ]
  },
  {
   "cell_type": "code",
   "execution_count": 992,
   "id": "79037940-b10b-49cb-88f1-50382725f875",
   "metadata": {},
   "outputs": [
    {
     "name": "stderr",
     "output_type": "stream",
     "text": [
      "/root/.local/lib/python3.8/site-packages/sklearn/linear_model/_logistic.py:460: ConvergenceWarning: lbfgs failed to converge (status=1):\n",
      "STOP: TOTAL NO. of ITERATIONS REACHED LIMIT.\n",
      "\n",
      "Increase the number of iterations (max_iter) or scale the data as shown in:\n",
      "    https://scikit-learn.org/stable/modules/preprocessing.html\n",
      "Please also refer to the documentation for alternative solver options:\n",
      "    https://scikit-learn.org/stable/modules/linear_model.html#logistic-regression\n",
      "  n_iter_i = _check_optimize_result(\n"
     ]
    },
    {
     "data": {
      "text/html": [
       "<style>#sk-container-id-74 {color: black;}#sk-container-id-74 pre{padding: 0;}#sk-container-id-74 div.sk-toggleable {background-color: white;}#sk-container-id-74 label.sk-toggleable__label {cursor: pointer;display: block;width: 100%;margin-bottom: 0;padding: 0.3em;box-sizing: border-box;text-align: center;}#sk-container-id-74 label.sk-toggleable__label-arrow:before {content: \"▸\";float: left;margin-right: 0.25em;color: #696969;}#sk-container-id-74 label.sk-toggleable__label-arrow:hover:before {color: black;}#sk-container-id-74 div.sk-estimator:hover label.sk-toggleable__label-arrow:before {color: black;}#sk-container-id-74 div.sk-toggleable__content {max-height: 0;max-width: 0;overflow: hidden;text-align: left;background-color: #f0f8ff;}#sk-container-id-74 div.sk-toggleable__content pre {margin: 0.2em;color: black;border-radius: 0.25em;background-color: #f0f8ff;}#sk-container-id-74 input.sk-toggleable__control:checked~div.sk-toggleable__content {max-height: 200px;max-width: 100%;overflow: auto;}#sk-container-id-74 input.sk-toggleable__control:checked~label.sk-toggleable__label-arrow:before {content: \"▾\";}#sk-container-id-74 div.sk-estimator input.sk-toggleable__control:checked~label.sk-toggleable__label {background-color: #d4ebff;}#sk-container-id-74 div.sk-label input.sk-toggleable__control:checked~label.sk-toggleable__label {background-color: #d4ebff;}#sk-container-id-74 input.sk-hidden--visually {border: 0;clip: rect(1px 1px 1px 1px);clip: rect(1px, 1px, 1px, 1px);height: 1px;margin: -1px;overflow: hidden;padding: 0;position: absolute;width: 1px;}#sk-container-id-74 div.sk-estimator {font-family: monospace;background-color: #f0f8ff;border: 1px dotted black;border-radius: 0.25em;box-sizing: border-box;margin-bottom: 0.5em;}#sk-container-id-74 div.sk-estimator:hover {background-color: #d4ebff;}#sk-container-id-74 div.sk-parallel-item::after {content: \"\";width: 100%;border-bottom: 1px solid gray;flex-grow: 1;}#sk-container-id-74 div.sk-label:hover label.sk-toggleable__label {background-color: #d4ebff;}#sk-container-id-74 div.sk-serial::before {content: \"\";position: absolute;border-left: 1px solid gray;box-sizing: border-box;top: 0;bottom: 0;left: 50%;z-index: 0;}#sk-container-id-74 div.sk-serial {display: flex;flex-direction: column;align-items: center;background-color: white;padding-right: 0.2em;padding-left: 0.2em;position: relative;}#sk-container-id-74 div.sk-item {position: relative;z-index: 1;}#sk-container-id-74 div.sk-parallel {display: flex;align-items: stretch;justify-content: center;background-color: white;position: relative;}#sk-container-id-74 div.sk-item::before, #sk-container-id-74 div.sk-parallel-item::before {content: \"\";position: absolute;border-left: 1px solid gray;box-sizing: border-box;top: 0;bottom: 0;left: 50%;z-index: -1;}#sk-container-id-74 div.sk-parallel-item {display: flex;flex-direction: column;z-index: 1;position: relative;background-color: white;}#sk-container-id-74 div.sk-parallel-item:first-child::after {align-self: flex-end;width: 50%;}#sk-container-id-74 div.sk-parallel-item:last-child::after {align-self: flex-start;width: 50%;}#sk-container-id-74 div.sk-parallel-item:only-child::after {width: 0;}#sk-container-id-74 div.sk-dashed-wrapped {border: 1px dashed gray;margin: 0 0.4em 0.5em 0.4em;box-sizing: border-box;padding-bottom: 0.4em;background-color: white;}#sk-container-id-74 div.sk-label label {font-family: monospace;font-weight: bold;display: inline-block;line-height: 1.2em;}#sk-container-id-74 div.sk-label-container {text-align: center;}#sk-container-id-74 div.sk-container {/* jupyter's `normalize.less` sets `[hidden] { display: none; }` but bootstrap.min.css set `[hidden] { display: none !important; }` so we also need the `!important` here to be able to override the default hidden behavior on the sphinx rendered scikit-learn.org. See: https://github.com/scikit-learn/scikit-learn/issues/21755 */display: inline-block !important;position: relative;}#sk-container-id-74 div.sk-text-repr-fallback {display: none;}</style><div id=\"sk-container-id-74\" class=\"sk-top-container\"><div class=\"sk-text-repr-fallback\"><pre>VotingClassifier(estimators=[(&#x27;svc&#x27;, SVC()),\n",
       "                             (&#x27;lr&#x27;, LogisticRegression(max_iter=400)),\n",
       "                             (&#x27;rf&#x27;,\n",
       "                              RandomForestClassifier(max_depth=7,\n",
       "                                                     n_estimators=110)),\n",
       "                             (&#x27;kNN&#x27;, KNeighborsClassifier()),\n",
       "                             (&#x27;dt&#x27;, DecisionTreeClassifier()),\n",
       "                             (&#x27;sgd&#x27;, SGDClassifier()),\n",
       "                             (&#x27;XGB&#x27;,\n",
       "                              XGBClassifier(base_score=None, booster=None,\n",
       "                                            callbacks=None,\n",
       "                                            colsample_bylevel=None,\n",
       "                                            colsample_bynode=None,\n",
       "                                            colsample_...\n",
       "                                            interaction_constraints=None,\n",
       "                                            learning_rate=None, max_bin=None,\n",
       "                                            max_cat_threshold=None,\n",
       "                                            max_cat_to_onehot=None,\n",
       "                                            max_delta_step=None, max_depth=None,\n",
       "                                            max_leaves=None,\n",
       "                                            min_child_weight=None, missing=nan,\n",
       "                                            monotone_constraints=None,\n",
       "                                            n_estimators=100, n_jobs=None,\n",
       "                                            num_parallel_tree=None,\n",
       "                                            objective=&#x27;multi:softprob&#x27;,\n",
       "                                            predictor=None, ...)),\n",
       "                             (&#x27;gradient&#x27;,\n",
       "                              GradientBoostingClassifier(n_estimators=35))])</pre><b>In a Jupyter environment, please rerun this cell to show the HTML representation or trust the notebook. <br />On GitHub, the HTML representation is unable to render, please try loading this page with nbviewer.org.</b></div><div class=\"sk-container\" hidden><div class=\"sk-item sk-dashed-wrapped\"><div class=\"sk-label-container\"><div class=\"sk-label sk-toggleable\"><input class=\"sk-toggleable__control sk-hidden--visually\" id=\"sk-estimator-id-278\" type=\"checkbox\" ><label for=\"sk-estimator-id-278\" class=\"sk-toggleable__label sk-toggleable__label-arrow\">VotingClassifier</label><div class=\"sk-toggleable__content\"><pre>VotingClassifier(estimators=[(&#x27;svc&#x27;, SVC()),\n",
       "                             (&#x27;lr&#x27;, LogisticRegression(max_iter=400)),\n",
       "                             (&#x27;rf&#x27;,\n",
       "                              RandomForestClassifier(max_depth=7,\n",
       "                                                     n_estimators=110)),\n",
       "                             (&#x27;kNN&#x27;, KNeighborsClassifier()),\n",
       "                             (&#x27;dt&#x27;, DecisionTreeClassifier()),\n",
       "                             (&#x27;sgd&#x27;, SGDClassifier()),\n",
       "                             (&#x27;XGB&#x27;,\n",
       "                              XGBClassifier(base_score=None, booster=None,\n",
       "                                            callbacks=None,\n",
       "                                            colsample_bylevel=None,\n",
       "                                            colsample_bynode=None,\n",
       "                                            colsample_...\n",
       "                                            interaction_constraints=None,\n",
       "                                            learning_rate=None, max_bin=None,\n",
       "                                            max_cat_threshold=None,\n",
       "                                            max_cat_to_onehot=None,\n",
       "                                            max_delta_step=None, max_depth=None,\n",
       "                                            max_leaves=None,\n",
       "                                            min_child_weight=None, missing=nan,\n",
       "                                            monotone_constraints=None,\n",
       "                                            n_estimators=100, n_jobs=None,\n",
       "                                            num_parallel_tree=None,\n",
       "                                            objective=&#x27;multi:softprob&#x27;,\n",
       "                                            predictor=None, ...)),\n",
       "                             (&#x27;gradient&#x27;,\n",
       "                              GradientBoostingClassifier(n_estimators=35))])</pre></div></div></div><div class=\"sk-parallel\"><div class=\"sk-parallel-item\"><div class=\"sk-item\"><div class=\"sk-label-container\"><div class=\"sk-label sk-toggleable\"><label>svc</label></div></div><div class=\"sk-serial\"><div class=\"sk-item\"><div class=\"sk-estimator sk-toggleable\"><input class=\"sk-toggleable__control sk-hidden--visually\" id=\"sk-estimator-id-279\" type=\"checkbox\" ><label for=\"sk-estimator-id-279\" class=\"sk-toggleable__label sk-toggleable__label-arrow\">SVC</label><div class=\"sk-toggleable__content\"><pre>SVC()</pre></div></div></div></div></div></div><div class=\"sk-parallel-item\"><div class=\"sk-item\"><div class=\"sk-label-container\"><div class=\"sk-label sk-toggleable\"><label>lr</label></div></div><div class=\"sk-serial\"><div class=\"sk-item\"><div class=\"sk-estimator sk-toggleable\"><input class=\"sk-toggleable__control sk-hidden--visually\" id=\"sk-estimator-id-280\" type=\"checkbox\" ><label for=\"sk-estimator-id-280\" class=\"sk-toggleable__label sk-toggleable__label-arrow\">LogisticRegression</label><div class=\"sk-toggleable__content\"><pre>LogisticRegression(max_iter=400)</pre></div></div></div></div></div></div><div class=\"sk-parallel-item\"><div class=\"sk-item\"><div class=\"sk-label-container\"><div class=\"sk-label sk-toggleable\"><label>rf</label></div></div><div class=\"sk-serial\"><div class=\"sk-item\"><div class=\"sk-estimator sk-toggleable\"><input class=\"sk-toggleable__control sk-hidden--visually\" id=\"sk-estimator-id-281\" type=\"checkbox\" ><label for=\"sk-estimator-id-281\" class=\"sk-toggleable__label sk-toggleable__label-arrow\">RandomForestClassifier</label><div class=\"sk-toggleable__content\"><pre>RandomForestClassifier(max_depth=7, n_estimators=110)</pre></div></div></div></div></div></div><div class=\"sk-parallel-item\"><div class=\"sk-item\"><div class=\"sk-label-container\"><div class=\"sk-label sk-toggleable\"><label>kNN</label></div></div><div class=\"sk-serial\"><div class=\"sk-item\"><div class=\"sk-estimator sk-toggleable\"><input class=\"sk-toggleable__control sk-hidden--visually\" id=\"sk-estimator-id-282\" type=\"checkbox\" ><label for=\"sk-estimator-id-282\" class=\"sk-toggleable__label sk-toggleable__label-arrow\">KNeighborsClassifier</label><div class=\"sk-toggleable__content\"><pre>KNeighborsClassifier()</pre></div></div></div></div></div></div><div class=\"sk-parallel-item\"><div class=\"sk-item\"><div class=\"sk-label-container\"><div class=\"sk-label sk-toggleable\"><label>dt</label></div></div><div class=\"sk-serial\"><div class=\"sk-item\"><div class=\"sk-estimator sk-toggleable\"><input class=\"sk-toggleable__control sk-hidden--visually\" id=\"sk-estimator-id-283\" type=\"checkbox\" ><label for=\"sk-estimator-id-283\" class=\"sk-toggleable__label sk-toggleable__label-arrow\">DecisionTreeClassifier</label><div class=\"sk-toggleable__content\"><pre>DecisionTreeClassifier()</pre></div></div></div></div></div></div><div class=\"sk-parallel-item\"><div class=\"sk-item\"><div class=\"sk-label-container\"><div class=\"sk-label sk-toggleable\"><label>sgd</label></div></div><div class=\"sk-serial\"><div class=\"sk-item\"><div class=\"sk-estimator sk-toggleable\"><input class=\"sk-toggleable__control sk-hidden--visually\" id=\"sk-estimator-id-284\" type=\"checkbox\" ><label for=\"sk-estimator-id-284\" class=\"sk-toggleable__label sk-toggleable__label-arrow\">SGDClassifier</label><div class=\"sk-toggleable__content\"><pre>SGDClassifier()</pre></div></div></div></div></div></div><div class=\"sk-parallel-item\"><div class=\"sk-item\"><div class=\"sk-label-container\"><div class=\"sk-label sk-toggleable\"><label>XGB</label></div></div><div class=\"sk-serial\"><div class=\"sk-item\"><div class=\"sk-estimator sk-toggleable\"><input class=\"sk-toggleable__control sk-hidden--visually\" id=\"sk-estimator-id-285\" type=\"checkbox\" ><label for=\"sk-estimator-id-285\" class=\"sk-toggleable__label sk-toggleable__label-arrow\">XGBClassifier</label><div class=\"sk-toggleable__content\"><pre>XGBClassifier(base_score=None, booster=None, callbacks=None,\n",
       "              colsample_bylevel=None, colsample_bynode=None,\n",
       "              colsample_bytree=None, early_stopping_rounds=None,\n",
       "              enable_categorical=False, eval_metric=None, feature_types=None,\n",
       "              gamma=None, gpu_id=None, grow_policy=None, importance_type=None,\n",
       "              interaction_constraints=None, learning_rate=None, max_bin=None,\n",
       "              max_cat_threshold=None, max_cat_to_onehot=None,\n",
       "              max_delta_step=None, max_depth=None, max_leaves=None,\n",
       "              min_child_weight=None, missing=nan, monotone_constraints=None,\n",
       "              n_estimators=100, n_jobs=None, num_parallel_tree=None,\n",
       "              objective=&#x27;multi:softprob&#x27;, predictor=None, ...)</pre></div></div></div></div></div></div><div class=\"sk-parallel-item\"><div class=\"sk-item\"><div class=\"sk-label-container\"><div class=\"sk-label sk-toggleable\"><label>gradient</label></div></div><div class=\"sk-serial\"><div class=\"sk-item\"><div class=\"sk-estimator sk-toggleable\"><input class=\"sk-toggleable__control sk-hidden--visually\" id=\"sk-estimator-id-286\" type=\"checkbox\" ><label for=\"sk-estimator-id-286\" class=\"sk-toggleable__label sk-toggleable__label-arrow\">GradientBoostingClassifier</label><div class=\"sk-toggleable__content\"><pre>GradientBoostingClassifier(n_estimators=35)</pre></div></div></div></div></div></div></div></div></div></div>"
      ],
      "text/plain": [
       "VotingClassifier(estimators=[('svc', SVC()),\n",
       "                             ('lr', LogisticRegression(max_iter=400)),\n",
       "                             ('rf',\n",
       "                              RandomForestClassifier(max_depth=7,\n",
       "                                                     n_estimators=110)),\n",
       "                             ('kNN', KNeighborsClassifier()),\n",
       "                             ('dt', DecisionTreeClassifier()),\n",
       "                             ('sgd', SGDClassifier()),\n",
       "                             ('XGB',\n",
       "                              XGBClassifier(base_score=None, booster=None,\n",
       "                                            callbacks=None,\n",
       "                                            colsample_bylevel=None,\n",
       "                                            colsample_bynode=None,\n",
       "                                            colsample_...\n",
       "                                            interaction_constraints=None,\n",
       "                                            learning_rate=None, max_bin=None,\n",
       "                                            max_cat_threshold=None,\n",
       "                                            max_cat_to_onehot=None,\n",
       "                                            max_delta_step=None, max_depth=None,\n",
       "                                            max_leaves=None,\n",
       "                                            min_child_weight=None, missing=nan,\n",
       "                                            monotone_constraints=None,\n",
       "                                            n_estimators=100, n_jobs=None,\n",
       "                                            num_parallel_tree=None,\n",
       "                                            objective='multi:softprob',\n",
       "                                            predictor=None, ...)),\n",
       "                             ('gradient',\n",
       "                              GradientBoostingClassifier(n_estimators=35))])"
      ]
     },
     "execution_count": 992,
     "metadata": {},
     "output_type": "execute_result"
    }
   ],
   "source": [
    "voting_clf.fit(X_train,y_train)"
   ]
  },
  {
   "cell_type": "code",
   "execution_count": 993,
   "id": "0ac6cb7e-8c9d-4576-b429-a3c3c7e5a77e",
   "metadata": {},
   "outputs": [
    {
     "data": {
      "text/plain": [
       "0.6539792387543253"
      ]
     },
     "execution_count": 993,
     "metadata": {},
     "output_type": "execute_result"
    }
   ],
   "source": [
    "pred[\"Voting\"] = model.predict(X_test)\n",
    "models[\"Voting\"] = model\n",
    "\n",
    "accuracy_score(y_true=y_test,y_pred=pred[\"Voting\"])"
   ]
  },
  {
   "cell_type": "code",
   "execution_count": 994,
   "id": "838d18d3-0626-4300-9de1-95448196c512",
   "metadata": {},
   "outputs": [
    {
     "name": "stdout",
     "output_type": "stream",
     "text": [
      "svc        [0 2 0 2 3 4 3 0 2 0]\n",
      "lr         [0 1 0 2 3 4 3 0 2 0]\n",
      "rf         [1 2 0 2 3 3 3 1 1 1]\n",
      "kNN        [2 2 0 2 3 3 3 2 2 1]\n",
      "dt         [2 2 0 0 3 3 4 1 1 1]\n",
      "sgd        [4 4 3 4 3 4 3 4 4 4]\n",
      "XGB        [2 2 0 2 3 3 4 1 1 1]\n",
      "gradient   [1 2 0 2 3 3 3 1 1 1]\n",
      "voting     [1 2 0 2 3 3 3 1 1 1] \n",
      "\n",
      "y_test     [1 2 0 2 4 3 2 1 1 1]\n"
     ]
    }
   ],
   "source": [
    "for name, model in estimators:\n",
    "    print(name.ljust(10),model.predict(X_test[100:110]))\n",
    "\n",
    "print(\"voting\".ljust(10),voting_clf.predict(X_test[100:110]),\"\\n\")\n",
    "print(\"y_test\".ljust(10),y_test[100:110])"
   ]
  },
  {
   "cell_type": "markdown",
   "id": "24be1988-cc02-4170-8a72-d196f2ea6ba3",
   "metadata": {
    "jp-MarkdownHeadingCollapsed": true
   },
   "source": [
    "### Voting Classifier with Probability Predictions"
   ]
  },
  {
   "cell_type": "code",
   "execution_count": 995,
   "id": "b5f20837-8768-43e8-82f0-b519f5ba9252",
   "metadata": {},
   "outputs": [
    {
     "name": "stderr",
     "output_type": "stream",
     "text": [
      "/root/.local/lib/python3.8/site-packages/sklearn/linear_model/_logistic.py:460: ConvergenceWarning: lbfgs failed to converge (status=1):\n",
      "STOP: TOTAL NO. of ITERATIONS REACHED LIMIT.\n",
      "\n",
      "Increase the number of iterations (max_iter) or scale the data as shown in:\n",
      "    https://scikit-learn.org/stable/modules/preprocessing.html\n",
      "Please also refer to the documentation for alternative solver options:\n",
      "    https://scikit-learn.org/stable/modules/linear_model.html#logistic-regression\n",
      "  n_iter_i = _check_optimize_result(\n"
     ]
    },
    {
     "data": {
      "text/html": [
       "<style>#sk-container-id-75 {color: black;}#sk-container-id-75 pre{padding: 0;}#sk-container-id-75 div.sk-toggleable {background-color: white;}#sk-container-id-75 label.sk-toggleable__label {cursor: pointer;display: block;width: 100%;margin-bottom: 0;padding: 0.3em;box-sizing: border-box;text-align: center;}#sk-container-id-75 label.sk-toggleable__label-arrow:before {content: \"▸\";float: left;margin-right: 0.25em;color: #696969;}#sk-container-id-75 label.sk-toggleable__label-arrow:hover:before {color: black;}#sk-container-id-75 div.sk-estimator:hover label.sk-toggleable__label-arrow:before {color: black;}#sk-container-id-75 div.sk-toggleable__content {max-height: 0;max-width: 0;overflow: hidden;text-align: left;background-color: #f0f8ff;}#sk-container-id-75 div.sk-toggleable__content pre {margin: 0.2em;color: black;border-radius: 0.25em;background-color: #f0f8ff;}#sk-container-id-75 input.sk-toggleable__control:checked~div.sk-toggleable__content {max-height: 200px;max-width: 100%;overflow: auto;}#sk-container-id-75 input.sk-toggleable__control:checked~label.sk-toggleable__label-arrow:before {content: \"▾\";}#sk-container-id-75 div.sk-estimator input.sk-toggleable__control:checked~label.sk-toggleable__label {background-color: #d4ebff;}#sk-container-id-75 div.sk-label input.sk-toggleable__control:checked~label.sk-toggleable__label {background-color: #d4ebff;}#sk-container-id-75 input.sk-hidden--visually {border: 0;clip: rect(1px 1px 1px 1px);clip: rect(1px, 1px, 1px, 1px);height: 1px;margin: -1px;overflow: hidden;padding: 0;position: absolute;width: 1px;}#sk-container-id-75 div.sk-estimator {font-family: monospace;background-color: #f0f8ff;border: 1px dotted black;border-radius: 0.25em;box-sizing: border-box;margin-bottom: 0.5em;}#sk-container-id-75 div.sk-estimator:hover {background-color: #d4ebff;}#sk-container-id-75 div.sk-parallel-item::after {content: \"\";width: 100%;border-bottom: 1px solid gray;flex-grow: 1;}#sk-container-id-75 div.sk-label:hover label.sk-toggleable__label {background-color: #d4ebff;}#sk-container-id-75 div.sk-serial::before {content: \"\";position: absolute;border-left: 1px solid gray;box-sizing: border-box;top: 0;bottom: 0;left: 50%;z-index: 0;}#sk-container-id-75 div.sk-serial {display: flex;flex-direction: column;align-items: center;background-color: white;padding-right: 0.2em;padding-left: 0.2em;position: relative;}#sk-container-id-75 div.sk-item {position: relative;z-index: 1;}#sk-container-id-75 div.sk-parallel {display: flex;align-items: stretch;justify-content: center;background-color: white;position: relative;}#sk-container-id-75 div.sk-item::before, #sk-container-id-75 div.sk-parallel-item::before {content: \"\";position: absolute;border-left: 1px solid gray;box-sizing: border-box;top: 0;bottom: 0;left: 50%;z-index: -1;}#sk-container-id-75 div.sk-parallel-item {display: flex;flex-direction: column;z-index: 1;position: relative;background-color: white;}#sk-container-id-75 div.sk-parallel-item:first-child::after {align-self: flex-end;width: 50%;}#sk-container-id-75 div.sk-parallel-item:last-child::after {align-self: flex-start;width: 50%;}#sk-container-id-75 div.sk-parallel-item:only-child::after {width: 0;}#sk-container-id-75 div.sk-dashed-wrapped {border: 1px dashed gray;margin: 0 0.4em 0.5em 0.4em;box-sizing: border-box;padding-bottom: 0.4em;background-color: white;}#sk-container-id-75 div.sk-label label {font-family: monospace;font-weight: bold;display: inline-block;line-height: 1.2em;}#sk-container-id-75 div.sk-label-container {text-align: center;}#sk-container-id-75 div.sk-container {/* jupyter's `normalize.less` sets `[hidden] { display: none; }` but bootstrap.min.css set `[hidden] { display: none !important; }` so we also need the `!important` here to be able to override the default hidden behavior on the sphinx rendered scikit-learn.org. See: https://github.com/scikit-learn/scikit-learn/issues/21755 */display: inline-block !important;position: relative;}#sk-container-id-75 div.sk-text-repr-fallback {display: none;}</style><div id=\"sk-container-id-75\" class=\"sk-top-container\"><div class=\"sk-text-repr-fallback\"><pre>VotingClassifier(estimators=[(&#x27;lr&#x27;, LogisticRegression(max_iter=400)),\n",
       "                             (&#x27;rf&#x27;,\n",
       "                              RandomForestClassifier(max_depth=7,\n",
       "                                                     n_estimators=110)),\n",
       "                             (&#x27;kNN&#x27;, KNeighborsClassifier()),\n",
       "                             (&#x27;XGB&#x27;,\n",
       "                              XGBClassifier(base_score=None, booster=None,\n",
       "                                            callbacks=None,\n",
       "                                            colsample_bylevel=None,\n",
       "                                            colsample_bynode=None,\n",
       "                                            colsample_bytree=None,\n",
       "                                            early_stopping_rounds=None,\n",
       "                                            enable_categorical=False,\n",
       "                                            eval_m...\n",
       "                                            learning_rate=None, max_bin=None,\n",
       "                                            max_cat_threshold=None,\n",
       "                                            max_cat_to_onehot=None,\n",
       "                                            max_delta_step=None, max_depth=None,\n",
       "                                            max_leaves=None,\n",
       "                                            min_child_weight=None, missing=nan,\n",
       "                                            monotone_constraints=None,\n",
       "                                            n_estimators=100, n_jobs=None,\n",
       "                                            num_parallel_tree=None,\n",
       "                                            objective=&#x27;multi:softprob&#x27;,\n",
       "                                            predictor=None, ...)),\n",
       "                             (&#x27;gradient&#x27;,\n",
       "                              GradientBoostingClassifier(n_estimators=35))],\n",
       "                 voting=&#x27;soft&#x27;)</pre><b>In a Jupyter environment, please rerun this cell to show the HTML representation or trust the notebook. <br />On GitHub, the HTML representation is unable to render, please try loading this page with nbviewer.org.</b></div><div class=\"sk-container\" hidden><div class=\"sk-item sk-dashed-wrapped\"><div class=\"sk-label-container\"><div class=\"sk-label sk-toggleable\"><input class=\"sk-toggleable__control sk-hidden--visually\" id=\"sk-estimator-id-287\" type=\"checkbox\" ><label for=\"sk-estimator-id-287\" class=\"sk-toggleable__label sk-toggleable__label-arrow\">VotingClassifier</label><div class=\"sk-toggleable__content\"><pre>VotingClassifier(estimators=[(&#x27;lr&#x27;, LogisticRegression(max_iter=400)),\n",
       "                             (&#x27;rf&#x27;,\n",
       "                              RandomForestClassifier(max_depth=7,\n",
       "                                                     n_estimators=110)),\n",
       "                             (&#x27;kNN&#x27;, KNeighborsClassifier()),\n",
       "                             (&#x27;XGB&#x27;,\n",
       "                              XGBClassifier(base_score=None, booster=None,\n",
       "                                            callbacks=None,\n",
       "                                            colsample_bylevel=None,\n",
       "                                            colsample_bynode=None,\n",
       "                                            colsample_bytree=None,\n",
       "                                            early_stopping_rounds=None,\n",
       "                                            enable_categorical=False,\n",
       "                                            eval_m...\n",
       "                                            learning_rate=None, max_bin=None,\n",
       "                                            max_cat_threshold=None,\n",
       "                                            max_cat_to_onehot=None,\n",
       "                                            max_delta_step=None, max_depth=None,\n",
       "                                            max_leaves=None,\n",
       "                                            min_child_weight=None, missing=nan,\n",
       "                                            monotone_constraints=None,\n",
       "                                            n_estimators=100, n_jobs=None,\n",
       "                                            num_parallel_tree=None,\n",
       "                                            objective=&#x27;multi:softprob&#x27;,\n",
       "                                            predictor=None, ...)),\n",
       "                             (&#x27;gradient&#x27;,\n",
       "                              GradientBoostingClassifier(n_estimators=35))],\n",
       "                 voting=&#x27;soft&#x27;)</pre></div></div></div><div class=\"sk-parallel\"><div class=\"sk-parallel-item\"><div class=\"sk-item\"><div class=\"sk-label-container\"><div class=\"sk-label sk-toggleable\"><label>lr</label></div></div><div class=\"sk-serial\"><div class=\"sk-item\"><div class=\"sk-estimator sk-toggleable\"><input class=\"sk-toggleable__control sk-hidden--visually\" id=\"sk-estimator-id-288\" type=\"checkbox\" ><label for=\"sk-estimator-id-288\" class=\"sk-toggleable__label sk-toggleable__label-arrow\">LogisticRegression</label><div class=\"sk-toggleable__content\"><pre>LogisticRegression(max_iter=400)</pre></div></div></div></div></div></div><div class=\"sk-parallel-item\"><div class=\"sk-item\"><div class=\"sk-label-container\"><div class=\"sk-label sk-toggleable\"><label>rf</label></div></div><div class=\"sk-serial\"><div class=\"sk-item\"><div class=\"sk-estimator sk-toggleable\"><input class=\"sk-toggleable__control sk-hidden--visually\" id=\"sk-estimator-id-289\" type=\"checkbox\" ><label for=\"sk-estimator-id-289\" class=\"sk-toggleable__label sk-toggleable__label-arrow\">RandomForestClassifier</label><div class=\"sk-toggleable__content\"><pre>RandomForestClassifier(max_depth=7, n_estimators=110)</pre></div></div></div></div></div></div><div class=\"sk-parallel-item\"><div class=\"sk-item\"><div class=\"sk-label-container\"><div class=\"sk-label sk-toggleable\"><label>kNN</label></div></div><div class=\"sk-serial\"><div class=\"sk-item\"><div class=\"sk-estimator sk-toggleable\"><input class=\"sk-toggleable__control sk-hidden--visually\" id=\"sk-estimator-id-290\" type=\"checkbox\" ><label for=\"sk-estimator-id-290\" class=\"sk-toggleable__label sk-toggleable__label-arrow\">KNeighborsClassifier</label><div class=\"sk-toggleable__content\"><pre>KNeighborsClassifier()</pre></div></div></div></div></div></div><div class=\"sk-parallel-item\"><div class=\"sk-item\"><div class=\"sk-label-container\"><div class=\"sk-label sk-toggleable\"><label>XGB</label></div></div><div class=\"sk-serial\"><div class=\"sk-item\"><div class=\"sk-estimator sk-toggleable\"><input class=\"sk-toggleable__control sk-hidden--visually\" id=\"sk-estimator-id-291\" type=\"checkbox\" ><label for=\"sk-estimator-id-291\" class=\"sk-toggleable__label sk-toggleable__label-arrow\">XGBClassifier</label><div class=\"sk-toggleable__content\"><pre>XGBClassifier(base_score=None, booster=None, callbacks=None,\n",
       "              colsample_bylevel=None, colsample_bynode=None,\n",
       "              colsample_bytree=None, early_stopping_rounds=None,\n",
       "              enable_categorical=False, eval_metric=None, feature_types=None,\n",
       "              gamma=None, gpu_id=None, grow_policy=None, importance_type=None,\n",
       "              interaction_constraints=None, learning_rate=None, max_bin=None,\n",
       "              max_cat_threshold=None, max_cat_to_onehot=None,\n",
       "              max_delta_step=None, max_depth=None, max_leaves=None,\n",
       "              min_child_weight=None, missing=nan, monotone_constraints=None,\n",
       "              n_estimators=100, n_jobs=None, num_parallel_tree=None,\n",
       "              objective=&#x27;multi:softprob&#x27;, predictor=None, ...)</pre></div></div></div></div></div></div><div class=\"sk-parallel-item\"><div class=\"sk-item\"><div class=\"sk-label-container\"><div class=\"sk-label sk-toggleable\"><label>gradient</label></div></div><div class=\"sk-serial\"><div class=\"sk-item\"><div class=\"sk-estimator sk-toggleable\"><input class=\"sk-toggleable__control sk-hidden--visually\" id=\"sk-estimator-id-292\" type=\"checkbox\" ><label for=\"sk-estimator-id-292\" class=\"sk-toggleable__label sk-toggleable__label-arrow\">GradientBoostingClassifier</label><div class=\"sk-toggleable__content\"><pre>GradientBoostingClassifier(n_estimators=35)</pre></div></div></div></div></div></div></div></div></div></div>"
      ],
      "text/plain": [
       "VotingClassifier(estimators=[('lr', LogisticRegression(max_iter=400)),\n",
       "                             ('rf',\n",
       "                              RandomForestClassifier(max_depth=7,\n",
       "                                                     n_estimators=110)),\n",
       "                             ('kNN', KNeighborsClassifier()),\n",
       "                             ('XGB',\n",
       "                              XGBClassifier(base_score=None, booster=None,\n",
       "                                            callbacks=None,\n",
       "                                            colsample_bylevel=None,\n",
       "                                            colsample_bynode=None,\n",
       "                                            colsample_bytree=None,\n",
       "                                            early_stopping_rounds=None,\n",
       "                                            enable_categorical=False,\n",
       "                                            eval_m...\n",
       "                                            learning_rate=None, max_bin=None,\n",
       "                                            max_cat_threshold=None,\n",
       "                                            max_cat_to_onehot=None,\n",
       "                                            max_delta_step=None, max_depth=None,\n",
       "                                            max_leaves=None,\n",
       "                                            min_child_weight=None, missing=nan,\n",
       "                                            monotone_constraints=None,\n",
       "                                            n_estimators=100, n_jobs=None,\n",
       "                                            num_parallel_tree=None,\n",
       "                                            objective='multi:softprob',\n",
       "                                            predictor=None, ...)),\n",
       "                             ('gradient',\n",
       "                              GradientBoostingClassifier(n_estimators=35))],\n",
       "                 voting='soft')"
      ]
     },
     "execution_count": 995,
     "metadata": {},
     "output_type": "execute_result"
    }
   ],
   "source": [
    "from sklearn.ensemble import VotingClassifier\n",
    "\n",
    "voting_clf = VotingClassifier(\n",
    "    estimators = [\n",
    "        ('lr',models['LogisticRegression']),\n",
    "        ('rf',models['RandomForest']),\n",
    "        ('kNN',models['kNN']),\n",
    "        ('XGB',models['XGB']),\n",
    "        ('gradient',models['GradientBoosting'])\n",
    "    ],\n",
    "    voting='soft',\n",
    "    # weights=[1, 1, 1, 1, 1, 1]\n",
    ")\n",
    "voting_clf.fit(X_train,y_train)"
   ]
  },
  {
   "cell_type": "code",
   "execution_count": 996,
   "id": "838c2fc2-d40a-4e49-ba22-a88fef4d5f39",
   "metadata": {},
   "outputs": [
    {
     "data": {
      "text/plain": [
       "0.6505190311418685"
      ]
     },
     "execution_count": 996,
     "metadata": {},
     "output_type": "execute_result"
    }
   ],
   "source": [
    "pred[\"SoftVoting\"] = model.predict(X_test)\n",
    "models[\"SoftVoting\"] = model\n",
    "accuracy_score(y_true=y_test,y_pred=pred[\"SoftVoting\"])"
   ]
  },
  {
   "cell_type": "code",
   "execution_count": 997,
   "id": "d712172d-6779-482f-8de7-4a27311bcaf8",
   "metadata": {},
   "outputs": [
    {
     "name": "stdout",
     "output_type": "stream",
     "text": [
      "lr         [[0.93 0.01 0.06 0.00 0.00]]\n",
      "rf         [[0.08 0.56 0.37 0.00 0.00]]\n",
      "kNN        [[0.00 0.40 0.60 0.00 0.00]]\n",
      "XGB        [[0.01 0.30 0.69 0.00 0.00]]\n",
      "gradient   [[0.04 0.63 0.28 0.03 0.03]]\n",
      "voting     [2]\n",
      "totals     [array([1.06, 1.90, 2.00, 0.03, 0.03])] \n",
      "\n",
      "y_test     [1]\n"
     ]
    }
   ],
   "source": [
    "estimators = [\n",
    "    ('lr',models['LogisticRegression']),\n",
    "    ('rf',models['RandomForest']),\n",
    "    ('kNN',models['kNN']),\n",
    "    ('XGB',models['XGB']),\n",
    "    ('gradient',models['GradientBoosting'])\n",
    "]\n",
    "\n",
    "np.set_printoptions(formatter={'float': lambda x: \"{0:0.2f}\".format(x)})\n",
    "totals = [0 for i in range(N_BUCKETS)]\n",
    "\n",
    "for name, model in estimators:\n",
    "    proba_preds = np.around(model.predict_proba([X_test[100]]),2)\n",
    "    print(name.ljust(10), proba_preds)\n",
    "    totals = [a + b for a,b in zip(totals,proba_preds)]\n",
    "\n",
    "print(\"voting\".ljust(10),voting_clf.predict([X_test[100]]))\n",
    "print(\"totals\".ljust(10),totals,\"\\n\")\n",
    "print(\"y_test\".ljust(10),[y_test[100]])\n"
   ]
  },
  {
   "cell_type": "markdown",
   "id": "61271a5c-4ae3-4cd0-81ae-1f3640d98ba0",
   "metadata": {},
   "source": []
  },
  {
   "cell_type": "markdown",
   "id": "712fadef-8c68-4ccf-9df3-472d88b8d84a",
   "metadata": {},
   "source": [
    "Soft predictor doesn't use all the models cause they can't all give probability predictions"
   ]
  },
  {
   "cell_type": "markdown",
   "id": "4cce0de4-8d3b-4df7-b483-587a6c3cd455",
   "metadata": {
    "jp-MarkdownHeadingCollapsed": true
   },
   "source": [
    "# Hyperparameter tuning for best models above"
   ]
  },
  {
   "cell_type": "markdown",
   "id": "7c229c38-b5de-47a0-b023-b5adf27022b0",
   "metadata": {
    "jp-MarkdownHeadingCollapsed": true
   },
   "source": [
    "## Random Forests"
   ]
  },
  {
   "cell_type": "code",
   "execution_count": 1006,
   "id": "416f10a2-0096-408c-977c-df8d79289ca5",
   "metadata": {},
   "outputs": [],
   "source": [
    "L = list(np.linspace(4,10,5,dtype=np.int32))\n",
    "L.append(None)\n",
    "L\n",
    "param_grid = [{\n",
    "    'n_estimators': np.linspace(102,110,4,dtype=np.int32),\n",
    "    'max_features': [\"sqrt\", \"log2\", None, 9],\n",
    "    'max_depth': L,\n",
    "}]\n",
    "# {'max_depth': 7, 'max_features': 'sqrt', 'n_estimators': 110}"
   ]
  },
  {
   "cell_type": "code",
   "execution_count": 1007,
   "id": "33acce9c-3cd3-41bc-9292-16cd5240dd71",
   "metadata": {},
   "outputs": [],
   "source": [
    "from sklearn.ensemble import RandomForestClassifier\n",
    "from sklearn.model_selection import GridSearchCV\n",
    "\n",
    "model = RandomForestClassifier()\n",
    "grid_search = GridSearchCV(model, param_grid, cv=3,verbose=1)\n",
    "# grid_search.fit(X_train, y_train)"
   ]
  },
  {
   "cell_type": "code",
   "execution_count": 1008,
   "id": "ccc210cc-0165-4f00-82b4-ca13822fd149",
   "metadata": {},
   "outputs": [],
   "source": [
    "# grid_search.best_params_"
   ]
  },
  {
   "cell_type": "code",
   "execution_count": 1009,
   "id": "68a0f3a7-9099-4518-9856-9e1005811da3",
   "metadata": {},
   "outputs": [],
   "source": [
    "from sklearn.ensemble import RandomForestClassifier\n",
    "# ----------------- #\n",
    "n = 35\n",
    "# ----------------- #\n",
    "model = RandomForestClassifier(n_estimators=110, max_features='sqrt',max_depth=7)\n",
    "model = model.fit(X_train, y_train)"
   ]
  },
  {
   "cell_type": "code",
   "execution_count": 1010,
   "id": "918b2bee-8120-45ed-9856-27e5741c99c1",
   "metadata": {},
   "outputs": [
    {
     "data": {
      "text/plain": [
       "0.6366782006920415"
      ]
     },
     "execution_count": 1010,
     "metadata": {},
     "output_type": "execute_result"
    }
   ],
   "source": [
    "pred[\"RandomForest\"] = model.predict(X_test)\n",
    "models[\"RandomForest\"] = model\n",
    "accuracy_score(y_true=y_test,y_pred=pred[\"RandomForest\"])"
   ]
  },
  {
   "cell_type": "code",
   "execution_count": 716,
   "id": "203a44d5-8ba0-45d3-9cbc-8fb79fae1879",
   "metadata": {},
   "outputs": [],
   "source": [
    "# model.get_params()"
   ]
  },
  {
   "cell_type": "markdown",
   "id": "d34427d9-ce33-4df8-acec-2d8809ea1db6",
   "metadata": {},
   "source": [
    "From this grid search testing, I found the best parameters to give to the random forest classifier, getting a new best of 74% accuracy!"
   ]
  },
  {
   "cell_type": "markdown",
   "id": "09696389-5dd7-425a-bcfa-3843f7fdfa96",
   "metadata": {
    "jp-MarkdownHeadingCollapsed": true
   },
   "source": [
    "## GradientBoosting"
   ]
  },
  {
   "cell_type": "code",
   "execution_count": 717,
   "id": "34363828-aed5-4c76-86d3-f92af9674114",
   "metadata": {},
   "outputs": [],
   "source": [
    "param_grid = [{\n",
    "    'n_estimators': [34,35],\n",
    "    'max_depth': [3,4,5,8,9,10],\n",
    "    'learning_rate': [0.1],  \n",
    "}]"
   ]
  },
  {
   "cell_type": "code",
   "execution_count": 718,
   "id": "ca9e9f44-652f-4d13-84fd-7663497a8a9f",
   "metadata": {},
   "outputs": [],
   "source": [
    "from sklearn.ensemble import RandomForestClassifier\n",
    "from sklearn.model_selection import GridSearchCV\n",
    "\n",
    "model = GradientBoostingClassifier()\n",
    "grid_search = GridSearchCV(model, param_grid, cv=3,verbose=1)\n",
    "# grid_search.fit(X_train, y_train)"
   ]
  },
  {
   "cell_type": "code",
   "execution_count": 719,
   "id": "d381a122-99a9-49ab-a068-d4cdadacd8a5",
   "metadata": {},
   "outputs": [],
   "source": [
    "# grid_search.best_params_"
   ]
  },
  {
   "cell_type": "code",
   "execution_count": 720,
   "id": "34bdc351-9ebb-428c-a77a-0c32602e6e57",
   "metadata": {},
   "outputs": [],
   "source": [
    "# pred[\"GradientBoosting\"] = m.predict(X_test)\n",
    "# models[\"GradientBoosting\"] = model\n",
    "\n",
    "# accuracy_score(y_true=y_test,y_pred=pred[\"GradientBoosting\"])"
   ]
  },
  {
   "cell_type": "markdown",
   "id": "a6cd128a-5efe-4068-9615-c0aadbd08c7a",
   "metadata": {},
   "source": [
    "# Custom Neural Network with Keras"
   ]
  },
  {
   "cell_type": "code",
   "execution_count": 1054,
   "id": "dc54637e-c316-462b-a9bf-fdb172c1d5b5",
   "metadata": {},
   "outputs": [],
   "source": [
    "import tensorflow as tf\n",
    "from tensorflow.keras.models import Sequential\n",
    "from tensorflow.keras.layers import Dense, Dropout\n",
    "model = Sequential([\n",
    "    Dense(24, input_dim = (N_FEATURES), activation = 'relu'),\n",
    "    Dense(24, activation = 'relu'),\n",
    "    Dense(24, activation = 'relu'),\n",
    "    Dense(24, activation = 'relu'),\n",
    "    Dense(24, activation = 'relu'),\n",
    "    Dense(N_BUCKETS, activation = 'sigmoid'),\n",
    "])"
   ]
  },
  {
   "cell_type": "code",
   "execution_count": 1055,
   "id": "ac22954a-505a-49c3-a547-77d21c3bdf19",
   "metadata": {},
   "outputs": [],
   "source": [
    "def convert_label(n):\n",
    "    global N_BUCKETS\n",
    "    res = np.zeros(N_BUCKETS)\n",
    "    res[n] = 1\n",
    "    return res\n",
    "y_train_ml = np.array([convert_label(i) for i in y_train])\n",
    "y_test_ml = np.array([convert_label(i) for i in y_test])"
   ]
  },
  {
   "cell_type": "code",
   "execution_count": 1056,
   "id": "d84640f0-1223-4e8d-9d44-ada70e635eb6",
   "metadata": {},
   "outputs": [
    {
     "name": "stdout",
     "output_type": "stream",
     "text": [
      "Model: \"sequential_13\"\n",
      "_________________________________________________________________\n",
      " Layer (type)                Output Shape              Param #   \n",
      "=================================================================\n",
      " dense_74 (Dense)            (None, 24)                240       \n",
      "                                                                 \n",
      " dense_75 (Dense)            (None, 24)                600       \n",
      "                                                                 \n",
      " dense_76 (Dense)            (None, 24)                600       \n",
      "                                                                 \n",
      " dense_77 (Dense)            (None, 24)                600       \n",
      "                                                                 \n",
      " dense_78 (Dense)            (None, 24)                600       \n",
      "                                                                 \n",
      " dense_79 (Dense)            (None, 5)                 125       \n",
      "                                                                 \n",
      "=================================================================\n",
      "Total params: 2,765\n",
      "Trainable params: 2,765\n",
      "Non-trainable params: 0\n",
      "_________________________________________________________________\n"
     ]
    }
   ],
   "source": [
    "model.compile(optimizer = 'adam', loss = 'binary_crossentropy', metrics = ['accuracy'])\n",
    "model.summary()"
   ]
  },
  {
   "cell_type": "code",
   "execution_count": 1057,
   "id": "32c02625-79b5-4dbc-b591-cb5ddb4cbd32",
   "metadata": {
    "scrolled": true
   },
   "outputs": [
    {
     "name": "stdout",
     "output_type": "stream",
     "text": [
      "Epoch 1/150\n",
      "12/12 [==============================] - 0s 666us/step - loss: 11980.8555 - accuracy: 0.1873\n",
      "Epoch 2/150\n",
      "12/12 [==============================] - 0s 704us/step - loss: 3814.7957 - accuracy: 0.2645\n",
      "Epoch 3/150\n",
      "12/12 [==============================] - 0s 641us/step - loss: 1080.0369 - accuracy: 0.3157\n",
      "Epoch 4/150\n",
      "12/12 [==============================] - 0s 695us/step - loss: 447.3986 - accuracy: 0.3174\n",
      "Epoch 5/150\n",
      "12/12 [==============================] - 0s 756us/step - loss: 252.3257 - accuracy: 0.4042\n",
      "Epoch 6/150\n",
      "12/12 [==============================] - 0s 672us/step - loss: 307.8982 - accuracy: 0.3894\n",
      "Epoch 7/150\n",
      "12/12 [==============================] - 0s 835us/step - loss: 221.8804 - accuracy: 0.4120\n",
      "Epoch 8/150\n",
      "12/12 [==============================] - 0s 800us/step - loss: 237.0421 - accuracy: 0.4389\n",
      "Epoch 9/150\n",
      "12/12 [==============================] - 0s 770us/step - loss: 223.6707 - accuracy: 0.4094\n",
      "Epoch 10/150\n",
      "12/12 [==============================] - 0s 769us/step - loss: 224.2818 - accuracy: 0.4059\n",
      "Epoch 11/150\n",
      "12/12 [==============================] - 0s 784us/step - loss: 185.0187 - accuracy: 0.4206\n",
      "Epoch 12/150\n",
      "12/12 [==============================] - 0s 762us/step - loss: 257.9051 - accuracy: 0.4310\n",
      "Epoch 13/150\n",
      "12/12 [==============================] - 0s 692us/step - loss: 240.3548 - accuracy: 0.3773\n",
      "Epoch 14/150\n",
      "12/12 [==============================] - 0s 731us/step - loss: 215.8257 - accuracy: 0.4302\n",
      "Epoch 15/150\n",
      "12/12 [==============================] - 0s 746us/step - loss: 250.3124 - accuracy: 0.4068\n",
      "Epoch 16/150\n",
      "12/12 [==============================] - 0s 680us/step - loss: 196.0113 - accuracy: 0.4068\n",
      "Epoch 17/150\n",
      "12/12 [==============================] - 0s 783us/step - loss: 187.2603 - accuracy: 0.3755\n",
      "Epoch 18/150\n",
      "12/12 [==============================] - 0s 756us/step - loss: 175.7272 - accuracy: 0.3981\n",
      "Epoch 19/150\n",
      "12/12 [==============================] - 0s 798us/step - loss: 151.7036 - accuracy: 0.4206\n",
      "Epoch 20/150\n",
      "12/12 [==============================] - 0s 786us/step - loss: 178.8204 - accuracy: 0.4085\n",
      "Epoch 21/150\n",
      "12/12 [==============================] - 0s 774us/step - loss: 206.9764 - accuracy: 0.4146\n",
      "Epoch 22/150\n",
      "12/12 [==============================] - 0s 713us/step - loss: 183.3838 - accuracy: 0.4215\n",
      "Epoch 23/150\n",
      "12/12 [==============================] - 0s 768us/step - loss: 179.2397 - accuracy: 0.3903\n",
      "Epoch 24/150\n",
      "12/12 [==============================] - 0s 761us/step - loss: 213.1637 - accuracy: 0.3894\n",
      "Epoch 25/150\n",
      "12/12 [==============================] - 0s 729us/step - loss: 186.8539 - accuracy: 0.3998\n",
      "Epoch 26/150\n",
      "12/12 [==============================] - 0s 742us/step - loss: 208.5530 - accuracy: 0.4085\n",
      "Epoch 27/150\n",
      "12/12 [==============================] - 0s 777us/step - loss: 226.2012 - accuracy: 0.3738\n",
      "Epoch 28/150\n",
      "12/12 [==============================] - 0s 723us/step - loss: 210.8624 - accuracy: 0.4016\n",
      "Epoch 29/150\n",
      "12/12 [==============================] - 0s 764us/step - loss: 148.4198 - accuracy: 0.4224\n",
      "Epoch 30/150\n",
      "12/12 [==============================] - 0s 719us/step - loss: 123.5605 - accuracy: 0.4328\n",
      "Epoch 31/150\n",
      "12/12 [==============================] - 0s 732us/step - loss: 176.4103 - accuracy: 0.4241\n",
      "Epoch 32/150\n",
      "12/12 [==============================] - 0s 788us/step - loss: 163.6030 - accuracy: 0.3938\n",
      "Epoch 33/150\n",
      "12/12 [==============================] - 0s 727us/step - loss: 229.6192 - accuracy: 0.3929\n",
      "Epoch 34/150\n",
      "12/12 [==============================] - 0s 849us/step - loss: 296.5104 - accuracy: 0.3964\n",
      "Epoch 35/150\n",
      "12/12 [==============================] - 0s 713us/step - loss: 233.4207 - accuracy: 0.3729\n",
      "Epoch 36/150\n",
      "12/12 [==============================] - 0s 758us/step - loss: 246.5929 - accuracy: 0.3729\n",
      "Epoch 37/150\n",
      "12/12 [==============================] - 0s 721us/step - loss: 242.8652 - accuracy: 0.4076\n",
      "Epoch 38/150\n",
      "12/12 [==============================] - 0s 748us/step - loss: 216.3686 - accuracy: 0.3504\n",
      "Epoch 39/150\n",
      "12/12 [==============================] - 0s 723us/step - loss: 162.4917 - accuracy: 0.4189\n",
      "Epoch 40/150\n",
      "12/12 [==============================] - 0s 713us/step - loss: 132.2431 - accuracy: 0.4380\n",
      "Epoch 41/150\n",
      "12/12 [==============================] - 0s 804us/step - loss: 136.1891 - accuracy: 0.4545\n",
      "Epoch 42/150\n",
      "12/12 [==============================] - 0s 707us/step - loss: 124.1132 - accuracy: 0.4406\n",
      "Epoch 43/150\n",
      "12/12 [==============================] - 0s 713us/step - loss: 127.2343 - accuracy: 0.4293\n",
      "Epoch 44/150\n",
      "12/12 [==============================] - 0s 765us/step - loss: 110.7256 - accuracy: 0.4666\n",
      "Epoch 45/150\n",
      "12/12 [==============================] - 0s 697us/step - loss: 186.1696 - accuracy: 0.3426\n",
      "Epoch 46/150\n",
      "12/12 [==============================] - 0s 746us/step - loss: 135.9941 - accuracy: 0.4180\n",
      "Epoch 47/150\n",
      "12/12 [==============================] - 0s 677us/step - loss: 127.4072 - accuracy: 0.4024\n",
      "Epoch 48/150\n",
      "12/12 [==============================] - 0s 692us/step - loss: 203.1001 - accuracy: 0.3920\n",
      "Epoch 49/150\n",
      "12/12 [==============================] - 0s 720us/step - loss: 196.5302 - accuracy: 0.4094\n",
      "Epoch 50/150\n",
      "12/12 [==============================] - 0s 741us/step - loss: 112.0256 - accuracy: 0.4510\n",
      "Epoch 51/150\n",
      "12/12 [==============================] - 0s 764us/step - loss: 107.3226 - accuracy: 0.4389\n",
      "Epoch 52/150\n",
      "12/12 [==============================] - 0s 777us/step - loss: 112.4839 - accuracy: 0.4683\n",
      "Epoch 53/150\n",
      "12/12 [==============================] - 0s 765us/step - loss: 118.9642 - accuracy: 0.4137\n",
      "Epoch 54/150\n",
      "12/12 [==============================] - 0s 750us/step - loss: 146.7999 - accuracy: 0.3842\n",
      "Epoch 55/150\n",
      "12/12 [==============================] - 0s 776us/step - loss: 102.7353 - accuracy: 0.4579\n",
      "Epoch 56/150\n",
      "12/12 [==============================] - 0s 785us/step - loss: 123.0490 - accuracy: 0.4406\n",
      "Epoch 57/150\n",
      "12/12 [==============================] - 0s 774us/step - loss: 208.3888 - accuracy: 0.3912\n",
      "Epoch 58/150\n",
      "12/12 [==============================] - 0s 855us/step - loss: 119.3110 - accuracy: 0.4536\n",
      "Epoch 59/150\n",
      "12/12 [==============================] - 0s 798us/step - loss: 155.5579 - accuracy: 0.3929\n",
      "Epoch 60/150\n",
      "12/12 [==============================] - 0s 774us/step - loss: 124.8130 - accuracy: 0.4345\n",
      "Epoch 61/150\n",
      "12/12 [==============================] - 0s 775us/step - loss: 115.2980 - accuracy: 0.4553\n",
      "Epoch 62/150\n",
      "12/12 [==============================] - 0s 859us/step - loss: 140.0991 - accuracy: 0.4319\n",
      "Epoch 63/150\n",
      "12/12 [==============================] - 0s 779us/step - loss: 203.9940 - accuracy: 0.3244\n",
      "Epoch 64/150\n",
      "12/12 [==============================] - 0s 798us/step - loss: 200.4907 - accuracy: 0.3695\n",
      "Epoch 65/150\n",
      "12/12 [==============================] - 0s 857us/step - loss: 198.3681 - accuracy: 0.3287\n",
      "Epoch 66/150\n",
      "12/12 [==============================] - 0s 811us/step - loss: 140.4583 - accuracy: 0.4068\n",
      "Epoch 67/150\n",
      "12/12 [==============================] - 0s 747us/step - loss: 136.9838 - accuracy: 0.4250\n",
      "Epoch 68/150\n",
      "12/12 [==============================] - 0s 843us/step - loss: 151.2839 - accuracy: 0.4016\n",
      "Epoch 69/150\n",
      "12/12 [==============================] - 0s 781us/step - loss: 130.2340 - accuracy: 0.4562\n",
      "Epoch 70/150\n",
      "12/12 [==============================] - 0s 781us/step - loss: 163.1425 - accuracy: 0.4068\n",
      "Epoch 71/150\n",
      "12/12 [==============================] - 0s 788us/step - loss: 126.4739 - accuracy: 0.4102\n",
      "Epoch 72/150\n",
      "12/12 [==============================] - 0s 695us/step - loss: 138.4991 - accuracy: 0.3573\n",
      "Epoch 73/150\n",
      "12/12 [==============================] - 0s 748us/step - loss: 107.6196 - accuracy: 0.4380\n",
      "Epoch 74/150\n",
      "12/12 [==============================] - 0s 857us/step - loss: 101.2184 - accuracy: 0.4293\n",
      "Epoch 75/150\n",
      "12/12 [==============================] - 0s 861us/step - loss: 135.2215 - accuracy: 0.3972\n",
      "Epoch 76/150\n",
      "12/12 [==============================] - 0s 811us/step - loss: 100.5085 - accuracy: 0.4536\n",
      "Epoch 77/150\n",
      "12/12 [==============================] - 0s 782us/step - loss: 98.0193 - accuracy: 0.4709\n",
      "Epoch 78/150\n",
      "12/12 [==============================] - 0s 921us/step - loss: 82.2486 - accuracy: 0.4709\n",
      "Epoch 79/150\n",
      "12/12 [==============================] - 0s 900us/step - loss: 137.1006 - accuracy: 0.3833\n",
      "Epoch 80/150\n",
      "12/12 [==============================] - 0s 796us/step - loss: 199.8523 - accuracy: 0.2984\n",
      "Epoch 81/150\n",
      "12/12 [==============================] - 0s 720us/step - loss: 160.5600 - accuracy: 0.4467\n",
      "Epoch 82/150\n",
      "12/12 [==============================] - 0s 826us/step - loss: 89.5080 - accuracy: 0.4562\n",
      "Epoch 83/150\n",
      "12/12 [==============================] - 0s 837us/step - loss: 117.2921 - accuracy: 0.4180\n",
      "Epoch 84/150\n",
      "12/12 [==============================] - 0s 785us/step - loss: 209.6120 - accuracy: 0.3218\n",
      "Epoch 85/150\n",
      "12/12 [==============================] - 0s 837us/step - loss: 178.3907 - accuracy: 0.3608\n",
      "Epoch 86/150\n",
      "12/12 [==============================] - 0s 856us/step - loss: 134.4582 - accuracy: 0.4822\n",
      "Epoch 87/150\n",
      "12/12 [==============================] - 0s 820us/step - loss: 103.3662 - accuracy: 0.4501\n",
      "Epoch 88/150\n",
      "12/12 [==============================] - 0s 789us/step - loss: 76.4209 - accuracy: 0.4284\n",
      "Epoch 89/150\n",
      "12/12 [==============================] - 0s 813us/step - loss: 100.2756 - accuracy: 0.4406\n",
      "Epoch 90/150\n",
      "12/12 [==============================] - 0s 828us/step - loss: 80.1146 - accuracy: 0.4510\n",
      "Epoch 91/150\n",
      "12/12 [==============================] - 0s 791us/step - loss: 117.6961 - accuracy: 0.4467\n",
      "Epoch 92/150\n",
      "12/12 [==============================] - 0s 911us/step - loss: 165.6281 - accuracy: 0.3382\n",
      "Epoch 93/150\n",
      "12/12 [==============================] - 0s 829us/step - loss: 118.6156 - accuracy: 0.4154\n",
      "Epoch 94/150\n",
      "12/12 [==============================] - 0s 800us/step - loss: 98.0072 - accuracy: 0.4441\n",
      "Epoch 95/150\n",
      "12/12 [==============================] - 0s 814us/step - loss: 94.2922 - accuracy: 0.4111\n",
      "Epoch 96/150\n",
      "12/12 [==============================] - 0s 738us/step - loss: 89.7232 - accuracy: 0.4250\n",
      "Epoch 97/150\n",
      "12/12 [==============================] - 0s 806us/step - loss: 190.4340 - accuracy: 0.3539\n",
      "Epoch 98/150\n",
      "12/12 [==============================] - 0s 692us/step - loss: 152.8320 - accuracy: 0.4007\n",
      "Epoch 99/150\n",
      "12/12 [==============================] - 0s 822us/step - loss: 118.1181 - accuracy: 0.4293\n",
      "Epoch 100/150\n",
      "12/12 [==============================] - 0s 807us/step - loss: 93.1092 - accuracy: 0.4232\n",
      "Epoch 101/150\n",
      "12/12 [==============================] - 0s 743us/step - loss: 103.1909 - accuracy: 0.4363\n",
      "Epoch 102/150\n",
      "12/12 [==============================] - 0s 805us/step - loss: 94.1574 - accuracy: 0.4250\n",
      "Epoch 103/150\n",
      "12/12 [==============================] - 0s 882us/step - loss: 89.5854 - accuracy: 0.4467\n",
      "Epoch 104/150\n",
      "12/12 [==============================] - 0s 1ms/step - loss: 99.2056 - accuracy: 0.4571\n",
      "Epoch 105/150\n",
      "12/12 [==============================] - 0s 794us/step - loss: 199.7050 - accuracy: 0.3287\n",
      "Epoch 106/150\n",
      "12/12 [==============================] - 0s 675us/step - loss: 131.3941 - accuracy: 0.4571\n",
      "Epoch 107/150\n",
      "12/12 [==============================] - 0s 776us/step - loss: 90.2259 - accuracy: 0.4380\n",
      "Epoch 108/150\n",
      "12/12 [==============================] - 0s 796us/step - loss: 103.6184 - accuracy: 0.4493\n",
      "Epoch 109/150\n",
      "12/12 [==============================] - 0s 688us/step - loss: 91.9015 - accuracy: 0.4814\n",
      "Epoch 110/150\n",
      "12/12 [==============================] - 0s 810us/step - loss: 90.6782 - accuracy: 0.3903\n",
      "Epoch 111/150\n",
      "12/12 [==============================] - 0s 704us/step - loss: 110.4449 - accuracy: 0.3955\n",
      "Epoch 112/150\n",
      "12/12 [==============================] - 0s 701us/step - loss: 123.3917 - accuracy: 0.3755\n",
      "Epoch 113/150\n",
      "12/12 [==============================] - 0s 693us/step - loss: 94.7252 - accuracy: 0.4258\n",
      "Epoch 114/150\n",
      "12/12 [==============================] - 0s 784us/step - loss: 77.2777 - accuracy: 0.4102\n",
      "Epoch 115/150\n",
      "12/12 [==============================] - 0s 697us/step - loss: 75.0266 - accuracy: 0.4683\n",
      "Epoch 116/150\n",
      "12/12 [==============================] - 0s 711us/step - loss: 73.0814 - accuracy: 0.4328\n",
      "Epoch 117/150\n",
      "12/12 [==============================] - 0s 709us/step - loss: 70.9804 - accuracy: 0.4649\n",
      "Epoch 118/150\n",
      "12/12 [==============================] - 0s 710us/step - loss: 74.8911 - accuracy: 0.4796\n",
      "Epoch 119/150\n",
      "12/12 [==============================] - 0s 715us/step - loss: 96.0009 - accuracy: 0.4310\n",
      "Epoch 120/150\n",
      "12/12 [==============================] - 0s 760us/step - loss: 126.8197 - accuracy: 0.3712\n",
      "Epoch 121/150\n",
      "12/12 [==============================] - 0s 740us/step - loss: 102.5717 - accuracy: 0.4215\n",
      "Epoch 122/150\n",
      "12/12 [==============================] - 0s 736us/step - loss: 92.8243 - accuracy: 0.4666\n",
      "Epoch 123/150\n",
      "12/12 [==============================] - 0s 691us/step - loss: 85.0735 - accuracy: 0.4484\n",
      "Epoch 124/150\n",
      "12/12 [==============================] - 0s 720us/step - loss: 82.1639 - accuracy: 0.4623\n",
      "Epoch 125/150\n",
      "12/12 [==============================] - 0s 696us/step - loss: 108.7215 - accuracy: 0.4007\n",
      "Epoch 126/150\n",
      "12/12 [==============================] - 0s 716us/step - loss: 93.8040 - accuracy: 0.4024\n",
      "Epoch 127/150\n",
      "12/12 [==============================] - 0s 638us/step - loss: 125.4336 - accuracy: 0.3599\n",
      "Epoch 128/150\n",
      "12/12 [==============================] - 0s 693us/step - loss: 157.8049 - accuracy: 0.3816\n",
      "Epoch 129/150\n",
      "12/12 [==============================] - 0s 695us/step - loss: 106.4655 - accuracy: 0.4415\n",
      "Epoch 130/150\n",
      "12/12 [==============================] - 0s 726us/step - loss: 93.1972 - accuracy: 0.4605\n",
      "Epoch 131/150\n",
      "12/12 [==============================] - 0s 720us/step - loss: 148.0255 - accuracy: 0.4180\n",
      "Epoch 132/150\n",
      "12/12 [==============================] - 0s 717us/step - loss: 115.4168 - accuracy: 0.3790\n",
      "Epoch 133/150\n",
      "12/12 [==============================] - 0s 708us/step - loss: 88.6969 - accuracy: 0.4397\n",
      "Epoch 134/150\n",
      "12/12 [==============================] - 0s 676us/step - loss: 69.0750 - accuracy: 0.5134\n",
      "Epoch 135/150\n",
      "12/12 [==============================] - 0s 699us/step - loss: 66.1428 - accuracy: 0.5100\n",
      "Epoch 136/150\n",
      "12/12 [==============================] - 0s 729us/step - loss: 51.2569 - accuracy: 0.4805\n",
      "Epoch 137/150\n",
      "12/12 [==============================] - 0s 730us/step - loss: 98.0215 - accuracy: 0.3990\n",
      "Epoch 138/150\n",
      "12/12 [==============================] - 0s 717us/step - loss: 81.6815 - accuracy: 0.4623\n",
      "Epoch 139/150\n",
      "12/12 [==============================] - 0s 722us/step - loss: 69.7478 - accuracy: 0.4874\n",
      "Epoch 140/150\n",
      "12/12 [==============================] - 0s 695us/step - loss: 84.0539 - accuracy: 0.4441\n",
      "Epoch 141/150\n",
      "12/12 [==============================] - 0s 669us/step - loss: 83.2898 - accuracy: 0.4458\n",
      "Epoch 142/150\n",
      "12/12 [==============================] - 0s 684us/step - loss: 116.1919 - accuracy: 0.4154\n",
      "Epoch 143/150\n",
      "12/12 [==============================] - 0s 710us/step - loss: 87.5462 - accuracy: 0.4718\n",
      "Epoch 144/150\n",
      "12/12 [==============================] - 0s 699us/step - loss: 134.5092 - accuracy: 0.3677\n",
      "Epoch 145/150\n",
      "12/12 [==============================] - 0s 683us/step - loss: 131.4028 - accuracy: 0.3851\n",
      "Epoch 146/150\n",
      "12/12 [==============================] - 0s 782us/step - loss: 104.0286 - accuracy: 0.4302\n",
      "Epoch 147/150\n",
      "12/12 [==============================] - 0s 743us/step - loss: 97.0639 - accuracy: 0.4675\n",
      "Epoch 148/150\n",
      "12/12 [==============================] - 0s 752us/step - loss: 96.0685 - accuracy: 0.4241\n",
      "Epoch 149/150\n",
      "12/12 [==============================] - 0s 820us/step - loss: 98.0233 - accuracy: 0.4484\n",
      "Epoch 150/150\n",
      "12/12 [==============================] - 0s 750us/step - loss: 87.1106 - accuracy: 0.4614\n"
     ]
    }
   ],
   "source": [
    "history = model.fit(X_train, y_train_ml, epochs=150, batch_size=100, verbose = 1)"
   ]
  },
  {
   "cell_type": "markdown",
   "id": "f7b1d34e-6162-4348-90a7-24967603c756",
   "metadata": {},
   "source": [
    "are we overfitting? Lets see"
   ]
  },
  {
   "cell_type": "code",
   "execution_count": 1058,
   "id": "5c3ad1a7-3b92-4e9f-a82d-dcf5c6716dd3",
   "metadata": {},
   "outputs": [
    {
     "name": "stdout",
     "output_type": "stream",
     "text": [
      "37/37 [==============================] - 0s 423us/step - loss: 63.7309 - accuracy: 0.5108\n",
      "accuracy : 51.08 %\n"
     ]
    }
   ],
   "source": [
    "scores = model.evaluate(X_train, y_train_ml)\n",
    "print(f'{model.metrics_names[1]} : {round(scores[1]*100, 2)} %')"
   ]
  },
  {
   "cell_type": "code",
   "execution_count": 1059,
   "id": "0a03b685-6442-4190-8f01-59804cc1eb47",
   "metadata": {},
   "outputs": [
    {
     "name": "stdout",
     "output_type": "stream",
     "text": [
      "10/10 [==============================] - 0s 591us/step - loss: 58.1406 - accuracy: 0.5363\n",
      "accuracy : 53.63 %\n"
     ]
    }
   ],
   "source": [
    "scores = model.evaluate(X_test, y_test_ml)\n",
    "print(f'{model.metrics_names[1]} : {round(scores[1]*100, 2)} %')"
   ]
  },
  {
   "cell_type": "code",
   "execution_count": 1063,
   "id": "6f733c7a-6a5f-4a29-875f-7ab181278abf",
   "metadata": {},
   "outputs": [
    {
     "name": "stdout",
     "output_type": "stream",
     "text": [
      "10/10 [==============================] - 0s 665us/step\n"
     ]
    },
    {
     "data": {
      "text/plain": [
       "0.3217993079584775"
      ]
     },
     "execution_count": 1063,
     "metadata": {},
     "output_type": "execute_result"
    }
   ],
   "source": [
    "prediction_raw = model.predict(X_test)\n",
    "pred[\"Keras\"] = []\n",
    "for i in prediction_raw:\n",
    "    pred[\"Keras\"].append(np.argmax(i))\n",
    "\n",
    "accuracy_score(pred[\"Keras\"], y_test)"
   ]
  },
  {
   "cell_type": "code",
   "execution_count": 1069,
   "id": "d23912c1-1bc8-45ee-9986-8a4be9f0b7b7",
   "metadata": {},
   "outputs": [
    {
     "data": {
      "text/plain": [
       "array([[0.00, 1.00, 0.00, 0.00, 0.00],\n",
       "       [0.00, 0.00, 0.00, 0.00, 0.00],\n",
       "       [0.00, 1.00, 0.00, 0.00, 0.00],\n",
       "       ...,\n",
       "       [0.00, 0.00, 0.00, 0.00, 0.00],\n",
       "       [0.00, 0.00, 0.00, 0.00, 0.00],\n",
       "       [0.00, 0.00, 0.00, 0.00, 0.00]], dtype=float32)"
      ]
     },
     "execution_count": 1069,
     "metadata": {},
     "output_type": "execute_result"
    }
   ],
   "source": [
    "prediction_raw"
   ]
  },
  {
   "cell_type": "code",
   "execution_count": 1027,
   "id": "3054b567-daa5-416d-820e-19f64a671f2a",
   "metadata": {},
   "outputs": [],
   "source": [
    "models[\"Keras\"] = model"
   ]
  },
  {
   "cell_type": "markdown",
   "id": "cc71dc9a-1a1a-4063-996b-44c32a06618c",
   "metadata": {},
   "source": [
    "### Plot the accuracy with time"
   ]
  },
  {
   "cell_type": "code",
   "execution_count": 1028,
   "id": "b6295fed-7fde-4e87-befe-cc09e797d59b",
   "metadata": {},
   "outputs": [
    {
     "data": {
      "image/png": "[encoded data removed]",
      "text/plain": [
       "<Figure size 640x480 with 1 Axes>"
      ]
     },
     "metadata": {},
     "output_type": "display_data"
    },
    {
     "data": {
      "image/png": "[encoded data removed]",
      "text/plain": [
       "<Figure size 640x480 with 1 Axes>"
      ]
     },
     "metadata": {},
     "output_type": "display_data"
    }
   ],
   "source": [
    "# Plotting loss\n",
    "plt.plot(history.history['loss'])\n",
    "plt.title('Binary Cross Entropy Loss on Train dataset')\n",
    "plt.ylabel('loss')\n",
    "plt.xlabel('epoch')\n",
    "plt.show()\n",
    "\n",
    "# Plotting accuracy metric\n",
    "plt.plot(history.history['accuracy'])\n",
    "plt.title('Accuracy on the train dataset')\n",
    "plt.ylabel('accuracy')\n",
    "plt.xlabel('epoch')\n",
    "plt.show()"
   ]
  },
  {
   "cell_type": "markdown",
   "id": "25022093-33fa-41f7-87c5-bb550f40e1cc",
   "metadata": {},
   "source": [
    "Neural net is still work in progress"
   ]
  },
  {
   "cell_type": "markdown",
   "id": "6bc055f0-71e6-4946-a6a3-f9204213bcee",
   "metadata": {},
   "source": [
    "# Compare Models"
   ]
  },
  {
   "cell_type": "markdown",
   "id": "dc7d0662-1ce1-4e19-af05-a6862a3d103d",
   "metadata": {},
   "source": [
    "Put the accuracy and losses of each model against each other and sort so the best models are on top"
   ]
  },
  {
   "cell_type": "code",
   "execution_count": 1029,
   "id": "a19fe9be-d637-4ea3-bb33-8cb1c93fb51b",
   "metadata": {},
   "outputs": [],
   "source": [
    "# compare = pd.DataFrame(pred)\n",
    "compare = pd.DataFrame({\n",
    "    \"name\":pred.keys(), \n",
    "    \"accuracy\":np.nan,\n",
    "    \"mse\":np.nan,\n",
    "})\n",
    "compare = compare.set_index(\"name\")"
   ]
  },
  {
   "cell_type": "code",
   "execution_count": 1030,
   "id": "96016399-4fb4-4690-9b2f-6bf7e5e3a03e",
   "metadata": {},
   "outputs": [],
   "source": [
    "compare[\"accuracy\"] = compare.apply(lambda row: accuracy_score(y_pred=pred[row.name],y_true=y_test)*100,axis=1)\n",
    "compare[\"mse\"] = compare.apply(lambda row: mean_squared_error(y_pred=pred[row.name],y_true=y_test),axis=1)\n",
    "compare[\"mean absolute\"] = compare.apply(lambda row: mean_absolute_error(y_pred=pred[row.name],y_true=y_test),axis=1)"
   ]
  },
  {
   "cell_type": "markdown",
   "id": "ac547b06-2e0e-430f-b283-e960f23576ea",
   "metadata": {},
   "source": [
    "### So how do the models stack up to each other?"
   ]
  },
  {
   "cell_type": "code",
   "execution_count": 1031,
   "id": "6a052bb7-634c-4cb9-9e99-aefc5832024b",
   "metadata": {},
   "outputs": [
    {
     "data": {
      "text/html": [
       "<div>\n",
       "<style scoped>\n",
       "    .dataframe tbody tr th:only-of-type {\n",
       "        vertical-align: middle;\n",
       "    }\n",
       "\n",
       "    .dataframe tbody tr th {\n",
       "        vertical-align: top;\n",
       "    }\n",
       "\n",
       "    .dataframe thead th {\n",
       "        text-align: right;\n",
       "    }\n",
       "</style>\n",
       "<table border=\"1\" class=\"dataframe\">\n",
       "  <thead>\n",
       "    <tr style=\"text-align: right;\">\n",
       "      <th></th>\n",
       "      <th>accuracy</th>\n",
       "      <th>mse</th>\n",
       "      <th>mean absolute</th>\n",
       "    </tr>\n",
       "    <tr>\n",
       "      <th>name</th>\n",
       "      <th></th>\n",
       "      <th></th>\n",
       "      <th></th>\n",
       "    </tr>\n",
       "  </thead>\n",
       "  <tbody>\n",
       "    <tr>\n",
       "      <th>Voting</th>\n",
       "      <td>65.397924</td>\n",
       "      <td>0.456747</td>\n",
       "      <td>0.380623</td>\n",
       "    </tr>\n",
       "    <tr>\n",
       "      <th>GPC</th>\n",
       "      <td>65.397924</td>\n",
       "      <td>0.456747</td>\n",
       "      <td>0.380623</td>\n",
       "    </tr>\n",
       "    <tr>\n",
       "      <th>SoftVoting</th>\n",
       "      <td>65.051903</td>\n",
       "      <td>0.449827</td>\n",
       "      <td>0.380623</td>\n",
       "    </tr>\n",
       "    <tr>\n",
       "      <th>GradientBoosting</th>\n",
       "      <td>65.051903</td>\n",
       "      <td>0.449827</td>\n",
       "      <td>0.380623</td>\n",
       "    </tr>\n",
       "    <tr>\n",
       "      <th>LGBM</th>\n",
       "      <td>65.051903</td>\n",
       "      <td>0.470588</td>\n",
       "      <td>0.387543</td>\n",
       "    </tr>\n",
       "    <tr>\n",
       "      <th>Kmeans</th>\n",
       "      <td>63.667820</td>\n",
       "      <td>0.474048</td>\n",
       "      <td>0.397924</td>\n",
       "    </tr>\n",
       "    <tr>\n",
       "      <th>keras</th>\n",
       "      <td>63.667820</td>\n",
       "      <td>0.474048</td>\n",
       "      <td>0.397924</td>\n",
       "    </tr>\n",
       "    <tr>\n",
       "      <th>RandomForest</th>\n",
       "      <td>63.667820</td>\n",
       "      <td>0.474048</td>\n",
       "      <td>0.397924</td>\n",
       "    </tr>\n",
       "    <tr>\n",
       "      <th>Extra tree</th>\n",
       "      <td>60.553633</td>\n",
       "      <td>0.605536</td>\n",
       "      <td>0.460208</td>\n",
       "    </tr>\n",
       "    <tr>\n",
       "      <th>kNN</th>\n",
       "      <td>60.207612</td>\n",
       "      <td>0.539792</td>\n",
       "      <td>0.442907</td>\n",
       "    </tr>\n",
       "    <tr>\n",
       "      <th>XGB</th>\n",
       "      <td>59.515571</td>\n",
       "      <td>0.612457</td>\n",
       "      <td>0.467128</td>\n",
       "    </tr>\n",
       "    <tr>\n",
       "      <th>DecisionTree</th>\n",
       "      <td>59.515571</td>\n",
       "      <td>0.650519</td>\n",
       "      <td>0.477509</td>\n",
       "    </tr>\n",
       "    <tr>\n",
       "      <th>GaussianNB</th>\n",
       "      <td>56.055363</td>\n",
       "      <td>0.626298</td>\n",
       "      <td>0.501730</td>\n",
       "    </tr>\n",
       "    <tr>\n",
       "      <th>SVM</th>\n",
       "      <td>52.249135</td>\n",
       "      <td>0.705882</td>\n",
       "      <td>0.553633</td>\n",
       "    </tr>\n",
       "    <tr>\n",
       "      <th>LogisticRegression</th>\n",
       "      <td>45.328720</td>\n",
       "      <td>0.913495</td>\n",
       "      <td>0.664360</td>\n",
       "    </tr>\n",
       "    <tr>\n",
       "      <th>SGD</th>\n",
       "      <td>18.685121</td>\n",
       "      <td>4.401384</td>\n",
       "      <td>1.757785</td>\n",
       "    </tr>\n",
       "    <tr>\n",
       "      <th>Keras</th>\n",
       "      <td>16.955017</td>\n",
       "      <td>5.996540</td>\n",
       "      <td>2.017301</td>\n",
       "    </tr>\n",
       "    <tr>\n",
       "      <th>MLP</th>\n",
       "      <td>16.262976</td>\n",
       "      <td>5.089965</td>\n",
       "      <td>1.906574</td>\n",
       "    </tr>\n",
       "  </tbody>\n",
       "</table>\n",
       "</div>"
      ],
      "text/plain": [
       "                     accuracy       mse  mean absolute\n",
       "name                                                  \n",
       "Voting              65.397924  0.456747       0.380623\n",
       "GPC                 65.397924  0.456747       0.380623\n",
       "SoftVoting          65.051903  0.449827       0.380623\n",
       "GradientBoosting    65.051903  0.449827       0.380623\n",
       "LGBM                65.051903  0.470588       0.387543\n",
       "Kmeans              63.667820  0.474048       0.397924\n",
       "keras               63.667820  0.474048       0.397924\n",
       "RandomForest        63.667820  0.474048       0.397924\n",
       "Extra tree          60.553633  0.605536       0.460208\n",
       "kNN                 60.207612  0.539792       0.442907\n",
       "XGB                 59.515571  0.612457       0.467128\n",
       "DecisionTree        59.515571  0.650519       0.477509\n",
       "GaussianNB          56.055363  0.626298       0.501730\n",
       "SVM                 52.249135  0.705882       0.553633\n",
       "LogisticRegression  45.328720  0.913495       0.664360\n",
       "SGD                 18.685121  4.401384       1.757785\n",
       "Keras               16.955017  5.996540       2.017301\n",
       "MLP                 16.262976  5.089965       1.906574"
      ]
     },
     "execution_count": 1031,
     "metadata": {},
     "output_type": "execute_result"
    }
   ],
   "source": [
    "compare.sort_values(by='accuracy',ascending=False)"
   ]
  },
  {
   "cell_type": "markdown",
   "id": "72f48efe-47dd-4f87-96a3-9277a00febc6",
   "metadata": {},
   "source": [
    "so Kmeans is pretty bad, Random Forest, Voting Classifier, GPC, LGBM, and Gradient Boosting are some that appear to be the best\n",
    "\n",
    "the voting ensemble also does well, just about matching the performance of any one other model. I hoped it would exceed the individuals but it has not yet"
   ]
  },
  {
   "cell_type": "code",
   "execution_count": 1004,
   "id": "5af7e541-8d11-4dc3-a90e-2652af184a0e",
   "metadata": {},
   "outputs": [
    {
     "name": "stdout",
     "output_type": "stream",
     "text": [
      "26 minutes   \t0\n",
      "44 minutes   \t1\n",
      "an hour   \t2\n",
      "3 hours   \t3\n",
      "7 hours   \t4\n"
     ]
    }
   ],
   "source": [
    "print_categories()"
   ]
  },
  {
   "cell_type": "markdown",
   "id": "a8de0e09-ddb3-4088-a756-5dfa91de0031",
   "metadata": {},
   "source": [
    "For reference, these are the groupings that were decided at the top of the notebook, It is easy to change these out for more user friendly intervals or add more or less (keeping in mind more categories means worse accuracy). I chose these weird intervals because it splits up the training data evenly so there is the same amount of samples in each bucket.\n",
    "\n",
    "\"26 minutes\" means that any run between 0 sec and 26 min falls into there, and then 44 minutes would be any run between 26 and 44 min. Since removing outliers, the highest runtime in the dataset is 7 hours"
   ]
  },
  {
   "cell_type": "markdown",
   "id": "73bc20dd-17a0-4a23-8abc-37c65ae3297f",
   "metadata": {},
   "source": [
    "# Save Models"
   ]
  },
  {
   "cell_type": "code",
   "execution_count": 1005,
   "id": "3a1c5da3-8698-4245-a864-444b3daec5f9",
   "metadata": {},
   "outputs": [],
   "source": [
    "import pickle\n",
    "m = {\n",
    "    'GradientBoosting': models['GradientBoosting'],\n",
    "    'RandomForest': models['RandomForest'],\n",
    "    'MLP': models['MLP'],\n",
    "    'Voting':models['Voting']\n",
    "}\n",
    "\n",
    "with open('models.pkl', 'wb') as file:\n",
    "    pickle.dump(m, file)"
   ]
  },
  {
   "cell_type": "markdown",
   "id": "40274237-05f2-408a-b3b7-5da2159c9abc",
   "metadata": {},
   "source": [
    "This is useful for putting the model into a place to use for inerencing on new data"
   ]
  }
 ],
 "metadata": {
  "kernelspec": {
   "display_name": "Python 3 (ipykernel)",
   "language": "python",
   "name": "python3"
  },
  "language_info": {
   "codemirror_mode": {
    "name": "ipython",
    "version": 3
   },
   "file_extension": ".py",
   "mimetype": "text/x-python",
   "name": "python",
   "nbconvert_exporter": "python",
   "pygments_lexer": "ipython3",
   "version": "3.8.10"
  }
 },
 "nbformat": 4,
 "nbformat_minor": 5
}
