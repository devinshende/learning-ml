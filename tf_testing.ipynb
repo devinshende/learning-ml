{
 "cells": [
  {
   "cell_type": "markdown",
   "id": "879911f0-61ca-4808-b9d2-37ef70b06f71",
   "metadata": {},
   "source": [
    "# Simple Tensorflow Example\n",
    "Tensorflow wasn't working right in the other notebook, this is a place to experiment with it and get some basic neural nets going without adding the complexity of that dataset"
   ]
  },
  {
   "cell_type": "code",
   "execution_count": 11,
   "id": "ee848ec8-a5c4-473e-8020-8356e1f873ff",
   "metadata": {},
   "outputs": [],
   "source": [
    "from sklearn.model_selection import train_test_split\n",
    "from sklearn.metrics import mean_squared_error, mean_absolute_error\n",
    "\n",
    "import numpy as np\n",
    "import pandas as pd\n",
    "import tensorflow as tf"
   ]
  },
  {
   "cell_type": "code",
   "execution_count": 12,
   "id": "fafa5b1b-be3c-4988-b036-360508afc795",
   "metadata": {},
   "outputs": [
    {
     "data": {
      "text/html": [
       "<div>\n",
       "<style scoped>\n",
       "    .dataframe tbody tr th:only-of-type {\n",
       "        vertical-align: middle;\n",
       "    }\n",
       "\n",
       "    .dataframe tbody tr th {\n",
       "        vertical-align: top;\n",
       "    }\n",
       "\n",
       "    .dataframe thead th {\n",
       "        text-align: right;\n",
       "    }\n",
       "</style>\n",
       "<table border=\"1\" class=\"dataframe\">\n",
       "  <thead>\n",
       "    <tr style=\"text-align: right;\">\n",
       "      <th></th>\n",
       "      <th>a</th>\n",
       "      <th>b</th>\n",
       "      <th>c</th>\n",
       "      <th>sum</th>\n",
       "    </tr>\n",
       "  </thead>\n",
       "  <tbody>\n",
       "    <tr>\n",
       "      <th>195</th>\n",
       "      <td>479.0</td>\n",
       "      <td>22.5</td>\n",
       "      <td>123.35</td>\n",
       "      <td>624.85</td>\n",
       "    </tr>\n",
       "    <tr>\n",
       "      <th>196</th>\n",
       "      <td>479.2</td>\n",
       "      <td>22.0</td>\n",
       "      <td>123.88</td>\n",
       "      <td>625.08</td>\n",
       "    </tr>\n",
       "    <tr>\n",
       "      <th>197</th>\n",
       "      <td>479.4</td>\n",
       "      <td>21.5</td>\n",
       "      <td>124.41</td>\n",
       "      <td>625.31</td>\n",
       "    </tr>\n",
       "    <tr>\n",
       "      <th>198</th>\n",
       "      <td>479.6</td>\n",
       "      <td>21.0</td>\n",
       "      <td>124.94</td>\n",
       "      <td>625.54</td>\n",
       "    </tr>\n",
       "    <tr>\n",
       "      <th>199</th>\n",
       "      <td>479.8</td>\n",
       "      <td>20.5</td>\n",
       "      <td>125.47</td>\n",
       "      <td>625.77</td>\n",
       "    </tr>\n",
       "  </tbody>\n",
       "</table>\n",
       "</div>"
      ],
      "text/plain": [
       "         a     b       c     sum\n",
       "195  479.0  22.5  123.35  624.85\n",
       "196  479.2  22.0  123.88  625.08\n",
       "197  479.4  21.5  124.41  625.31\n",
       "198  479.6  21.0  124.94  625.54\n",
       "199  479.8  20.5  125.47  625.77"
      ]
     },
     "execution_count": 12,
     "metadata": {},
     "output_type": "execute_result"
    }
   ],
   "source": [
    "a = np.arange(440,540,0.2)\n",
    "b = np.arange(120,1,-0.5)\n",
    "c = np.arange(20,130, 0.53)\n",
    "\n",
    "data = {\n",
    "    \"a\" : a[:200],\n",
    "    \"b\" : b[:200],\n",
    "    \"c\" : c[:200],\n",
    "}\n",
    "df = pd.DataFrame(data)\n",
    "df['sum'] = df.sum(axis=1)\n",
    "df.tail()"
   ]
  },
  {
   "cell_type": "code",
   "execution_count": 13,
   "id": "96d2643b-5700-44fb-a0b6-cd2fba970c24",
   "metadata": {},
   "outputs": [],
   "source": [
    "X = np.array(df.drop(columns=[\"sum\"]))\n",
    "y = np.array(df[\"sum\"])"
   ]
  },
  {
   "cell_type": "code",
   "execution_count": 14,
   "id": "1561b9c3-fdd6-4289-b187-c9c945ed1791",
   "metadata": {},
   "outputs": [],
   "source": [
    "def print_score(pred, true):\n",
    "    print(\"Mean Squared Error:\".ljust(22,\" \"),round(mean_squared_error(true, pred),5))\n",
    "    print(\"Mean Absolute Error:\".ljust(22,\" \"), round(mean_absolute_error(true, pred),5))\n",
    "    "
   ]
  },
  {
   "cell_type": "code",
   "execution_count": 50,
   "id": "7f6d3a35-1f01-4861-915f-9bfb291dccb1",
   "metadata": {},
   "outputs": [
    {
     "name": "stdout",
     "output_type": "stream",
     "text": [
      "140 60 140 60\n"
     ]
    }
   ],
   "source": [
    "TEST_RATIO = 0.3\n",
    "\n",
    "X_train, X_test, y_train, y_test = train_test_split(X, y, test_size=TEST_RATIO,random_state=42)\n",
    "\n",
    "X_train = np.array(X_train)\n",
    "X_test = np.array(X_test)\n",
    "y_train = np.array(y_train)\n",
    "y_test = np.array(y_test)\n",
    "\n",
    "print(len(X_train), len(X_test), len(y_train), len(y_test))"
   ]
  },
  {
   "cell_type": "code",
   "execution_count": 52,
   "id": "a3898bc6-37de-40f6-9c5f-a0d57fe45ee8",
   "metadata": {},
   "outputs": [
    {
     "name": "stdout",
     "output_type": "stream",
     "text": [
      "Epoch 1/4\n",
      "5/5 [==============================] - 0s 838us/step - loss: 363409.6250\n",
      "Epoch 2/4\n",
      "5/5 [==============================] - 0s 604us/step - loss: 363403.5938\n",
      "Epoch 3/4\n",
      "5/5 [==============================] - 0s 610us/step - loss: 363397.5312\n",
      "Epoch 4/4\n",
      "5/5 [==============================] - 0s 713us/step - loss: 363391.5000\n"
     ]
    },
    {
     "data": {
      "text/plain": [
       "<keras.callbacks.History at 0xfffed80f92e0>"
      ]
     },
     "execution_count": 52,
     "metadata": {},
     "output_type": "execute_result"
    }
   ],
   "source": [
    "model = tf.keras.models.Sequential([\n",
    "    tf.keras.layers.Flatten(input_shape=(3,)),\n",
    "    tf.keras.layers.Dense(3, activation='relu'),\n",
    "    tf.keras.layers.Dense(10, activation='relu'),\n",
    "\n",
    "    tf.keras.layers.Dense(1, activation='linear')\n",
    "])\n",
    "\n",
    "model.compile(\n",
    "    optimizer=\"adam\",\n",
    "    loss=\"mse\",\n",
    ")\n",
    "model.fit(x=X_train, y=y_train, epochs=4, verbose=1)"
   ]
  },
  {
   "cell_type": "code",
   "execution_count": 53,
   "id": "037c24ac-8a99-4a86-8710-78a262022792",
   "metadata": {},
   "outputs": [
    {
     "name": "stdout",
     "output_type": "stream",
     "text": [
      "2/2 [==============================] - 0s 1ms/step\n"
     ]
    }
   ],
   "source": [
    "predictions = model.predict(X_test, verbose=1)"
   ]
  },
  {
   "cell_type": "code",
   "execution_count": 54,
   "id": "ceabf860-ba35-467d-966c-e6ce76d77392",
   "metadata": {},
   "outputs": [
    {
     "name": "stdout",
     "output_type": "stream",
     "text": [
      "Mean Squared Error:    364170.81373\n",
      "Mean Absolute Error:   603.34033\n"
     ]
    }
   ],
   "source": [
    "print_score(predictions,y_test)"
   ]
  },
  {
   "cell_type": "code",
   "execution_count": 40,
   "id": "d79b6f7d-b7c1-4e5b-a3b9-19318ffeee31",
   "metadata": {},
   "outputs": [
    {
     "name": "stdout",
     "output_type": "stream",
     "text": [
      "[592.0563] 598.1699999999992\n"
     ]
    }
   ],
   "source": [
    "print(predictions[40], y_test[40])"
   ]
  },
  {
   "cell_type": "code",
   "execution_count": null,
   "id": "d3da7572-b5fc-4ef5-8579-ee3d7ca96b64",
   "metadata": {},
   "outputs": [],
   "source": []
  }
 ],
 "metadata": {
  "kernelspec": {
   "display_name": "Python 3 (ipykernel)",
   "language": "python",
   "name": "python3"
  },
  "language_info": {
   "codemirror_mode": {
    "name": "ipython",
    "version": 3
   },
   "file_extension": ".py",
   "mimetype": "text/x-python",
   "name": "python",
   "nbconvert_exporter": "python",
   "pygments_lexer": "ipython3",
   "version": "3.8.10"
  }
 },
 "nbformat": 4,
 "nbformat_minor": 5
}
