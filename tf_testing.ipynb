{
 "cells": [
  {
   "cell_type": "markdown",
   "id": "879911f0-61ca-4808-b9d2-37ef70b06f71",
   "metadata": {},
   "source": [
    "# Simple Tensorflow Example\n",
    "Tensorflow wasn't working right in the other notebook, this is a place to experiment with it and get some basic neural nets going without adding the complexity of that dataset"
   ]
  },
  {
   "cell_type": "code",
   "execution_count": 4,
   "id": "ee848ec8-a5c4-473e-8020-8356e1f873ff",
   "metadata": {},
   "outputs": [],
   "source": [
    "import numpy as np\n",
    "import pandas as pd\n",
    "# import tensorflow as tf"
   ]
  },
  {
   "cell_type": "code",
   "execution_count": 5,
   "id": "fafa5b1b-be3c-4988-b036-360508afc795",
   "metadata": {},
   "outputs": [],
   "source": [
    "a = np.arange(440,540,0.2)\n",
    "b = np.arange(120,1,-0.5)\n",
    "c = np.arange(20,130, 0.53)\n",
    "\n",
    "data = {\n",
    "    \"a\" : a[:200],\n",
    "    \"b\" : b[:200],\n",
    "    \"c\" : c[:200],\n",
    "}\n",
    "df = pd.DataFrame(data)"
   ]
  },
  {
   "cell_type": "code",
   "execution_count": 7,
   "id": "7461ee54-a4f4-49a4-9bd2-8333e01f2c5d",
   "metadata": {},
   "outputs": [],
   "source": [
    "# import tensorflow"
   ]
  },
  {
   "cell_type": "code",
   "execution_count": null,
   "id": "52ee9023-f4e1-4614-a84c-084210340a47",
   "metadata": {},
   "outputs": [],
   "source": []
  }
 ],
 "metadata": {
  "kernelspec": {
   "display_name": "Python 3 (ipykernel)",
   "language": "python",
   "name": "python3"
  },
  "language_info": {
   "codemirror_mode": {
    "name": "ipython",
    "version": 3
   },
   "file_extension": ".py",
   "mimetype": "text/x-python",
   "name": "python",
   "nbconvert_exporter": "python",
   "pygments_lexer": "ipython3",
   "version": "3.8.10"
  }
 },
 "nbformat": 4,
 "nbformat_minor": 5
}
