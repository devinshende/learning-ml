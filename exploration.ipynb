{
 "cells": [
  {
   "cell_type": "markdown",
   "id": "315896cc-4a6c-4cc7-a106-bb837da8e9ca",
   "metadata": {},
   "source": [
    "# Install Dependencies"
   ]
  },
  {
   "cell_type": "code",
   "execution_count": 201,
   "id": "2aed3468-7104-4769-a7a9-af5374598d63",
   "metadata": {},
   "outputs": [
    {
     "name": "stdout",
     "output_type": "stream",
     "text": [
      "Requirement already satisfied: zarr in /usr/local/lib/python3.11/site-packages (2.16.0)\n",
      "Requirement already satisfied: asciitree in /usr/local/lib/python3.11/site-packages (from zarr) (0.3.3)\n",
      "Requirement already satisfied: numpy>=1.20 in /usr/local/lib/python3.11/site-packages (from zarr) (1.25.1)\n",
      "Requirement already satisfied: fasteners in /usr/local/lib/python3.11/site-packages (from zarr) (0.18)\n",
      "Requirement already satisfied: numcodecs>=0.10.0 in /usr/local/lib/python3.11/site-packages (from zarr) (0.11.0)\n",
      "Requirement already satisfied: entrypoints in /usr/local/lib/python3.11/site-packages (from numcodecs>=0.10.0->zarr) (0.4)\n",
      "Requirement already satisfied: pandas in /usr/local/lib/python3.11/site-packages (2.0.3)\n",
      "Requirement already satisfied: python-dateutil>=2.8.2 in /usr/local/lib/python3.11/site-packages (from pandas) (2.8.2)\n",
      "Requirement already satisfied: pytz>=2020.1 in /usr/local/lib/python3.11/site-packages (from pandas) (2023.3)\n",
      "Requirement already satisfied: tzdata>=2022.1 in /usr/local/lib/python3.11/site-packages (from pandas) (2023.3)\n",
      "Requirement already satisfied: numpy>=1.21.0 in /usr/local/lib/python3.11/site-packages (from pandas) (1.25.1)\n",
      "Requirement already satisfied: six>=1.5 in /usr/local/lib/python3.11/site-packages (from python-dateutil>=2.8.2->pandas) (1.16.0)\n",
      "Collecting tqdm\n",
      "  Downloading tqdm-4.65.0-py3-none-any.whl (77 kB)\n",
      "\u001b[2K     \u001b[38;2;114;156;31m━━━━━━━━━━━━━━━━━━━━━━━━━━━━━━━━━━━━━━━━\u001b[0m \u001b[32m77.1/77.1 kB\u001b[0m \u001b[31m2.8 MB/s\u001b[0m eta \u001b[36m0:00:00\u001b[0m\n",
      "\u001b[?25hInstalling collected packages: tqdm\n",
      "Successfully installed tqdm-4.65.0\n"
     ]
    }
   ],
   "source": [
    "!pip install zarr\n",
    "!pip install pandas\n",
    "!pip install tqdm"
   ]
  },
  {
   "cell_type": "code",
   "execution_count": 1,
   "id": "85118f18-f51b-41f9-98ae-8ca2367abce5",
   "metadata": {},
   "outputs": [],
   "source": [
    "import s3fs\n",
    "import zarr\n",
    "import json\n",
    "from tqdm import tqdm\n",
    "import pandas as pd"
   ]
  },
  {
   "cell_type": "markdown",
   "id": "a8f67adc-1155-4522-9c52-9c1e0b72e2a3",
   "metadata": {},
   "source": [
    "# Grab Wifire Simulations Run Data "
   ]
  },
  {
   "cell_type": "code",
   "execution_count": 2,
   "id": "33414e83-2d50-4184-98cf-5538bc995eb9",
   "metadata": {},
   "outputs": [],
   "source": [
    "endpoint = 'https://wifire-data.sdsc.edu:9000'\n",
    "access_key = 'bp3d-perf'\n",
    "secret_key = 'blvWRaejB1aTXPx6CqZ2GVxYbmWOSCDL'\n",
    "\n",
    "fs = s3fs.S3FileSystem(key=access_key,\n",
    "    secret=secret_key,\n",
    "    client_kwargs={\n",
    "        'endpoint_url': endpoint,\n",
    "        'verify': False\n",
    "    },\n",
    "    skip_instance_cache=False\n",
    ")                                                                                                                                                                                                                                                                                                                                                                                                                                                                                                                                                                                   \n",
    "\n",
    "name = 'quicfire.zarr'\n",
    "bucket = 'burnpro3d/d'\n",
    "# path = '00/16/run_001676e4-ed7a-42e4-abc5-9c6f1dc122df'\n",
    "# with fs.open( bucket + '/' + path + '/' + name + '/.zattrs') as f:\n",
    "#         data=json.load(f)\n"
   ]
  },
  {
   "cell_type": "code",
   "execution_count": 3,
   "id": "b15617fc-988b-44fd-9cf8-6a6679c18efe",
   "metadata": {},
   "outputs": [
    {
     "name": "stderr",
     "output_type": "stream",
     "text": [
      "100%|████████████████████████████████████████████████████████████████████████████████████████████| 1/1 [00:02<00:00,  2.19s/it]\n"
     ]
    }
   ],
   "source": [
    "root = list(fs.ls(bucket))\n",
    "simulation_paths = []\n",
    "\n",
    "def get_paths(bucket):\n",
    "    global fs\n",
    "    paths = fs.ls(bucket)\n",
    "    for path in tqdm(paths[:1]):\n",
    "        paths = fs.ls(path)\n",
    "        for path in paths:\n",
    "            get_child_directories(path)\n",
    "\n",
    "def get_child_directories(path):\n",
    "    global fs\n",
    "    global simulation_paths\n",
    "    paths = fs.ls(path)\n",
    "    for p in paths[:5]:\n",
    "        if \"run_\" in p:\n",
    "            simulation_paths.append(p)\n",
    "\n",
    "get_paths(bucket)"
   ]
  },
  {
   "cell_type": "code",
   "execution_count": 4,
   "id": "365e5e6c-6b35-4839-9d75-a808f3ebd983",
   "metadata": {},
   "outputs": [
    {
     "data": {
      "text/plain": [
       "92"
      ]
     },
     "execution_count": 4,
     "metadata": {},
     "output_type": "execute_result"
    }
   ],
   "source": [
    "len(simulation_paths)"
   ]
  },
  {
   "cell_type": "markdown",
   "id": "e0d9405a-c014-4a77-b901-aadeb7c49318",
   "metadata": {},
   "source": [
    "# Data Exploration"
   ]
  },
  {
   "cell_type": "code",
   "execution_count": 5,
   "id": "1b4eb3b2-933b-4212-b1e1-598676c790ff",
   "metadata": {},
   "outputs": [
    {
     "name": "stderr",
     "output_type": "stream",
     "text": [
      " 75%|███████████████████████████████████████████████████████████████████▌                      | 15/20 [00:05<00:01,  3.59it/s]"
     ]
    },
    {
     "name": "stdout",
     "output_type": "stream",
     "text": [
      "FileNotFound error on path { burnpro3d/d/00/20/run_0020b844-1233-4547-a9e2-5c9a11785939 }\n"
     ]
    },
    {
     "name": "stderr",
     "output_type": "stream",
     "text": [
      "100%|██████████████████████████████████████████████████████████████████████████████████████████| 20/20 [00:09<00:00,  2.13it/s]\n"
     ]
    }
   ],
   "source": [
    "from pprint import pprint\n",
    "def get_df(count):\n",
    "    global simulation_paths\n",
    "    d = {\n",
    "        \"run_start\": [],\n",
    "        \"run_end\": [],\n",
    "        \"run_binary\": [],\n",
    "        \"sim_time\":[],\n",
    "        # \"resolution\":[]\n",
    "    }\n",
    "    df = pd.DataFrame(d)   \n",
    "    i = 0\n",
    "    for p in tqdm(simulation_paths[:count]):\n",
    "        try:\n",
    "            with fs.open(p + '/' + name + '/.zattrs') as f:\n",
    "                data=json.load(f)\n",
    "            df.loc[i] = [data.get(i) for i in d.keys()]\n",
    "            i+=1\n",
    "        except:\n",
    "            print(\"FileNotFound error on path {\", p,\"}\")\n",
    "    return df\n",
    "\n",
    "df = get_df(20)"
   ]
  },
  {
   "cell_type": "code",
   "execution_count": 8,
   "id": "9a5e926b-e230-454a-93ac-e371ba813374",
   "metadata": {},
   "outputs": [
    {
     "data": {
      "text/html": [
       "<div>\n",
       "<style scoped>\n",
       "    .dataframe tbody tr th:only-of-type {\n",
       "        vertical-align: middle;\n",
       "    }\n",
       "\n",
       "    .dataframe tbody tr th {\n",
       "        vertical-align: top;\n",
       "    }\n",
       "\n",
       "    .dataframe thead th {\n",
       "        text-align: right;\n",
       "    }\n",
       "</style>\n",
       "<table border=\"1\" class=\"dataframe\">\n",
       "  <thead>\n",
       "    <tr style=\"text-align: right;\">\n",
       "      <th></th>\n",
       "      <th>run_start</th>\n",
       "      <th>run_end</th>\n",
       "      <th>run_binary</th>\n",
       "      <th>sim_time</th>\n",
       "    </tr>\n",
       "  </thead>\n",
       "  <tbody>\n",
       "    <tr>\n",
       "      <th>0</th>\n",
       "      <td>2022-04-07T15:28:35.045121-07:00</td>\n",
       "      <td>2022-04-07T20:41:23.473740-07:00</td>\n",
       "      <td>/quicfire/quicfire_Jan2022</td>\n",
       "      <td>3200.0</td>\n",
       "    </tr>\n",
       "    <tr>\n",
       "      <th>1</th>\n",
       "      <td>2023-07-18T14:17:12.279765-07:00</td>\n",
       "      <td>None</td>\n",
       "      <td>/quicfire/quicfire-v5.2-ucsd-rel</td>\n",
       "      <td>5983.0</td>\n",
       "    </tr>\n",
       "    <tr>\n",
       "      <th>2</th>\n",
       "      <td>2022-03-31T16:13:27.935085-07:00</td>\n",
       "      <td>2022-03-31T17:42:42.149814-07:00</td>\n",
       "      <td>/quicfire/quicfire_Jan2022</td>\n",
       "      <td>2100.0</td>\n",
       "    </tr>\n",
       "    <tr>\n",
       "      <th>3</th>\n",
       "      <td>2022-10-22T12:52:03.903821-07:00</td>\n",
       "      <td>2022-10-22T19:05:52.183442-07:00</td>\n",
       "      <td>/quicfire/quicfire-v4.0.1</td>\n",
       "      <td>18600.0</td>\n",
       "    </tr>\n",
       "    <tr>\n",
       "      <th>4</th>\n",
       "      <td>2023-01-09T18:33:02.835216-08:00</td>\n",
       "      <td>2023-01-09T18:41:19.260942-08:00</td>\n",
       "      <td>/quicfire/quicfire-v5.1.1</td>\n",
       "      <td>600.0</td>\n",
       "    </tr>\n",
       "    <tr>\n",
       "      <th>5</th>\n",
       "      <td>2023-02-01T10:33:03.706186-08:00</td>\n",
       "      <td>2023-02-01T10:46:25.591971-08:00</td>\n",
       "      <td>/quicfire/quicfire-v5.1.1</td>\n",
       "      <td>15963.0</td>\n",
       "    </tr>\n",
       "    <tr>\n",
       "      <th>6</th>\n",
       "      <td>NaN</td>\n",
       "      <td>NaN</td>\n",
       "      <td>NaN</td>\n",
       "      <td>100.0</td>\n",
       "    </tr>\n",
       "    <tr>\n",
       "      <th>7</th>\n",
       "      <td>2022-05-18T16:38:15.105115-07:00</td>\n",
       "      <td>None</td>\n",
       "      <td>/quicfire/quicfire_Jan2022</td>\n",
       "      <td>1800.0</td>\n",
       "    </tr>\n",
       "    <tr>\n",
       "      <th>8</th>\n",
       "      <td>2023-02-24T10:56:05.393579-08:00</td>\n",
       "      <td>2023-02-24T11:37:45.285185-08:00</td>\n",
       "      <td>/quicfire/quicfire-v5.1.1</td>\n",
       "      <td>600.0</td>\n",
       "    </tr>\n",
       "    <tr>\n",
       "      <th>9</th>\n",
       "      <td>2022-07-13T01:18:55.686756-07:00</td>\n",
       "      <td>2022-07-13T01:27:31.027213-07:00</td>\n",
       "      <td>/quicfire/quicfire_Jan2022</td>\n",
       "      <td>1000.0</td>\n",
       "    </tr>\n",
       "    <tr>\n",
       "      <th>10</th>\n",
       "      <td>2022-04-08T08:05:05.423825-07:00</td>\n",
       "      <td>2022-04-08T11:28:41.298723-07:00</td>\n",
       "      <td>/quicfire/quicfire_Jan2022</td>\n",
       "      <td>3200.0</td>\n",
       "    </tr>\n",
       "    <tr>\n",
       "      <th>11</th>\n",
       "      <td>2022-07-12T23:03:26.779229-07:00</td>\n",
       "      <td>2022-07-12T23:22:44.224985-07:00</td>\n",
       "      <td>/quicfire/quicfire_Jan2022</td>\n",
       "      <td>1000.0</td>\n",
       "    </tr>\n",
       "    <tr>\n",
       "      <th>12</th>\n",
       "      <td>2022-03-31T13:30:40.037256-07:00</td>\n",
       "      <td>2022-03-31T15:07:08.550983-07:00</td>\n",
       "      <td>/quicfire/quicfire_Jan2022</td>\n",
       "      <td>2100.0</td>\n",
       "    </tr>\n",
       "    <tr>\n",
       "      <th>13</th>\n",
       "      <td>2022-04-17T01:43:03.012662-07:00</td>\n",
       "      <td>2022-04-17T01:52:07.580584-07:00</td>\n",
       "      <td>/quicfire/quicfire_Jan2022</td>\n",
       "      <td>3200.0</td>\n",
       "    </tr>\n",
       "    <tr>\n",
       "      <th>14</th>\n",
       "      <td>2022-05-14T22:15:41.186398-07:00</td>\n",
       "      <td>2022-05-15T00:51:35.396735-07:00</td>\n",
       "      <td>/quicfire/quicfire_Jan2022</td>\n",
       "      <td>2100.0</td>\n",
       "    </tr>\n",
       "    <tr>\n",
       "      <th>15</th>\n",
       "      <td>NaN</td>\n",
       "      <td>NaN</td>\n",
       "      <td>NaN</td>\n",
       "      <td>100.0</td>\n",
       "    </tr>\n",
       "    <tr>\n",
       "      <th>16</th>\n",
       "      <td>2023-02-04T23:16:12.411303-08:00</td>\n",
       "      <td>2023-02-05T15:45:09.756845-08:00</td>\n",
       "      <td>/quicfire/quicfire-v5.1.1</td>\n",
       "      <td>15963.0</td>\n",
       "    </tr>\n",
       "    <tr>\n",
       "      <th>17</th>\n",
       "      <td>2022-10-28T17:11:37.239920-07:00</td>\n",
       "      <td>2022-10-29T08:22:16.781151-07:00</td>\n",
       "      <td>/quicfire/quicfire-v4.0.1</td>\n",
       "      <td>13800.0</td>\n",
       "    </tr>\n",
       "    <tr>\n",
       "      <th>18</th>\n",
       "      <td>2022-05-15T00:51:07.974489-07:00</td>\n",
       "      <td>2022-05-15T02:53:16.715998-07:00</td>\n",
       "      <td>/quicfire/quicfire_Jan2022</td>\n",
       "      <td>2100.0</td>\n",
       "    </tr>\n",
       "  </tbody>\n",
       "</table>\n",
       "</div>"
      ],
      "text/plain": [
       "                           run_start                           run_end  \\\n",
       "0   2022-04-07T15:28:35.045121-07:00  2022-04-07T20:41:23.473740-07:00   \n",
       "1   2023-07-18T14:17:12.279765-07:00                              None   \n",
       "2   2022-03-31T16:13:27.935085-07:00  2022-03-31T17:42:42.149814-07:00   \n",
       "3   2022-10-22T12:52:03.903821-07:00  2022-10-22T19:05:52.183442-07:00   \n",
       "4   2023-01-09T18:33:02.835216-08:00  2023-01-09T18:41:19.260942-08:00   \n",
       "5   2023-02-01T10:33:03.706186-08:00  2023-02-01T10:46:25.591971-08:00   \n",
       "6                                NaN                               NaN   \n",
       "7   2022-05-18T16:38:15.105115-07:00                              None   \n",
       "8   2023-02-24T10:56:05.393579-08:00  2023-02-24T11:37:45.285185-08:00   \n",
       "9   2022-07-13T01:18:55.686756-07:00  2022-07-13T01:27:31.027213-07:00   \n",
       "10  2022-04-08T08:05:05.423825-07:00  2022-04-08T11:28:41.298723-07:00   \n",
       "11  2022-07-12T23:03:26.779229-07:00  2022-07-12T23:22:44.224985-07:00   \n",
       "12  2022-03-31T13:30:40.037256-07:00  2022-03-31T15:07:08.550983-07:00   \n",
       "13  2022-04-17T01:43:03.012662-07:00  2022-04-17T01:52:07.580584-07:00   \n",
       "14  2022-05-14T22:15:41.186398-07:00  2022-05-15T00:51:35.396735-07:00   \n",
       "15                               NaN                               NaN   \n",
       "16  2023-02-04T23:16:12.411303-08:00  2023-02-05T15:45:09.756845-08:00   \n",
       "17  2022-10-28T17:11:37.239920-07:00  2022-10-29T08:22:16.781151-07:00   \n",
       "18  2022-05-15T00:51:07.974489-07:00  2022-05-15T02:53:16.715998-07:00   \n",
       "\n",
       "                          run_binary  sim_time  \n",
       "0         /quicfire/quicfire_Jan2022    3200.0  \n",
       "1   /quicfire/quicfire-v5.2-ucsd-rel    5983.0  \n",
       "2         /quicfire/quicfire_Jan2022    2100.0  \n",
       "3          /quicfire/quicfire-v4.0.1   18600.0  \n",
       "4          /quicfire/quicfire-v5.1.1     600.0  \n",
       "5          /quicfire/quicfire-v5.1.1   15963.0  \n",
       "6                                NaN     100.0  \n",
       "7         /quicfire/quicfire_Jan2022    1800.0  \n",
       "8          /quicfire/quicfire-v5.1.1     600.0  \n",
       "9         /quicfire/quicfire_Jan2022    1000.0  \n",
       "10        /quicfire/quicfire_Jan2022    3200.0  \n",
       "11        /quicfire/quicfire_Jan2022    1000.0  \n",
       "12        /quicfire/quicfire_Jan2022    2100.0  \n",
       "13        /quicfire/quicfire_Jan2022    3200.0  \n",
       "14        /quicfire/quicfire_Jan2022    2100.0  \n",
       "15                               NaN     100.0  \n",
       "16         /quicfire/quicfire-v5.1.1   15963.0  \n",
       "17         /quicfire/quicfire-v4.0.1   13800.0  \n",
       "18        /quicfire/quicfire_Jan2022    2100.0  "
      ]
     },
     "execution_count": 8,
     "metadata": {},
     "output_type": "execute_result"
    }
   ],
   "source": [
    "df"
   ]
  },
  {
   "cell_type": "code",
   "execution_count": 10,
   "id": "51a96ca5-012b-40a8-925b-9ae1da122817",
   "metadata": {},
   "outputs": [
    {
     "name": "stdout",
     "output_type": "stream",
     "text": [
      "{'canopy_moisture': 1.5,\n",
      " 'dz': None,\n",
      " 'extent': [...],\n",
      " 'extent_fmt': '[[x1, y1], [x2, y2]]',\n",
      " 'fire_grid': None,\n",
      " 'fuel': {...},\n",
      " 'ignition': {...},\n",
      " 'output': {...},\n",
      " 'resolution': [...],\n",
      " 'resolution_units': 'meters',\n",
      " 'run_binary': '/quicfire/quicfire-v4.0.1',\n",
      " 'run_end': '2022-10-22T19:05:52.183442-07:00',\n",
      " 'run_start': '2022-10-22T12:52:03.903821-07:00',\n",
      " 'seed': -1,\n",
      " 'sim_time': 18600,\n",
      " 'surface_moisture': 0.05,\n",
      " 'threads': 1,\n",
      " 'topo': None,\n",
      " 'wind_direction': 245.0,\n",
      " 'wind_speed': 1.0}\n",
      "[1.0, 2.0, 2.0]\n"
     ]
    }
   ],
   "source": [
    "# these are the top level directories, all 200\n",
    "p = 'burnpro3d/d/00/0d/run_000d836a-e4d0-46c2-8ce6-021cf9ee4e9c'\n",
    "with fs.open(p + '/' + name + '/.zattrs') as f:\n",
    "                data=json.load(f)\n",
    "pprint(data,compact=True,depth=1)\n",
    "print(data[\"resolution\"])"
   ]
  },
  {
   "cell_type": "code",
   "execution_count": 37,
   "id": "dde2872b-30be-486f-a113-93a009253e65",
   "metadata": {},
   "outputs": [
    {
     "data": {
      "text/html": [
       "<div>\n",
       "<style scoped>\n",
       "    .dataframe tbody tr th:only-of-type {\n",
       "        vertical-align: middle;\n",
       "    }\n",
       "\n",
       "    .dataframe tbody tr th {\n",
       "        vertical-align: top;\n",
       "    }\n",
       "\n",
       "    .dataframe thead th {\n",
       "        text-align: right;\n",
       "    }\n",
       "</style>\n",
       "<table border=\"1\" class=\"dataframe\">\n",
       "  <thead>\n",
       "    <tr style=\"text-align: right;\">\n",
       "      <th></th>\n",
       "      <th>run_start</th>\n",
       "      <th>run_end</th>\n",
       "      <th>run_binary</th>\n",
       "    </tr>\n",
       "  </thead>\n",
       "  <tbody>\n",
       "    <tr>\n",
       "      <th>0</th>\n",
       "      <td>2022-04-07T15:28:35.045121-07:00</td>\n",
       "      <td>2022-04-07T20:41:23.473740-07:00</td>\n",
       "      <td>/quicfire/quicfire_Jan2022</td>\n",
       "    </tr>\n",
       "    <tr>\n",
       "      <th>1</th>\n",
       "      <td>2023-07-18T14:17:12.279765-07:00</td>\n",
       "      <td>None</td>\n",
       "      <td>/quicfire/quicfire-v5.2-ucsd-rel</td>\n",
       "    </tr>\n",
       "    <tr>\n",
       "      <th>2</th>\n",
       "      <td>2022-03-31T16:13:27.935085-07:00</td>\n",
       "      <td>2022-03-31T17:42:42.149814-07:00</td>\n",
       "      <td>/quicfire/quicfire_Jan2022</td>\n",
       "    </tr>\n",
       "    <tr>\n",
       "      <th>3</th>\n",
       "      <td>2022-10-22T12:52:03.903821-07:00</td>\n",
       "      <td>2022-10-22T19:05:52.183442-07:00</td>\n",
       "      <td>/quicfire/quicfire-v4.0.1</td>\n",
       "    </tr>\n",
       "    <tr>\n",
       "      <th>4</th>\n",
       "      <td>2023-01-09T18:33:02.835216-08:00</td>\n",
       "      <td>2023-01-09T18:41:19.260942-08:00</td>\n",
       "      <td>/quicfire/quicfire-v5.1.1</td>\n",
       "    </tr>\n",
       "    <tr>\n",
       "      <th>...</th>\n",
       "      <td>...</td>\n",
       "      <td>...</td>\n",
       "      <td>...</td>\n",
       "    </tr>\n",
       "    <tr>\n",
       "      <th>91</th>\n",
       "      <td>2022-11-16T04:53:47.858409-08:00</td>\n",
       "      <td>2022-11-16T04:54:10.094242-08:00</td>\n",
       "      <td>/quicfire/quicfire-v5.0.0</td>\n",
       "    </tr>\n",
       "    <tr>\n",
       "      <th>92</th>\n",
       "      <td>2022-04-04T18:37:50.289153-07:00</td>\n",
       "      <td>None</td>\n",
       "      <td>/quicfire/quicfire_Jan2022</td>\n",
       "    </tr>\n",
       "    <tr>\n",
       "      <th>93</th>\n",
       "      <td>2022-02-28T15:49:57.081434-08:00</td>\n",
       "      <td>2022-02-28T16:01:07.748676-08:00</td>\n",
       "      <td>/ceph/QF_Versions/QF_1-6-22/source_code/compil...</td>\n",
       "    </tr>\n",
       "    <tr>\n",
       "      <th>94</th>\n",
       "      <td>2023-01-07T17:37:48.212893-08:00</td>\n",
       "      <td>2023-01-07T17:38:59.939612-08:00</td>\n",
       "      <td>/quicfire/quicfire-v5.1.1</td>\n",
       "    </tr>\n",
       "    <tr>\n",
       "      <th>95</th>\n",
       "      <td>2022-04-05T12:04:45.504844-07:00</td>\n",
       "      <td>2022-04-05T16:05:12.817134-07:00</td>\n",
       "      <td>/quicfire/quicfire_Jan2022</td>\n",
       "    </tr>\n",
       "  </tbody>\n",
       "</table>\n",
       "<p>96 rows × 3 columns</p>\n",
       "</div>"
      ],
      "text/plain": [
       "                           run_start                           run_end  \\\n",
       "0   2022-04-07T15:28:35.045121-07:00  2022-04-07T20:41:23.473740-07:00   \n",
       "1   2023-07-18T14:17:12.279765-07:00                              None   \n",
       "2   2022-03-31T16:13:27.935085-07:00  2022-03-31T17:42:42.149814-07:00   \n",
       "3   2022-10-22T12:52:03.903821-07:00  2022-10-22T19:05:52.183442-07:00   \n",
       "4   2023-01-09T18:33:02.835216-08:00  2023-01-09T18:41:19.260942-08:00   \n",
       "..                               ...                               ...   \n",
       "91  2022-11-16T04:53:47.858409-08:00  2022-11-16T04:54:10.094242-08:00   \n",
       "92  2022-04-04T18:37:50.289153-07:00                              None   \n",
       "93  2022-02-28T15:49:57.081434-08:00  2022-02-28T16:01:07.748676-08:00   \n",
       "94  2023-01-07T17:37:48.212893-08:00  2023-01-07T17:38:59.939612-08:00   \n",
       "95  2022-04-05T12:04:45.504844-07:00  2022-04-05T16:05:12.817134-07:00   \n",
       "\n",
       "                                           run_binary  \n",
       "0                          /quicfire/quicfire_Jan2022  \n",
       "1                    /quicfire/quicfire-v5.2-ucsd-rel  \n",
       "2                          /quicfire/quicfire_Jan2022  \n",
       "3                           /quicfire/quicfire-v4.0.1  \n",
       "4                           /quicfire/quicfire-v5.1.1  \n",
       "..                                                ...  \n",
       "91                          /quicfire/quicfire-v5.0.0  \n",
       "92                         /quicfire/quicfire_Jan2022  \n",
       "93  /ceph/QF_Versions/QF_1-6-22/source_code/compil...  \n",
       "94                          /quicfire/quicfire-v5.1.1  \n",
       "95                         /quicfire/quicfire_Jan2022  \n",
       "\n",
       "[96 rows x 3 columns]"
      ]
     },
     "execution_count": 37,
     "metadata": {},
     "output_type": "execute_result"
    }
   ],
   "source": [
    "df.head(100)"
   ]
  },
  {
   "cell_type": "code",
   "execution_count": null,
   "id": "902f455b-926d-4b57-a915-8891c026fb9d",
   "metadata": {},
   "outputs": [],
   "source": []
  },
  {
   "cell_type": "code",
   "execution_count": 118,
   "id": "aac7e534-3ee3-4626-9d91-51e32765293a",
   "metadata": {},
   "outputs": [],
   "source": [
    "# pandas group by version in dataframe\n",
    "\n",
    "# caerful we have ign oor fuel object\n",
    "# only look for ones that say run"
   ]
  },
  {
   "cell_type": "code",
   "execution_count": 119,
   "id": "cf1abf96-9489-4527-8381-474333563e95",
   "metadata": {},
   "outputs": [],
   "source": [
    "path = '00/16/run_001676e4-ed7a-42e4-abc5-9c6f1dc122df'\n",
    "# scan top directory \n",
    "# ls bucket but max step is 01"
   ]
  },
  {
   "cell_type": "code",
   "execution_count": 120,
   "id": "ee0e976f-a02a-41d3-b083-db5a86ccb34d",
   "metadata": {},
   "outputs": [
    {
     "name": "stdout",
     "output_type": "stream",
     "text": [
      "data is \n",
      "\n",
      "{'canopy_moisture': 1, 'dimension': ['t', 'z', 'y', 'x'], 'dz': None, 'extent': [0, 600, 600, 0], 'extent_fmt': '[[x1, y1], [x2, y2]]', 'extent_origin': 'bottom left', 'fire_grid': None, 'fuel': {'density': 0.7, 'dx': 2, 'dy': 2, 'height': 1.0, 'id': None, 'xlen': 600, 'ylen': 600}, 'ignition': {'dat': None, 'id': '93826841-f991-4b94-9a5f-24b904a1a3ce', 'perc': 100}, 'output': {'emissions': False, 'energy_atmos': True, 'fire_energy': True, 'fuels_dens': True, 'fuels_moist': True, 'plume_locs': False, 'plume_traj': False, 'qu_avg_wind': False, 'qu_wind': False, 'reaction_rate': False, 'steps_fire': 1, 'steps_wind': 1, 'thermal_rad': False, 'vert_mass_burnt': False, 'wind': False}, 'resolution': [2, 2], 'resolution_units': 'meters', 'run_binary': '/quicfire/quicfire-v5.1.1', 'run_end': '2023-02-24T11:37:45.285185-08:00', 'run_max_mem_rss_bytes': '428560', 'run_start': '2023-02-24T10:56:05.393579-08:00', 'seed': -1, 'sim_time': 600, 'surface_moisture': 0.05, 'threads': 1, 'timestep': 1, 'topo': {'total_startup_iters': 0}, 'wind_direction': 300.0, 'wind_speed': 1.0}\n"
     ]
    }
   ],
   "source": [
    "\n",
    "print(\"data is \\n\")\n",
    "print(data)\n"
   ]
  },
  {
   "cell_type": "markdown",
   "id": "cee5b37d-0ffa-4599-9c75-a99ac50d9b2f",
   "metadata": {
    "jp-MarkdownHeadingCollapsed": true
   },
   "source": [
    "# other thing"
   ]
  },
  {
   "cell_type": "code",
   "execution_count": 123,
   "id": "dc7ad54a-d74c-4b65-8bb3-a1d12eac0d0f",
   "metadata": {},
   "outputs": [
    {
     "ename": "SyntaxError",
     "evalue": "invalid syntax. Perhaps you forgot a comma? (77007401.py, line 2)",
     "output_type": "error",
     "traceback": [
      "\u001b[0;36m  Cell \u001b[0;32mIn[123], line 2\u001b[0;36m\u001b[0m\n\u001b[0;31m    ages: query_api_site()\u001b[0m\n\u001b[0m          ^\u001b[0m\n\u001b[0;31mSyntaxError\u001b[0m\u001b[0;31m:\u001b[0m invalid syntax. Perhaps you forgot a comma?\n"
     ]
    }
   ],
   "source": [
    "\n",
    "{\n",
    "ages: query_api_site()\n",
    "\n",
    "\n",
    "height = {\n",
    "    \"01\":1,\n",
    "    \"02\":32,\n",
    "    \"1c\":101,\n",
    "    \"4f\":63,\n",
    "}\n",
    "\n",
    "size = {\n",
    "    \"01\":\"S\",\n",
    "    \"02\":\"M\",\n",
    "    \"1c\":\"XL\",\n",
    "    \"4f\":\"L\",\n",
    "}\n",
    "}\n",
    "\n",
    "ids = [\"01\", \"02\", \"1c\", \"4f\"]\n",
    "for person in ids:\n",
    "    row = {\n",
    "        \"age\":ages.get(person), \n",
    "        \"height\":height[person],\n",
    "        \"size\":size[person]\n",
    "    }\n",
    "    df.append(row,ignore_index=True)\n",
    "\n",
    "df.head()"
   ]
  },
  {
   "cell_type": "code",
   "execution_count": null,
   "id": "8f8d372b-1dee-4644-8475-38d9c033fe8d",
   "metadata": {},
   "outputs": [],
   "source": []
  }
 ],
 "metadata": {
  "kernelspec": {
   "display_name": "Python 3 (ipykernel)",
   "language": "python",
   "name": "python3"
  },
  "language_info": {
   "codemirror_mode": {
    "name": "ipython",
    "version": 3
   },
   "file_extension": ".py",
   "mimetype": "text/x-python",
   "name": "python",
   "nbconvert_exporter": "python",
   "pygments_lexer": "ipython3",
   "version": "3.11.4"
  }
 },
 "nbformat": 4,
 "nbformat_minor": 5
}
